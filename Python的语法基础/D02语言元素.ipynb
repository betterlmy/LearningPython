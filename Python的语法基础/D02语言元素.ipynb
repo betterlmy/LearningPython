{
 "cells": [
  {
   "cell_type": "markdown",
   "source": [
    "## python的数据类型\n",
    "* 整形：Python 3.x中整数只有int这一种\n",
    "二进制（如0b100，换算成十进制是4）\n",
    "八进制（0o100，换算成十进制是64）\n",
    "十进制（100）\n",
    "十六进制（0x100，换算成十进制是256）\n",
    "* 浮点型：数学写法（如123.456）\n",
    "科学计数法（如1.23456e2）\n",
    "* 字符串型：以单引号或双引号括起来的任意文本，比如'hello'和\"hello\",\n",
    "字符串多行的形式（用三个单引号或三个双引号开头，三个单引号或三个双引号结尾）。\n",
    "* 布尔型：直接用True、False表示布尔值（请注意大小写）\n",
    "* 复数型：形如3+5j，跟数学上的复数表示一样，唯一不同的是虚部的i换成了j。\n",
    "## python的变量命名\n",
    "* PEP 8要求：\n",
    "用小写字母拼写，多个单词用下划线连接。\n",
    "受保护的实例属性用单个下划线开头。\n",
    "私有的实例属性用两个下划线开头。"
   ],
   "metadata": {
    "collapsed": false,
    "pycharm": {
     "name": "#%% md\n"
    }
   }
  },
  {
   "cell_type": "markdown",
   "source": [
    "## 使用type()方法检查变量类型"
   ],
   "metadata": {
    "collapsed": false,
    "pycharm": {
     "name": "#%% md\n"
    }
   }
  },
  {
   "cell_type": "code",
   "execution_count": null,
   "outputs": [],
   "source": [
    "import math\n",
    "\n",
    "a = 100\n",
    "b = 12.345\n",
    "c = 1 + 5j\n",
    "d = 'hello, world'\n",
    "e = True\n",
    "print(type(a))    # <class 'int'>\n",
    "print(type(b))    # <class 'float'>\n",
    "print(type(c))    # <class 'complex'>\n",
    "print(type(d))    # <class 'str'>\n",
    "print(type(e))    # <class 'bool'>"
   ],
   "metadata": {
    "collapsed": false,
    "pycharm": {
     "name": "#%%\n",
     "is_executing": true
    }
   }
  },
  {
   "cell_type": "markdown",
   "source": [
    "## 通过键盘输入两个整数来实现对两个整数的算术运算。"
   ],
   "metadata": {
    "collapsed": false,
    "pycharm": {
     "name": "#%% md\n"
    }
   }
  },
  {
   "cell_type": "code",
   "execution_count": 5,
   "outputs": [
    {
     "name": "stdout",
     "output_type": "stream",
     "text": [
      "10 + 3 = 13\n",
      "10 - 3 = 7\n",
      "10 * 3 = 30\n",
      "10 / 3 = 3.333333\n",
      "10 // 3 = 3\n",
      "10 % 3 = 1\n",
      "10 ** 3 = 1000\n"
     ]
    }
   ],
   "source": [
    "a = int(input('a = '))\n",
    "b = int(input('b = '))\n",
    "print('%d + %d = %d' % (a, b, a + b))\n",
    "print('%d - %d = %d' % (a, b, a - b))\n",
    "print('%d * %d = %d' % (a, b, a * b))\n",
    "print('%d / %d = %f' % (a, b, a / b))\n",
    "print('%d // %d = %d' % (a, b, a // b))\n",
    "print('%d %% %d = %d' % (a, b, a % b)) # 百分号需要使用%%表示\n",
    "print('%d ** %d = %d' % (a, b, a ** b))"
   ],
   "metadata": {
    "collapsed": false,
    "pycharm": {
     "name": "#%%\n"
    }
   }
  },
  {
   "cell_type": "markdown",
   "source": [
    "### 运算符\n",
    "\n",
    "Python支持多种运算符，下表大致按照优先级从高到低的顺序列出了所有的运算符，运算符的优先级指的是多个运算符同时出现时，先做什么运算然后再做什么运算。除了我们之前已经用过的赋值运算符和算术运算符，我们稍后会陆续讲到其他运算符的使用。\n",
    "\n",
    "| 运算符                                                       | 描述                           |\n",
    "| ------------------------------------------------------------ | ------------------------------ |\n",
    "| `[]` `[:]`                                                   | 下标，切片                     |\n",
    "| `**`                                                         | 指数                           |\n",
    "| `~` `+` `-`                                                  | 按位取反, 正负号               |\n",
    "| `*` `/` `%` `//`                                             | 乘，除，模，整除               |\n",
    "| `+` `-`                                                      | 加，减                         |\n",
    "| `>>` `<<`                                                    | 右移，左移                     |\n",
    "| `&`                                                          | 按位与                         |\n",
    "| `^` `\\|`                                                      | 按位异或，按位或               |\n",
    "| `<=` `<` `>` `>=`                                            | 小于等于，小于，大于，大于等于 |\n",
    "| `==` `!=`                                                    | 等于，不等于                   |\n",
    "| `is`  `is not`                                               | 身份运算符                     |\n",
    "| `in` `not in`                                                | 成员运算符                     |\n",
    "| `not` `or` `and`                                             | 逻辑运算符                     |\n",
    "| `=` `+=` `-=` `*=` `/=` `%=` `//=` `**=` `&=` `|=` `^=` `>>=` `<<=` | （复合）赋值运算符             |\n",
    "\n",
    ">**说明：** 在实际开发中，如果搞不清楚运算符的优先级，可以使用括号来确保运算的执行顺序。"
   ],
   "metadata": {
    "collapsed": false,
    "pycharm": {
     "name": "#%% md\n"
    }
   }
  },
  {
   "cell_type": "markdown",
   "source": [
    "## 赋值运算符和混合赋值运算符"
   ],
   "metadata": {
    "collapsed": false,
    "pycharm": {
     "name": "#%% md\n"
    }
   }
  },
  {
   "cell_type": "code",
   "execution_count": 7,
   "outputs": [
    {
     "name": "stdout",
     "output_type": "stream",
     "text": [
      "195\n"
     ]
    }
   ],
   "source": [
    "a = 10\n",
    "b = 3\n",
    "a += b        # 相当于：a = a + b\n",
    "a *= a + 2    # 相当于：a = a * (a + 2)\n",
    "print(a)      # 算一下这里会输出什么 195\n",
    "# 13*(13+2)"
   ],
   "metadata": {
    "collapsed": false,
    "pycharm": {
     "name": "#%%\n"
    }
   }
  },
  {
   "cell_type": "markdown",
   "source": [
    "## 华氏温度转换为摄氏温度"
   ],
   "metadata": {
    "collapsed": false,
    "pycharm": {
     "name": "#%% md\n"
    }
   }
  },
  {
   "cell_type": "code",
   "execution_count": 8,
   "outputs": [
    {
     "name": "stdout",
     "output_type": "stream",
     "text": [
      "100.0华氏度 = 37.8摄氏度\n"
     ]
    }
   ],
   "source": [
    "f = float(input('请输入华氏温度: '))\n",
    "c = (f - 32) / 1.8\n",
    "print('%.1f华氏度 = %.1f摄氏度' % (f, c))"
   ],
   "metadata": {
    "collapsed": false,
    "pycharm": {
     "name": "#%%\n"
    }
   }
  },
  {
   "cell_type": "markdown",
   "source": [
    "> **说明**：在使用`print`函数输出时，也可以对字符串内容进行格式化处理，上面`print`函数中的字符串`%.1f`是一个占位符，稍后会由一个`float`类型的变量值替换掉它。同理，如果字符串中有`%d`，后面可以用一个`int`类型的变量值替换掉它，而`%s`会被字符串的值替换掉。除了这种格式化字符串的方式外，还可以用下面的方式来格式化字符串，其中`{f:.1f}`和`{c:.1f}`可以先看成是`{f}`和`{c}`，表示输出时会用变量`f`和变量`c`的值替换掉这两个占位符，后面的`:.1f`表示这是一个浮点数，小数点后保留1位有效数字。\n"
   ],
   "metadata": {
    "collapsed": false,
    "pycharm": {
     "name": "#%% md\n"
    }
   }
  },
  {
   "cell_type": "markdown",
   "source": [
    "## 输入圆的半径计算计算周长和面积。"
   ],
   "metadata": {
    "collapsed": false,
    "pycharm": {
     "name": "#%% md\n"
    }
   }
  },
  {
   "cell_type": "code",
   "execution_count": 10,
   "outputs": [
    {
     "name": "stdout",
     "output_type": "stream",
     "text": [
      "周长: 18.85\n",
      "面积: 28.27\n"
     ]
    }
   ],
   "source": [
    "from math import pi\n",
    "r = float(input(\"请输入圆的半径：\"))\n",
    "perimeter = 2 * pi * r\n",
    "area = pi * (r ** 2)\n",
    "print('周长: %.2f' % perimeter)\n",
    "print('面积: %.2f' % area)"
   ],
   "metadata": {
    "collapsed": false,
    "pycharm": {
     "name": "#%%\n"
    }
   }
  }
 ],
 "metadata": {
  "kernelspec": {
   "display_name": "Python 3",
   "language": "python",
   "name": "python3"
  },
  "language_info": {
   "codemirror_mode": {
    "name": "ipython",
    "version": 2
   },
   "file_extension": ".py",
   "mimetype": "text/x-python",
   "name": "python",
   "nbconvert_exporter": "python",
   "pygments_lexer": "ipython2",
   "version": "2.7.6"
  }
 },
 "nbformat": 4,
 "nbformat_minor": 0
}