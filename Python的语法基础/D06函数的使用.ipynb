{
 "cells": [
  {
   "cell_type": "markdown",
   "metadata": {
    "collapsed": true,
    "pycharm": {
     "name": "#%% md\n"
    }
   },
   "source": [
    "## 求阶乘\n",
    "![求排列组合](./res/formula_4.png)"
   ]
  },
  {
   "cell_type": "code",
   "execution_count": 19,
   "outputs": [],
   "source": [
    "def fac(num)-> int :\n",
    "    '''\n",
    "    计算num的阶乘\n",
    "    :param num:要计算的数\n",
    "    :return: 返回结果，出现错误返回0\n",
    "    '''\n",
    "    result = 1\n",
    "    if type(num)==type(1) and num>=1:\n",
    "        for i in range(1,num+1):\n",
    "            result*=i\n",
    "        return result\n",
    "    return 0"
   ],
   "metadata": {
    "collapsed": false,
    "pycharm": {
     "name": "#%%\n"
    }
   }
  },
  {
   "cell_type": "code",
   "execution_count": null,
   "outputs": [],
   "source": [
    "# 输入参数\n",
    "m = int(input('m = '))\n",
    "n = int(input('n = '))\n",
    "a =fac(m)\n",
    "b = fac(n)\n",
    "c = fac(m-n)\n",
    "print(\"Cmn=%d\"%(a/b/c))"
   ],
   "metadata": {
    "collapsed": false,
    "pycharm": {
     "name": "#%%\n",
     "is_executing": true
    }
   }
  },
  {
   "cell_type": "markdown",
   "source": [
    "### python的math中已经有阶乘运算方法factorial()"
   ],
   "metadata": {
    "collapsed": false,
    "pycharm": {
     "name": "#%% md\n"
    }
   }
  },
  {
   "cell_type": "code",
   "execution_count": 11,
   "outputs": [
    {
     "name": "stdout",
     "output_type": "stream",
     "text": [
      "Cmn=3\n"
     ]
    }
   ],
   "source": [
    "from math import factorial\n",
    "# 输入参数\n",
    "m = int(input('m = '))\n",
    "n = int(input('n = '))\n",
    "\n",
    "print(\"Cmn=%d\"%(factorial(m)/factorial(n)/factorial(m-n)))"
   ],
   "metadata": {
    "collapsed": false,
    "pycharm": {
     "name": "#%%\n"
    }
   }
  },
  {
   "cell_type": "markdown",
   "source": [
    "## 可变参数"
   ],
   "metadata": {
    "collapsed": false,
    "pycharm": {
     "name": "#%% md\n"
    }
   }
  },
  {
   "cell_type": "code",
   "execution_count": 23,
   "outputs": [
    {
     "name": "stdout",
     "output_type": "stream",
     "text": [
      "20\n"
     ]
    }
   ],
   "source": [
    "def add(*nums):\n",
    "    total = 0\n",
    "    for num in nums:\n",
    "        total+=num\n",
    "    return total\n",
    "print(add(2,3,4,5,6))"
   ],
   "metadata": {
    "collapsed": false,
    "pycharm": {
     "name": "#%%\n"
    }
   }
  },
  {
   "cell_type": "code",
   "execution_count": 24,
   "outputs": [
    {
     "name": "stdout",
     "output_type": "stream",
     "text": [
      "goodbye, world!\n"
     ]
    }
   ],
   "source": [
    "def foo():\n",
    "    print('hello, world!')\n",
    "\n",
    "\n",
    "def foo():\n",
    "    print('goodbye, world!')\n",
    "\n",
    "\n",
    "# 下面的代码会输出什么呢？\n",
    "foo()"
   ],
   "metadata": {
    "collapsed": false,
    "pycharm": {
     "name": "#%%\n"
    }
   }
  },
  {
   "cell_type": "code",
   "execution_count": 39,
   "outputs": [],
   "source": [
    "import test"
   ],
   "metadata": {
    "collapsed": false,
    "pycharm": {
     "name": "#%%\n"
    }
   }
  },
  {
   "cell_type": "code",
   "execution_count": null,
   "outputs": [],
   "source": [
    "test.bar()"
   ],
   "metadata": {
    "collapsed": false,
    "pycharm": {
     "name": "#%%\n"
    }
   }
  },
  {
   "cell_type": "markdown",
   "source": [
    "## 变量的作用域"
   ],
   "metadata": {
    "collapsed": false
   }
  },
  {
   "cell_type": "code",
   "execution_count": 40,
   "outputs": [
    {
     "name": "stdout",
     "output_type": "stream",
     "text": [
      "100\n",
      "hello\n",
      "True\n"
     ]
    }
   ],
   "source": [
    "def foo():\n",
    "    b = 'hello'\n",
    "\n",
    "    # Python中可以在函数内部再定义函数\n",
    "    def bar():\n",
    "        c = True\n",
    "        print(a)\n",
    "        print(b)\n",
    "        print(c)\n",
    "\n",
    "    bar()\n",
    "    # print(c)  # NameError: name 'c' is not defined\n",
    "\n",
    "\n",
    "if __name__ == '__main__':\n",
    "    a = 100\n",
    "    # print(b)  # NameError: name 'b' is not defined\n",
    "    foo()"
   ],
   "metadata": {
    "collapsed": false,
    "pycharm": {
     "name": "#%%\n"
    }
   }
  },
  {
   "cell_type": "markdown",
   "source": [
    "## 通过global关键字声明全局变量"
   ],
   "metadata": {
    "collapsed": false,
    "pycharm": {
     "name": "#%% md\n"
    }
   }
  },
  {
   "cell_type": "code",
   "execution_count": 43,
   "outputs": [
    {
     "name": "stdout",
     "output_type": "stream",
     "text": [
      "修改前100\n",
      "修改后200\n"
     ]
    }
   ],
   "source": [
    "def global_test():\n",
    "    global a\n",
    "    a = 200\n",
    "\n",
    "if __name__ == '__main__':\n",
    "    a = 100\n",
    "    print(\"修改前%d\"%a)\n",
    "    global_test()\n",
    "    print(\"修改后%d\"%a)"
   ],
   "metadata": {
    "collapsed": false,
    "pycharm": {
     "name": "#%%\n"
    }
   }
  },
  {
   "cell_type": "markdown",
   "source": [
    "## nonlocal声明的变量不是局部变量,也不是全局变量,而是外部嵌套函数内的变量。"
   ],
   "metadata": {
    "collapsed": false,
    "pycharm": {
     "name": "#%% md\n"
    }
   }
  },
  {
   "cell_type": "markdown",
   "source": [
    "使用nonlocal的好处是，在为函数添加状态时不用额外地添加全局变量，因此可以大量地调用此函数并同时记录着多个函数状态，每个函数都是独立、独特的。针对此项功能其实还个一个方法，就是使用类，通过定义__call__可实现在一个实例上直接像函数一样调用。"
   ],
   "metadata": {
    "collapsed": false,
    "pycharm": {
     "name": "#%% md\n"
    }
   }
  },
  {
   "cell_type": "code",
   "execution_count": null,
   "outputs": [],
   "source": [
    "# 没有声明nonlocal会报错\n",
    "# def nonlocal_test():\n",
    "#     count = 0\n",
    "#     def test2():\n",
    "#         count += 1 # 会报错 不认识\n",
    "#         return count\n",
    "#     return test2\n",
    "#\n",
    "# val = nonlocal_test()\n",
    "# print(val())\n",
    "# print(val())\n",
    "# print(val())"
   ],
   "metadata": {
    "collapsed": false,
    "pycharm": {
     "name": "#%%\n"
    }
   }
  },
  {
   "cell_type": "code",
   "execution_count": 44,
   "outputs": [
    {
     "name": "stdout",
     "output_type": "stream",
     "text": [
      "1\n",
      "2\n",
      "3\n"
     ]
    }
   ],
   "source": [
    "def nonlocal_test():\n",
    "    count = 0\n",
    "    def test2():\n",
    "        nonlocal count\n",
    "        count += 1\n",
    "        return count\n",
    "    return test2\n",
    "\n",
    "val = nonlocal_test()\n",
    "print(val())\n",
    "print(val())\n",
    "print(val())"
   ],
   "metadata": {
    "collapsed": false,
    "pycharm": {
     "name": "#%%\n"
    }
   }
  },
  {
   "cell_type": "code",
   "execution_count": 49,
   "outputs": [
    {
     "name": "stdout",
     "output_type": "stream",
     "text": [
      "<class 'function'>\n",
      "2\n",
      "9\n"
     ]
    }
   ],
   "source": [
    "def test(num1):\n",
    "    def add(num2):\n",
    "        return num1 + num2\n",
    "    return add\n",
    "\n",
    "a = test(1)\n",
    "print(type(a)) # a是一个函数\n",
    "b = test(5)\n",
    "print(a(1)) # 1+1\n",
    "print(b(4)) # 4+4"
   ],
   "metadata": {
    "collapsed": false,
    "pycharm": {
     "name": "#%%\n"
    }
   }
  },
  {
   "cell_type": "markdown",
   "source": [
    "## 尽量减少全局变量的使用\n",
    "### Python的LEGB规则\n",
    "* Local 可能是在一个函数或者类方法内部。\n",
    "* Enclosed 可能是嵌套函数内，比如说 一个函数包裹在另一个函数内部。\n",
    "* Global 代表的是执行脚本自身的最高层次。\n",
    "* Built-in 是Python为自身保留的特殊名称。\n",
    "### [迪米特法则](https://zh.wikipedia.org/zh-hans/%E5%BE%97%E5%A2%A8%E5%BF%92%E8%80%B3%E5%AE%9A%E5%BE%8B)的践行\n"
   ],
   "metadata": {
    "collapsed": false,
    "pycharm": {
     "name": "#%% md\n"
    }
   }
  },
  {
   "cell_type": "markdown",
   "source": [
    "## 一个好的习惯"
   ],
   "metadata": {
    "collapsed": false,
    "pycharm": {
     "name": "#%% md\n"
    }
   }
  },
  {
   "cell_type": "code",
   "execution_count": 51,
   "outputs": [],
   "source": [
    "def main():\n",
    "    # Todo: Add your code here\n",
    "    pass\n",
    "\n",
    "\n",
    "if __name__ == '__main__':\n",
    "    main()"
   ],
   "metadata": {
    "collapsed": false,
    "pycharm": {
     "name": "#%%\n"
    }
   }
  }
 ],
 "metadata": {
  "kernelspec": {
   "display_name": "Python 3",
   "language": "python",
   "name": "python3"
  },
  "language_info": {
   "codemirror_mode": {
    "name": "ipython",
    "version": 2
   },
   "file_extension": ".py",
   "mimetype": "text/x-python",
   "name": "python",
   "nbconvert_exporter": "python",
   "pygments_lexer": "ipython2",
   "version": "2.7.6"
  }
 },
 "nbformat": 4,
 "nbformat_minor": 0
}