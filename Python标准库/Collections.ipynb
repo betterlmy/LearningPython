{
 "cells": [
  {
   "cell_type": "markdown",
   "metadata": {},
   "source": [
    "collections是Python的标准库,它提供了一些解决特定问题的容器,共包含九种,其中conter,defaultdict,deque,named图片了,orderdict比较常用"
   ]
  },
  {
   "cell_type": "markdown",
   "metadata": {},
   "source": [
    "![](img/2022-06-22-11-59-33.png)"
   ]
  },
  {
   "cell_type": "markdown",
   "metadata": {},
   "source": [
    "## Counter\n",
    "Counter目的是用来跟踪数值出现的次数.是一个无序的容器类型,以字典的K-V Pair形式存储,其中元素为key,出现的次数为value"
   ]
  },
  {
   "cell_type": "code",
   "execution_count": null,
   "metadata": {},
   "outputs": [],
   "source": [
    "from collections import Counter"
   ]
  },
  {
   "cell_type": "markdown",
   "metadata": {},
   "source": [
    "### 实例化Counter类 Instantiate "
   ]
  },
  {
   "cell_type": "code",
   "execution_count": null,
   "metadata": {},
   "outputs": [],
   "source": [
    "c1 = Counter()\n",
    "c1 "
   ]
  },
  {
   "cell_type": "markdown",
   "metadata": {},
   "source": [
    "#### 直接传入iterable"
   ]
  },
  {
   "cell_type": "code",
   "execution_count": null,
   "metadata": {},
   "outputs": [],
   "source": [
    "# 传入字符串\n",
    "str1 = \"Li Meng yanG\"\n",
    "c2 = Counter(str1)\n",
    "\"\"\"\n",
    "Counter({'L': 1,\n",
    "         'i': 1,\n",
    "         ' ': 1,\n",
    "         'M': 1,\n",
    "         'e': 1,\n",
    "         'n': 2,\n",
    "         'g': 1,\n",
    "         'y': 1,\n",
    "         'a': 1,\n",
    "         'G': 1})\n",
    "\"\"\"\n",
    "c2  # 可以看出 空格和大小写都是区分的"
   ]
  },
  {
   "cell_type": "code",
   "execution_count": null,
   "metadata": {},
   "outputs": [],
   "source": [
    "# 传入list\n",
    "list1 = [i for i in str1]\n",
    "c3 = Counter(list1)\n",
    "\"\"\"\n",
    "(['L', 'i', ' ', 'M', 'e', 'n', 'g', ' ', 'y', 'a', 'n', 'G'],\n",
    " Counter({'L': 1,\n",
    "          'i': 1,\n",
    "          ' ': 2,\n",
    "          'M': 1,\n",
    "          'e': 1,\n",
    "          'n': 2,\n",
    "          'g': 1,\n",
    "          'y': 1,\n",
    "          'a': 1,\n",
    "          'G': 1}))\n",
    "\"\"\"\n",
    "list1,c3"
   ]
  },
  {
   "cell_type": "code",
   "execution_count": null,
   "metadata": {},
   "outputs": [],
   "source": [
    "# 传入字典\n",
    "import random\n",
    "dic = {k:random.randint(1,4) for k in str1}\n",
    "c4 = Counter(dic)\n",
    "\"\"\"\n",
    "Counter({'L': 1,\n",
    "         'i': 3,\n",
    "         ' ': 4,\n",
    "         'M': 3,\n",
    "         'e': 3,\n",
    "         'n': 4,\n",
    "         'g': 4,\n",
    "         'y': 3,\n",
    "         'a': 1,\n",
    "         'G': 2})\n",
    "\"\"\"\n",
    "c4"
   ]
  },
  {
   "cell_type": "code",
   "execution_count": 27,
   "metadata": {},
   "outputs": [
    {
     "data": {
      "text/plain": [
       "Counter({'ef': 5, 'c': 6})"
      ]
     },
     "execution_count": 27,
     "metadata": {},
     "output_type": "execute_result"
    }
   ],
   "source": [
    "# 传入关键字参数\n",
    "c5 = Counter(ef=5,c=6)\n",
    "c5"
   ]
  },
  {
   "cell_type": "code",
   "execution_count": 28,
   "metadata": {},
   "outputs": [
    {
     "data": {
      "text/plain": [
       "1"
      ]
     },
     "execution_count": 28,
     "metadata": {},
     "output_type": "execute_result"
    }
   ],
   "source": [
    "c3[\"L\"]"
   ]
  },
  {
   "cell_type": "markdown",
   "metadata": {},
   "source": [
    "### 其他常见函数"
   ]
  },
  {
   "cell_type": "code",
   "execution_count": 31,
   "metadata": {},
   "outputs": [
    {
     "data": {
      "text/plain": [
       "([('e', 5), ('d', 4)], list)"
      ]
     },
     "execution_count": 31,
     "metadata": {},
     "output_type": "execute_result"
    }
   ],
   "source": [
    "# 查找重复次数最多的前n个\n",
    "# List the n most common elements and their counts from the most common to the least.\n",
    "# If n is None, then list all element counts.\n",
    "X = Counter(\"aabbbcccddddeeeee\").most_common(n=2)\n",
    "X,type(X)"
   ]
  }
 ],
 "metadata": {
  "kernelspec": {
   "display_name": "Python 3.9.13 ('torch')",
   "language": "python",
   "name": "python3"
  },
  "language_info": {
   "codemirror_mode": {
    "name": "ipython",
    "version": 3
   },
   "file_extension": ".py",
   "mimetype": "text/x-python",
   "name": "python",
   "nbconvert_exporter": "python",
   "pygments_lexer": "ipython3",
   "version": "3.9.13"
  },
  "orig_nbformat": 4,
  "vscode": {
   "interpreter": {
    "hash": "d8bc75a386d56b6551c17e1904f8529f6445721752a10015ef716c860769d0c0"
   }
  }
 },
 "nbformat": 4,
 "nbformat_minor": 2
}
