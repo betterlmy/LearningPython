{
 "cells": [
  {
   "cell_type": "markdown",
   "metadata": {
    "collapsed": true,
    "pycharm": {
     "name": "#%% md\n"
    }
   },
   "source": [
    "## 寻找水仙花数\n",
    "说明：水仙花数也被称为超完全数字不变数、自恋数、自幂数、阿姆斯特朗数，它是一个3位数，该数字每个位上数字的立方之和正好等于它本身，例如：$1^3 + 5^3+ 3^3=153$。"
   ]
  },
  {
   "cell_type": "code",
   "execution_count": 3,
   "outputs": [
    {
     "name": "stdout",
     "output_type": "stream",
     "text": [
      "153是水仙花数\n",
      "370是水仙花数\n",
      "371是水仙花数\n",
      "407是水仙花数\n"
     ]
    }
   ],
   "source": [
    "def getShuixianhua():\n",
    "    for i in range(100, 1000):\n",
    "        # 水仙花数是一个三位数\n",
    "        # 获取高中低三位数\n",
    "        low = i % 10\n",
    "        mid = i // 10 % 10  #整除\n",
    "        high = i // 100\n",
    "        if i == low ** 3 + mid ** 3 + high ** 3:\n",
    "            print(\"%d是水仙花数\" % i)\n",
    "getShuixianhua()"
   ],
   "metadata": {
    "collapsed": false,
    "pycharm": {
     "name": "#%%\n"
    }
   }
  },
  {
   "cell_type": "markdown",
   "source": [
    "## 整数反转"
   ],
   "metadata": {
    "collapsed": false,
    "pycharm": {
     "name": "#%% md\n"
    }
   }
  },
  {
   "cell_type": "code",
   "execution_count": 5,
   "outputs": [
    {
     "name": "stdout",
     "output_type": "stream",
     "text": [
      "反转的数是55433\n"
     ]
    }
   ],
   "source": [
    "def reverse(num):\n",
    "    num=int(num)\n",
    "    reversed_num=0\n",
    "    while num!=0:\n",
    "        reversed_num=reversed_num*10+num%10\n",
    "        num //=10\n",
    "    print(\"反转后的数是%d\"%reversed_num)\n",
    "reverse(int(input(\"请输入num:\")))"
   ],
   "metadata": {
    "collapsed": false,
    "pycharm": {
     "name": "#%%\n"
    }
   }
  }
 ],
 "metadata": {
  "kernelspec": {
   "display_name": "Python 3",
   "language": "python",
   "name": "python3"
  },
  "language_info": {
   "codemirror_mode": {
    "name": "ipython",
    "version": 2
   },
   "file_extension": ".py",
   "mimetype": "text/x-python",
   "name": "python",
   "nbconvert_exporter": "python",
   "pygments_lexer": "ipython2",
   "version": "2.7.6"
  }
 },
 "nbformat": 4,
 "nbformat_minor": 0
}