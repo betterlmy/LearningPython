{
 "cells": [
  {
   "cell_type": "code",
   "execution_count": 4,
   "outputs": [
    {
     "name": "stdout",
     "output_type": "stream",
     "text": [
      "[1, 7, 12, 23, 46, 53]\n"
     ]
    }
   ],
   "source": [
    "def select_sort(items, comp=lambda x, y: x < y):\n",
    "    \"\"\"\n",
    "    简单选择排序,每次选择一个最小值的序号,插入到合适的位置\n",
    "    时间复杂度O(n2)\n",
    "    :param comp: 对比的函数,如果x<y 返回True\n",
    "    :param items:要排序的列表\n",
    "    :return: 返回排序好的列表\n",
    "    \"\"\"\n",
    "    items = items[:]  # 拷贝一份,不对原参数进行操作\n",
    "    for i in range(len(items) - 1):\n",
    "        min_index = i\n",
    "        for j in range(i + 1, len(items)):\n",
    "            if comp(items[j], items[min_index]):\n",
    "                min_index = j\n",
    "        items[min_index], items[i] = items[i], items[min_index]\n",
    "    return items\n",
    "\n",
    "\n",
    "print(select_sort([23, 46, 12, 53, 1, 7]))"
   ],
   "metadata": {
    "collapsed": false,
    "pycharm": {
     "name": "#%%\n"
    }
   }
  },
  {
   "cell_type": "markdown",
   "source": [
    "## 排序"
   ],
   "metadata": {
    "collapsed": false
   }
  },
  {
   "cell_type": "code",
   "execution_count": null,
   "outputs": [],
   "source": [],
   "metadata": {
    "collapsed": false,
    "pycharm": {
     "name": "#%%\n"
    }
   }
  }
 ],
 "metadata": {
  "kernelspec": {
   "display_name": "Python 3",
   "language": "python",
   "name": "python3"
  },
  "language_info": {
   "codemirror_mode": {
    "name": "ipython",
    "version": 2
   },
   "file_extension": ".py",
   "mimetype": "text/x-python",
   "name": "python",
   "nbconvert_exporter": "python",
   "pygments_lexer": "ipython2",
   "version": "2.7.6"
  }
 },
 "nbformat": 4,
 "nbformat_minor": 0
}