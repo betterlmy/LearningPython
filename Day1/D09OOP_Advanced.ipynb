{
 "cells": [
  {
   "cell_type": "markdown",
   "metadata": {
    "collapsed": true,
    "pycharm": {
     "name": "#%% md\n"
    }
   },
   "source": [
    "## OOP进阶"
   ]
  },
  {
   "cell_type": "markdown",
   "source": [
    "### @property装饰器\n",
    "property=属性\n",
    "在类中,如果直接将属性暴漏出去是不正确的,可以通过@property包装起包装getter和setter方法\n",
    "[@property的介绍与使用](https://zhuanlan.zhihu.com/p/64487092)"
   ],
   "metadata": {
    "collapsed": false,
    "pycharm": {
     "name": "#%% md\n"
    }
   }
  },
  {
   "cell_type": "markdown",
   "source": [
    "场景1：修饰方法,使方法可以像属性一样访问"
   ],
   "metadata": {
    "collapsed": false,
    "pycharm": {
     "name": "#%% md\n"
    }
   }
  },
  {
   "cell_type": "code",
   "execution_count": 17,
   "outputs": [
    {
     "name": "stdout",
     "output_type": "stream",
     "text": [
      "15\n",
      "123\n"
     ]
    }
   ],
   "source": [
    "class DataSet:\n",
    "    def __init__(self):\n",
    "        self.name = None\n",
    "\n",
    "    @property #强调下面只是定义了一个属性 而非方法\n",
    "    def with_property(self):\n",
    "        return 15\n",
    "\n",
    "    def without_property(self):\n",
    "        self.name = \"123\"\n",
    "        return self.name\n",
    "\n",
    "\n",
    "l = DataSet()\n",
    "print(l.with_property) # 加了property之后，直接通过调用属性的方法就可以，不需要加()\n",
    "print(l.without_property())"
   ],
   "metadata": {
    "collapsed": false,
    "pycharm": {
     "name": "#%%\n"
    }
   }
  },
  {
   "cell_type": "markdown",
   "source": [
    "场景2:与所定义的属性配合使用,防止属性被修改(只读)"
   ],
   "metadata": {
    "collapsed": false,
    "pycharm": {
     "name": "#%% md\n"
    }
   }
  },
  {
   "cell_type": "code",
   "execution_count": 19,
   "outputs": [
    {
     "name": "stdout",
     "output_type": "stream",
     "text": [
      "2\n"
     ]
    }
   ],
   "source": [
    "class DataSet1:\n",
    "    def __init__(self):\n",
    "        self._images  = 1\n",
    "        self._labels = 2\n",
    "\n",
    "\n",
    "l = DataSet1()\n",
    "print(l._labels) #可以使用_labels进行属性输出，但是此时会提示保护成员\n"
   ],
   "metadata": {
    "collapsed": false,
    "pycharm": {
     "name": "#%%\n"
    }
   }
  },
  {
   "cell_type": "code",
   "execution_count": 18,
   "outputs": [
    {
     "name": "stdout",
     "output_type": "stream",
     "text": [
      "2\n"
     ]
    }
   ],
   "source": [
    "class DataSet1:\n",
    "    def __init__(self):\n",
    "        self._images  = 1\n",
    "        self._labels = 2\n",
    "    @property\n",
    "    def images(self):\n",
    "        return self._images\n",
    "\n",
    "    @property\n",
    "    def labels(self):\n",
    "        return self._labels\n",
    "\n",
    "l = DataSet1()\n",
    "print(l.labels) #可以使用labels进行输出，但是此时无法通过直接调用l._labels进行输出或者修改，只读"
   ],
   "metadata": {
    "collapsed": false,
    "pycharm": {
     "name": "#%%\n"
    }
   }
  },
  {
   "cell_type": "markdown",
   "source": [
    "@property 相当于添加getter,同样可以添加setter"
   ],
   "metadata": {
    "collapsed": false,
    "pycharm": {
     "name": "#%% md\n"
    }
   }
  },
  {
   "cell_type": "code",
   "source": [
    "class Person:\n",
    "\n",
    "    def __init__(self, name,age):\n",
    "        self._name = name\n",
    "        self._age = age\n",
    "\n",
    "   # getter方法\n",
    "    @property\n",
    "    def name(self):\n",
    "        return self._name\n",
    "\n",
    "    @property\n",
    "    def age(self):\n",
    "        return self._age\n",
    "\n",
    "    # setter方法\n",
    "    @age.setter\n",
    "    def age(self, age):\n",
    "        self._age = age\n",
    "\n",
    "    @name.setter\n",
    "    def name(self, name):\n",
    "        self._name = name\n",
    "\n",
    "    def play(self):\n",
    "        if self._age<16:\n",
    "            print(self._name,\"16\")\n",
    "        else:\n",
    "            print(self._name,\"17\")\n",
    "\n",
    "\n",
    "def main():\n",
    "    p = Person(\"李\",15)\n",
    "    p.name=\"杨\"\n",
    "\n",
    "    name = p.name\n",
    "    print(name)\n",
    "if __name__ == \"__main__\":\n",
    "    main()"
   ],
   "metadata": {
    "collapsed": false,
    "pycharm": {
     "name": "#%%\n"
    }
   },
   "execution_count": 7,
   "outputs": [
    {
     "name": "stdout",
     "output_type": "stream",
     "text": [
      "杨\n"
     ]
    }
   ]
  },
  {
   "cell_type": "markdown",
   "source": [
    "### __slots__魔法 slots插槽\n",
    "Python是一门动态语言DL(Dynamic Language),通常DL允许我们在程序运行时给对象绑定或解绑新的属性或者方法.但是如果我们需要限定自定义类型的对象只能绑定某些属性,通过__slots__变量进行限定，需要注意的是限定只针对当前对象生效,而不是类或子类"
   ],
   "metadata": {
    "collapsed": false,
    "pycharm": {
     "name": "#%% md\n"
    }
   }
  },
  {
   "cell_type": "code",
   "execution_count": 22,
   "outputs": [
    {
     "name": "stdout",
     "output_type": "stream",
     "text": [
      "李梦洋\n",
      "男\n"
     ]
    },
    {
     "ename": "AttributeError",
     "evalue": "'Person' object has no attribute '_is_girl'",
     "output_type": "error",
     "traceback": [
      "\u001B[0;31m---------------------------------------------------------------------------\u001B[0m",
      "\u001B[0;31mAttributeError\u001B[0m                            Traceback (most recent call last)",
      "\u001B[0;32m/var/folders/6y/2tfbrqxd44xb1_g_2djcnjr00000gn/T/ipykernel_9972/2112982417.py\u001B[0m in \u001B[0;36m<module>\u001B[0;34m\u001B[0m\n\u001B[1;32m     32\u001B[0m \u001B[0;34m\u001B[0m\u001B[0m\n\u001B[1;32m     33\u001B[0m \u001B[0;32mif\u001B[0m \u001B[0m__name__\u001B[0m \u001B[0;34m==\u001B[0m \u001B[0;34m'__main__'\u001B[0m\u001B[0;34m:\u001B[0m\u001B[0;34m\u001B[0m\u001B[0;34m\u001B[0m\u001B[0m\n\u001B[0;32m---> 34\u001B[0;31m     \u001B[0mmain\u001B[0m\u001B[0;34m(\u001B[0m\u001B[0;34m)\u001B[0m\u001B[0;34m\u001B[0m\u001B[0;34m\u001B[0m\u001B[0m\n\u001B[0m",
      "\u001B[0;32m/var/folders/6y/2tfbrqxd44xb1_g_2djcnjr00000gn/T/ipykernel_9972/2112982417.py\u001B[0m in \u001B[0;36mmain\u001B[0;34m()\u001B[0m\n\u001B[1;32m     29\u001B[0m     \u001B[0mperson\u001B[0m\u001B[0;34m.\u001B[0m\u001B[0m_gender\u001B[0m \u001B[0;34m=\u001B[0m \u001B[0;34m'男'\u001B[0m \u001B[0;31m# 动态添加\u001B[0m\u001B[0;34m\u001B[0m\u001B[0;34m\u001B[0m\u001B[0m\n\u001B[1;32m     30\u001B[0m     \u001B[0mprint\u001B[0m\u001B[0;34m(\u001B[0m\u001B[0mperson\u001B[0m\u001B[0;34m.\u001B[0m\u001B[0m_gender\u001B[0m\u001B[0;34m)\u001B[0m  \u001B[0;31m#这里可以正常输出，因为_gender属性是在slots范围内的，可以动态添加\u001B[0m\u001B[0;34m\u001B[0m\u001B[0;34m\u001B[0m\u001B[0m\n\u001B[0;32m---> 31\u001B[0;31m     \u001B[0mperson\u001B[0m\u001B[0;34m.\u001B[0m\u001B[0m_is_girl\u001B[0m \u001B[0;34m=\u001B[0m \u001B[0;32mTrue\u001B[0m \u001B[0;31m# 这里会报错，_is_girl 不在slots范围内。\u001B[0m\u001B[0;34m\u001B[0m\u001B[0;34m\u001B[0m\u001B[0m\n\u001B[0m\u001B[1;32m     32\u001B[0m \u001B[0;34m\u001B[0m\u001B[0m\n\u001B[1;32m     33\u001B[0m \u001B[0;32mif\u001B[0m \u001B[0m__name__\u001B[0m \u001B[0;34m==\u001B[0m \u001B[0;34m'__main__'\u001B[0m\u001B[0;34m:\u001B[0m\u001B[0;34m\u001B[0m\u001B[0;34m\u001B[0m\u001B[0m\n",
      "\u001B[0;31mAttributeError\u001B[0m: 'Person' object has no attribute '_is_girl'"
     ]
    }
   ],
   "source": [
    "class Person(object):\n",
    "    __slots__ = ('_name', '_age', '_gender')\n",
    "    # 限定Person的对象只能绑定这三个属性\n",
    "\n",
    "    def __init__(self, name, age):\n",
    "        self._name = name\n",
    "        self._age = age\n",
    "\n",
    "    @property\n",
    "    def name(self):\n",
    "        return self._name\n",
    "\n",
    "    @property\n",
    "    def age(self):\n",
    "        return self._age\n",
    "\n",
    "    @age.setter\n",
    "    def age(self, age):\n",
    "        self._age = age\n",
    "\n",
    "    def play(self):\n",
    "        if self._age <= 16:\n",
    "            print('%s正在玩飞行棋.' % self._name)\n",
    "        else:\n",
    "            print('%s正在玩斗地主.' % self._name)\n",
    "def main():\n",
    "    person = Person(\"李梦洋\",22)\n",
    "    print(person.name)\n",
    "    person._gender = '男' # 动态添加\n",
    "    print(person._gender)  #这里可以正常输出，因为_gender属性是在slots范围内的，可以动态添加\n",
    "    person._is_girl = True # 这里会报错，_is_girl 不在slots范围内。  'Person' object has no attribute '_is_girl'\n",
    "\n",
    "if __name__ == '__main__':\n",
    "    main()"
   ],
   "metadata": {
    "collapsed": false,
    "pycharm": {
     "name": "#%%\n"
    }
   }
  },
  {
   "cell_type": "markdown",
   "source": [
    "## 静态方法和类方法\n",
    "在写类的方法并不需要都是对象方法,我们定义一个“三角形”类，通过传入三条边长来构造三角形，并提供计算周长和面积的方法，但是传入的三条边长未必能构造出三角形对象，因此我们可以**先写一个方法来验证三条边长是否可以构成三角形**,这个方法很显然就不是对象方法,可以使用静态方法来解决这个问题."
   ],
   "metadata": {
    "collapsed": false,
    "pycharm": {
     "name": "#%% md\n"
    }
   }
  },
  {
   "cell_type": "code",
   "execution_count": 3,
   "outputs": [
    {
     "name": "stdout",
     "output_type": "stream",
     "text": [
      "10\n"
     ]
    }
   ],
   "source": [
    "from math import sqrt\n",
    "\n",
    "class Triangle:\n",
    "    def __init__(self,a,b,c):\n",
    "        self._a = a\n",
    "        self._b = b\n",
    "        self._c = c\n",
    "\n",
    "    @property\n",
    "    def a(self):\n",
    "        return self._a\n",
    "    @property\n",
    "    def b(self):\n",
    "        return self._b\n",
    "    @property\n",
    "    def c(self):\n",
    "        return self._c\n",
    "\n",
    "    @staticmethod\n",
    "    def is_valid(a,b,c):\n",
    "        \"\"\"\n",
    "        静态方法 判断是否可以组成三角形\n",
    "        :param a:\n",
    "        :param b:\n",
    "        :param c:\n",
    "        :return:\n",
    "        \"\"\"\n",
    "        return a+b>c and a+c>b and b+c>a\n",
    "\n",
    "    def perimeter(self):\n",
    "        return self.a+self.b+self.c\n",
    "def main():\n",
    "    a ,b ,c =3,4,5\n",
    "    if Triangle.is_valid(a,b,c):\n",
    "        t = Triangle(a, b, c)\n",
    "        print(t.perimeter())\n",
    "\n",
    "    else:\n",
    "        print(\"Triangle is invalid\")\n",
    "        \n",
    "def main1():\n",
    "    a ,b ,c =3,4,3\n",
    "    t = Triangle(a, b, c)\n",
    "    print(t.perimeter())\n",
    "    # 这样仍可以运行 ，但是不严谨，最好是需要通过静态方法提前判断\n",
    "\n",
    "if __name__ == '__main__':\n",
    "    main1()"
   ],
   "metadata": {
    "collapsed": false,
    "pycharm": {
     "name": "#%%\n"
    }
   }
  },
  {
   "cell_type": "markdown",
   "source": [
    "Python可以在类中定义类方法,类方法的第一个参数约定名为cls，它代表的是当前类相关的信息的对象（类本身也是一个对象，有的地方也称之为类的元数据对象），通过这个参数我们可以获取和类相关的信息并且可以创建出类的对象,代码如下所示. @classmethod方法不需要实力化也可以调用"
   ],
   "metadata": {
    "collapsed": false,
    "pycharm": {
     "name": "#%% md\n"
    }
   }
  },
  {
   "cell_type": "code",
   "execution_count": 4,
   "outputs": [
    {
     "name": "stdout",
     "output_type": "stream",
     "text": [
      "当前的时间00:53:07\n"
     ]
    }
   ],
   "source": [
    "from time import time,localtime,sleep\n",
    "\n",
    "class Clock(object):\n",
    "    def __init__(self,hour, minute,second):\n",
    "        self._hour = hour\n",
    "        self._minute = minute\n",
    "        self._second = second\n",
    "\n",
    "    @classmethod\n",
    "    def now(cls):\n",
    "        \"\"\"\n",
    "        类方法，非对象才能执行\n",
    "        将当前的时间作为参数传递给类\n",
    "        :return: 返回一个Clock对象\n",
    "        \"\"\"\n",
    "        ctime = localtime(time())\n",
    "        return  cls(ctime.tm_hour,ctime.tm_min,ctime.tm_sec)\n",
    "\n",
    "    def run(self):\n",
    "        \"\"\"\n",
    "\n",
    "        :return:\n",
    "        \"\"\"\n",
    "        self._second += 1\n",
    "        if self._second == 60:\n",
    "            self._second = 0\n",
    "            self._minute += 1\n",
    "            if self._minute == 60:\n",
    "                self._minute = 0\n",
    "                self._hour += 1\n",
    "                if self._hour == 24:\n",
    "                    self._hour = 0\n",
    "\n",
    "    def show(self):\n",
    "        \"\"\"显示时间\"\"\"\n",
    "        return '%02d:%02d:%02d' % \\\n",
    "               (self._hour, self._minute, self._second)\n",
    "\n",
    "def main():\n",
    "    print(f\"当前的时间{Clock.now().show()}\")\n",
    "    # time = Clock.now()\n",
    "\n",
    "    # while True:\n",
    "    #     print(time.show())\n",
    "    #     sleep(1)\n",
    "    #     time.run()\n",
    "\n",
    "if __name__ == '__main__':\n",
    "    main()"
   ],
   "metadata": {
    "collapsed": false,
    "pycharm": {
     "name": "#%%\n"
    }
   }
  },
  {
   "cell_type": "markdown",
   "source": [
    "### 类与类的关系"
   ],
   "metadata": {
    "collapsed": false,
    "pycharm": {
     "name": "#%% md\n"
    }
   }
  },
  {
   "cell_type": "markdown",
   "source": [
    "* 继承和泛化 学生与人 手机和电子产品\n",
    "* $关联=\\left\\{\\begin{matrix}聚合关系\\\\合成关系\\end{matrix}\\right.$\n",
    "部门和员工 汽车和引擎 如果是整体和部分的关系 称为**聚合关系** 如果整体和部分不可分割 称为**合成关系**\n",
    "* 依赖 司机的驾驶行为中调用了汽车这个类,则称司机和汽车为依赖关系"
   ],
   "metadata": {
    "collapsed": false,
    "pycharm": {
     "name": "#%% md\n"
    }
   }
  },
  {
   "cell_type": "markdown",
   "source": [
    "利用类间关系可以实现代码的复用,减少代码量"
   ],
   "metadata": {
    "collapsed": false,
    "pycharm": {
     "name": "#%% md\n"
    }
   }
  },
  {
   "cell_type": "markdown",
   "source": [
    "### 继承和多态\n",
    "* 提供继承信息的称为父类,基类,超类\n",
    "* 得到继承信息的称为子类,派生类,衍生类\n",
    "* 子类可以得到父类的属性与方法,也可以自定义新的属性和方法\n",
    "[里氏替换原则](https://zh.wikipedia.org/wiki/里氏替换原则):子类对象去替换掉一个父类对象"
   ],
   "metadata": {
    "collapsed": false,
    "pycharm": {
     "name": "#%% md\n"
    }
   }
  },
  {
   "cell_type": "code",
   "execution_count": 28,
   "outputs": [],
   "source": [
    "class Person(object):\n",
    "    \"\"\"\n",
    "    人\n",
    "    \"\"\"\n",
    "\n",
    "    def __init__(self, name, age):\n",
    "        self._name = name\n",
    "        self._age = age\n",
    "        self._identity = \"Person\"\n",
    "\n",
    "\n",
    "\n",
    "    @property\n",
    "    def name(self):\n",
    "        return self._name\n",
    "\n",
    "    @property\n",
    "    def age(self):\n",
    "        return self._age\n",
    "\n",
    "    @age.setter\n",
    "    def age(self, age):\n",
    "        self._age = age\n",
    "\n",
    "    @name.setter\n",
    "    def name(self, name):\n",
    "        self._name = name\n",
    "\n",
    "    def play(self):\n",
    "        print(f\"{self.name}正在愉快地玩耍。\")\n",
    "\n",
    "    def watch_movie(self):\n",
    "        if self.age >= 18:\n",
    "            print(f\"{self.name}正在看片。\")\n",
    "        else:\n",
    "            print(f\"{self.name}正在看动画片。\")"
   ],
   "metadata": {
    "collapsed": false,
    "pycharm": {
     "name": "#%%\n"
    }
   }
  },
  {
   "cell_type": "code",
   "execution_count": 17,
   "outputs": [],
   "source": [
    "class Student(Person):\n",
    "    def __init__(self, name, age, grade):\n",
    "        super().__init__(name, age)\n",
    "        self._grade = grade\n",
    "        self._identity = \"Student\"\n",
    "\n",
    "    @property\n",
    "    def grade(self):\n",
    "        return self._grade\n",
    "\n",
    "    @grade.setter\n",
    "    def grade(self, grade):\n",
    "        self._grade = grade\n",
    "\n",
    "    def study(self, *course_name):\n",
    "        print(f\"{self.grade}的{self.name}正在学习\", end=\"\")\n",
    "        for course in course_name:\n",
    "            print(f\"{course}\",end=\"\")\n",
    "        print()"
   ],
   "metadata": {
    "collapsed": false,
    "pycharm": {
     "name": "#%%\n"
    }
   }
  },
  {
   "cell_type": "code",
   "execution_count": 15,
   "outputs": [],
   "source": [
    "class Teacher(Person):\n",
    "    def __init__(self, name, age, title):\n",
    "        super().__init__(name, age)\n",
    "        self._title = title\n",
    "        self._identity = \"Teacher\"\n",
    "\n",
    "    @property\n",
    "    def title(self):\n",
    "        return self._title\n",
    "\n",
    "    @title.setter\n",
    "    def title(self, title):\n",
    "        self._title = title\n",
    "\n",
    "    def teach(self, course):\n",
    "        print('%s%s正在讲%s.' % (self._name, self._title, course))"
   ],
   "metadata": {
    "collapsed": false,
    "pycharm": {
     "name": "#%%\n"
    }
   }
  },
  {
   "cell_type": "code",
   "execution_count": 21,
   "outputs": [
    {
     "name": "stdout",
     "output_type": "stream",
     "text": [
      "五年级的王大锤正在学习数学语文\n",
      "王大锤正在看动画片。\n",
      "李梦洋废物正在讲Python设计.\n",
      "李梦洋正在看片。\n",
      "男\n"
     ]
    }
   ],
   "source": [
    "def main():\n",
    "    stu1 = Student(\"王大锤\",15,\"五年级\")\n",
    "    stu1.study(\"数学\",\"语文\")\n",
    "    stu1.watch_movie() # 这个方法是父类的方法\n",
    "    t = Teacher(\"李梦洋\",22,\"废物\")\n",
    "    t.teach(\"Python设计\")\n",
    "    t.watch_movie()\n",
    "\n",
    "if __name__ == '__main__':\n",
    "    main()"
   ],
   "metadata": {
    "collapsed": false,
    "pycharm": {
     "name": "#%%\n"
    }
   }
  },
  {
   "cell_type": "code",
   "execution_count": 27,
   "outputs": [],
   "source": [
    "class Student1(Student):\n",
    "\n",
    "    def __init__(self, name, age, grade):\n",
    "        super().__init__(name, age, grade)\n",
    "        self._grade = grade\n",
    "\n",
    "    @staticmethod\n",
    "    def is_valid(new_age):\n",
    "        \"\"\"\n",
    "        静态方法，判断年龄是否合适\n",
    "        :param new_age: 学生的年龄\n",
    "        :return: 是否符合条件\n",
    "        \"\"\"\n",
    "        return 18 > new_age > 3\n",
    "\n",
    "    def watch_movie(self):\n",
    "        \"\"\"\n",
    "        对父类方法的重写\n",
    "        :return:直接输出不能看电视\n",
    "        \"\"\"\n",
    "        print(f\"{self._grade}的{self.name}同学只是一名学生，不能看电影哦\")"
   ],
   "metadata": {
    "collapsed": false,
    "pycharm": {
     "name": "#%%\n"
    }
   }
  },
  {
   "cell_type": "code",
   "execution_count": 26,
   "outputs": [
    {
     "name": "stdout",
     "output_type": "stream",
     "text": [
      "三年级的小赵同学只是一名学生，不能看电影哦\n"
     ]
    }
   ],
   "source": [
    "name = \"小赵\"\n",
    "age = 15\n",
    "grade = \"三年级\"\n",
    "if Student1.is_valid(age):\n",
    "    stu2 = Student1(name,age,grade)\n",
    "    stu2.watch_movie()\n",
    "else:\n",
    "    print(\"孩子年龄不符合标准不能上学哦\")"
   ],
   "metadata": {
    "collapsed": false,
    "pycharm": {
     "name": "#%%\n"
    }
   }
  },
  {
   "cell_type": "markdown",
   "source": [
    "#### 抽象类与抽象方法@abstractmethod\n",
    "[abc模块](https://docs.python.org/zh-cn/3/library/abc.html)"
   ],
   "metadata": {
    "collapsed": false,
    "pycharm": {
     "name": "#%% md\n"
    }
   }
  },
  {
   "cell_type": "code",
   "execution_count": 29,
   "outputs": [
    {
     "name": "stdout",
     "output_type": "stream",
     "text": [
      "汪汪汪\n",
      "喵喵喵\n"
     ]
    }
   ],
   "source": [
    "from abc import ABCMeta, abstractmethod\n",
    "class Pet(object,metaclass=ABCMeta):\n",
    "    \"\"\"宠物\"\"\"\n",
    "\n",
    "    def __init__(self, nickname):\n",
    "        self._nickname = nickname\n",
    "\n",
    "    @abstractmethod\n",
    "    def make_voice(self):\n",
    "        \"\"\"发出声音\"\"\"\n",
    "        \"\"\"抽象方法，所有继承Pet的子类都必须重新定义该方法\"\"\"\n",
    "        pass\n",
    "\n",
    "class Dog(Pet):\n",
    "    def make_voice(self):\n",
    "        print(\"汪汪汪\")\n",
    "\n",
    "class Cat(Pet):\n",
    "    def make_voice(self):\n",
    "        print(\"喵喵喵\")\n",
    "def main():\n",
    "    dog = Dog(\"旺\")\n",
    "\n",
    "    cat = Cat(\"花\")\n",
    "    dog.make_voice()\n",
    "    cat.make_voice()\n",
    "if __name__ == '__main__':\n",
    "    main()\n"
   ],
   "metadata": {
    "collapsed": false,
    "pycharm": {
     "name": "#%%\n"
    }
   }
  },
  {
   "cell_type": "markdown",
   "source": [
    "### 多继承\n",
    "在父类1和父类2中 如果出现方法相同,则会根据[MRO规则](https://blog.csdn.net/qq_38923792/article/details/94414944)进行查找,应尽量减少这种代码的产生\n",
    "![MRO](./res/mro.png)"
   ],
   "metadata": {
    "collapsed": false,
    "pycharm": {
     "name": "#%% md\n"
    }
   }
  },
  {
   "cell_type": "code",
   "execution_count": 30,
   "outputs": [
    {
     "name": "stdout",
     "output_type": "stream",
     "text": [
      "A.test_1()\n",
      "A.test_2()\n"
     ]
    }
   ],
   "source": [
    "class A(object):\n",
    "    @staticmethod\n",
    "    def test_1():\n",
    "        print(\"A.test_1()\")\n",
    "\n",
    "    @staticmethod\n",
    "    def test_2():\n",
    "        print(\"A.test_2()\")\n",
    "\n",
    "class B(object):\n",
    "    @staticmethod\n",
    "    def test_1():\n",
    "        print(\"B.test_1()\")\n",
    "\n",
    "class C(A,B):\n",
    "    # 多继承\n",
    "    pass\n",
    "def main():\n",
    "    c= C()\n",
    "    c.test_1() # A.test_1()\n",
    "    c.test_2()\n",
    "\n",
    "if __name__ == '__main__':\n",
    "    main()"
   ],
   "metadata": {
    "collapsed": false,
    "pycharm": {
     "name": "#%%\n"
    }
   }
  },
  {
   "cell_type": "code",
   "execution_count": 32,
   "outputs": [
    {
     "name": "stdout",
     "output_type": "stream",
     "text": [
      "从D开始查找：\n",
      "<class '__main__.D'>\n",
      "<class '__main__.C1'>\n",
      "<class '__main__.C2'>\n",
      "<class '__main__.B1'>\n",
      "<class '__main__.A1'>\n",
      "<class '__main__.C3'>\n",
      "<class '__main__.B2'>\n",
      "<class '__main__.B3'>\n",
      "<class '__main__.A2'>\n",
      "<class '__main__.A3'>\n",
      "<class 'object'>\n"
     ]
    }
   ],
   "source": [
    "class A1: pass\n",
    "class A2: pass\n",
    "class A3: pass\n",
    "class B1(A1,A2): pass\n",
    "class B2(A2): pass\n",
    "class B3(A2,A3): pass\n",
    "class C1(B1): pass\n",
    "class C2(B1,B2): pass\n",
    "class C3(B2,B3): pass\n",
    "class D(C1, C2, C3): pass\n",
    "\n",
    "print(\"从D开始查找：\")\n",
    "for s in D.__mro__:\n",
    "    print(s)\n",
    "    \"\"\"\n",
    "    <class '__main__.D'>\n",
    "    <class '__main__.C1'>\n",
    "    <class '__main__.C2'>\n",
    "    <class '__main__.B1'>\n",
    "    <class '__main__.A1'>\n",
    "    <class '__main__.C3'>\n",
    "    <class '__main__.B2'>\n",
    "    <class '__main__.B3'>\n",
    "    <class '__main__.A2'>\n",
    "    <class '__main__.A3'>\n",
    "    <class 'object'>\n",
    "    \"\"\""
   ],
   "metadata": {
    "collapsed": false,
    "pycharm": {
     "name": "#%%\n"
    }
   }
  },
  {
   "cell_type": "markdown",
   "source": [
    "### 综合案例：[奥特曼打怪兽](./奥特曼打怪兽.py)"
   ],
   "metadata": {
    "collapsed": false,
    "pycharm": {
     "name": "#%% md\n"
    }
   }
  }
 ],
 "metadata": {
  "kernelspec": {
   "display_name": "Python 3",
   "language": "python",
   "name": "python3"
  },
  "language_info": {
   "codemirror_mode": {
    "name": "ipython",
    "version": 2
   },
   "file_extension": ".py",
   "mimetype": "text/x-python",
   "name": "python",
   "nbconvert_exporter": "python",
   "pygments_lexer": "ipython2",
   "version": "2.7.6"
  }
 },
 "nbformat": 4,
 "nbformat_minor": 0
}