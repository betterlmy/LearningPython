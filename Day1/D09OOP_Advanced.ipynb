{
 "cells": [
  {
   "cell_type": "markdown",
   "metadata": {
    "collapsed": true,
    "pycharm": {
     "name": "#%% md\n"
    }
   },
   "source": [
    "## OOP进阶"
   ]
  },
  {
   "cell_type": "markdown",
   "source": [
    "### @property装饰器\n",
    "property=属性\n",
    "在类中,如果直接将属性暴漏出去是不正确的,可以通过@property包装起包装getter和setter方法\n",
    "[@property的介绍与使用](https://zhuanlan.zhihu.com/p/64487092)"
   ],
   "metadata": {
    "collapsed": false,
    "pycharm": {
     "name": "#%% md\n"
    }
   }
  },
  {
   "cell_type": "markdown",
   "source": [
    "场景1：修饰方法,使方法可以像属性一样访问"
   ],
   "metadata": {
    "collapsed": false,
    "pycharm": {
     "name": "#%% md\n"
    }
   }
  },
  {
   "cell_type": "code",
   "execution_count": 17,
   "outputs": [
    {
     "name": "stdout",
     "output_type": "stream",
     "text": [
      "15\n",
      "123\n"
     ]
    }
   ],
   "source": [
    "class DataSet:\n",
    "    def __init__(self):\n",
    "        self.name = None\n",
    "\n",
    "    @property #强调下面只是定义了一个属性 而非方法\n",
    "    def with_property(self):\n",
    "        return 15\n",
    "\n",
    "    def without_property(self):\n",
    "        self.name = \"123\"\n",
    "        return self.name\n",
    "\n",
    "l = DataSet()\n",
    "print(l.with_property) # 加了property之后，直接通过调用属性的方法就可以，不需要加()\n",
    "print(l.without_property())"
   ],
   "metadata": {
    "collapsed": false,
    "pycharm": {
     "name": "#%%\n"
    }
   }
  },
  {
   "cell_type": "markdown",
   "source": [
    "场景2:与所定义的属性配合使用,防止属性被修改(只读)"
   ],
   "metadata": {
    "collapsed": false,
    "pycharm": {
     "name": "#%% md\n"
    }
   }
  },
  {
   "cell_type": "code",
   "execution_count": 19,
   "outputs": [
    {
     "name": "stdout",
     "output_type": "stream",
     "text": [
      "2\n"
     ]
    }
   ],
   "source": [
    "class DataSet1:\n",
    "    def __init__(self):\n",
    "        self._images  = 1\n",
    "        self._labels = 2\n",
    "\n",
    "\n",
    "l = DataSet1()\n",
    "print(l._labels) #可以使用_labels进行属性输出，但是此时会提示保护成员\n"
   ],
   "metadata": {
    "collapsed": false,
    "pycharm": {
     "name": "#%%\n"
    }
   }
  },
  {
   "cell_type": "code",
   "execution_count": 18,
   "outputs": [
    {
     "name": "stdout",
     "output_type": "stream",
     "text": [
      "2\n"
     ]
    }
   ],
   "source": [
    "class DataSet1:\n",
    "    def __init__(self):\n",
    "        self._images  = 1\n",
    "        self._labels = 2\n",
    "    @property\n",
    "    def images(self):\n",
    "        return self._images\n",
    "\n",
    "    @property\n",
    "    def labels(self):\n",
    "        return self._labels\n",
    "\n",
    "l = DataSet1()\n",
    "print(l.labels) #可以使用labels进行输出，但是此时无法通过直接调用l._labels进行输出或者修改，只读"
   ],
   "metadata": {
    "collapsed": false,
    "pycharm": {
     "name": "#%%\n"
    }
   }
  },
  {
   "cell_type": "markdown",
   "source": [
    "@property 相当于添加getter,同样可以添加setter"
   ],
   "metadata": {
    "collapsed": false,
    "pycharm": {
     "name": "#%% md\n"
    }
   }
  },
  {
   "cell_type": "code",
   "source": [
    "class Person:\n",
    "\n",
    "    def __init__(self, name,age):\n",
    "        self._name = name\n",
    "        self._age = age\n",
    "\n",
    "   # getter方法\n",
    "    @property\n",
    "    def name(self):\n",
    "        return self._name\n",
    "\n",
    "    @property\n",
    "    def age(self):\n",
    "        return self._age\n",
    "\n",
    "    # setter方法\n",
    "    @age.setter\n",
    "    def age(self, age):\n",
    "        self._age = age\n",
    "\n",
    "    @name.setter\n",
    "    def name(self, name):\n",
    "        self._name = name\n",
    "\n",
    "    def play(self):\n",
    "        if self._age<16:\n",
    "            print(self._name,\"16\")\n",
    "        else:\n",
    "            print(self._name,\"17\")\n",
    "\n",
    "\n",
    "def main():\n",
    "    p = Person(\"李\",15)\n",
    "    p.name=\"杨\"\n",
    "\n",
    "    name = p.name\n",
    "    print(name)\n",
    "if __name__ == \"__main__\":\n",
    "    main()"
   ],
   "metadata": {
    "collapsed": false,
    "pycharm": {
     "name": "#%%\n"
    }
   },
   "execution_count": 7,
   "outputs": [
    {
     "name": "stdout",
     "output_type": "stream",
     "text": [
      "杨\n"
     ]
    }
   ]
  },
  {
   "cell_type": "markdown",
   "source": [
    "### __slots__魔法 slots插槽\n",
    "Python是一门动态语言DL(Dynamic Language),通常DL允许我们在程序运行时给对象绑定或解绑新的属性或者方法.但是如果我们需要限定自定义类型的对象只能绑定某些属性,通过__slots__变量进行限定，需要注意的是限定只针对当前对象生效,而不是类或子类"
   ],
   "metadata": {
    "collapsed": false,
    "pycharm": {
     "name": "#%% md\n"
    }
   }
  },
  {
   "cell_type": "code",
   "execution_count": 22,
   "outputs": [
    {
     "name": "stdout",
     "output_type": "stream",
     "text": [
      "李梦洋\n",
      "男\n"
     ]
    },
    {
     "ename": "AttributeError",
     "evalue": "'Person' object has no attribute '_is_girl'",
     "output_type": "error",
     "traceback": [
      "\u001B[0;31m---------------------------------------------------------------------------\u001B[0m",
      "\u001B[0;31mAttributeError\u001B[0m                            Traceback (most recent call last)",
      "\u001B[0;32m/var/folders/6y/2tfbrqxd44xb1_g_2djcnjr00000gn/T/ipykernel_9972/2112982417.py\u001B[0m in \u001B[0;36m<module>\u001B[0;34m\u001B[0m\n\u001B[1;32m     32\u001B[0m \u001B[0;34m\u001B[0m\u001B[0m\n\u001B[1;32m     33\u001B[0m \u001B[0;32mif\u001B[0m \u001B[0m__name__\u001B[0m \u001B[0;34m==\u001B[0m \u001B[0;34m'__main__'\u001B[0m\u001B[0;34m:\u001B[0m\u001B[0;34m\u001B[0m\u001B[0;34m\u001B[0m\u001B[0m\n\u001B[0;32m---> 34\u001B[0;31m     \u001B[0mmain\u001B[0m\u001B[0;34m(\u001B[0m\u001B[0;34m)\u001B[0m\u001B[0;34m\u001B[0m\u001B[0;34m\u001B[0m\u001B[0m\n\u001B[0m",
      "\u001B[0;32m/var/folders/6y/2tfbrqxd44xb1_g_2djcnjr00000gn/T/ipykernel_9972/2112982417.py\u001B[0m in \u001B[0;36mmain\u001B[0;34m()\u001B[0m\n\u001B[1;32m     29\u001B[0m     \u001B[0mperson\u001B[0m\u001B[0;34m.\u001B[0m\u001B[0m_gender\u001B[0m \u001B[0;34m=\u001B[0m \u001B[0;34m'男'\u001B[0m \u001B[0;31m# 动态添加\u001B[0m\u001B[0;34m\u001B[0m\u001B[0;34m\u001B[0m\u001B[0m\n\u001B[1;32m     30\u001B[0m     \u001B[0mprint\u001B[0m\u001B[0;34m(\u001B[0m\u001B[0mperson\u001B[0m\u001B[0;34m.\u001B[0m\u001B[0m_gender\u001B[0m\u001B[0;34m)\u001B[0m  \u001B[0;31m#这里可以正常输出，因为_gender属性是在slots范围内的，可以动态添加\u001B[0m\u001B[0;34m\u001B[0m\u001B[0;34m\u001B[0m\u001B[0m\n\u001B[0;32m---> 31\u001B[0;31m     \u001B[0mperson\u001B[0m\u001B[0;34m.\u001B[0m\u001B[0m_is_girl\u001B[0m \u001B[0;34m=\u001B[0m \u001B[0;32mTrue\u001B[0m \u001B[0;31m# 这里会报错，_is_girl 不在slots范围内。\u001B[0m\u001B[0;34m\u001B[0m\u001B[0;34m\u001B[0m\u001B[0m\n\u001B[0m\u001B[1;32m     32\u001B[0m \u001B[0;34m\u001B[0m\u001B[0m\n\u001B[1;32m     33\u001B[0m \u001B[0;32mif\u001B[0m \u001B[0m__name__\u001B[0m \u001B[0;34m==\u001B[0m \u001B[0;34m'__main__'\u001B[0m\u001B[0;34m:\u001B[0m\u001B[0;34m\u001B[0m\u001B[0;34m\u001B[0m\u001B[0m\n",
      "\u001B[0;31mAttributeError\u001B[0m: 'Person' object has no attribute '_is_girl'"
     ]
    }
   ],
   "source": [
    "class Person(object):\n",
    "    __slots__ = ('_name', '_age', '_gender')\n",
    "    # 限定Person的对象只能绑定这三个属性\n",
    "\n",
    "    def __init__(self, name, age):\n",
    "        self._name = name\n",
    "        self._age = age\n",
    "\n",
    "    @property\n",
    "    def name(self):\n",
    "        return self._name\n",
    "\n",
    "    @property\n",
    "    def age(self):\n",
    "        return self._age\n",
    "\n",
    "    @age.setter\n",
    "    def age(self, age):\n",
    "        self._age = age\n",
    "\n",
    "    def play(self):\n",
    "        if self._age <= 16:\n",
    "            print('%s正在玩飞行棋.' % self._name)\n",
    "        else:\n",
    "            print('%s正在玩斗地主.' % self._name)\n",
    "def main():\n",
    "    person = Person(\"李梦洋\",22)\n",
    "    print(person.name)\n",
    "    person._gender = '男' # 动态添加\n",
    "    print(person._gender)  #这里可以正常输出，因为_gender属性是在slots范围内的，可以动态添加\n",
    "    person._is_girl = True # 这里会报错，_is_girl 不在slots范围内。  'Person' object has no attribute '_is_girl'\n",
    "\n",
    "if __name__ == '__main__':\n",
    "    main()"
   ],
   "metadata": {
    "collapsed": false,
    "pycharm": {
     "name": "#%%\n"
    }
   }
  },
  {
   "cell_type": "markdown",
   "source": [
    "## 静态方法和类方法\n",
    "在写类的方法并不需要都是对象方法,我们定义一个“三角形”类，通过传入三条边长来构造三角形，并提供计算周长和面积的方法，但是传入的三条边长未必能构造出三角形对象，因此我们可以**先写一个方法来验证三条边长是否可以构成三角形**,这个方法很显然就不是对象方法,可以使用静态方法来解决这个问题."
   ],
   "metadata": {
    "collapsed": false,
    "pycharm": {
     "name": "#%% md\n"
    }
   }
  },
  {
   "cell_type": "code",
   "execution_count": null,
   "outputs": [],
   "source": [
    "from math import sqrt\n",
    "\n",
    "class Triangle:\n",
    "    def __init__(self):\n",
    "        print()"
   ],
   "metadata": {
    "collapsed": false,
    "pycharm": {
     "name": "#%%\n"
    }
   }
  }
 ],
 "metadata": {
  "kernelspec": {
   "display_name": "Python 3",
   "language": "python",
   "name": "python3"
  },
  "language_info": {
   "codemirror_mode": {
    "name": "ipython",
    "version": 2
   },
   "file_extension": ".py",
   "mimetype": "text/x-python",
   "name": "python",
   "nbconvert_exporter": "python",
   "pygments_lexer": "ipython2",
   "version": "2.7.6"
  }
 },
 "nbformat": 4,
 "nbformat_minor": 0
}