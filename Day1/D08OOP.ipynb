{
 "cells": [
  {
   "cell_type": "markdown",
   "source": [
    "## 面向对象设计"
   ],
   "metadata": {
    "collapsed": false
   }
  },
  {
   "cell_type": "markdown",
   "source": [
    "### 定义类"
   ],
   "metadata": {
    "collapsed": false,
    "pycharm": {
     "name": "#%% md\n"
    }
   }
  },
  {
   "cell_type": "code",
   "execution_count": 2,
   "metadata": {
    "collapsed": true,
    "pycharm": {
     "name": "#%%\n"
    }
   },
   "outputs": [],
   "source": [
    "class Student(object):\n",
    "    def __init__(self,name,age):\n",
    "        print(\"已初始化\")\n",
    "        self.name = name\n",
    "        self.age = age\n",
    "\n",
    "    def study(self,course_name):\n",
    "        print(f\"{self.name}正在学习{course_name}这门课\")\n",
    "\n",
    "    def watch_movie(self):\n",
    "        if self.age<18:\n",
    "            print(f\"{self.name}只能看熊出没\")\n",
    "        else:\n",
    "            print(f\"{self.name}可以随便看\")"
   ]
  },
  {
   "cell_type": "markdown",
   "source": [
    "### 对象的创建与方法的调用"
   ],
   "metadata": {
    "collapsed": false,
    "pycharm": {
     "name": "#%% md\n"
    }
   }
  },
  {
   "cell_type": "code",
   "execution_count": null,
   "outputs": [],
   "source": [
    "def main():\n",
    "    xiaoli = Student(\"小李\",18)\n",
    "    xiaoli.watch_movie()\n",
    "    xiaoli.study(\"英语\")\n",
    "\n",
    "if __name__ == \"__main__\":\n",
    "    main()"
   ],
   "metadata": {
    "collapsed": false,
    "pycharm": {
     "name": "#%%\n",
     "is_executing": true
    }
   }
  },
  {
   "cell_type": "markdown",
   "source": [
    "### !!!属性与方法的访问权限\n",
    "利用在属性或者方法前面添加'__'来声明"
   ],
   "metadata": {
    "collapsed": false,
    "pycharm": {
     "name": "#%% md\n"
    }
   }
  },
  {
   "cell_type": "markdown",
   "source": [
    "### 大多数Python程序员会遵循一种命名惯例就是让属性名以单下划线开头来表示属性是受保护的，本类之外的代码在访问这样的属性时应该要保持慎重。这种做法并不是语法上的规则，单下划线开头的属性和方法外界仍然是可以访问的，所以更多的时候它是一种暗示或隐喻"
   ],
   "metadata": {
    "collapsed": false,
    "pycharm": {
     "name": "#%% md\n"
    }
   }
  },
  {
   "cell_type": "code",
   "execution_count": 6,
   "outputs": [
    {
     "name": "stdout",
     "output_type": "stream",
     "text": [
      "外部调用new name\n",
      "内部属性new name\n",
      "bar\n",
      "new name\n"
     ]
    },
    {
     "ename": "AttributeError",
     "evalue": "'right_test' object has no attribute '__private'",
     "output_type": "error",
     "traceback": [
      "\u001B[0;31m---------------------------------------------------------------------------\u001B[0m",
      "\u001B[0;31mAttributeError\u001B[0m                            Traceback (most recent call last)",
      "\u001B[0;32m/var/folders/6y/2tfbrqxd44xb1_g_2djcnjr00000gn/T/ipykernel_8061/626587600.py\u001B[0m in \u001B[0;36m<module>\u001B[0;34m\u001B[0m\n\u001B[1;32m     17\u001B[0m     \u001B[0mtest\u001B[0m\u001B[0;34m.\u001B[0m\u001B[0m__bar\u001B[0m\u001B[0;34m(\u001B[0m\u001B[0;34m)\u001B[0m \u001B[0;31m#此时会报错 不认识__bar()这个方法 因此不能直接调用 AttributeError: 'right_test' object has no attribute '__bar'\u001B[0m\u001B[0;34m\u001B[0m\u001B[0;34m\u001B[0m\u001B[0m\n\u001B[1;32m     18\u001B[0m \u001B[0;32mif\u001B[0m \u001B[0m__name__\u001B[0m \u001B[0;34m==\u001B[0m \u001B[0;34m\"__main__\"\u001B[0m\u001B[0;34m:\u001B[0m\u001B[0;34m\u001B[0m\u001B[0;34m\u001B[0m\u001B[0m\n\u001B[0;32m---> 19\u001B[0;31m     \u001B[0mmain\u001B[0m\u001B[0;34m(\u001B[0m\u001B[0;34m)\u001B[0m\u001B[0;34m\u001B[0m\u001B[0;34m\u001B[0m\u001B[0m\n\u001B[0m",
      "\u001B[0;32m/var/folders/6y/2tfbrqxd44xb1_g_2djcnjr00000gn/T/ipykernel_8061/626587600.py\u001B[0m in \u001B[0;36mmain\u001B[0;34m()\u001B[0m\n\u001B[1;32m     14\u001B[0m     \u001B[0mtest\u001B[0m\u001B[0;34m.\u001B[0m\u001B[0muse\u001B[0m\u001B[0;34m(\u001B[0m\u001B[0;34m)\u001B[0m\u001B[0;34m\u001B[0m\u001B[0;34m\u001B[0m\u001B[0m\n\u001B[1;32m     15\u001B[0m     \u001B[0mprint\u001B[0m\u001B[0;34m(\u001B[0m\u001B[0mtest\u001B[0m\u001B[0;34m.\u001B[0m\u001B[0mfoo\u001B[0m\u001B[0;34m)\u001B[0m\u001B[0;34m\u001B[0m\u001B[0;34m\u001B[0m\u001B[0m\n\u001B[0;32m---> 16\u001B[0;31m     \u001B[0mprint\u001B[0m\u001B[0;34m(\u001B[0m\u001B[0mtest\u001B[0m\u001B[0;34m.\u001B[0m\u001B[0m__private\u001B[0m\u001B[0;34m)\u001B[0m\u001B[0;34m\u001B[0m\u001B[0;34m\u001B[0m\u001B[0m\n\u001B[0m\u001B[1;32m     17\u001B[0m     \u001B[0mtest\u001B[0m\u001B[0;34m.\u001B[0m\u001B[0m__bar\u001B[0m\u001B[0;34m(\u001B[0m\u001B[0;34m)\u001B[0m \u001B[0;31m#此时会报错 不认识__bar()这个方法 因此不能直接调用 AttributeError: 'right_test' object has no attribute '__bar'\u001B[0m\u001B[0;34m\u001B[0m\u001B[0;34m\u001B[0m\u001B[0m\n\u001B[1;32m     18\u001B[0m \u001B[0;32mif\u001B[0m \u001B[0m__name__\u001B[0m \u001B[0;34m==\u001B[0m \u001B[0;34m\"__main__\"\u001B[0m\u001B[0;34m:\u001B[0m\u001B[0;34m\u001B[0m\u001B[0;34m\u001B[0m\u001B[0m\n",
      "\u001B[0;31mAttributeError\u001B[0m: 'right_test' object has no attribute '__private'"
     ]
    }
   ],
   "source": [
    "class right_test():\n",
    "    def __init__(self,foo='default'):\n",
    "        self.foo = foo\n",
    "        self.__private = \"这是一个内部属性\"\n",
    "    def __bar(self): #\n",
    "        print(f\"内部属性{self.foo}\")\n",
    "        print(\"bar\")\n",
    "\n",
    "    def use(self):\n",
    "        self.__bar()\n",
    "def main():\n",
    "    test = right_test(\"new name\")\n",
    "    print(f\"外部调用{test.foo}\")\n",
    "    test.use()\n",
    "    print(test.foo)\n",
    "    print(test.__private) # 'right_test' object has no attribute '__private'\n",
    "    test.__bar() #此时会报错 不认识__bar()这个方法 因此不能直接调用 AttributeError: 'right_test' object has no attribute '__bar'\n",
    "\n",
    "if __name__ == \"__main__\":\n",
    "    main()"
   ],
   "metadata": {
    "collapsed": false,
    "pycharm": {
     "name": "#%%\n"
    }
   }
  },
  {
   "cell_type": "code",
   "execution_count": null,
   "outputs": [],
   "source": [
    "class Clock(object):\n",
    "    \"\"\"\n",
    "    数字时钟\n",
    "    \"\"\"\n",
    "    def __init__(self,hour=0,minute=0,second=0):\n",
    "        \"\"\"\n",
    "        初始化\n",
    "        :param hour: 小时\n",
    "        :param minute: 分钟\n",
    "        :param second:  秒数\n",
    "        \"\"\"\n",
    "        self._hour = hour\n",
    "        self._minute = minute\n",
    "        self._second = second\n",
    "\n",
    "    def run(self):\n",
    "        \"\"\"\n",
    "        时间开始运行，修改对象的属性\n",
    "        :return: None\n",
    "        \"\"\"\n",
    "        self._second+=1\n",
    "        if self._second ==60:\n",
    "            self._second = 0\n",
    "            self._minute += 1\n",
    "            if self._minute == 60:\n",
    "                self._minute=0\n",
    "                self._hour+=1\n",
    "                if self._hour == 24:\n",
    "                    self._hour=0\n",
    "\n",
    "        def show(self):\n",
    "            \"\"\"\n",
    "            显示时间\n",
    "            :param self:\n",
    "            :return:\n",
    "            \"\"\"\n",
    "            return ()\n"
   ],
   "metadata": {
    "collapsed": false,
    "pycharm": {
     "name": "#%%\n"
    }
   }
  }
 ],
 "metadata": {
  "kernelspec": {
   "display_name": "Python 3",
   "language": "python",
   "name": "python3"
  },
  "language_info": {
   "codemirror_mode": {
    "name": "ipython",
    "version": 2
   },
   "file_extension": ".py",
   "mimetype": "text/x-python",
   "name": "python",
   "nbconvert_exporter": "python",
   "pygments_lexer": "ipython2",
   "version": "2.7.6"
  }
 },
 "nbformat": 4,
 "nbformat_minor": 0
}