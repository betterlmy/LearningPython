{
 "cells": [
  {
   "cell_type": "markdown",
   "metadata": {
    "collapsed": true,
    "pycharm": {
     "name": "#%% md\n"
    }
   },
   "source": [
    "## 文件和异常\n",
    "数据一般都是加载到内存里,为了进行**持久化**这个操作,一般会保存在文件中"
   ],
   "outputs": []
  },
  {
   "cell_type": "markdown",
   "source": [
    "Python中一般使用open函数对文件进行读写操作,可以\n",
    "* 指定文件名\n",
    "* 指定操作模式,指的是:文件是字符型的还是二进制型的,是读,写还是追加模式\n",
    "* 指定编码信息\n",
    "\n",
    "| 操作模式  | 具体含义             |\n",
    "|-------|------------------|\n",
    "| `'r'` | 读取 （默认）          |\n",
    "| `'w'` | 写入（会先截断之前的内容）    |\n",
    "| `'x'` | 写入，如果文件已经存在会产生异常 |\n",
    "| `'a'` | 追加，将内容写入到已有文件的末尾 |\n",
    "| `'b'` | 二进制模式            |\n",
    "| `'t'` | 文本模式（默认）         |\n",
    "| `'+'` | 更新（既可以读又可以写）     |"
   ],
   "metadata": {
    "collapsed": false,
    "pycharm": {
     "name": "#%% md\n"
    }
   }
  },
  {
   "cell_type": "markdown",
   "source": [
    "## 读操作\n",
    "1. 指定文件路径和文件名\n",
    "2. 指定文件读写模式为`'r'`\n",
    "3. 通过`encoding`参数指定编码方式,默认为操作系统的编码方式"
   ],
   "metadata": {
    "collapsed": false,
    "pycharm": {
     "name": "#%% md\n"
    }
   }
  },
  {
   "cell_type": "code",
   "execution_count": 21,
   "outputs": [
    {
     "name": "stdout",
     "output_type": "stream",
     "text": [
      "<class 'list'>\n",
      "<class 'str'>\n",
      "<class 'str'>\n",
      "\n"
     ]
    }
   ],
   "source": [
    "def main():\n",
    "    f = open(file=\"./res/致橡树.txt\",mode= 'r',encoding=\"utf-8\")\n",
    "    a = f.readlines()   # a是个list\n",
    "    b = f.read()        # b是str\n",
    "    c = f.readline()    # c是str\n",
    "    print(type(a))\n",
    "    print(type(b))\n",
    "    print(type(c))\n",
    "\n",
    "    print(f.readline())\n",
    "\n",
    "    f.close()\n",
    "\n",
    "if __name__ == \"__main__\":\n",
    "    main()"
   ],
   "metadata": {
    "collapsed": false,
    "pycharm": {
     "name": "#%%\n"
    }
   }
  },
  {
   "cell_type": "markdown",
   "source": [
    "### [异常机制](https://segmentfault.com/a/1190000007736783)\n",
    "为了提高程序的健壮性,防止因为文件不存在或者没有权限打开时报错\n",
    "finally模块始终会被执行,无论是否报错!!! 甚至sys.exit(exit本质也是异常)\n",
    "finally适合做释放资源操作"
   ],
   "metadata": {
    "collapsed": false,
    "pycharm": {
     "name": "#%% md\n"
    }
   }
  },
  {
   "cell_type": "code",
   "execution_count": null,
   "outputs": [],
   "source": [
    "def main():\n",
    "    f = None\n",
    "    file = \"./res/致橡树.txt\"\n",
    "    encoding = \"utf-8\"\n",
    "    try:\n",
    "        f = open(file=file, mode='r', encoding=encoding)\n",
    "        print(\"文件读取成功\".center(30, \"*\"))\n",
    "        print(f.readline())\n",
    "    except FileNotFoundError:\n",
    "        print(\"文件不存在\")\n",
    "    except LookupError:\n",
    "        print(\"指定了未知的编码\")\n",
    "    except UnicodeError:\n",
    "        print(\"文件编码错误\")\n",
    "    finally:\n",
    "\n",
    "        if f is not None:\n",
    "            f.close()\n",
    "\n",
    "\n",
    "if __name__ == \"__main__\":\n",
    "    main()"
   ],
   "metadata": {
    "collapsed": false,
    "pycharm": {
     "name": "#%%\n",
     "is_executing": true
    }
   }
  },
  {
   "cell_type": "markdown",
   "source": [
    "如果不愿意在finally代码块中关闭文件对象释放资源，也可以使用上下文语法，通过`with`关键字指定文件对象的上下文环境并在离开上下文环境时自动释放文件资源，代码如下所示。\n",
    "with -- 自动释放资源"
   ],
   "metadata": {
    "collapsed": false,
    "pycharm": {
     "name": "#%% md\n"
    }
   }
  },
  {
   "cell_type": "code",
   "execution_count": null,
   "outputs": [],
   "source": [
    "def main():\n",
    "    try:\n",
    "        with open(\"./res/致橡树.txt\",'r',encoding='utf-8') as f:\n",
    "            print(f.read())\n",
    "    except FileNotFoundError as e:\n",
    "            print(\"出现错误\")\n",
    "\n",
    "if __name__ == \"__main__\":\n",
    "    main()"
   ],
   "metadata": {
    "collapsed": false,
    "pycharm": {
     "name": "#%%\n",
     "is_executing": true
    }
   }
  },
  {
   "cell_type": "code",
   "execution_count": null,
   "outputs": [],
   "source": [
    "import time\n",
    "\n",
    "def main():\n",
    "    # 一次性读取整个文件内容\n",
    "    with open('./res/致橡树.txt', 'r', encoding='utf-8') as f:\n",
    "        # print(f.read())\n",
    "        pass\n",
    "\n",
    "    # 通过for-in循环逐行读取\n",
    "    with open('./res/致橡树.txt', mode='r') as f:\n",
    "        print(type(f)) # <class '_io.TextIOWrapper'>\n",
    "        print(f)\n",
    "        for line in f:\n",
    "            print(line, end='')\n",
    "            time.sleep(0.5)\n",
    "    print()\n",
    "\n",
    "    # 读取文件按行读取到列表中\n",
    "    with open('./res/致橡树.txt') as f:\n",
    "        lines = f.readlines()\n",
    "    print(lines)\n",
    "\n",
    "\n",
    "if __name__ == '__main__':\n",
    "    main()"
   ],
   "metadata": {
    "collapsed": false,
    "pycharm": {
     "name": "#%%\n",
     "is_executing": true
    }
   }
  },
  {
   "cell_type": "markdown",
   "source": [
    "## 写操作\n",
    "!!!\"w\"和\"a\"可以不用判断文件的存在性,如果不存在则会自动生成文件"
   ],
   "metadata": {
    "collapsed": false,
    "pycharm": {
     "name": "#%% md\n"
    }
   }
  },
  {
   "cell_type": "code",
   "execution_count": 1,
   "outputs": [
    {
     "name": "stdout",
     "output_type": "stream",
     "text": [
      "操作完成!\n"
     ]
    }
   ],
   "source": [
    "from math import sqrt\n",
    "\n",
    "\n",
    "def is_prime(n):\n",
    "    \"\"\"判断素数的函数\"\"\"\n",
    "    assert n > 0\n",
    "    for factor in range(2, int(sqrt(n)) + 1):\n",
    "        if n % factor == 0:\n",
    "            return False\n",
    "    return True if n != 1 else False\n",
    "\n",
    "\n",
    "def main():\n",
    "    filenames = ('a.txt', 'b.txt', 'c.txt')\n",
    "    fs_list = []\n",
    "    try:\n",
    "        for filename in filenames:\n",
    "            fs_list.append(open(filename, 'w', encoding='utf-8'))\n",
    "        for number in range(1, 10000):\n",
    "            if is_prime(number):\n",
    "                if number < 100:\n",
    "                    fs_list[0].write(str(number) + '\\n')\n",
    "                elif number < 1000:\n",
    "                    fs_list[1].write(str(number) + '\\n')\n",
    "                else:\n",
    "                    fs_list[2].write(str(number) + '\\n')\n",
    "    except IOError as ex:\n",
    "        print(ex)\n",
    "        print('写文件时发生错误!')\n",
    "    finally:\n",
    "        for fs in fs_list:\n",
    "            fs.close()\n",
    "    print('操作完成!')\n",
    "\n",
    "\n",
    "if __name__ == '__main__':\n",
    "    main()"
   ],
   "metadata": {
    "collapsed": false,
    "pycharm": {
     "name": "#%%\n"
    }
   }
  },
  {
   "cell_type": "code",
   "execution_count": 6,
   "outputs": [],
   "source": [
    "f = open(\"./2.txt\", \"a\")\n",
    "f.write(\"123\")\n",
    "f.close()"
   ],
   "metadata": {
    "collapsed": false,
    "pycharm": {
     "name": "#%%\n"
    }
   }
  },
  {
   "cell_type": "markdown",
   "source": [
    "## 二进制文件操作"
   ],
   "metadata": {
    "collapsed": false,
    "pycharm": {
     "name": "#%% md\n"
    }
   }
  },
  {
   "cell_type": "code",
   "execution_count": 7,
   "outputs": [
    {
     "name": "stdout",
     "output_type": "stream",
     "text": [
      "<class 'bytes'>\n",
      "程序执行结束\n"
     ]
    }
   ],
   "source": [
    "\n",
    "def main():\n",
    "    try:\n",
    "        with open(\"./res/guido.jpg\", \"rb\") as f:\n",
    "            data = f.read()  #读取所有的二进制信息\n",
    "            print(type(data)) # <class 'bytes'>\n",
    "        with open(\"./res/guido_copy.jpg\",\"wb\") as f:\n",
    "            f.write(data)\n",
    "    except Exception as e :\n",
    "        print(e.message)\n",
    "\n",
    "    print(\"程序执行结束\")\n",
    "\n",
    "\n",
    "if __name__ == '__main__':\n",
    "    main()"
   ],
   "metadata": {
    "collapsed": false,
    "pycharm": {
     "name": "#%%\n"
    }
   }
  },
  {
   "cell_type": "markdown",
   "source": [
    "## Json\n",
    "* json = javascript object notation\n",
    "* json是一个纯本文格式文件,可以跨平台,基本上已经取代了XML\n",
    "* [json官方网站](https://www.json.org/json-zh.html)\n",
    "* json==Python的dict"
   ],
   "metadata": {
    "collapsed": false,
    "pycharm": {
     "name": "#%% md\n"
    }
   }
  },
  {
   "cell_type": "markdown",
   "source": [
    "### Json模块四个主要的函数\n",
    "* `dump()` 将dict转为序列化的Json:dict => file\n",
    "* `dumps()` 将dict转为Json格式的字符串:dict => String\n",
    "* `load()` 将Json转为dict: file => dict\n",
    "* `loads()` 将Json格式的字符串转为Dict String => Dict\n",
    "!!! 不能将string直接转为文件类型,需要String=>Dict=>file\n",
    "[序列化](https://zh.wikipedia.org/wiki/序列化):将数据转为可存储或可传输的形式,其反向操作为反序列化."
   ],
   "metadata": {
    "collapsed": false
   }
  },
  {
   "cell_type": "markdown",
   "source": [
    "### 创建和转换Json"
   ],
   "metadata": {
    "collapsed": false,
    "pycharm": {
     "name": "#%% md\n"
    }
   }
  },
  {
   "cell_type": "markdown",
   "source": [
    "### dict转json"
   ],
   "metadata": {
    "collapsed": false,
    "pycharm": {
     "name": "#%% md\n"
    }
   }
  },
  {
   "cell_type": "code",
   "execution_count": 28,
   "outputs": [
    {
     "name": "stdout",
     "output_type": "stream",
     "text": [
      "写入完成!\n"
     ]
    }
   ],
   "source": [
    "import json\n",
    "\n",
    "#\n",
    "my_dict = {\n",
    "    \"name\": \"lmy\",\n",
    "    \"age\": 20,\n",
    "    \"mail\": \"betterlmy@icloud.com\",\n",
    "    \"qq\": 283738217,\n",
    "    \"college\":\n",
    "        {\n",
    "            \"high school\": \"康杰中学\",\n",
    "            \"undergraduate_school\": \"ECJTU\"\n",
    "        },\n",
    "    \"friends\": (\"小李\", \"小张\"),\n",
    "    \"classmates\": [\"王\", \"杨\"]\n",
    "}\n",
    "\n",
    "\n",
    "def main():\n",
    "    try:\n",
    "        with open(\"./res/个人简历.json\", \"w\", encoding=\"utf-8\") as f:\n",
    "            json.dump(my_dict, f)\n",
    "\n",
    "    except IOError as e:\n",
    "        print(e.message)\n",
    "    print(\"写入完成!\")\n",
    "\n",
    "if __name__ == \"__main__\":\n",
    "    main()"
   ],
   "metadata": {
    "collapsed": false,
    "pycharm": {
     "name": "#%%\n"
    }
   }
  },
  {
   "cell_type": "markdown",
   "source": [
    "### json转dict"
   ],
   "metadata": {
    "collapsed": false,
    "pycharm": {
     "name": "#%% md\n"
    }
   }
  },
  {
   "cell_type": "code",
   "execution_count": 34,
   "outputs": [
    {
     "name": "stdout",
     "output_type": "stream",
     "text": [
      "<class 'dict'>\n",
      "<class 'str'>\n",
      "<class 'dict'>\n"
     ]
    }
   ],
   "source": [
    "import json\n",
    "with open(\"./res/个人简历.json\",\"r\",encoding=\"utf-8\") as df:\n",
    "    a=json.load(df)\n",
    "    print(type(a))\n",
    "\n",
    "b = json.dumps(a)\n",
    "print(type(b))\n",
    "\n",
    "c=json.loads(b)\n",
    "print(type(c))\n",
    "\n",
    "with open(\"./res/个人简历_back.json\",\"w\",encoding=\"utf-8\") as df:\n",
    "    json.dump(b,df)"
   ],
   "metadata": {
    "collapsed": false,
    "pycharm": {
     "name": "#%%\n"
    }
   }
  }
 ],
 "metadata": {
  "kernelspec": {
   "display_name": "Python 3",
   "language": "python",
   "name": "python3"
  },
  "language_info": {
   "codemirror_mode": {
    "name": "ipython",
    "version": 2
   },
   "file_extension": ".py",
   "mimetype": "text/x-python",
   "name": "python",
   "nbconvert_exporter": "python",
   "pygments_lexer": "ipython2",
   "version": "2.7.6"
  }
 },
 "nbformat": 4,
 "nbformat_minor": 0
}