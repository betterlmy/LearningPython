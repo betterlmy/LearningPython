{
 "cells": [
  {
   "cell_type": "code",
   "execution_count": 1,
   "id": "c10b7373-fb1a-4626-8ecb-2fd0287bf358",
   "metadata": {},
   "outputs": [],
   "source": [
    "import pandas as pd\n",
    "import numpy as np\n",
    "import matplotlib.pyplot as plt\n",
    "%matplotlib inline"
   ]
  },
  {
   "cell_type": "markdown",
   "source": [
    "# [Pandas](https://pandas.pydata.org)\n",
    "Pandas简介:以Numpy为基础,提供了数据处理的函数和方法,结合Matplotlib,进行数据可视化展示.\n",
    "两个核心数据类型`Series`(数据系列,一维)和`DataFrame`(数据框,二维)"
   ],
   "metadata": {
    "collapsed": false
   }
  },
  {
   "cell_type": "markdown",
   "source": [
    "## Series\n",
    "跟数组非常类似，但是多了一些额外的功能.Series的内部结构包含了两个数组，其中一个用来保存数据，另一个用来保存数据的索引."
   ],
   "metadata": {
    "collapsed": false
   }
  },
  {
   "cell_type": "markdown",
   "source": [
    "### Series对象的创建"
   ],
   "metadata": {
    "collapsed": false
   }
  },
  {
   "cell_type": "markdown",
   "source": [
    "1. 通过list创建"
   ],
   "metadata": {
    "collapsed": false
   }
  },
  {
   "cell_type": "code",
   "execution_count": 2,
   "outputs": [
    {
     "name": "stdout",
     "output_type": "stream",
     "text": [
      "2\n"
     ]
    },
    {
     "data": {
      "text/plain": "1    2\n2    4\n3    6\n4    8\ndtype: int64"
     },
     "execution_count": 2,
     "metadata": {},
     "output_type": "execute_result"
    }
   ],
   "source": [
    "index = [(i+1) for i in range(len(np.arange(2,10,2)))]\n",
    "s=pd.Series(data=np.arange(2,10,2),index=index)\n",
    "print(s[1])\n",
    "s"
   ],
   "metadata": {
    "collapsed": false,
    "pycharm": {
     "name": "#%%\n"
    }
   }
  },
  {
   "cell_type": "markdown",
   "source": [
    "2.通过字典创建"
   ],
   "metadata": {
    "collapsed": false
   }
  },
  {
   "cell_type": "code",
   "execution_count": 3,
   "outputs": [
    {
     "data": {
      "text/plain": "一季度     [320, 2]\n二季度    [180, OK]\n三季度          300\n四季度          405\ndtype: object"
     },
     "execution_count": 3,
     "metadata": {},
     "output_type": "execute_result"
    }
   ],
   "source": [
    "ser2 = pd.Series({'一季度': [320,2], '二季度': [180,\"OK\"], '三季度': 300, '四季度': 405})\n",
    "ser2"
   ],
   "metadata": {
    "collapsed": false,
    "pycharm": {
     "name": "#%%\n"
    }
   }
  },
  {
   "cell_type": "markdown",
   "source": [
    "### Series的属性和方法\n",
    "\n",
    "| 属性                        | 说明                           |\n",
    "|---------------------------|------------------------------|\n",
    "| `dtype` / `dtypes`        | 返回`Series`对象的数据类型            |\n",
    "| `hasnans`                 | 判断`Series`对象中有没有空值           |\n",
    "| `at` / `iat`              | 通过索引访问`Series`对象中的单个值        |\n",
    "| `loc` / `iloc`            | 通过一组索引访问`Series`对象中的一组值      |\n",
    "| `index`                   | 返回`Series`对象的索引              |\n",
    "| `is_monotonic`            | 判断`Series`对象中的数据是否单调         |\n",
    "| `is_monotonic_increasing` | 判断`Series`对象中的数据是否单调递增       |\n",
    "| `is_monotonic_decreasing` | 判断`Series`对象中的数据是否单调递减       |\n",
    "| `is_unique`               | 判断`Series`对象中的数据是否独一无二       |\n",
    "| `size`                    | 返回`Series`对象中元素的个数           |\n",
    "| `values`                  | 以`ndarray`的方式返回`Series`对象中的值 |\n",
    "\n",
    "Series对象还有一个名为describe()的方法，可以获得上述所有的描述性统计信息，如下所示.\n",
    "\n"
   ],
   "metadata": {
    "collapsed": false
   }
  },
  {
   "cell_type": "code",
   "execution_count": 4,
   "outputs": [
    {
     "data": {
      "text/plain": "1    2\n2    1\n3    1\n4    1\ndtype: int64"
     },
     "execution_count": 4,
     "metadata": {},
     "output_type": "execute_result"
    }
   ],
   "source": [
    "# describe方法,获取信息描述 ,返回Series对象\n",
    "ser2 = pd.Series({'一季度': 320, '二季度': 180, '三季度': 300, '四季度': 405})\n",
    "ser2.describe()\n",
    "\n",
    "# unique()去除重复元素,返回新的对象\n",
    "ser3 = pd.Series(data=[1,1,2,3,4])\n",
    "ser3 = ser3.unique()\n",
    "ser3\n",
    "\n",
    "# value_counts()方法,返回每个值出现的次数\n",
    "count= pd.Series(data=[1,1,2,3,4]).value_counts()\n",
    "count"
   ],
   "metadata": {
    "collapsed": false,
    "pycharm": {
     "name": "#%%\n"
    }
   }
  },
  {
   "cell_type": "markdown",
   "source": [
    "### 空值处理"
   ],
   "metadata": {
    "collapsed": false
   }
  },
  {
   "cell_type": "markdown",
   "source": [
    "#### 空值判断"
   ],
   "metadata": {
    "collapsed": false
   }
  },
  {
   "cell_type": "code",
   "execution_count": 5,
   "outputs": [
    {
     "data": {
      "text/plain": "0    False\n1    False\n2     True\ndtype: bool"
     },
     "execution_count": 5,
     "metadata": {},
     "output_type": "execute_result"
    }
   ],
   "source": [
    "ser4= pd.Series(data=[10,20,np.nan])\n",
    "ser4\n",
    "ser4.isnull()\n"
   ],
   "metadata": {
    "collapsed": false,
    "pycharm": {
     "name": "#%%\n"
    }
   }
  },
  {
   "cell_type": "markdown",
   "source": [
    "#### 空值处理\n",
    "两个方法都是返回处理后的Series,而非在原Series基础上做修改,使用`inplace`这个参数可以修改,默认为False,如果修改为True,则可以对原对象进行直接修改"
   ],
   "metadata": {
    "collapsed": false
   }
  },
  {
   "cell_type": "code",
   "execution_count": 6,
   "outputs": [
    {
     "data": {
      "text/plain": "0    10.0\n1    20.0\n2     NaN\ndtype: float64"
     },
     "execution_count": 6,
     "metadata": {},
     "output_type": "execute_result"
    }
   ],
   "source": [
    "ser4.dropna() # 删除空值\n",
    "#固定填充\n",
    "ser4.fillna(value=88) #使用指定值填充\n",
    "#前后文填充,如果填充失败则依然为np.nan\n",
    "ser4.fillna(method='ffill') #使用前面的元素填充\n",
    "ser4.fillna(method='bfill') #使用后面的元素填充"
   ],
   "metadata": {
    "collapsed": false,
    "pycharm": {
     "name": "#%%\n"
    }
   }
  },
  {
   "cell_type": "markdown",
   "source": [
    "### 条件处理"
   ],
   "metadata": {
    "collapsed": false
   }
  },
  {
   "cell_type": "code",
   "execution_count": 7,
   "outputs": [
    {
     "data": {
      "text/plain": "0    10\n1     1\n2     2\n3     3\n4     4\ndtype: int64"
     },
     "execution_count": 7,
     "metadata": {},
     "output_type": "execute_result"
    }
   ],
   "source": [
    "ser5 = pd.Series(range(5))\n",
    "ser5.where(ser5 > 0,other=10) # 如果不满足条件,则修改值"
   ],
   "metadata": {
    "collapsed": false,
    "pycharm": {
     "name": "#%%\n"
    }
   }
  },
  {
   "cell_type": "markdown",
   "source": [
    "Series对象的`apply()`和`map()`方法非常重要，它们可以用于数据处理，把数据映射或转换成我们期望的样子，这个操作在数据分析的数据准备阶段非常重要."
   ],
   "metadata": {
    "collapsed": false
   }
  },
  {
   "cell_type": "code",
   "execution_count": 8,
   "outputs": [
    {
     "data": {
      "text/plain": "0       cat\n1       dog\n2       NaN\n3    rabbit\ndtype: object"
     },
     "execution_count": 8,
     "metadata": {},
     "output_type": "execute_result"
    }
   ],
   "source": [
    "ser6 = pd.Series(['cat', 'dog', np.nan, 'rabbit'])\n",
    "ser6"
   ],
   "metadata": {
    "collapsed": false,
    "pycharm": {
     "name": "#%%\n"
    }
   }
  },
  {
   "cell_type": "code",
   "execution_count": 9,
   "outputs": [
    {
     "data": {
      "text/plain": "0    kitten\n1     puppy\n2       NaN\n3       NaN\ndtype: object"
     },
     "execution_count": 9,
     "metadata": {},
     "output_type": "execute_result"
    }
   ],
   "source": [
    "ser6.map({'cat': 'kitten', 'dog': 'puppy'})"
   ],
   "metadata": {
    "collapsed": false,
    "pycharm": {
     "name": "#%%\n"
    }
   }
  },
  {
   "cell_type": "code",
   "execution_count": 10,
   "outputs": [
    {
     "data": {
      "text/plain": "0       I am a cat\n1       I am a dog\n2       I am a nan\n3    I am a rabbit\ndtype: object"
     },
     "execution_count": 10,
     "metadata": {},
     "output_type": "execute_result"
    }
   ],
   "source": [
    "ser6.map('I am a {}'.format, na_action='ignore') # 忽视空值\n",
    "ser6.map('I am a {}'.format, na_action=None)"
   ],
   "metadata": {
    "collapsed": false,
    "pycharm": {
     "name": "#%%\n"
    }
   }
  },
  {
   "cell_type": "markdown",
   "source": [
    "### 排序和取头部值\n",
    "Series对象的`sort_index()`和`sort_values()`方法可以用于对索引和数据的排序，排序方法有一个名为ascending的布尔类型参数，该参数用于控制排序的结果是升序还是降序；而名为kind的参数则用来控制排序使用的算法，默认使用了quicksort，也可以选择mergesort或heapsort；如果存在空值，那么可以用na_position参数空值放在最前还是最后，默认是last，代码如下所示."
   ],
   "metadata": {
    "collapsed": false
   }
  },
  {
   "cell_type": "code",
   "execution_count": 11,
   "outputs": [
    {
     "data": {
      "text/plain": "pear       NaN\nbanana    96.0\norange    89.0\napple     57.0\ngrape     35.0\npeach     25.0\npitaya    12.0\ndtype: float64"
     },
     "execution_count": 11,
     "metadata": {},
     "output_type": "execute_result"
    }
   ],
   "source": [
    "ser8 = pd.Series(\n",
    "    data=[35, 96, 12, 57, 25, 89,np.nan],\n",
    "index=['grape', 'banana', 'pitaya', 'apple', 'peach', 'orange','pear']\n",
    ")\n",
    "# 按值从小到大排序\n",
    "ser8.sort_values(ascending=False,kind='mergesort',na_position='first')"
   ],
   "metadata": {
    "collapsed": false,
    "pycharm": {
     "name": "#%%\n"
    }
   }
  },
  {
   "cell_type": "markdown",
   "source": [
    "### 绘制图表"
   ],
   "metadata": {
    "collapsed": false
   }
  },
  {
   "cell_type": "code",
   "execution_count": 12,
   "outputs": [],
   "source": [
    "# 配置支持中文的非衬线字体（默认的字体无法显示中文）\n",
    "plt.rcParams['font.sans-serif']=['Arial Unicode MS']#SimHei是windows,\n",
    "# 使用指定的中文字体时需要下面的配置来避免负号无法显示\n",
    "plt.rcParams['axes.unicode_minus'] = False"
   ],
   "metadata": {
    "collapsed": false,
    "pycharm": {
     "name": "#%%\n"
    }
   }
  },
  {
   "cell_type": "markdown",
   "source": [
    "#### 柱状图"
   ],
   "metadata": {
    "collapsed": false
   }
  },
  {
   "cell_type": "code",
   "execution_count": 13,
   "outputs": [
    {
     "data": {
      "text/plain": "<Figure size 432x288 with 1 Axes>",
      "image/png": "[encoded data removed]"
     },
     "metadata": {
      "needs_background": "light"
     },
     "output_type": "display_data"
    }
   ],
   "source": [
    "ser9 = pd.Series({'一季度': 400, '二季度': 520, '三季度': 180, '四季度': 380})\n",
    "# 通过Series对象的plot方法绘图（kind='bar'表示绘制柱状图）\n",
    "ser9.plot(kind='bar', color=['r', 'g', 'b', 'y'])\n",
    "# x轴的坐标旋转到0度（中文水平显示）\n",
    "plt.xticks(rotation=0)\n",
    "# 在柱状图的柱子上绘制数字\n",
    "for i in range(4):\n",
    "    plt.text(i, ser9[i] + 5, ser9[i], ha='center')\n",
    "# 显示图像\n",
    "plt.show()"
   ],
   "metadata": {
    "collapsed": false,
    "pycharm": {
     "name": "#%%\n"
    }
   }
  },
  {
   "cell_type": "markdown",
   "source": [
    "#### 饼图"
   ],
   "metadata": {
    "collapsed": false
   }
  },
  {
   "cell_type": "code",
   "execution_count": 14,
   "outputs": [
    {
     "data": {
      "text/plain": "<Figure size 432x288 with 1 Axes>",
      "image/png": "[encoded data removed]"
     },
     "metadata": {},
     "output_type": "display_data"
    }
   ],
   "source": [
    "# autopct参数可以配置在饼图上显示每块饼的占比\n",
    "ser9.plot(kind='pie', autopct='%.1f%%')\n",
    "# 设置y轴的标签（显示在饼图左侧的文字）\n",
    "plt.ylabel('各季度占比')\n",
    "plt.yticks(rotation=0)\n",
    "plt.show()"
   ],
   "metadata": {
    "collapsed": false,
    "pycharm": {
     "name": "#%%\n"
    }
   }
  }
 ],
 "metadata": {
  "kernelspec": {
   "display_name": "Python 3 (ipykernel)",
   "language": "python",
   "name": "python3"
  },
  "language_info": {
   "codemirror_mode": {
    "name": "ipython",
    "version": 3
   },
   "file_extension": ".py",
   "mimetype": "text/x-python",
   "name": "python",
   "nbconvert_exporter": "python",
   "pygments_lexer": "ipython3",
   "version": "3.8.10"
  },
  "toc-showtags": false
 },
 "nbformat": 4,
 "nbformat_minor": 5
}