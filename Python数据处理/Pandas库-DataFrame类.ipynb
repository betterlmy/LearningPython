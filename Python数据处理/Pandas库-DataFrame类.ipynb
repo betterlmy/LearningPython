{
 "cells": [
  {
   "cell_type": "code",
   "execution_count": 65,
   "id": "c10b7373-fb1a-4626-8ecb-2fd0287bf358",
   "metadata": {},
   "outputs": [],
   "source": [
    "import pandas as pd\n",
    "import numpy as np\n",
    "import matplotlib.pyplot as plt\n",
    "%matplotlib inline"
   ]
  },
  {
   "cell_type": "markdown",
   "source": [
    "# [Pandas](https://pandas.pydata.org)\n",
    "Pandas简介:以Numpy为基础,提供了数据处理的函数和方法,结合Matplotlib,进行数据可视化展示.\n",
    "两个核心数据类型\n",
    "* `Series`(数据系列,一维)\n",
    "* `DataFrame`(数据框,二维)"
   ],
   "metadata": {
    "collapsed": false
   }
  },
  {
   "cell_type": "markdown",
   "source": [
    "## DataFrame"
   ],
   "metadata": {
    "collapsed": false
   }
  },
  {
   "cell_type": "code",
   "execution_count": 66,
   "outputs": [
    {
     "name": "stdout",
     "output_type": "stream",
     "text": [
      "DatetimeIndex(['2020-01-01', '2020-01-02', '2020-01-03', '2020-01-04',\n",
      "               '2020-01-05', '2020-01-06'],\n",
      "              dtype='datetime64[ns]', freq='D')\n"
     ]
    }
   ],
   "source": [
    "dates=pd.date_range('20200101',periods=6)# pandas处理日期\n",
    "print(dates)"
   ],
   "metadata": {
    "collapsed": false,
    "pycharm": {
     "name": "#%%\n"
    }
   }
  },
  {
   "cell_type": "code",
   "execution_count": 67,
   "outputs": [
    {
     "data": {
      "text/plain": "          0         1         2         3\n0 -0.211503  2.928268 -1.322111 -1.187046\n1  1.088503  1.685135  0.769677 -0.560567\n2  2.454717  0.605607 -0.860714 -0.697368\n3 -0.249977  1.368452 -1.013128  0.420772\n4  0.270808 -1.003096 -0.160728  0.191057\n5 -0.283846 -0.656593 -0.866140  0.694363",
      "text/html": "<div>\n<style scoped>\n    .dataframe tbody tr th:only-of-type {\n        vertical-align: middle;\n    }\n\n    .dataframe tbody tr th {\n        vertical-align: top;\n    }\n\n    .dataframe thead th {\n        text-align: right;\n    }\n</style>\n<table border=\"1\" class=\"dataframe\">\n  <thead>\n    <tr style=\"text-align: right;\">\n      <th></th>\n      <th>0</th>\n      <th>1</th>\n      <th>2</th>\n      <th>3</th>\n    </tr>\n  </thead>\n  <tbody>\n    <tr>\n      <th>0</th>\n      <td>-0.211503</td>\n      <td>2.928268</td>\n      <td>-1.322111</td>\n      <td>-1.187046</td>\n    </tr>\n    <tr>\n      <th>1</th>\n      <td>1.088503</td>\n      <td>1.685135</td>\n      <td>0.769677</td>\n      <td>-0.560567</td>\n    </tr>\n    <tr>\n      <th>2</th>\n      <td>2.454717</td>\n      <td>0.605607</td>\n      <td>-0.860714</td>\n      <td>-0.697368</td>\n    </tr>\n    <tr>\n      <th>3</th>\n      <td>-0.249977</td>\n      <td>1.368452</td>\n      <td>-1.013128</td>\n      <td>0.420772</td>\n    </tr>\n    <tr>\n      <th>4</th>\n      <td>0.270808</td>\n      <td>-1.003096</td>\n      <td>-0.160728</td>\n      <td>0.191057</td>\n    </tr>\n    <tr>\n      <th>5</th>\n      <td>-0.283846</td>\n      <td>-0.656593</td>\n      <td>-0.866140</td>\n      <td>0.694363</td>\n    </tr>\n  </tbody>\n</table>\n</div>"
     },
     "execution_count": 67,
     "metadata": {},
     "output_type": "execute_result"
    }
   ],
   "source": [
    "dataframe2=pd.DataFrame(np.random.randn(6,4))\n",
    "dataframe2"
   ],
   "metadata": {
    "collapsed": false,
    "pycharm": {
     "name": "#%%\n"
    }
   }
  },
  {
   "cell_type": "code",
   "execution_count": 68,
   "outputs": [
    {
     "data": {
      "text/plain": "                随机的1      随机的2      随机的3      随机的4\n2020-01-01  1.069631 -1.063558 -0.775526  0.495784\n2020-01-02  0.262717 -0.002181  1.242815  1.189811\n2020-01-03  0.149777  1.883083  0.249414  1.785598\n2020-01-04 -0.515087  1.118550  0.517592  0.046871\n2020-01-05  1.001624  1.098171  0.979042  1.374209\n2020-01-06  0.043369  0.495361  0.047793 -0.995210",
      "text/html": "<div>\n<style scoped>\n    .dataframe tbody tr th:only-of-type {\n        vertical-align: middle;\n    }\n\n    .dataframe tbody tr th {\n        vertical-align: top;\n    }\n\n    .dataframe thead th {\n        text-align: right;\n    }\n</style>\n<table border=\"1\" class=\"dataframe\">\n  <thead>\n    <tr style=\"text-align: right;\">\n      <th></th>\n      <th>随机的1</th>\n      <th>随机的2</th>\n      <th>随机的3</th>\n      <th>随机的4</th>\n    </tr>\n  </thead>\n  <tbody>\n    <tr>\n      <th>2020-01-01</th>\n      <td>1.069631</td>\n      <td>-1.063558</td>\n      <td>-0.775526</td>\n      <td>0.495784</td>\n    </tr>\n    <tr>\n      <th>2020-01-02</th>\n      <td>0.262717</td>\n      <td>-0.002181</td>\n      <td>1.242815</td>\n      <td>1.189811</td>\n    </tr>\n    <tr>\n      <th>2020-01-03</th>\n      <td>0.149777</td>\n      <td>1.883083</td>\n      <td>0.249414</td>\n      <td>1.785598</td>\n    </tr>\n    <tr>\n      <th>2020-01-04</th>\n      <td>-0.515087</td>\n      <td>1.118550</td>\n      <td>0.517592</td>\n      <td>0.046871</td>\n    </tr>\n    <tr>\n      <th>2020-01-05</th>\n      <td>1.001624</td>\n      <td>1.098171</td>\n      <td>0.979042</td>\n      <td>1.374209</td>\n    </tr>\n    <tr>\n      <th>2020-01-06</th>\n      <td>0.043369</td>\n      <td>0.495361</td>\n      <td>0.047793</td>\n      <td>-0.995210</td>\n    </tr>\n  </tbody>\n</table>\n</div>"
     },
     "execution_count": 68,
     "metadata": {},
     "output_type": "execute_result"
    }
   ],
   "source": [
    "# 指定行列的标签\n",
    "dataframe1=pd.DataFrame(np.random.randn(6,4),index=dates,columns=['随机的1','随机的2','随机的3','随机的4'])\n",
    "dataframe1"
   ],
   "metadata": {
    "collapsed": false,
    "pycharm": {
     "name": "#%%\n"
    }
   }
  },
  {
   "cell_type": "markdown",
   "source": [
    "## 输出dataframe及赋值"
   ],
   "metadata": {
    "collapsed": false
   }
  },
  {
   "cell_type": "code",
   "execution_count": 69,
   "outputs": [
    {
     "data": {
      "text/plain": "2020-01-01    1.069631\n2020-01-02    0.262717\n2020-01-03    0.149777\n2020-01-04   -0.515087\n2020-01-05    1.001624\n2020-01-06    0.043369\nFreq: D, Name: 随机的1, dtype: float64"
     },
     "execution_count": 69,
     "metadata": {},
     "output_type": "execute_result"
    }
   ],
   "source": [
    "dataframe1.随机的1"
   ],
   "metadata": {
    "collapsed": false,
    "pycharm": {
     "name": "#%%\n"
    }
   }
  },
  {
   "cell_type": "markdown",
   "source": [
    "### loc[] 根据标签进行输出"
   ],
   "metadata": {
    "collapsed": false
   }
  },
  {
   "cell_type": "code",
   "execution_count": 70,
   "outputs": [
    {
     "data": {
      "text/plain": "                随机的1      随机的3\n2020-01-01  1.069631 -0.775526\n2020-01-02  0.262717  1.242815\n2020-01-03  0.149777  0.249414",
      "text/html": "<div>\n<style scoped>\n    .dataframe tbody tr th:only-of-type {\n        vertical-align: middle;\n    }\n\n    .dataframe tbody tr th {\n        vertical-align: top;\n    }\n\n    .dataframe thead th {\n        text-align: right;\n    }\n</style>\n<table border=\"1\" class=\"dataframe\">\n  <thead>\n    <tr style=\"text-align: right;\">\n      <th></th>\n      <th>随机的1</th>\n      <th>随机的3</th>\n    </tr>\n  </thead>\n  <tbody>\n    <tr>\n      <th>2020-01-01</th>\n      <td>1.069631</td>\n      <td>-0.775526</td>\n    </tr>\n    <tr>\n      <th>2020-01-02</th>\n      <td>0.262717</td>\n      <td>1.242815</td>\n    </tr>\n    <tr>\n      <th>2020-01-03</th>\n      <td>0.149777</td>\n      <td>0.249414</td>\n    </tr>\n  </tbody>\n</table>\n</div>"
     },
     "execution_count": 70,
     "metadata": {},
     "output_type": "execute_result"
    }
   ],
   "source": [
    "# 筛选后输出\n",
    "dataframe1.loc['2020-01-01':'2020-01-03',['随机的1','随机的3']]"
   ],
   "metadata": {
    "collapsed": false,
    "pycharm": {
     "name": "#%%\n"
    }
   }
  },
  {
   "cell_type": "code",
   "execution_count": 71,
   "outputs": [
    {
     "data": {
      "text/plain": "                随机的1      随机的2      随机的3\n2020-01-01  1.069631 -1.063558 -0.775526\n2020-01-02  0.262717 -0.002181  1.242815\n2020-01-03  0.149777  1.883083  0.249414",
      "text/html": "<div>\n<style scoped>\n    .dataframe tbody tr th:only-of-type {\n        vertical-align: middle;\n    }\n\n    .dataframe tbody tr th {\n        vertical-align: top;\n    }\n\n    .dataframe thead th {\n        text-align: right;\n    }\n</style>\n<table border=\"1\" class=\"dataframe\">\n  <thead>\n    <tr style=\"text-align: right;\">\n      <th></th>\n      <th>随机的1</th>\n      <th>随机的2</th>\n      <th>随机的3</th>\n    </tr>\n  </thead>\n  <tbody>\n    <tr>\n      <th>2020-01-01</th>\n      <td>1.069631</td>\n      <td>-1.063558</td>\n      <td>-0.775526</td>\n    </tr>\n    <tr>\n      <th>2020-01-02</th>\n      <td>0.262717</td>\n      <td>-0.002181</td>\n      <td>1.242815</td>\n    </tr>\n    <tr>\n      <th>2020-01-03</th>\n      <td>0.149777</td>\n      <td>1.883083</td>\n      <td>0.249414</td>\n    </tr>\n  </tbody>\n</table>\n</div>"
     },
     "execution_count": 71,
     "metadata": {},
     "output_type": "execute_result"
    }
   ],
   "source": [
    "dataframe1.loc['2020-01-01':'2020-01-03','随机的1':'随机的3']"
   ],
   "metadata": {
    "collapsed": false,
    "pycharm": {
     "name": "#%%\n"
    }
   }
  },
  {
   "cell_type": "markdown",
   "source": [
    "### iloc[] 根据坐标进行输出"
   ],
   "metadata": {
    "collapsed": false
   }
  },
  {
   "cell_type": "code",
   "execution_count": 72,
   "outputs": [
    {
     "data": {
      "text/plain": "随机的1    0.149777\n随机的2    1.883083\n随机的3    0.249414\n随机的4    1.785598\nName: 2020-01-03 00:00:00, dtype: float64"
     },
     "execution_count": 72,
     "metadata": {},
     "output_type": "execute_result"
    }
   ],
   "source": [
    "dataframe1.iloc[2]"
   ],
   "metadata": {
    "collapsed": false,
    "pycharm": {
     "name": "#%%\n"
    }
   }
  },
  {
   "cell_type": "code",
   "execution_count": 73,
   "outputs": [
    {
     "data": {
      "text/plain": "                随机的1      随机的2      随机的3      随机的4\n2020-01-03  0.149777  1.883083  0.249414  1.785598\n2020-01-04 -0.515087  1.118550  0.517592  0.046871",
      "text/html": "<div>\n<style scoped>\n    .dataframe tbody tr th:only-of-type {\n        vertical-align: middle;\n    }\n\n    .dataframe tbody tr th {\n        vertical-align: top;\n    }\n\n    .dataframe thead th {\n        text-align: right;\n    }\n</style>\n<table border=\"1\" class=\"dataframe\">\n  <thead>\n    <tr style=\"text-align: right;\">\n      <th></th>\n      <th>随机的1</th>\n      <th>随机的2</th>\n      <th>随机的3</th>\n      <th>随机的4</th>\n    </tr>\n  </thead>\n  <tbody>\n    <tr>\n      <th>2020-01-03</th>\n      <td>0.149777</td>\n      <td>1.883083</td>\n      <td>0.249414</td>\n      <td>1.785598</td>\n    </tr>\n    <tr>\n      <th>2020-01-04</th>\n      <td>-0.515087</td>\n      <td>1.118550</td>\n      <td>0.517592</td>\n      <td>0.046871</td>\n    </tr>\n  </tbody>\n</table>\n</div>"
     },
     "execution_count": 73,
     "metadata": {},
     "output_type": "execute_result"
    }
   ],
   "source": [
    "dataframe1.iloc[2:4]"
   ],
   "metadata": {
    "collapsed": false,
    "pycharm": {
     "name": "#%%\n"
    }
   }
  },
  {
   "cell_type": "code",
   "execution_count": 74,
   "outputs": [
    {
     "data": {
      "text/plain": "2020-01-03    1.883083\n2020-01-04    1.118550\nFreq: D, Name: 随机的2, dtype: float64"
     },
     "execution_count": 74,
     "metadata": {},
     "output_type": "execute_result"
    }
   ],
   "source": [
    "dataframe1.iloc[2:4,1]"
   ],
   "metadata": {
    "collapsed": false,
    "pycharm": {
     "name": "#%%\n"
    }
   }
  },
  {
   "cell_type": "code",
   "execution_count": 75,
   "outputs": [
    {
     "data": {
      "text/plain": "                随机的2      随机的3\n2020-01-03  1.883083  0.249414\n2020-01-04  1.118550  0.517592",
      "text/html": "<div>\n<style scoped>\n    .dataframe tbody tr th:only-of-type {\n        vertical-align: middle;\n    }\n\n    .dataframe tbody tr th {\n        vertical-align: top;\n    }\n\n    .dataframe thead th {\n        text-align: right;\n    }\n</style>\n<table border=\"1\" class=\"dataframe\">\n  <thead>\n    <tr style=\"text-align: right;\">\n      <th></th>\n      <th>随机的2</th>\n      <th>随机的3</th>\n    </tr>\n  </thead>\n  <tbody>\n    <tr>\n      <th>2020-01-03</th>\n      <td>1.883083</td>\n      <td>0.249414</td>\n    </tr>\n    <tr>\n      <th>2020-01-04</th>\n      <td>1.118550</td>\n      <td>0.517592</td>\n    </tr>\n  </tbody>\n</table>\n</div>"
     },
     "execution_count": 75,
     "metadata": {},
     "output_type": "execute_result"
    }
   ],
   "source": [
    "dataframe1.iloc[2:4,1:3]"
   ],
   "metadata": {
    "collapsed": false,
    "pycharm": {
     "name": "#%%\n"
    }
   }
  },
  {
   "cell_type": "markdown",
   "id": "1bfb012d-81c7-40bb-9f4b-22ab86d64f2c",
   "metadata": {},
   "source": [
    "### 筛选输出"
   ]
  },
  {
   "cell_type": "code",
   "execution_count": 76,
   "id": "9b13de3f-b488-43a8-8afa-f55cc47f34e3",
   "metadata": {},
   "outputs": [
    {
     "data": {
      "text/plain": "                随机的1      随机的2      随机的3      随机的4\n2020-01-01  1.069631 -1.063558 -0.775526  0.495784\n2020-01-05  1.001624  1.098171  0.979042  1.374209",
      "text/html": "<div>\n<style scoped>\n    .dataframe tbody tr th:only-of-type {\n        vertical-align: middle;\n    }\n\n    .dataframe tbody tr th {\n        vertical-align: top;\n    }\n\n    .dataframe thead th {\n        text-align: right;\n    }\n</style>\n<table border=\"1\" class=\"dataframe\">\n  <thead>\n    <tr style=\"text-align: right;\">\n      <th></th>\n      <th>随机的1</th>\n      <th>随机的2</th>\n      <th>随机的3</th>\n      <th>随机的4</th>\n    </tr>\n  </thead>\n  <tbody>\n    <tr>\n      <th>2020-01-01</th>\n      <td>1.069631</td>\n      <td>-1.063558</td>\n      <td>-0.775526</td>\n      <td>0.495784</td>\n    </tr>\n    <tr>\n      <th>2020-01-05</th>\n      <td>1.001624</td>\n      <td>1.098171</td>\n      <td>0.979042</td>\n      <td>1.374209</td>\n    </tr>\n  </tbody>\n</table>\n</div>"
     },
     "execution_count": 76,
     "metadata": {},
     "output_type": "execute_result"
    }
   ],
   "source": [
    "dataframe1[dataframe1.随机的1>0.5]"
   ]
  },
  {
   "cell_type": "markdown",
   "id": "b36b1e9c-f886-4b0a-9020-c70eeb8439ab",
   "metadata": {},
   "source": [
    "#### 输出的时候可以直接进行赋值"
   ]
  },
  {
   "cell_type": "markdown",
   "id": "d7367734",
   "metadata": {},
   "source": [
    "### 对存在空值的行或列进行处理"
   ]
  },
  {
   "cell_type": "code",
   "execution_count": 77,
   "id": "df278877",
   "metadata": {},
   "outputs": [],
   "source": [
    "dataframe1.iloc[0,1]=np.nan"
   ]
  },
  {
   "cell_type": "code",
   "execution_count": 78,
   "id": "c6ec787a",
   "metadata": {},
   "outputs": [],
   "source": [
    "df_copy=dataframe1.copy()"
   ]
  },
  {
   "cell_type": "code",
   "execution_count": 79,
   "id": "59986117",
   "metadata": {},
   "outputs": [
    {
     "data": {
      "text/plain": "                随机的1      随机的2      随机的3      随机的4\n2020-01-01  1.069631       NaN -0.775526  0.495784\n2020-01-02  0.262717 -0.002181  1.242815  1.189811\n2020-01-03  0.149777  1.883083  0.249414  1.785598\n2020-01-04 -0.515087  1.118550  0.517592  0.046871\n2020-01-05  1.001624  1.098171  0.979042  1.374209\n2020-01-06  0.043369  0.495361  0.047793 -0.995210",
      "text/html": "<div>\n<style scoped>\n    .dataframe tbody tr th:only-of-type {\n        vertical-align: middle;\n    }\n\n    .dataframe tbody tr th {\n        vertical-align: top;\n    }\n\n    .dataframe thead th {\n        text-align: right;\n    }\n</style>\n<table border=\"1\" class=\"dataframe\">\n  <thead>\n    <tr style=\"text-align: right;\">\n      <th></th>\n      <th>随机的1</th>\n      <th>随机的2</th>\n      <th>随机的3</th>\n      <th>随机的4</th>\n    </tr>\n  </thead>\n  <tbody>\n    <tr>\n      <th>2020-01-01</th>\n      <td>1.069631</td>\n      <td>NaN</td>\n      <td>-0.775526</td>\n      <td>0.495784</td>\n    </tr>\n    <tr>\n      <th>2020-01-02</th>\n      <td>0.262717</td>\n      <td>-0.002181</td>\n      <td>1.242815</td>\n      <td>1.189811</td>\n    </tr>\n    <tr>\n      <th>2020-01-03</th>\n      <td>0.149777</td>\n      <td>1.883083</td>\n      <td>0.249414</td>\n      <td>1.785598</td>\n    </tr>\n    <tr>\n      <th>2020-01-04</th>\n      <td>-0.515087</td>\n      <td>1.118550</td>\n      <td>0.517592</td>\n      <td>0.046871</td>\n    </tr>\n    <tr>\n      <th>2020-01-05</th>\n      <td>1.001624</td>\n      <td>1.098171</td>\n      <td>0.979042</td>\n      <td>1.374209</td>\n    </tr>\n    <tr>\n      <th>2020-01-06</th>\n      <td>0.043369</td>\n      <td>0.495361</td>\n      <td>0.047793</td>\n      <td>-0.995210</td>\n    </tr>\n  </tbody>\n</table>\n</div>"
     },
     "execution_count": 79,
     "metadata": {},
     "output_type": "execute_result"
    }
   ],
   "source": [
    "df_copy"
   ]
  },
  {
   "cell_type": "code",
   "execution_count": 80,
   "id": "84b01350",
   "metadata": {},
   "outputs": [],
   "source": [
    "df_copy=df_copy.dropna(axis=0,how='any')  # 删除 how{‘any’,'all'} 存在一个，或必须全部都是 ,注意这个函数返回处理后的df，并不对原数据进行改变"
   ]
  },
  {
   "cell_type": "code",
   "execution_count": 81,
   "id": "cf15fa48",
   "metadata": {},
   "outputs": [
    {
     "data": {
      "text/plain": "                随机的1      随机的2      随机的3      随机的4\n2020-01-02  0.262717 -0.002181  1.242815  1.189811\n2020-01-03  0.149777  1.883083  0.249414  1.785598\n2020-01-04 -0.515087  1.118550  0.517592  0.046871\n2020-01-05  1.001624  1.098171  0.979042  1.374209\n2020-01-06  0.043369  0.495361  0.047793 -0.995210",
      "text/html": "<div>\n<style scoped>\n    .dataframe tbody tr th:only-of-type {\n        vertical-align: middle;\n    }\n\n    .dataframe tbody tr th {\n        vertical-align: top;\n    }\n\n    .dataframe thead th {\n        text-align: right;\n    }\n</style>\n<table border=\"1\" class=\"dataframe\">\n  <thead>\n    <tr style=\"text-align: right;\">\n      <th></th>\n      <th>随机的1</th>\n      <th>随机的2</th>\n      <th>随机的3</th>\n      <th>随机的4</th>\n    </tr>\n  </thead>\n  <tbody>\n    <tr>\n      <th>2020-01-02</th>\n      <td>0.262717</td>\n      <td>-0.002181</td>\n      <td>1.242815</td>\n      <td>1.189811</td>\n    </tr>\n    <tr>\n      <th>2020-01-03</th>\n      <td>0.149777</td>\n      <td>1.883083</td>\n      <td>0.249414</td>\n      <td>1.785598</td>\n    </tr>\n    <tr>\n      <th>2020-01-04</th>\n      <td>-0.515087</td>\n      <td>1.118550</td>\n      <td>0.517592</td>\n      <td>0.046871</td>\n    </tr>\n    <tr>\n      <th>2020-01-05</th>\n      <td>1.001624</td>\n      <td>1.098171</td>\n      <td>0.979042</td>\n      <td>1.374209</td>\n    </tr>\n    <tr>\n      <th>2020-01-06</th>\n      <td>0.043369</td>\n      <td>0.495361</td>\n      <td>0.047793</td>\n      <td>-0.995210</td>\n    </tr>\n  </tbody>\n</table>\n</div>"
     },
     "execution_count": 81,
     "metadata": {},
     "output_type": "execute_result"
    }
   ],
   "source": [
    "df_copy"
   ]
  },
  {
   "cell_type": "code",
   "execution_count": 82,
   "id": "b8ade382",
   "metadata": {},
   "outputs": [
    {
     "name": "stderr",
     "output_type": "stream",
     "text": [
      "/Users/lmy/miniforge3/envs/py39/lib/python3.9/site-packages/pandas/core/indexing.py:1951: SettingWithCopyWarning: \n",
      "A value is trying to be set on a copy of a slice from a DataFrame.\n",
      "Try using .loc[row_indexer,col_indexer] = value instead\n",
      "\n",
      "See the caveats in the documentation: https://pandas.pydata.org/pandas-docs/stable/user_guide/indexing.html#returning-a-view-versus-a-copy\n",
      "  self.obj[selected_item_labels] = value\n",
      "/Users/lmy/miniforge3/envs/py39/lib/python3.9/site-packages/pandas/core/indexing.py:1732: SettingWithCopyWarning: \n",
      "A value is trying to be set on a copy of a slice from a DataFrame\n",
      "\n",
      "See the caveats in the documentation: https://pandas.pydata.org/pandas-docs/stable/user_guide/indexing.html#returning-a-view-versus-a-copy\n",
      "  self._setitem_single_block(indexer, value, name)\n",
      "/Users/lmy/miniforge3/envs/py39/lib/python3.9/site-packages/pandas/core/indexing.py:723: SettingWithCopyWarning: \n",
      "A value is trying to be set on a copy of a slice from a DataFrame\n",
      "\n",
      "See the caveats in the documentation: https://pandas.pydata.org/pandas-docs/stable/user_guide/indexing.html#returning-a-view-versus-a-copy\n",
      "  iloc._setitem_with_indexer(indexer, value, self.name)\n"
     ]
    }
   ],
   "source": [
    "df_copy.iloc[:,2]=np.nan\n",
    "df_copy.iloc[1,1]=np.nan"
   ]
  },
  {
   "cell_type": "markdown",
   "id": "f40f5012-d601-4641-bab6-fb6df9ed9851",
   "metadata": {},
   "source": [
    "#### 删除空值"
   ]
  },
  {
   "cell_type": "code",
   "execution_count": 83,
   "id": "9d7150b5",
   "metadata": {},
   "outputs": [
    {
     "data": {
      "text/plain": "                随机的1      随机的2      随机的4\n2020-01-02  0.262717 -0.002181  1.189811\n2020-01-03  0.149777       NaN  1.785598\n2020-01-04 -0.515087  1.118550  0.046871\n2020-01-05  1.001624  1.098171  1.374209\n2020-01-06  0.043369  0.495361 -0.995210",
      "text/html": "<div>\n<style scoped>\n    .dataframe tbody tr th:only-of-type {\n        vertical-align: middle;\n    }\n\n    .dataframe tbody tr th {\n        vertical-align: top;\n    }\n\n    .dataframe thead th {\n        text-align: right;\n    }\n</style>\n<table border=\"1\" class=\"dataframe\">\n  <thead>\n    <tr style=\"text-align: right;\">\n      <th></th>\n      <th>随机的1</th>\n      <th>随机的2</th>\n      <th>随机的4</th>\n    </tr>\n  </thead>\n  <tbody>\n    <tr>\n      <th>2020-01-02</th>\n      <td>0.262717</td>\n      <td>-0.002181</td>\n      <td>1.189811</td>\n    </tr>\n    <tr>\n      <th>2020-01-03</th>\n      <td>0.149777</td>\n      <td>NaN</td>\n      <td>1.785598</td>\n    </tr>\n    <tr>\n      <th>2020-01-04</th>\n      <td>-0.515087</td>\n      <td>1.118550</td>\n      <td>0.046871</td>\n    </tr>\n    <tr>\n      <th>2020-01-05</th>\n      <td>1.001624</td>\n      <td>1.098171</td>\n      <td>1.374209</td>\n    </tr>\n    <tr>\n      <th>2020-01-06</th>\n      <td>0.043369</td>\n      <td>0.495361</td>\n      <td>-0.995210</td>\n    </tr>\n  </tbody>\n</table>\n</div>"
     },
     "execution_count": 83,
     "metadata": {},
     "output_type": "execute_result"
    }
   ],
   "source": [
    "df_copy.dropna(axis=1,how='all')"
   ]
  },
  {
   "cell_type": "code",
   "execution_count": 84,
   "id": "b6f4c514-2bec-4483-abed-394a55461fa3",
   "metadata": {},
   "outputs": [
    {
     "name": "stderr",
     "output_type": "stream",
     "text": [
      "/Users/lmy/miniforge3/envs/py39/lib/python3.9/site-packages/pandas/core/indexing.py:1951: SettingWithCopyWarning: \n",
      "A value is trying to be set on a copy of a slice from a DataFrame.\n",
      "Try using .loc[row_indexer,col_indexer] = value instead\n",
      "\n",
      "See the caveats in the documentation: https://pandas.pydata.org/pandas-docs/stable/user_guide/indexing.html#returning-a-view-versus-a-copy\n",
      "  self.obj[selected_item_labels] = value\n"
     ]
    }
   ],
   "source": [
    "df_copy.iloc[:,2]=np.nan"
   ]
  },
  {
   "cell_type": "code",
   "execution_count": 85,
   "id": "17426dee-eb1e-414f-81a7-c60f130fd3b5",
   "metadata": {},
   "outputs": [
    {
     "data": {
      "text/plain": "                随机的1      随机的2  随机的3      随机的4\n2020-01-02  0.262717 -0.002181   NaN  1.189811\n2020-01-03  0.149777       NaN   NaN  1.785598\n2020-01-04 -0.515087  1.118550   NaN  0.046871\n2020-01-05  1.001624  1.098171   NaN  1.374209\n2020-01-06  0.043369  0.495361   NaN -0.995210",
      "text/html": "<div>\n<style scoped>\n    .dataframe tbody tr th:only-of-type {\n        vertical-align: middle;\n    }\n\n    .dataframe tbody tr th {\n        vertical-align: top;\n    }\n\n    .dataframe thead th {\n        text-align: right;\n    }\n</style>\n<table border=\"1\" class=\"dataframe\">\n  <thead>\n    <tr style=\"text-align: right;\">\n      <th></th>\n      <th>随机的1</th>\n      <th>随机的2</th>\n      <th>随机的3</th>\n      <th>随机的4</th>\n    </tr>\n  </thead>\n  <tbody>\n    <tr>\n      <th>2020-01-02</th>\n      <td>0.262717</td>\n      <td>-0.002181</td>\n      <td>NaN</td>\n      <td>1.189811</td>\n    </tr>\n    <tr>\n      <th>2020-01-03</th>\n      <td>0.149777</td>\n      <td>NaN</td>\n      <td>NaN</td>\n      <td>1.785598</td>\n    </tr>\n    <tr>\n      <th>2020-01-04</th>\n      <td>-0.515087</td>\n      <td>1.118550</td>\n      <td>NaN</td>\n      <td>0.046871</td>\n    </tr>\n    <tr>\n      <th>2020-01-05</th>\n      <td>1.001624</td>\n      <td>1.098171</td>\n      <td>NaN</td>\n      <td>1.374209</td>\n    </tr>\n    <tr>\n      <th>2020-01-06</th>\n      <td>0.043369</td>\n      <td>0.495361</td>\n      <td>NaN</td>\n      <td>-0.995210</td>\n    </tr>\n  </tbody>\n</table>\n</div>"
     },
     "execution_count": 85,
     "metadata": {},
     "output_type": "execute_result"
    }
   ],
   "source": [
    "df_copy"
   ]
  },
  {
   "cell_type": "markdown",
   "id": "e18867ef-59b1-4100-a91a-53ce7f336953",
   "metadata": {},
   "source": [
    "#### 填充空值"
   ]
  },
  {
   "cell_type": "code",
   "execution_count": 86,
   "id": "20977204-2c8c-4481-9ce3-59a42c4cb2d7",
   "metadata": {},
   "outputs": [
    {
     "data": {
      "text/plain": "                随机的1      随机的2 随机的3      随机的4\n2020-01-02  0.262717 -0.002181   aa  1.189811\n2020-01-03  0.149777        aa   aa  1.785598\n2020-01-04 -0.515087   1.11855   aa  0.046871\n2020-01-05  1.001624  1.098171   aa  1.374209\n2020-01-06  0.043369  0.495361   aa -0.995210",
      "text/html": "<div>\n<style scoped>\n    .dataframe tbody tr th:only-of-type {\n        vertical-align: middle;\n    }\n\n    .dataframe tbody tr th {\n        vertical-align: top;\n    }\n\n    .dataframe thead th {\n        text-align: right;\n    }\n</style>\n<table border=\"1\" class=\"dataframe\">\n  <thead>\n    <tr style=\"text-align: right;\">\n      <th></th>\n      <th>随机的1</th>\n      <th>随机的2</th>\n      <th>随机的3</th>\n      <th>随机的4</th>\n    </tr>\n  </thead>\n  <tbody>\n    <tr>\n      <th>2020-01-02</th>\n      <td>0.262717</td>\n      <td>-0.002181</td>\n      <td>aa</td>\n      <td>1.189811</td>\n    </tr>\n    <tr>\n      <th>2020-01-03</th>\n      <td>0.149777</td>\n      <td>aa</td>\n      <td>aa</td>\n      <td>1.785598</td>\n    </tr>\n    <tr>\n      <th>2020-01-04</th>\n      <td>-0.515087</td>\n      <td>1.11855</td>\n      <td>aa</td>\n      <td>0.046871</td>\n    </tr>\n    <tr>\n      <th>2020-01-05</th>\n      <td>1.001624</td>\n      <td>1.098171</td>\n      <td>aa</td>\n      <td>1.374209</td>\n    </tr>\n    <tr>\n      <th>2020-01-06</th>\n      <td>0.043369</td>\n      <td>0.495361</td>\n      <td>aa</td>\n      <td>-0.995210</td>\n    </tr>\n  </tbody>\n</table>\n</div>"
     },
     "execution_count": 86,
     "metadata": {},
     "output_type": "execute_result"
    }
   ],
   "source": [
    "df_copy.fillna(value=\"aa\") "
   ]
  },
  {
   "cell_type": "markdown",
   "id": "2b95d1ea-0749-456e-bd72-9cb42b2e18f0",
   "metadata": {},
   "source": [
    "#### 判断空值"
   ]
  },
  {
   "cell_type": "code",
   "execution_count": 87,
   "id": "140cbd79-b81c-4b74-a7ae-5dd28a53e217",
   "metadata": {},
   "outputs": [
    {
     "name": "stdout",
     "output_type": "stream",
     "text": [
      "True\n"
     ]
    }
   ],
   "source": [
    "# 如果是空，则将该块内容设置为空\n",
    "df_copy.isnull()\n",
    "\n",
    "# 返回整个df中是否包含空值\n",
    "print(np.any(df_copy.isnull())==True)"
   ]
  },
  {
   "cell_type": "markdown",
   "id": "c50dea37-d561-49af-a9c2-be245c27515b",
   "metadata": {},
   "source": [
    "## 利用pandas进行导入与导出操作"
   ]
  },
  {
   "cell_type": "markdown",
   "id": "26eda896-7d72-42e8-bd04-6af9532a8c47",
   "metadata": {},
   "source": [
    "to_csv()与read_csv()"
   ]
  },
  {
   "cell_type": "code",
   "execution_count": 88,
   "id": "27724509-0025-4e73-a0a2-269c0a861964",
   "metadata": {},
   "outputs": [
    {
     "ename": "FileNotFoundError",
     "evalue": "[Errno 2] No such file or directory: 'Resources/student.csv'",
     "output_type": "error",
     "traceback": [
      "\u001B[0;31m---------------------------------------------------------------------------\u001B[0m",
      "\u001B[0;31mFileNotFoundError\u001B[0m                         Traceback (most recent call last)",
      "\u001B[0;32m/var/folders/6y/2tfbrqxd44xb1_g_2djcnjr00000gn/T/ipykernel_22685/502658660.py\u001B[0m in \u001B[0;36m<module>\u001B[0;34m\u001B[0m\n\u001B[0;32m----> 1\u001B[0;31m \u001B[0mstudent_data\u001B[0m\u001B[0;34m=\u001B[0m\u001B[0mpd\u001B[0m\u001B[0;34m.\u001B[0m\u001B[0mread_csv\u001B[0m\u001B[0;34m(\u001B[0m\u001B[0;34m'Resources/student.csv'\u001B[0m\u001B[0;34m)\u001B[0m\u001B[0;34m\u001B[0m\u001B[0;34m\u001B[0m\u001B[0m\n\u001B[0m",
      "\u001B[0;32m~/miniforge3/envs/py39/lib/python3.9/site-packages/pandas/util/_decorators.py\u001B[0m in \u001B[0;36mwrapper\u001B[0;34m(*args, **kwargs)\u001B[0m\n\u001B[1;32m    309\u001B[0m                     \u001B[0mstacklevel\u001B[0m\u001B[0;34m=\u001B[0m\u001B[0mstacklevel\u001B[0m\u001B[0;34m,\u001B[0m\u001B[0;34m\u001B[0m\u001B[0;34m\u001B[0m\u001B[0m\n\u001B[1;32m    310\u001B[0m                 )\n\u001B[0;32m--> 311\u001B[0;31m             \u001B[0;32mreturn\u001B[0m \u001B[0mfunc\u001B[0m\u001B[0;34m(\u001B[0m\u001B[0;34m*\u001B[0m\u001B[0margs\u001B[0m\u001B[0;34m,\u001B[0m \u001B[0;34m**\u001B[0m\u001B[0mkwargs\u001B[0m\u001B[0;34m)\u001B[0m\u001B[0;34m\u001B[0m\u001B[0;34m\u001B[0m\u001B[0m\n\u001B[0m\u001B[1;32m    312\u001B[0m \u001B[0;34m\u001B[0m\u001B[0m\n\u001B[1;32m    313\u001B[0m         \u001B[0;32mreturn\u001B[0m \u001B[0mwrapper\u001B[0m\u001B[0;34m\u001B[0m\u001B[0;34m\u001B[0m\u001B[0m\n",
      "\u001B[0;32m~/miniforge3/envs/py39/lib/python3.9/site-packages/pandas/io/parsers/readers.py\u001B[0m in \u001B[0;36mread_csv\u001B[0;34m(filepath_or_buffer, sep, delimiter, header, names, index_col, usecols, squeeze, prefix, mangle_dupe_cols, dtype, engine, converters, true_values, false_values, skipinitialspace, skiprows, skipfooter, nrows, na_values, keep_default_na, na_filter, verbose, skip_blank_lines, parse_dates, infer_datetime_format, keep_date_col, date_parser, dayfirst, cache_dates, iterator, chunksize, compression, thousands, decimal, lineterminator, quotechar, quoting, doublequote, escapechar, comment, encoding, encoding_errors, dialect, error_bad_lines, warn_bad_lines, on_bad_lines, delim_whitespace, low_memory, memory_map, float_precision, storage_options)\u001B[0m\n\u001B[1;32m    584\u001B[0m     \u001B[0mkwds\u001B[0m\u001B[0;34m.\u001B[0m\u001B[0mupdate\u001B[0m\u001B[0;34m(\u001B[0m\u001B[0mkwds_defaults\u001B[0m\u001B[0;34m)\u001B[0m\u001B[0;34m\u001B[0m\u001B[0;34m\u001B[0m\u001B[0m\n\u001B[1;32m    585\u001B[0m \u001B[0;34m\u001B[0m\u001B[0m\n\u001B[0;32m--> 586\u001B[0;31m     \u001B[0;32mreturn\u001B[0m \u001B[0m_read\u001B[0m\u001B[0;34m(\u001B[0m\u001B[0mfilepath_or_buffer\u001B[0m\u001B[0;34m,\u001B[0m \u001B[0mkwds\u001B[0m\u001B[0;34m)\u001B[0m\u001B[0;34m\u001B[0m\u001B[0;34m\u001B[0m\u001B[0m\n\u001B[0m\u001B[1;32m    587\u001B[0m \u001B[0;34m\u001B[0m\u001B[0m\n\u001B[1;32m    588\u001B[0m \u001B[0;34m\u001B[0m\u001B[0m\n",
      "\u001B[0;32m~/miniforge3/envs/py39/lib/python3.9/site-packages/pandas/io/parsers/readers.py\u001B[0m in \u001B[0;36m_read\u001B[0;34m(filepath_or_buffer, kwds)\u001B[0m\n\u001B[1;32m    480\u001B[0m \u001B[0;34m\u001B[0m\u001B[0m\n\u001B[1;32m    481\u001B[0m     \u001B[0;31m# Create the parser.\u001B[0m\u001B[0;34m\u001B[0m\u001B[0;34m\u001B[0m\u001B[0m\n\u001B[0;32m--> 482\u001B[0;31m     \u001B[0mparser\u001B[0m \u001B[0;34m=\u001B[0m \u001B[0mTextFileReader\u001B[0m\u001B[0;34m(\u001B[0m\u001B[0mfilepath_or_buffer\u001B[0m\u001B[0;34m,\u001B[0m \u001B[0;34m**\u001B[0m\u001B[0mkwds\u001B[0m\u001B[0;34m)\u001B[0m\u001B[0;34m\u001B[0m\u001B[0;34m\u001B[0m\u001B[0m\n\u001B[0m\u001B[1;32m    483\u001B[0m \u001B[0;34m\u001B[0m\u001B[0m\n\u001B[1;32m    484\u001B[0m     \u001B[0;32mif\u001B[0m \u001B[0mchunksize\u001B[0m \u001B[0;32mor\u001B[0m \u001B[0miterator\u001B[0m\u001B[0;34m:\u001B[0m\u001B[0;34m\u001B[0m\u001B[0;34m\u001B[0m\u001B[0m\n",
      "\u001B[0;32m~/miniforge3/envs/py39/lib/python3.9/site-packages/pandas/io/parsers/readers.py\u001B[0m in \u001B[0;36m__init__\u001B[0;34m(self, f, engine, **kwds)\u001B[0m\n\u001B[1;32m    809\u001B[0m             \u001B[0mself\u001B[0m\u001B[0;34m.\u001B[0m\u001B[0moptions\u001B[0m\u001B[0;34m[\u001B[0m\u001B[0;34m\"has_index_names\"\u001B[0m\u001B[0;34m]\u001B[0m \u001B[0;34m=\u001B[0m \u001B[0mkwds\u001B[0m\u001B[0;34m[\u001B[0m\u001B[0;34m\"has_index_names\"\u001B[0m\u001B[0;34m]\u001B[0m\u001B[0;34m\u001B[0m\u001B[0;34m\u001B[0m\u001B[0m\n\u001B[1;32m    810\u001B[0m \u001B[0;34m\u001B[0m\u001B[0m\n\u001B[0;32m--> 811\u001B[0;31m         \u001B[0mself\u001B[0m\u001B[0;34m.\u001B[0m\u001B[0m_engine\u001B[0m \u001B[0;34m=\u001B[0m \u001B[0mself\u001B[0m\u001B[0;34m.\u001B[0m\u001B[0m_make_engine\u001B[0m\u001B[0;34m(\u001B[0m\u001B[0mself\u001B[0m\u001B[0;34m.\u001B[0m\u001B[0mengine\u001B[0m\u001B[0;34m)\u001B[0m\u001B[0;34m\u001B[0m\u001B[0;34m\u001B[0m\u001B[0m\n\u001B[0m\u001B[1;32m    812\u001B[0m \u001B[0;34m\u001B[0m\u001B[0m\n\u001B[1;32m    813\u001B[0m     \u001B[0;32mdef\u001B[0m \u001B[0mclose\u001B[0m\u001B[0;34m(\u001B[0m\u001B[0mself\u001B[0m\u001B[0;34m)\u001B[0m\u001B[0;34m:\u001B[0m\u001B[0;34m\u001B[0m\u001B[0;34m\u001B[0m\u001B[0m\n",
      "\u001B[0;32m~/miniforge3/envs/py39/lib/python3.9/site-packages/pandas/io/parsers/readers.py\u001B[0m in \u001B[0;36m_make_engine\u001B[0;34m(self, engine)\u001B[0m\n\u001B[1;32m   1038\u001B[0m             )\n\u001B[1;32m   1039\u001B[0m         \u001B[0;31m# error: Too many arguments for \"ParserBase\"\u001B[0m\u001B[0;34m\u001B[0m\u001B[0;34m\u001B[0m\u001B[0m\n\u001B[0;32m-> 1040\u001B[0;31m         \u001B[0;32mreturn\u001B[0m \u001B[0mmapping\u001B[0m\u001B[0;34m[\u001B[0m\u001B[0mengine\u001B[0m\u001B[0;34m]\u001B[0m\u001B[0;34m(\u001B[0m\u001B[0mself\u001B[0m\u001B[0;34m.\u001B[0m\u001B[0mf\u001B[0m\u001B[0;34m,\u001B[0m \u001B[0;34m**\u001B[0m\u001B[0mself\u001B[0m\u001B[0;34m.\u001B[0m\u001B[0moptions\u001B[0m\u001B[0;34m)\u001B[0m  \u001B[0;31m# type: ignore[call-arg]\u001B[0m\u001B[0;34m\u001B[0m\u001B[0;34m\u001B[0m\u001B[0m\n\u001B[0m\u001B[1;32m   1041\u001B[0m \u001B[0;34m\u001B[0m\u001B[0m\n\u001B[1;32m   1042\u001B[0m     \u001B[0;32mdef\u001B[0m \u001B[0m_failover_to_python\u001B[0m\u001B[0;34m(\u001B[0m\u001B[0mself\u001B[0m\u001B[0;34m)\u001B[0m\u001B[0;34m:\u001B[0m\u001B[0;34m\u001B[0m\u001B[0;34m\u001B[0m\u001B[0m\n",
      "\u001B[0;32m~/miniforge3/envs/py39/lib/python3.9/site-packages/pandas/io/parsers/c_parser_wrapper.py\u001B[0m in \u001B[0;36m__init__\u001B[0;34m(self, src, **kwds)\u001B[0m\n\u001B[1;32m     49\u001B[0m \u001B[0;34m\u001B[0m\u001B[0m\n\u001B[1;32m     50\u001B[0m         \u001B[0;31m# open handles\u001B[0m\u001B[0;34m\u001B[0m\u001B[0;34m\u001B[0m\u001B[0m\n\u001B[0;32m---> 51\u001B[0;31m         \u001B[0mself\u001B[0m\u001B[0;34m.\u001B[0m\u001B[0m_open_handles\u001B[0m\u001B[0;34m(\u001B[0m\u001B[0msrc\u001B[0m\u001B[0;34m,\u001B[0m \u001B[0mkwds\u001B[0m\u001B[0;34m)\u001B[0m\u001B[0;34m\u001B[0m\u001B[0;34m\u001B[0m\u001B[0m\n\u001B[0m\u001B[1;32m     52\u001B[0m         \u001B[0;32massert\u001B[0m \u001B[0mself\u001B[0m\u001B[0;34m.\u001B[0m\u001B[0mhandles\u001B[0m \u001B[0;32mis\u001B[0m \u001B[0;32mnot\u001B[0m \u001B[0;32mNone\u001B[0m\u001B[0;34m\u001B[0m\u001B[0;34m\u001B[0m\u001B[0m\n\u001B[1;32m     53\u001B[0m \u001B[0;34m\u001B[0m\u001B[0m\n",
      "\u001B[0;32m~/miniforge3/envs/py39/lib/python3.9/site-packages/pandas/io/parsers/base_parser.py\u001B[0m in \u001B[0;36m_open_handles\u001B[0;34m(self, src, kwds)\u001B[0m\n\u001B[1;32m    220\u001B[0m         \u001B[0mLet\u001B[0m \u001B[0mthe\u001B[0m \u001B[0mreaders\u001B[0m \u001B[0mopen\u001B[0m \u001B[0mIOHandles\u001B[0m \u001B[0mafter\u001B[0m \u001B[0mthey\u001B[0m \u001B[0mare\u001B[0m \u001B[0mdone\u001B[0m \u001B[0;32mwith\u001B[0m \u001B[0mtheir\u001B[0m \u001B[0mpotential\u001B[0m \u001B[0mraises\u001B[0m\u001B[0;34m.\u001B[0m\u001B[0;34m\u001B[0m\u001B[0;34m\u001B[0m\u001B[0m\n\u001B[1;32m    221\u001B[0m         \"\"\"\n\u001B[0;32m--> 222\u001B[0;31m         self.handles = get_handle(\n\u001B[0m\u001B[1;32m    223\u001B[0m             \u001B[0msrc\u001B[0m\u001B[0;34m,\u001B[0m\u001B[0;34m\u001B[0m\u001B[0;34m\u001B[0m\u001B[0m\n\u001B[1;32m    224\u001B[0m             \u001B[0;34m\"r\"\u001B[0m\u001B[0;34m,\u001B[0m\u001B[0;34m\u001B[0m\u001B[0;34m\u001B[0m\u001B[0m\n",
      "\u001B[0;32m~/miniforge3/envs/py39/lib/python3.9/site-packages/pandas/io/common.py\u001B[0m in \u001B[0;36mget_handle\u001B[0;34m(path_or_buf, mode, encoding, compression, memory_map, is_text, errors, storage_options)\u001B[0m\n\u001B[1;32m    700\u001B[0m         \u001B[0;32mif\u001B[0m \u001B[0mioargs\u001B[0m\u001B[0;34m.\u001B[0m\u001B[0mencoding\u001B[0m \u001B[0;32mand\u001B[0m \u001B[0;34m\"b\"\u001B[0m \u001B[0;32mnot\u001B[0m \u001B[0;32min\u001B[0m \u001B[0mioargs\u001B[0m\u001B[0;34m.\u001B[0m\u001B[0mmode\u001B[0m\u001B[0;34m:\u001B[0m\u001B[0;34m\u001B[0m\u001B[0;34m\u001B[0m\u001B[0m\n\u001B[1;32m    701\u001B[0m             \u001B[0;31m# Encoding\u001B[0m\u001B[0;34m\u001B[0m\u001B[0;34m\u001B[0m\u001B[0m\n\u001B[0;32m--> 702\u001B[0;31m             handle = open(\n\u001B[0m\u001B[1;32m    703\u001B[0m                 \u001B[0mhandle\u001B[0m\u001B[0;34m,\u001B[0m\u001B[0;34m\u001B[0m\u001B[0;34m\u001B[0m\u001B[0m\n\u001B[1;32m    704\u001B[0m                 \u001B[0mioargs\u001B[0m\u001B[0;34m.\u001B[0m\u001B[0mmode\u001B[0m\u001B[0;34m,\u001B[0m\u001B[0;34m\u001B[0m\u001B[0;34m\u001B[0m\u001B[0m\n",
      "\u001B[0;31mFileNotFoundError\u001B[0m: [Errno 2] No such file or directory: 'Resources/student.csv'"
     ]
    }
   ],
   "source": [
    "student_data=pd.read_csv('Resources/student.csv')"
   ]
  },
  {
   "cell_type": "code",
   "execution_count": null,
   "id": "7274a0ee-d876-448d-b670-bcc0d3e9f2d6",
   "metadata": {},
   "outputs": [],
   "source": [
    "student_data"
   ]
  },
  {
   "cell_type": "code",
   "execution_count": null,
   "id": "d3d3eb78-06a2-41bb-9777-bd89ed1285da",
   "metadata": {},
   "outputs": [],
   "source": [
    "dataframe1.to_csv('Resources/test.csv',encoding='utf_8_sig')\n"
   ]
  },
  {
   "cell_type": "markdown",
   "id": "5ab36839-5e2d-4de0-adda-d6ead0118147",
   "metadata": {},
   "source": [
    "## 合并与分割"
   ]
  },
  {
   "cell_type": "markdown",
   "id": "a675b32f-87ee-45da-a675-fe5070a5af19",
   "metadata": {},
   "source": [
    "### 合并concat"
   ]
  },
  {
   "cell_type": "code",
   "execution_count": null,
   "id": "eb27e867-03dc-4e59-a1ad-fe47889d0390",
   "metadata": {},
   "outputs": [],
   "source": [
    "df1=pd.DataFrame(np.ones((3,4))*0,columns=['a','b','c','d'])\n",
    "df2=pd.DataFrame(np.ones((3,4))*1,columns=['a','b','c','d'])\n",
    "df3=pd.DataFrame(np.ones((3,4))*2,columns=['a','b','c','d'])\n",
    "# print(df1)"
   ]
  },
  {
   "cell_type": "code",
   "execution_count": null,
   "id": "656c5d5f-f4b0-45d5-a16f-4f52489fd699",
   "metadata": {},
   "outputs": [],
   "source": [
    "res=pd.concat([df1,df2,df3],axis=0)\n",
    "res"
   ]
  },
  {
   "cell_type": "code",
   "execution_count": null,
   "id": "1d4bb416-2c36-4281-9234-f56f41c23307",
   "metadata": {},
   "outputs": [],
   "source": [
    "# 忽视掉序列号\n",
    "res=pd.concat([df1,df2,df3],axis=0,ignore_index=True)\n",
    "res"
   ]
  },
  {
   "cell_type": "markdown",
   "id": "6ed82fed-5fd0-4964-97f5-28d3d5790542",
   "metadata": {},
   "source": [
    "### 连接join(outer与inner)"
   ]
  },
  {
   "cell_type": "code",
   "execution_count": null,
   "id": "bc52af98-50c5-4cea-a678-9b3568a90202",
   "metadata": {},
   "outputs": [],
   "source": [
    "#使用不同标签的列进行合并\n",
    "df1=pd.DataFrame(np.ones((3,4))*0,columns=['a','b','c','d'],index=[1,2,3])\n",
    "df2=pd.DataFrame(np.ones((3,4))*1,columns=['b','c','d','e'],index=[2,3,4])\n",
    "df1"
   ]
  },
  {
   "cell_type": "code",
   "execution_count": null,
   "id": "40454ea6-2ef2-4f11-808f-d0098aca6539",
   "metadata": {},
   "outputs": [],
   "source": [
    "df2"
   ]
  },
  {
   "cell_type": "code",
   "execution_count": null,
   "id": "e6420051-cc0e-47b3-96d6-a7085fd66255",
   "metadata": {},
   "outputs": [],
   "source": [
    "res=pd.concat([df1,df2],join='outer')\n",
    "res"
   ]
  },
  {
   "cell_type": "code",
   "execution_count": null,
   "id": "017d851a-7a1a-45e6-bad5-4430d271e111",
   "metadata": {},
   "outputs": [],
   "source": [
    "res=pd.concat([df1,df2],join='inner')\n",
    "res=pd.concat([df1,df2],join='inner',ignore_index=True)\n",
    "res"
   ]
  },
  {
   "cell_type": "markdown",
   "id": "91f2d9e3-19e4-4013-b873-76528418a73b",
   "metadata": {},
   "source": [
    "### 通过append()添加Series"
   ]
  },
  {
   "cell_type": "code",
   "execution_count": null,
   "id": "10df9bbe-7ccb-4bd9-a0cc-7b2892056b41",
   "metadata": {},
   "outputs": [],
   "source": [
    "series1=pd.Series([1,2,3,4],index=['a','b','c','d'])\n",
    "res=df1.append(series1,ignore_index=True)\n",
    "res"
   ]
  },
  {
   "cell_type": "markdown",
   "id": "80d66f27-86bd-4d61-a20e-226ac08712ae",
   "metadata": {},
   "source": [
    "### merge()进行合并"
   ]
  },
  {
   "cell_type": "markdown",
   "id": "fc711276-3f49-4a0a-a898-ee9eb5dcb0e9",
   "metadata": {},
   "source": [
    "#### 根据一个key进行合并"
   ]
  },
  {
   "cell_type": "code",
   "execution_count": null,
   "id": "80360a5d-ec10-4925-acd8-88150d35696b",
   "metadata": {},
   "outputs": [],
   "source": [
    "# 通过字典的形式进行创建dataframe\n",
    "df_left=pd.DataFrame({'key':['K0','aa','K2','K3'],\n",
    "                      'A':['A0','A1','A2','A3'],\n",
    "                      'B':['B0','B1','B2','B3']\n",
    "                     })\n",
    "df_right=pd.DataFrame({'key':['K0','bb','K2','K3'],\n",
    "                      'C':['C0','C1','C2','C3'],\n",
    "                      'D':['D0','D1','D2','D3']\n",
    "                     })"
   ]
  },
  {
   "cell_type": "code",
   "execution_count": null,
   "id": "b2202976-95db-4d8a-8fce-bb5a64f2877c",
   "metadata": {},
   "outputs": [],
   "source": [
    "df_right"
   ]
  },
  {
   "cell_type": "code",
   "execution_count": null,
   "id": "e1533390-c6b2-4246-ab80-825078a01ac6",
   "metadata": {},
   "outputs": [],
   "source": [
    "res=pd.merge(df_left,df_right,on='key')# 仅合并相同的部分\n",
    "res"
   ]
  },
  {
   "cell_type": "markdown",
   "id": "87e2150b-bbfd-4bd9-bb79-54d1990ef4dd",
   "metadata": {},
   "source": [
    "#### 根据多个key进行合并"
   ]
  },
  {
   "cell_type": "code",
   "execution_count": null,
   "id": "428ac1ed-3760-4d9b-b5f3-e7fa055e35d7",
   "metadata": {},
   "outputs": [],
   "source": [
    "df_left=pd.DataFrame({'key1':['K0','aa','K2','K3'],\n",
    "                      'key2':['K1','K2','K5','K3'],\n",
    "                      'A':['A0','A1','A2','A3'],\n",
    "                      'B':['B0','B1','B2','B3']\n",
    "                     })\n",
    "df_right=pd.DataFrame({'key1':['K0','bb','K2','K3'],\n",
    "                       'key2':['K1','K0','K0','K0'],\n",
    "                      'C':['C0','C1','C2','C3'],\n",
    "                      'D':['D0','D1','D2','D3']\n",
    "                     })"
   ]
  },
  {
   "cell_type": "code",
   "execution_count": null,
   "id": "ea76a0a9-9f18-421a-91fc-f4d140df7fff",
   "metadata": {},
   "outputs": [],
   "source": [
    "res=pd.merge(df_left,df_right,on=['key1','key2']) #默认为how='inner'\n",
    "res"
   ]
  },
  {
   "cell_type": "code",
   "execution_count": null,
   "id": "d3599924-7afd-4cba-86ca-2f1536b9c6db",
   "metadata": {},
   "outputs": [],
   "source": [
    "res=pd.merge(df_left,df_right,on=['key1','key2'],how='right') \n",
    "res"
   ]
  },
  {
   "cell_type": "code",
   "execution_count": null,
   "id": "37f18691-162c-4c41-8dce-95302ca196cb",
   "metadata": {},
   "outputs": [],
   "source": [
    "res=pd.merge(df_left,df_right,on=['key1','key2'],how='left') \n",
    "res"
   ]
  },
  {
   "cell_type": "code",
   "execution_count": null,
   "id": "7a908135-c062-4541-8acf-13f8e75d0710",
   "metadata": {},
   "outputs": [],
   "source": [
    "res=pd.merge(df_left,df_right,on=['key1','key2'],how='outer',indicator='indicator_column') # 添加指示器并对指示器命名\n",
    "res"
   ]
  },
  {
   "cell_type": "markdown",
   "id": "6c0eb439-1bb0-41d4-8d99-63c85faa6c0b",
   "metadata": {},
   "source": [
    "#### 根据index进行合并"
   ]
  },
  {
   "cell_type": "code",
   "execution_count": null,
   "id": "bbbc23d2-be4b-495d-8036-c9ed008d56b7",
   "metadata": {},
   "outputs": [],
   "source": [
    "df_left=pd.DataFrame({'A':['A0','A1','A2','A3'],\n",
    "                      'B':['B0','B1','B2','B3']},\n",
    "                     index=['K0','aa','K2','K3'],)\n",
    "df_right=pd.DataFrame({'C':['C0','C1','C2','C3'],\n",
    "                      'D':['D0','D1','D2','D3']},\n",
    "                     index=['K0','ab','K4','K3'])"
   ]
  },
  {
   "cell_type": "code",
   "execution_count": null,
   "id": "b1acef8e-7277-4369-bb8b-a14a13134386",
   "metadata": {},
   "outputs": [],
   "source": [
    "res=pd.merge(df_left,df_right,left_index=True,right_index=True,how='outer',indicator=True)\n",
    "res"
   ]
  },
  {
   "cell_type": "code",
   "execution_count": null,
   "id": "f472c22f-5128-4f45-b5d8-769381b06cd6",
   "metadata": {},
   "outputs": [],
   "source": [
    "df_boys=pd.DataFrame({'年龄':[12,34,12],\n",
    "                      '班级':[1,2,3]})\n",
    "df_girls=pd.DataFrame({'班级':[1,2,4],\n",
    "                     '年龄':[23,13,17]})"
   ]
  },
  {
   "cell_type": "code",
   "execution_count": null,
   "id": "9ea95807-64b5-4697-8697-acb88460a04c",
   "metadata": {},
   "outputs": [],
   "source": [
    "# 输出两个表中相同班级的男孩女孩，并在年龄后添加后缀\n",
    "res=pd.merge(df_boys,df_girls,on='班级',suffixes=['_男孩','_女孩'],how='inner')\n",
    "res"
   ]
  },
  {
   "cell_type": "markdown",
   "id": "e71e1fc7-f86c-4c0a-a85e-b3e7e4223f02",
   "metadata": {},
   "source": [
    "## pandas的数据可视化plot"
   ]
  },
  {
   "cell_type": "code",
   "execution_count": null,
   "id": "06ee1db8-9b03-4f85-aaa4-91b465bf8001",
   "metadata": {},
   "outputs": [],
   "source": [
    "series1=pd.Series(np.random.randn(1000),index=np.arange(1000)) \n",
    "series1"
   ]
  },
  {
   "cell_type": "code",
   "execution_count": null,
   "id": "80e113fc-d9ef-478f-8d5c-1db370251298",
   "metadata": {},
   "outputs": [],
   "source": [
    "series1=series1.cumsum() # 累加\n",
    "series1.plot()"
   ]
  },
  {
   "cell_type": "code",
   "execution_count": null,
   "id": "a709007d-24b7-456d-a577-7c89f7d306d1",
   "metadata": {},
   "outputs": [],
   "source": [
    "series2=pd.DataFrame(np.random.randn(1000,4),index=np.arange(1000),columns=list('ABCD')) \n",
    "series2.plot()\n",
    "series2.cumsum()\n",
    "series2.plot()\n",
    "# plot的方法:\n",
    "    # bar,hist,box,kde,area,scatter,hexbin,pie"
   ]
  },
  {
   "cell_type": "code",
   "execution_count": null,
   "id": "28d0d3de-bd16-4c96-9fe9-262a32f4069c",
   "metadata": {},
   "outputs": [],
   "source": [
    "ax=series2.plot.scatter(x='A',y='B',color='DarkBlue',label='Class 1')\n",
    "series2.plot.scatter(x='A',y='C',color='Green',label='Class 2',ax=ax)"
   ]
  },
  {
   "cell_type": "markdown",
   "id": "ede3de2c-b3b9-48d2-83af-ab2b1ec40172",
   "metadata": {},
   "source": [
    "# Finish,完结撒花✌️"
   ]
  }
 ],
 "metadata": {
  "kernelspec": {
   "display_name": "Python 3 (ipykernel)",
   "language": "python",
   "name": "python3"
  },
  "language_info": {
   "codemirror_mode": {
    "name": "ipython",
    "version": 3
   },
   "file_extension": ".py",
   "mimetype": "text/x-python",
   "name": "python",
   "nbconvert_exporter": "python",
   "pygments_lexer": "ipython3",
   "version": "3.8.10"
  },
  "toc-showtags": false
 },
 "nbformat": 4,
 "nbformat_minor": 5
}