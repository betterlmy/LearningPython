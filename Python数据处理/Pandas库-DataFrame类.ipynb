{
 "cells": [
  {
   "cell_type": "code",
   "execution_count": 2,
   "id": "c10b7373-fb1a-4626-8ecb-2fd0287bf358",
   "metadata": {},
   "outputs": [],
   "source": [
    "import pandas as pd\n",
    "import numpy as np\n",
    "import matplotlib.pyplot as plt\n",
    "%matplotlib inline"
   ]
  },
  {
   "cell_type": "markdown",
   "id": "7c36dc74",
   "metadata": {},
   "source": [
    "# [Pandas](https://pandas.pydata.org)\n",
    "Pandas简介:以Numpy为基础,提供了数据处理的函数和方法,结合Matplotlib,进行数据可视化展示.\n",
    "两个核心数据类型\n",
    "* `Series`(数据系列,一维)\n",
    "* `DataFrame`(数据框,二维)"
   ]
  },
  {
   "cell_type": "markdown",
   "id": "5e723a2c",
   "metadata": {},
   "source": [
    "## DataFrame"
   ]
  },
  {
   "cell_type": "markdown",
   "id": "141f3ca6",
   "metadata": {
    "pycharm": {
     "name": "#%% md\n"
    }
   },
   "source": [
    "### 通过二维数组创建DF"
   ]
  },
  {
   "cell_type": "code",
   "execution_count": 4,
   "id": "81e42d19",
   "metadata": {
    "pycharm": {
     "name": "#%%\n"
    }
   },
   "outputs": [
    {
     "data": {
      "text/html": [
       "<div>\n",
       "<style scoped>\n",
       "    .dataframe tbody tr th:only-of-type {\n",
       "        vertical-align: middle;\n",
       "    }\n",
       "\n",
       "    .dataframe tbody tr th {\n",
       "        vertical-align: top;\n",
       "    }\n",
       "\n",
       "    .dataframe thead th {\n",
       "        text-align: right;\n",
       "    }\n",
       "</style>\n",
       "<table border=\"1\" class=\"dataframe\">\n",
       "  <thead>\n",
       "    <tr style=\"text-align: right;\">\n",
       "      <th></th>\n",
       "      <th>语</th>\n",
       "      <th>数</th>\n",
       "      <th>英</th>\n",
       "    </tr>\n",
       "  </thead>\n",
       "  <tbody>\n",
       "    <tr>\n",
       "      <th>1001</th>\n",
       "      <td>69</td>\n",
       "      <td>66</td>\n",
       "      <td>85</td>\n",
       "    </tr>\n",
       "    <tr>\n",
       "      <th>1002</th>\n",
       "      <td>96</td>\n",
       "      <td>70</td>\n",
       "      <td>73</td>\n",
       "    </tr>\n",
       "    <tr>\n",
       "      <th>1003</th>\n",
       "      <td>78</td>\n",
       "      <td>68</td>\n",
       "      <td>68</td>\n",
       "    </tr>\n",
       "    <tr>\n",
       "      <th>1004</th>\n",
       "      <td>78</td>\n",
       "      <td>94</td>\n",
       "      <td>89</td>\n",
       "    </tr>\n",
       "    <tr>\n",
       "      <th>1005</th>\n",
       "      <td>83</td>\n",
       "      <td>85</td>\n",
       "      <td>97</td>\n",
       "    </tr>\n",
       "  </tbody>\n",
       "</table>\n",
       "</div>"
      ],
      "text/plain": [
       "       语   数   英\n",
       "1001  69  66  85\n",
       "1002  96  70  73\n",
       "1003  78  68  68\n",
       "1004  78  94  89\n",
       "1005  83  85  97"
      ]
     },
     "execution_count": 4,
     "metadata": {},
     "output_type": "execute_result"
    }
   ],
   "source": [
    "courses = ['语','数','英']\n",
    "ids = [_ for _ in range(1001,1006)]\n",
    "scores = np.random.randint(60,101,(5,3))\n",
    "df1 = pd.DataFrame(data=scores,index=ids,columns=courses)\n",
    "df1"
   ]
  },
  {
   "cell_type": "markdown",
   "id": "ce279f63",
   "metadata": {
    "pycharm": {
     "name": "#%% md\n"
    }
   },
   "source": [
    "### 通过字典创建"
   ]
  },
  {
   "cell_type": "code",
   "execution_count": 10,
   "id": "620e4dae",
   "metadata": {
    "pycharm": {
     "name": "#%%\n"
    }
   },
   "outputs": [
    {
     "name": "stdout",
     "output_type": "stream",
     "text": [
      "{'语': [75, 75, 67, 95, 75], '数': [68, 79, 90, 71, 81], '英': [77, 63, 82, 76, 67]}\n"
     ]
    },
    {
     "data": {
      "text/html": [
       "<div>\n",
       "<style scoped>\n",
       "    .dataframe tbody tr th:only-of-type {\n",
       "        vertical-align: middle;\n",
       "    }\n",
       "\n",
       "    .dataframe tbody tr th {\n",
       "        vertical-align: top;\n",
       "    }\n",
       "\n",
       "    .dataframe thead th {\n",
       "        text-align: right;\n",
       "    }\n",
       "</style>\n",
       "<table border=\"1\" class=\"dataframe\">\n",
       "  <thead>\n",
       "    <tr style=\"text-align: right;\">\n",
       "      <th></th>\n",
       "      <th>语</th>\n",
       "      <th>数</th>\n",
       "      <th>英</th>\n",
       "    </tr>\n",
       "  </thead>\n",
       "  <tbody>\n",
       "    <tr>\n",
       "      <th>1001</th>\n",
       "      <td>75</td>\n",
       "      <td>68</td>\n",
       "      <td>77</td>\n",
       "    </tr>\n",
       "    <tr>\n",
       "      <th>1002</th>\n",
       "      <td>75</td>\n",
       "      <td>79</td>\n",
       "      <td>63</td>\n",
       "    </tr>\n",
       "    <tr>\n",
       "      <th>1003</th>\n",
       "      <td>67</td>\n",
       "      <td>90</td>\n",
       "      <td>82</td>\n",
       "    </tr>\n",
       "    <tr>\n",
       "      <th>1004</th>\n",
       "      <td>95</td>\n",
       "      <td>71</td>\n",
       "      <td>76</td>\n",
       "    </tr>\n",
       "    <tr>\n",
       "      <th>1005</th>\n",
       "      <td>75</td>\n",
       "      <td>81</td>\n",
       "      <td>67</td>\n",
       "    </tr>\n",
       "  </tbody>\n",
       "</table>\n",
       "</div>"
      ],
      "text/plain": [
       "       语   数   英\n",
       "1001  75  68  77\n",
       "1002  75  79  63\n",
       "1003  67  90  82\n",
       "1004  95  71  76\n",
       "1005  75  81  67"
      ]
     },
     "execution_count": 10,
     "metadata": {},
     "output_type": "execute_result"
    }
   ],
   "source": [
    "scores ={\n",
    "    '语':np.random.randint(60,101,5).tolist(),\n",
    "    '数':np.random.randint(60,101,5).tolist(),\n",
    "    '英':np.random.randint(60,101,5).tolist()\n",
    "}\n",
    "print(scores)\n",
    "ids = [_ for _ in range(1001,1006)]\n",
    "df2 = pd.DataFrame(data=scores, index=ids)\n",
    "df2"
   ]
  },
  {
   "cell_type": "markdown",
   "id": "6f45a7ca",
   "metadata": {
    "pycharm": {
     "name": "#%% md\n"
    }
   },
   "source": [
    "### pandas处理日期"
   ]
  },
  {
   "cell_type": "code",
   "execution_count": 5,
   "id": "b7dd6356",
   "metadata": {
    "pycharm": {
     "name": "#%%\n"
    }
   },
   "outputs": [
    {
     "data": {
      "text/plain": [
       "DatetimeIndex(['2020-01-01', '2020-01-02', '2020-01-03', '2020-01-04',\n",
       "               '2020-01-05', '2020-01-06'],\n",
       "              dtype='datetime64[ns]', freq='D')"
      ]
     },
     "execution_count": 5,
     "metadata": {},
     "output_type": "execute_result"
    }
   ],
   "source": [
    "dates=pd.date_range('20200101',periods=6)# pandas处理日期\n",
    "dates"
   ]
  },
  {
   "cell_type": "code",
   "execution_count": 67,
   "id": "3b3043bb",
   "metadata": {
    "pycharm": {
     "name": "#%%\n"
    }
   },
   "outputs": [
    {
     "data": {
      "text/html": [
       "<div>\n",
       "<style scoped>\n",
       "    .dataframe tbody tr th:only-of-type {\n",
       "        vertical-align: middle;\n",
       "    }\n",
       "\n",
       "    .dataframe tbody tr th {\n",
       "        vertical-align: top;\n",
       "    }\n",
       "\n",
       "    .dataframe thead th {\n",
       "        text-align: right;\n",
       "    }\n",
       "</style>\n",
       "<table border=\"1\" class=\"dataframe\">\n",
       "  <thead>\n",
       "    <tr style=\"text-align: right;\">\n",
       "      <th></th>\n",
       "      <th>0</th>\n",
       "      <th>1</th>\n",
       "      <th>2</th>\n",
       "      <th>3</th>\n",
       "    </tr>\n",
       "  </thead>\n",
       "  <tbody>\n",
       "    <tr>\n",
       "      <th>0</th>\n",
       "      <td>-0.211503</td>\n",
       "      <td>2.928268</td>\n",
       "      <td>-1.322111</td>\n",
       "      <td>-1.187046</td>\n",
       "    </tr>\n",
       "    <tr>\n",
       "      <th>1</th>\n",
       "      <td>1.088503</td>\n",
       "      <td>1.685135</td>\n",
       "      <td>0.769677</td>\n",
       "      <td>-0.560567</td>\n",
       "    </tr>\n",
       "    <tr>\n",
       "      <th>2</th>\n",
       "      <td>2.454717</td>\n",
       "      <td>0.605607</td>\n",
       "      <td>-0.860714</td>\n",
       "      <td>-0.697368</td>\n",
       "    </tr>\n",
       "    <tr>\n",
       "      <th>3</th>\n",
       "      <td>-0.249977</td>\n",
       "      <td>1.368452</td>\n",
       "      <td>-1.013128</td>\n",
       "      <td>0.420772</td>\n",
       "    </tr>\n",
       "    <tr>\n",
       "      <th>4</th>\n",
       "      <td>0.270808</td>\n",
       "      <td>-1.003096</td>\n",
       "      <td>-0.160728</td>\n",
       "      <td>0.191057</td>\n",
       "    </tr>\n",
       "    <tr>\n",
       "      <th>5</th>\n",
       "      <td>-0.283846</td>\n",
       "      <td>-0.656593</td>\n",
       "      <td>-0.866140</td>\n",
       "      <td>0.694363</td>\n",
       "    </tr>\n",
       "  </tbody>\n",
       "</table>\n",
       "</div>"
      ],
      "text/plain": [
       "          0         1         2         3\n",
       "0 -0.211503  2.928268 -1.322111 -1.187046\n",
       "1  1.088503  1.685135  0.769677 -0.560567\n",
       "2  2.454717  0.605607 -0.860714 -0.697368\n",
       "3 -0.249977  1.368452 -1.013128  0.420772\n",
       "4  0.270808 -1.003096 -0.160728  0.191057\n",
       "5 -0.283846 -0.656593 -0.866140  0.694363"
      ]
     },
     "execution_count": 67,
     "metadata": {},
     "output_type": "execute_result"
    }
   ],
   "source": [
    "dataframe2=pd.DataFrame(np.random.randn(6,4))\n",
    "dataframe2"
   ]
  },
  {
   "cell_type": "code",
   "execution_count": 11,
   "id": "a0b7560c",
   "metadata": {
    "pycharm": {
     "name": "#%%\n"
    }
   },
   "outputs": [
    {
     "data": {
      "text/html": [
       "<div>\n",
       "<style scoped>\n",
       "    .dataframe tbody tr th:only-of-type {\n",
       "        vertical-align: middle;\n",
       "    }\n",
       "\n",
       "    .dataframe tbody tr th {\n",
       "        vertical-align: top;\n",
       "    }\n",
       "\n",
       "    .dataframe thead th {\n",
       "        text-align: right;\n",
       "    }\n",
       "</style>\n",
       "<table border=\"1\" class=\"dataframe\">\n",
       "  <thead>\n",
       "    <tr style=\"text-align: right;\">\n",
       "      <th></th>\n",
       "      <th>随机的1</th>\n",
       "      <th>随机的2</th>\n",
       "      <th>随机的3</th>\n",
       "      <th>随机的4</th>\n",
       "    </tr>\n",
       "  </thead>\n",
       "  <tbody>\n",
       "    <tr>\n",
       "      <th>2020-01-01</th>\n",
       "      <td>0.185312</td>\n",
       "      <td>-1.216725</td>\n",
       "      <td>-1.882019</td>\n",
       "      <td>0.885951</td>\n",
       "    </tr>\n",
       "    <tr>\n",
       "      <th>2020-01-02</th>\n",
       "      <td>-1.148477</td>\n",
       "      <td>0.461542</td>\n",
       "      <td>-0.797025</td>\n",
       "      <td>-1.089400</td>\n",
       "    </tr>\n",
       "    <tr>\n",
       "      <th>2020-01-03</th>\n",
       "      <td>0.809992</td>\n",
       "      <td>0.468062</td>\n",
       "      <td>-0.365549</td>\n",
       "      <td>-0.252809</td>\n",
       "    </tr>\n",
       "    <tr>\n",
       "      <th>2020-01-04</th>\n",
       "      <td>-0.129881</td>\n",
       "      <td>-0.609299</td>\n",
       "      <td>-0.713573</td>\n",
       "      <td>0.026165</td>\n",
       "    </tr>\n",
       "    <tr>\n",
       "      <th>2020-01-05</th>\n",
       "      <td>0.498506</td>\n",
       "      <td>0.937427</td>\n",
       "      <td>0.962913</td>\n",
       "      <td>0.106590</td>\n",
       "    </tr>\n",
       "    <tr>\n",
       "      <th>2020-01-06</th>\n",
       "      <td>2.413853</td>\n",
       "      <td>-0.983792</td>\n",
       "      <td>1.017281</td>\n",
       "      <td>1.304562</td>\n",
       "    </tr>\n",
       "  </tbody>\n",
       "</table>\n",
       "</div>"
      ],
      "text/plain": [
       "                随机的1      随机的2      随机的3      随机的4\n",
       "2020-01-01  0.185312 -1.216725 -1.882019  0.885951\n",
       "2020-01-02 -1.148477  0.461542 -0.797025 -1.089400\n",
       "2020-01-03  0.809992  0.468062 -0.365549 -0.252809\n",
       "2020-01-04 -0.129881 -0.609299 -0.713573  0.026165\n",
       "2020-01-05  0.498506  0.937427  0.962913  0.106590\n",
       "2020-01-06  2.413853 -0.983792  1.017281  1.304562"
      ]
     },
     "execution_count": 11,
     "metadata": {},
     "output_type": "execute_result"
    }
   ],
   "source": [
    "# 指定行列的标签\n",
    "dataframe1=pd.DataFrame(np.random.randn(6,4),index=dates,columns=['随机的1','随机的2','随机的3','随机的4'])\n",
    "dataframe1"
   ]
  },
  {
   "cell_type": "markdown",
   "source": [
    "## 输出及赋值"
   ],
   "metadata": {
    "collapsed": false
   }
  },
  {
   "cell_type": "markdown",
   "source": [
    "#### 从数据库中加载数据"
   ],
   "metadata": {
    "collapsed": false,
    "pycharm": {
     "name": "#%% md\n"
    }
   }
  },
  {
   "cell_type": "code",
   "execution_count": 40,
   "outputs": [],
   "source": [
    "import pymysql\n",
    "\n",
    "conn = pymysql.connect(\n",
    "    host='47.104.31.138', port=3306,\n",
    "    user='guest', password='Guest.618',\n",
    "    database='hrs', charset='utf8mb4'\n",
    ")\n",
    "dept_df = pd.read_sql('select * from tb_dept', conn, index_col='dno')\n",
    "emp_df = pd.read_sql('select * from tb_emp', conn, index_col='eno')\n",
    "emp2_df = pd.read_sql('select * from tb_emp2', conn, index_col='eno')"
   ],
   "metadata": {
    "collapsed": false,
    "pycharm": {
     "name": "#%%\n"
    }
   }
  },
  {
   "cell_type": "markdown",
   "source": [
    "### DataFrame对象的属性如下表所示\n",
    "\n",
    "| 属性名            | 说明                      |\n",
    "|----------------|-------------------------|\n",
    "| `at` / `iat`   | 通过标签获取`DataFrame`中的单个值。 |\n",
    "| `columns`      | `DataFrame`对象列的索引       |\n",
    "| `dtypes`       | `DataFrame`对象每一列的数据类型   |\n",
    "| `empty`        | `DataFrame`对象是否为空       |\n",
    "| `loc` / `iloc` | 通过标签获取`DataFrame`中的一组值。 |\n",
    "| `ndim`         | `DataFrame`对象的维度        |\n",
    "| `shape`        | `DataFrame`对象的形状（行数和列数） |\n",
    "| `size`         | `DataFrame`对象中元素的个数     |\n",
    "| `values`       | `DataFrame`对象的数据对应的二维数组 |"
   ],
   "metadata": {
    "collapsed": false,
    "pycharm": {
     "name": "#%% md\n"
    }
   }
  },
  {
   "cell_type": "markdown",
   "source": [
    "关于DataFrame的方法，首先需要了解的是`info()`方法，它可以帮助我们了解DataFrame的相关信息，如下所示。"
   ],
   "metadata": {
    "collapsed": false,
    "pycharm": {
     "name": "#%% md\n"
    }
   }
  },
  {
   "cell_type": "code",
   "execution_count": 45,
   "outputs": [
    {
     "name": "stdout",
     "output_type": "stream",
     "text": [
      "<class 'pandas.core.frame.DataFrame'>\n",
      "Int64Index: 14 entries, 1359 to 7800\n",
      "Data columns (total 6 columns):\n",
      " #   Column  Non-Null Count  Dtype  \n",
      "---  ------  --------------  -----  \n",
      " 0   ename   14 non-null     object \n",
      " 1   job     14 non-null     object \n",
      " 2   mgr     13 non-null     float64\n",
      " 3   sal     14 non-null     int64  \n",
      " 4   comm    6 non-null      float64\n",
      " 5   dno     14 non-null     int64  \n",
      "dtypes: float64(2), int64(2), object(2)\n",
      "memory usage: 784.0+ bytes\n"
     ]
    }
   ],
   "source": [
    "emp_df.info()"
   ],
   "metadata": {
    "collapsed": false,
    "pycharm": {
     "name": "#%%\n"
    }
   }
  },
  {
   "cell_type": "code",
   "execution_count": 47,
   "outputs": [
    {
     "data": {
      "text/plain": "     ename  job     mgr   sal    comm  dno\neno                                       \n5234    郭靖   出纳  5566.0  2000     NaN   10\n5566   宋远桥  会计师  7800.0  4000  1000.0   10\n7800   张三丰   总裁     NaN  9000  1200.0   20",
      "text/html": "<div>\n<style scoped>\n    .dataframe tbody tr th:only-of-type {\n        vertical-align: middle;\n    }\n\n    .dataframe tbody tr th {\n        vertical-align: top;\n    }\n\n    .dataframe thead th {\n        text-align: right;\n    }\n</style>\n<table border=\"1\" class=\"dataframe\">\n  <thead>\n    <tr style=\"text-align: right;\">\n      <th></th>\n      <th>ename</th>\n      <th>job</th>\n      <th>mgr</th>\n      <th>sal</th>\n      <th>comm</th>\n      <th>dno</th>\n    </tr>\n    <tr>\n      <th>eno</th>\n      <th></th>\n      <th></th>\n      <th></th>\n      <th></th>\n      <th></th>\n      <th></th>\n    </tr>\n  </thead>\n  <tbody>\n    <tr>\n      <th>5234</th>\n      <td>郭靖</td>\n      <td>出纳</td>\n      <td>5566.0</td>\n      <td>2000</td>\n      <td>NaN</td>\n      <td>10</td>\n    </tr>\n    <tr>\n      <th>5566</th>\n      <td>宋远桥</td>\n      <td>会计师</td>\n      <td>7800.0</td>\n      <td>4000</td>\n      <td>1000.0</td>\n      <td>10</td>\n    </tr>\n    <tr>\n      <th>7800</th>\n      <td>张三丰</td>\n      <td>总裁</td>\n      <td>NaN</td>\n      <td>9000</td>\n      <td>1200.0</td>\n      <td>20</td>\n    </tr>\n  </tbody>\n</table>\n</div>"
     },
     "execution_count": 47,
     "metadata": {},
     "output_type": "execute_result"
    }
   ],
   "source": [
    "emp_df.head(5) #查看前5行的数据\n",
    "emp_df.tail(3) #查看后三行的数据"
   ],
   "metadata": {
    "collapsed": false,
    "pycharm": {
     "name": "#%%\n"
    }
   }
  },
  {
   "cell_type": "markdown",
   "source": [
    "### 读取某一列"
   ],
   "metadata": {
    "collapsed": false,
    "pycharm": {
     "name": "#%% md\n"
    }
   }
  },
  {
   "cell_type": "code",
   "execution_count": 48,
   "outputs": [
    {
     "data": {
      "text/plain": "eno\n1359    胡一刀 \n2056      乔峰\n3088     李莫愁\n3211     张无忌\n3233     丘处机\n3244     欧阳锋\n3251     张翠山\n3344      黄蓉\n3577      杨过\n3588     朱九真\n4466     苗人凤\n5234      郭靖\n5566     宋远桥\n7800     张三丰\nName: ename, dtype: object"
     },
     "execution_count": 48,
     "metadata": {},
     "output_type": "execute_result"
    }
   ],
   "source": [
    "emp_df.ename"
   ],
   "metadata": {
    "collapsed": false,
    "pycharm": {
     "name": "#%%\n"
    }
   }
  },
  {
   "cell_type": "markdown",
   "id": "640789ed",
   "metadata": {},
   "source": [
    "### 读取某一行\n",
    "#### loc[] 根据标签进行输出\n"
   ]
  },
  {
   "cell_type": "code",
   "execution_count": 56,
   "id": "8c6940d8",
   "metadata": {
    "pycharm": {
     "name": "#%%\n"
    }
   },
   "outputs": [
    {
     "data": {
      "text/plain": "     ename  job\neno            \n3211   张无忌  程序员\n3233   丘处机  程序员",
      "text/html": "<div>\n<style scoped>\n    .dataframe tbody tr th:only-of-type {\n        vertical-align: middle;\n    }\n\n    .dataframe tbody tr th {\n        vertical-align: top;\n    }\n\n    .dataframe thead th {\n        text-align: right;\n    }\n</style>\n<table border=\"1\" class=\"dataframe\">\n  <thead>\n    <tr style=\"text-align: right;\">\n      <th></th>\n      <th>ename</th>\n      <th>job</th>\n    </tr>\n    <tr>\n      <th>eno</th>\n      <th></th>\n      <th></th>\n    </tr>\n  </thead>\n  <tbody>\n    <tr>\n      <th>3211</th>\n      <td>张无忌</td>\n      <td>程序员</td>\n    </tr>\n    <tr>\n      <th>3233</th>\n      <td>丘处机</td>\n      <td>程序员</td>\n    </tr>\n  </tbody>\n</table>\n</div>"
     },
     "execution_count": 56,
     "metadata": {},
     "output_type": "execute_result"
    }
   ],
   "source": [
    "# 根据行列标签筛选输出\n",
    "emp_df.loc[[3211,3233],['ename','job']]"
   ]
  },
  {
   "cell_type": "markdown",
   "id": "68894305",
   "metadata": {},
   "source": [
    "### iloc[] 根据坐标进行输出"
   ]
  },
  {
   "cell_type": "code",
   "execution_count": 57,
   "id": "46f20f49",
   "metadata": {
    "pycharm": {
     "name": "#%%\n"
    }
   },
   "outputs": [
    {
     "data": {
      "text/plain": "ename       李莫愁\njob         设计师\nmgr      2056.0\nsal        3500\ncomm      800.0\ndno          20\nName: 3088, dtype: object"
     },
     "execution_count": 57,
     "metadata": {},
     "output_type": "execute_result"
    }
   ],
   "source": [
    "emp_df.iloc[2]"
   ]
  },
  {
   "cell_type": "code",
   "execution_count": 59,
   "id": "ce0be378",
   "metadata": {
    "pycharm": {
     "name": "#%%\n"
    }
   },
   "outputs": [
    {
     "data": {
      "text/plain": "     ename  job     mgr   sal   comm  dno\neno                                      \n3088   李莫愁  设计师  2056.0  3500  800.0   20\n3211   张无忌  程序员  2056.0  3200    NaN   20",
      "text/html": "<div>\n<style scoped>\n    .dataframe tbody tr th:only-of-type {\n        vertical-align: middle;\n    }\n\n    .dataframe tbody tr th {\n        vertical-align: top;\n    }\n\n    .dataframe thead th {\n        text-align: right;\n    }\n</style>\n<table border=\"1\" class=\"dataframe\">\n  <thead>\n    <tr style=\"text-align: right;\">\n      <th></th>\n      <th>ename</th>\n      <th>job</th>\n      <th>mgr</th>\n      <th>sal</th>\n      <th>comm</th>\n      <th>dno</th>\n    </tr>\n    <tr>\n      <th>eno</th>\n      <th></th>\n      <th></th>\n      <th></th>\n      <th></th>\n      <th></th>\n      <th></th>\n    </tr>\n  </thead>\n  <tbody>\n    <tr>\n      <th>3088</th>\n      <td>李莫愁</td>\n      <td>设计师</td>\n      <td>2056.0</td>\n      <td>3500</td>\n      <td>800.0</td>\n      <td>20</td>\n    </tr>\n    <tr>\n      <th>3211</th>\n      <td>张无忌</td>\n      <td>程序员</td>\n      <td>2056.0</td>\n      <td>3200</td>\n      <td>NaN</td>\n      <td>20</td>\n    </tr>\n  </tbody>\n</table>\n</div>"
     },
     "execution_count": 59,
     "metadata": {},
     "output_type": "execute_result"
    }
   ],
   "source": [
    "# 切片\n",
    "emp_df.iloc[2:4]"
   ]
  },
  {
   "cell_type": "code",
   "execution_count": 60,
   "id": "4eb607d3",
   "metadata": {
    "pycharm": {
     "name": "#%%\n"
    }
   },
   "outputs": [
    {
     "data": {
      "text/plain": "eno\n3088    设计师\n3211    程序员\nName: job, dtype: object"
     },
     "execution_count": 60,
     "metadata": {},
     "output_type": "execute_result"
    }
   ],
   "source": [
    "emp_df.iloc[2:4,1]"
   ]
  },
  {
   "cell_type": "markdown",
   "id": "1bfb012d-81c7-40bb-9f4b-22ab86d64f2c",
   "metadata": {},
   "source": [
    "### 内容筛选输出"
   ]
  },
  {
   "cell_type": "code",
   "execution_count": 79,
   "id": "9b13de3f-b488-43a8-8afa-f55cc47f34e3",
   "metadata": {},
   "outputs": [
    {
     "data": {
      "text/plain": "     ename job     mgr   sal  comm  dno\neno                                    \n3577    杨过  会计  5566.0  2200   NaN   10\n3588   朱九真  会计  5566.0  2500   NaN   10",
      "text/html": "<div>\n<style scoped>\n    .dataframe tbody tr th:only-of-type {\n        vertical-align: middle;\n    }\n\n    .dataframe tbody tr th {\n        vertical-align: top;\n    }\n\n    .dataframe thead th {\n        text-align: right;\n    }\n</style>\n<table border=\"1\" class=\"dataframe\">\n  <thead>\n    <tr style=\"text-align: right;\">\n      <th></th>\n      <th>ename</th>\n      <th>job</th>\n      <th>mgr</th>\n      <th>sal</th>\n      <th>comm</th>\n      <th>dno</th>\n    </tr>\n    <tr>\n      <th>eno</th>\n      <th></th>\n      <th></th>\n      <th></th>\n      <th></th>\n      <th></th>\n      <th></th>\n    </tr>\n  </thead>\n  <tbody>\n    <tr>\n      <th>3577</th>\n      <td>杨过</td>\n      <td>会计</td>\n      <td>5566.0</td>\n      <td>2200</td>\n      <td>NaN</td>\n      <td>10</td>\n    </tr>\n    <tr>\n      <th>3588</th>\n      <td>朱九真</td>\n      <td>会计</td>\n      <td>5566.0</td>\n      <td>2500</td>\n      <td>NaN</td>\n      <td>10</td>\n    </tr>\n  </tbody>\n</table>\n</div>"
     },
     "execution_count": 79,
     "metadata": {},
     "output_type": "execute_result"
    }
   ],
   "source": [
    "emp_df[(emp_df.job == '会计')]"
   ]
  },
  {
   "cell_type": "code",
   "execution_count": 94,
   "outputs": [
    {
     "data": {
      "text/plain": "     ename job     mgr   sal  comm  dno\neno                                    \n3588   朱九真  会计  5566.0  2500   NaN   10",
      "text/html": "<div>\n<style scoped>\n    .dataframe tbody tr th:only-of-type {\n        vertical-align: middle;\n    }\n\n    .dataframe tbody tr th {\n        vertical-align: top;\n    }\n\n    .dataframe thead th {\n        text-align: right;\n    }\n</style>\n<table border=\"1\" class=\"dataframe\">\n  <thead>\n    <tr style=\"text-align: right;\">\n      <th></th>\n      <th>ename</th>\n      <th>job</th>\n      <th>mgr</th>\n      <th>sal</th>\n      <th>comm</th>\n      <th>dno</th>\n    </tr>\n    <tr>\n      <th>eno</th>\n      <th></th>\n      <th></th>\n      <th></th>\n      <th></th>\n      <th></th>\n      <th></th>\n    </tr>\n  </thead>\n  <tbody>\n    <tr>\n      <th>3588</th>\n      <td>朱九真</td>\n      <td>会计</td>\n      <td>5566.0</td>\n      <td>2500</td>\n      <td>NaN</td>\n      <td>10</td>\n    </tr>\n  </tbody>\n</table>\n</div>"
     },
     "execution_count": 94,
     "metadata": {},
     "output_type": "execute_result"
    }
   ],
   "source": [
    "emp_df[(emp_df.job == '会计') & (emp_df.sal > 2200)]"
   ],
   "metadata": {
    "collapsed": false,
    "pycharm": {
     "name": "#%%\n"
    }
   }
  },
  {
   "cell_type": "markdown",
   "source": [
    "### !!!利用query()方法实现数据筛选\n",
    "参数是一个字符串，它代表了筛选数据使用的表达式，而且更符合 Python 程序员的使用习惯。"
   ],
   "metadata": {
    "collapsed": false,
    "pycharm": {
     "name": "#%% md\n"
    }
   }
  },
  {
   "cell_type": "code",
   "execution_count": 98,
   "outputs": [
    {
     "data": {
      "text/plain": "     ename job     mgr   sal  comm  dno\neno                                    \n3588   朱九真  会计  5566.0  2500   NaN   10",
      "text/html": "<div>\n<style scoped>\n    .dataframe tbody tr th:only-of-type {\n        vertical-align: middle;\n    }\n\n    .dataframe tbody tr th {\n        vertical-align: top;\n    }\n\n    .dataframe thead th {\n        text-align: right;\n    }\n</style>\n<table border=\"1\" class=\"dataframe\">\n  <thead>\n    <tr style=\"text-align: right;\">\n      <th></th>\n      <th>ename</th>\n      <th>job</th>\n      <th>mgr</th>\n      <th>sal</th>\n      <th>comm</th>\n      <th>dno</th>\n    </tr>\n    <tr>\n      <th>eno</th>\n      <th></th>\n      <th></th>\n      <th></th>\n      <th></th>\n      <th></th>\n      <th></th>\n    </tr>\n  </thead>\n  <tbody>\n    <tr>\n      <th>3588</th>\n      <td>朱九真</td>\n      <td>会计</td>\n      <td>5566.0</td>\n      <td>2500</td>\n      <td>NaN</td>\n      <td>10</td>\n    </tr>\n  </tbody>\n</table>\n</div>"
     },
     "execution_count": 98,
     "metadata": {},
     "output_type": "execute_result"
    }
   ],
   "source": [
    "emp_df.query(\"job == '会计' and sal > 2200\")"
   ],
   "metadata": {
    "collapsed": false,
    "pycharm": {
     "name": "#%%\n"
    }
   }
  },
  {
   "cell_type": "markdown",
   "id": "b36b1e9c-f886-4b0a-9020-c70eeb8439ab",
   "metadata": {},
   "source": [
    "输出的时候可以直接进行赋值"
   ]
  },
  {
   "cell_type": "markdown",
   "id": "d7367734",
   "metadata": {},
   "source": [
    "### 对存在空值的行或列进行处理"
   ]
  },
  {
   "cell_type": "markdown",
   "id": "f40f5012-d601-4641-bab6-fb6df9ed9851",
   "metadata": {},
   "source": [
    "## 空值处理\n",
    "DataFrame的空值处理与Series相同"
   ]
  },
  {
   "cell_type": "code",
   "execution_count": 99,
   "id": "140cbd79-b81c-4b74-a7ae-5dd28a53e217",
   "metadata": {},
   "outputs": [
    {
     "data": {
      "text/plain": "      ename    job    mgr    sal   comm    dno\neno                                           \n1359  False  False  False  False  False  False\n2056  False  False  False  False  False  False\n3088  False  False  False  False  False  False\n3211  False  False  False  False   True  False\n3233  False  False  False  False   True  False\n3244  False  False  False  False   True  False\n3251  False  False  False  False   True  False\n3344  False  False  False  False  False  False\n3577  False  False  False  False   True  False\n3588  False  False  False  False   True  False\n4466  False  False  False  False   True  False\n5234  False  False  False  False   True  False\n5566  False  False  False  False  False  False\n7800  False  False   True  False  False  False",
      "text/html": "<div>\n<style scoped>\n    .dataframe tbody tr th:only-of-type {\n        vertical-align: middle;\n    }\n\n    .dataframe tbody tr th {\n        vertical-align: top;\n    }\n\n    .dataframe thead th {\n        text-align: right;\n    }\n</style>\n<table border=\"1\" class=\"dataframe\">\n  <thead>\n    <tr style=\"text-align: right;\">\n      <th></th>\n      <th>ename</th>\n      <th>job</th>\n      <th>mgr</th>\n      <th>sal</th>\n      <th>comm</th>\n      <th>dno</th>\n    </tr>\n    <tr>\n      <th>eno</th>\n      <th></th>\n      <th></th>\n      <th></th>\n      <th></th>\n      <th></th>\n      <th></th>\n    </tr>\n  </thead>\n  <tbody>\n    <tr>\n      <th>1359</th>\n      <td>False</td>\n      <td>False</td>\n      <td>False</td>\n      <td>False</td>\n      <td>False</td>\n      <td>False</td>\n    </tr>\n    <tr>\n      <th>2056</th>\n      <td>False</td>\n      <td>False</td>\n      <td>False</td>\n      <td>False</td>\n      <td>False</td>\n      <td>False</td>\n    </tr>\n    <tr>\n      <th>3088</th>\n      <td>False</td>\n      <td>False</td>\n      <td>False</td>\n      <td>False</td>\n      <td>False</td>\n      <td>False</td>\n    </tr>\n    <tr>\n      <th>3211</th>\n      <td>False</td>\n      <td>False</td>\n      <td>False</td>\n      <td>False</td>\n      <td>True</td>\n      <td>False</td>\n    </tr>\n    <tr>\n      <th>3233</th>\n      <td>False</td>\n      <td>False</td>\n      <td>False</td>\n      <td>False</td>\n      <td>True</td>\n      <td>False</td>\n    </tr>\n    <tr>\n      <th>3244</th>\n      <td>False</td>\n      <td>False</td>\n      <td>False</td>\n      <td>False</td>\n      <td>True</td>\n      <td>False</td>\n    </tr>\n    <tr>\n      <th>3251</th>\n      <td>False</td>\n      <td>False</td>\n      <td>False</td>\n      <td>False</td>\n      <td>True</td>\n      <td>False</td>\n    </tr>\n    <tr>\n      <th>3344</th>\n      <td>False</td>\n      <td>False</td>\n      <td>False</td>\n      <td>False</td>\n      <td>False</td>\n      <td>False</td>\n    </tr>\n    <tr>\n      <th>3577</th>\n      <td>False</td>\n      <td>False</td>\n      <td>False</td>\n      <td>False</td>\n      <td>True</td>\n      <td>False</td>\n    </tr>\n    <tr>\n      <th>3588</th>\n      <td>False</td>\n      <td>False</td>\n      <td>False</td>\n      <td>False</td>\n      <td>True</td>\n      <td>False</td>\n    </tr>\n    <tr>\n      <th>4466</th>\n      <td>False</td>\n      <td>False</td>\n      <td>False</td>\n      <td>False</td>\n      <td>True</td>\n      <td>False</td>\n    </tr>\n    <tr>\n      <th>5234</th>\n      <td>False</td>\n      <td>False</td>\n      <td>False</td>\n      <td>False</td>\n      <td>True</td>\n      <td>False</td>\n    </tr>\n    <tr>\n      <th>5566</th>\n      <td>False</td>\n      <td>False</td>\n      <td>False</td>\n      <td>False</td>\n      <td>False</td>\n      <td>False</td>\n    </tr>\n    <tr>\n      <th>7800</th>\n      <td>False</td>\n      <td>False</td>\n      <td>True</td>\n      <td>False</td>\n      <td>False</td>\n      <td>False</td>\n    </tr>\n  </tbody>\n</table>\n</div>"
     },
     "execution_count": 99,
     "metadata": {},
     "output_type": "execute_result"
    }
   ],
   "source": [
    "# 判断空值,isnull()方法对DataFrame中每个元素内容进行判断\n",
    "emp_df.isnull()"
   ]
  },
  {
   "cell_type": "markdown",
   "id": "c50dea37-d561-49af-a9c2-be245c27515b",
   "metadata": {},
   "source": [
    "## 利用pandas进行导入与导出操作"
   ]
  },
  {
   "cell_type": "markdown",
   "id": "26eda896-7d72-42e8-bd04-6af9532a8c47",
   "metadata": {},
   "source": [
    "### 从CSV文件读取DataFrame对象\n",
    "利用read_csv()\n",
    "重要参数如下\n",
    "- `sep` / `delimiter`：分隔符，默认是`,`。\n",
    "- `header`：表头（列索引）的位置，默认值是`infer`，用第一行的内容作为表头（列索引）。\n",
    "- `index_col`：用作行索引（标签）的列。\n",
    "- `usecols`：需要加载的列，可以使用序号或者列名。\n",
    "- `true_values` / `false_values`：哪些值被视为布尔值`True` / `False`。\n",
    "- `skiprows`：通过行号、索引或函数指定需要跳过的行。\n",
    "- `skipfooter`：要跳过的末尾行数。\n",
    "- `nrows`：需要读取的行数。\n",
    "- `na_values`：哪些值被视为空值。\n"
   ]
  },
  {
   "cell_type": "code",
   "execution_count": null,
   "id": "c303df90",
   "metadata": {
    "pycharm": {
     "name": "#%%\n"
    }
   },
   "outputs": [],
   "source": [
    "student_data=pd.read_csv('res/student.csv',true_values=['Male'],false_values=['Female'],index_col='Student ID')\n",
    "student_data"
   ]
  },
  {
   "cell_type": "code",
   "execution_count": null,
   "id": "27724509-0025-4e73-a0a2-269c0a861964",
   "metadata": {
    "pycharm": {
     "is_executing": true
    }
   },
   "outputs": [],
   "source": [
    "dataframe1.to_csv('res/test.csv',encoding='utf_8_sig')\n"
   ]
  },
  {
   "cell_type": "markdown",
   "id": "5b4e0de6",
   "metadata": {
    "pycharm": {
     "name": "#%% md\n"
    }
   },
   "source": [
    "### 从EXCEL中读取DataFrame对象\n",
    "read_excel()方法,多了一个sheet_name参数来指定数据表的名称，但是不同于 CSV 文件，没有sep或delimiter这样的参数。下面的代码中，read_excel函数的skiprows参数是一个 Lambda 函数，通过该 Lambda 函数指定只读取 Excel 文件的表头和其中10%的数据，跳过其他的数据。"
   ]
  },
  {
   "cell_type": "code",
   "execution_count": 38,
   "id": "ebf23830",
   "metadata": {
    "pycharm": {
     "name": "#%%\n"
    }
   },
   "outputs": [
    {
     "data": {
      "text/plain": "   序号               账号         密码   姓名          account   password\n0   1  wangbaoxia04516  DKce62286  王宝霞   tianguanfu6161  Amju6385#\n1   2    lanzijun04591  HDje62223  蓝子俊    maorui1jun661        NaN\n2   3   wangwenxu04611  EPlu05625  王文旭     lubos3han661        NaN\n3   4  pengyutong04621         44  彭雨彤       jizheng661        NaN\n4   5      yufang04631        123   于放  shaxiangfeng661        NaN",
      "text/html": "<div>\n<style scoped>\n    .dataframe tbody tr th:only-of-type {\n        vertical-align: middle;\n    }\n\n    .dataframe tbody tr th {\n        vertical-align: top;\n    }\n\n    .dataframe thead th {\n        text-align: right;\n    }\n</style>\n<table border=\"1\" class=\"dataframe\">\n  <thead>\n    <tr style=\"text-align: right;\">\n      <th></th>\n      <th>序号</th>\n      <th>账号</th>\n      <th>密码</th>\n      <th>姓名</th>\n      <th>account</th>\n      <th>password</th>\n    </tr>\n  </thead>\n  <tbody>\n    <tr>\n      <th>0</th>\n      <td>1</td>\n      <td>wangbaoxia04516</td>\n      <td>DKce62286</td>\n      <td>王宝霞</td>\n      <td>tianguanfu6161</td>\n      <td>Amju6385#</td>\n    </tr>\n    <tr>\n      <th>1</th>\n      <td>2</td>\n      <td>lanzijun04591</td>\n      <td>HDje62223</td>\n      <td>蓝子俊</td>\n      <td>maorui1jun661</td>\n      <td>NaN</td>\n    </tr>\n    <tr>\n      <th>2</th>\n      <td>3</td>\n      <td>wangwenxu04611</td>\n      <td>EPlu05625</td>\n      <td>王文旭</td>\n      <td>lubos3han661</td>\n      <td>NaN</td>\n    </tr>\n    <tr>\n      <th>3</th>\n      <td>4</td>\n      <td>pengyutong04621</td>\n      <td>44</td>\n      <td>彭雨彤</td>\n      <td>jizheng661</td>\n      <td>NaN</td>\n    </tr>\n    <tr>\n      <th>4</th>\n      <td>5</td>\n      <td>yufang04631</td>\n      <td>123</td>\n      <td>于放</td>\n      <td>shaxiangfeng661</td>\n      <td>NaN</td>\n    </tr>\n  </tbody>\n</table>\n</div>"
     },
     "execution_count": 38,
     "metadata": {},
     "output_type": "execute_result"
    }
   ],
   "source": [
    "testDF= pd.read_excel(\n",
    "    io='res/EXCEL_test.xlsx',\n",
    "    usecols = ['序号','账号','密码','姓名','account','password'],\n",
    "    header= 2\n",
    ")\n",
    "testDF"
   ]
  },
  {
   "cell_type": "markdown",
   "id": "739cbff0",
   "metadata": {
    "pycharm": {
     "name": "#%% md\n"
    }
   },
   "source": [
    "### 从数据库中读取DataFrame"
   ]
  },
  {
   "cell_type": "code",
   "execution_count": 36,
   "id": "8bca02f0",
   "metadata": {
    "pycharm": {
     "name": "#%%\n"
    }
   },
   "outputs": [],
   "source": [
    "import pymysql\n",
    "# 创建一个MySQL数据库的连接对象\n",
    "conn = pymysql.connect(\n",
    "    host='47.104.31.138', port=3306,\n",
    "    user='guest', password='Guest.618',\n",
    "    database='hrs', charset='utf8mb4'\n",
    ")\n",
    "# 通过SQL从数据库读取数据创建DataFrame\n",
    "dept_df = pd.read_sql('select * from tb_dept', conn, index_col='dno')\n",
    "emp_df = pd.read_sql('select * from tb_emp', conn, index_col='eno')\n",
    "emp2_df = pd.read_sql('select * from tb_emp2', conn, index_col='eno')"
   ]
  },
  {
   "cell_type": "markdown",
   "id": "5ab36839-5e2d-4de0-adda-d6ead0118147",
   "metadata": {},
   "source": [
    "## 合并与分割"
   ]
  },
  {
   "cell_type": "markdown",
   "id": "a675b32f-87ee-45da-a675-fe5070a5af19",
   "metadata": {},
   "source": [
    "### 合并concat"
   ]
  },
  {
   "cell_type": "code",
   "execution_count": 100,
   "id": "eb27e867-03dc-4e59-a1ad-fe47889d0390",
   "metadata": {},
   "outputs": [],
   "source": [
    "df1=pd.DataFrame(np.ones((3,4))*0,columns=['a','b','c','d'])\n",
    "df2=pd.DataFrame(np.ones((3,4))*1,columns=['a','b','c','d'])\n",
    "df3=pd.DataFrame(np.ones((3,4))*2,columns=['a','b','c','d'])\n",
    "# print(df1)"
   ]
  },
  {
   "cell_type": "code",
   "execution_count": 102,
   "id": "1d4bb416-2c36-4281-9234-f56f41c23307",
   "metadata": {},
   "outputs": [
    {
     "data": {
      "text/plain": "     a    b    c    d\n0  0.0  0.0  0.0  0.0\n1  0.0  0.0  0.0  0.0\n2  0.0  0.0  0.0  0.0\n3  1.0  1.0  1.0  1.0\n4  1.0  1.0  1.0  1.0\n5  1.0  1.0  1.0  1.0\n6  2.0  2.0  2.0  2.0\n7  2.0  2.0  2.0  2.0\n8  2.0  2.0  2.0  2.0",
      "text/html": "<div>\n<style scoped>\n    .dataframe tbody tr th:only-of-type {\n        vertical-align: middle;\n    }\n\n    .dataframe tbody tr th {\n        vertical-align: top;\n    }\n\n    .dataframe thead th {\n        text-align: right;\n    }\n</style>\n<table border=\"1\" class=\"dataframe\">\n  <thead>\n    <tr style=\"text-align: right;\">\n      <th></th>\n      <th>a</th>\n      <th>b</th>\n      <th>c</th>\n      <th>d</th>\n    </tr>\n  </thead>\n  <tbody>\n    <tr>\n      <th>0</th>\n      <td>0.0</td>\n      <td>0.0</td>\n      <td>0.0</td>\n      <td>0.0</td>\n    </tr>\n    <tr>\n      <th>1</th>\n      <td>0.0</td>\n      <td>0.0</td>\n      <td>0.0</td>\n      <td>0.0</td>\n    </tr>\n    <tr>\n      <th>2</th>\n      <td>0.0</td>\n      <td>0.0</td>\n      <td>0.0</td>\n      <td>0.0</td>\n    </tr>\n    <tr>\n      <th>3</th>\n      <td>1.0</td>\n      <td>1.0</td>\n      <td>1.0</td>\n      <td>1.0</td>\n    </tr>\n    <tr>\n      <th>4</th>\n      <td>1.0</td>\n      <td>1.0</td>\n      <td>1.0</td>\n      <td>1.0</td>\n    </tr>\n    <tr>\n      <th>5</th>\n      <td>1.0</td>\n      <td>1.0</td>\n      <td>1.0</td>\n      <td>1.0</td>\n    </tr>\n    <tr>\n      <th>6</th>\n      <td>2.0</td>\n      <td>2.0</td>\n      <td>2.0</td>\n      <td>2.0</td>\n    </tr>\n    <tr>\n      <th>7</th>\n      <td>2.0</td>\n      <td>2.0</td>\n      <td>2.0</td>\n      <td>2.0</td>\n    </tr>\n    <tr>\n      <th>8</th>\n      <td>2.0</td>\n      <td>2.0</td>\n      <td>2.0</td>\n      <td>2.0</td>\n    </tr>\n  </tbody>\n</table>\n</div>"
     },
     "execution_count": 102,
     "metadata": {},
     "output_type": "execute_result"
    }
   ],
   "source": [
    "# 忽视掉序列号\n",
    "res=pd.concat([df1,df2,df3],axis=0,ignore_index=True)\n",
    "res"
   ]
  },
  {
   "cell_type": "markdown",
   "id": "6ed82fed-5fd0-4964-97f5-28d3d5790542",
   "metadata": {},
   "source": [
    "### 连接join(outer与inner)"
   ]
  },
  {
   "cell_type": "code",
   "execution_count": null,
   "id": "bc52af98-50c5-4cea-a678-9b3568a90202",
   "metadata": {},
   "outputs": [],
   "source": [
    "#使用不同标签的列进行合并\n",
    "df1=pd.DataFrame(np.ones((3,4))*0,columns=['a','b','c','d'],index=[1,2,3])\n",
    "df2=pd.DataFrame(np.ones((3,4))*1,columns=['b','c','d','e'],index=[2,3,4])\n",
    "df1"
   ]
  },
  {
   "cell_type": "code",
   "execution_count": null,
   "id": "40454ea6-2ef2-4f11-808f-d0098aca6539",
   "metadata": {},
   "outputs": [],
   "source": [
    "df2"
   ]
  },
  {
   "cell_type": "code",
   "execution_count": null,
   "id": "e6420051-cc0e-47b3-96d6-a7085fd66255",
   "metadata": {},
   "outputs": [],
   "source": [
    "res=pd.concat([df1,df2],join='outer')\n",
    "res"
   ]
  },
  {
   "cell_type": "code",
   "execution_count": null,
   "id": "017d851a-7a1a-45e6-bad5-4430d271e111",
   "metadata": {},
   "outputs": [],
   "source": [
    "res=pd.concat([df1,df2],join='inner')\n",
    "res=pd.concat([df1,df2],join='inner',ignore_index=True)\n",
    "res"
   ]
  },
  {
   "cell_type": "markdown",
   "id": "91f2d9e3-19e4-4013-b873-76528418a73b",
   "metadata": {},
   "source": [
    "### 通过append()添加Series"
   ]
  },
  {
   "cell_type": "markdown",
   "source": [],
   "metadata": {
    "collapsed": false
   }
  },
  {
   "cell_type": "code",
   "execution_count": null,
   "id": "10df9bbe-7ccb-4bd9-a0cc-7b2892056b41",
   "metadata": {},
   "outputs": [],
   "source": [
    "series1=pd.Series([1,2,3,4],index=['a','b','c','d'])\n",
    "res=df1.append(series1,ignore_index=True)\n",
    "res"
   ]
  },
  {
   "cell_type": "markdown",
   "id": "80d66f27-86bd-4d61-a20e-226ac08712ae",
   "metadata": {},
   "source": [
    "### merge()进行合并"
   ]
  },
  {
   "cell_type": "markdown",
   "id": "fc711276-3f49-4a0a-a898-ee9eb5dcb0e9",
   "metadata": {},
   "source": [
    "#### 根据一个key进行合并"
   ]
  },
  {
   "cell_type": "code",
   "execution_count": null,
   "id": "80360a5d-ec10-4925-acd8-88150d35696b",
   "metadata": {},
   "outputs": [],
   "source": [
    "# 通过字典的形式进行创建dataframe\n",
    "df_left=pd.DataFrame({'key':['K0','aa','K2','K3'],\n",
    "                      'A':['A0','A1','A2','A3'],\n",
    "                      'B':['B0','B1','B2','B3']\n",
    "                     })\n",
    "df_right=pd.DataFrame({'key':['K0','bb','K2','K3'],\n",
    "                      'C':['C0','C1','C2','C3'],\n",
    "                      'D':['D0','D1','D2','D3']\n",
    "                     })"
   ]
  },
  {
   "cell_type": "code",
   "execution_count": null,
   "id": "b2202976-95db-4d8a-8fce-bb5a64f2877c",
   "metadata": {},
   "outputs": [],
   "source": [
    "df_right"
   ]
  },
  {
   "cell_type": "code",
   "execution_count": null,
   "id": "e1533390-c6b2-4246-ab80-825078a01ac6",
   "metadata": {},
   "outputs": [],
   "source": [
    "res=pd.merge(df_left,df_right,on='key')# 仅合并相同的部分\n",
    "res"
   ]
  },
  {
   "cell_type": "markdown",
   "id": "87e2150b-bbfd-4bd9-bb79-54d1990ef4dd",
   "metadata": {},
   "source": [
    "#### 根据多个key进行合并"
   ]
  },
  {
   "cell_type": "code",
   "execution_count": null,
   "id": "428ac1ed-3760-4d9b-b5f3-e7fa055e35d7",
   "metadata": {},
   "outputs": [],
   "source": [
    "df_left=pd.DataFrame({'key1':['K0','aa','K2','K3'],\n",
    "                      'key2':['K1','K2','K5','K3'],\n",
    "                      'A':['A0','A1','A2','A3'],\n",
    "                      'B':['B0','B1','B2','B3']\n",
    "                     })\n",
    "df_right=pd.DataFrame({'key1':['K0','bb','K2','K3'],\n",
    "                       'key2':['K1','K0','K0','K0'],\n",
    "                      'C':['C0','C1','C2','C3'],\n",
    "                      'D':['D0','D1','D2','D3']\n",
    "                     })"
   ]
  },
  {
   "cell_type": "code",
   "execution_count": null,
   "id": "ea76a0a9-9f18-421a-91fc-f4d140df7fff",
   "metadata": {},
   "outputs": [],
   "source": [
    "res=pd.merge(df_left,df_right,on=['key1','key2']) #默认为how='inner'\n",
    "res"
   ]
  },
  {
   "cell_type": "code",
   "execution_count": null,
   "id": "d3599924-7afd-4cba-86ca-2f1536b9c6db",
   "metadata": {},
   "outputs": [],
   "source": [
    "res=pd.merge(df_left,df_right,on=['key1','key2'],how='right') \n",
    "res"
   ]
  },
  {
   "cell_type": "code",
   "execution_count": null,
   "id": "37f18691-162c-4c41-8dce-95302ca196cb",
   "metadata": {},
   "outputs": [],
   "source": [
    "res=pd.merge(df_left,df_right,on=['key1','key2'],how='left') \n",
    "res"
   ]
  },
  {
   "cell_type": "code",
   "execution_count": null,
   "id": "7a908135-c062-4541-8acf-13f8e75d0710",
   "metadata": {},
   "outputs": [],
   "source": [
    "res=pd.merge(df_left,df_right,on=['key1','key2'],how='outer',indicator='indicator_column') # 添加指示器并对指示器命名\n",
    "res"
   ]
  },
  {
   "cell_type": "markdown",
   "id": "6c0eb439-1bb0-41d4-8d99-63c85faa6c0b",
   "metadata": {},
   "source": [
    "#### 根据index进行合并"
   ]
  },
  {
   "cell_type": "code",
   "execution_count": null,
   "id": "bbbc23d2-be4b-495d-8036-c9ed008d56b7",
   "metadata": {},
   "outputs": [],
   "source": [
    "df_left=pd.DataFrame({'A':['A0','A1','A2','A3'],\n",
    "                      'B':['B0','B1','B2','B3']},\n",
    "                     index=['K0','aa','K2','K3'],)\n",
    "df_right=pd.DataFrame({'C':['C0','C1','C2','C3'],\n",
    "                      'D':['D0','D1','D2','D3']},\n",
    "                     index=['K0','ab','K4','K3'])"
   ]
  },
  {
   "cell_type": "code",
   "execution_count": null,
   "id": "b1acef8e-7277-4369-bb8b-a14a13134386",
   "metadata": {},
   "outputs": [],
   "source": [
    "res=pd.merge(df_left,df_right,left_index=True,right_index=True,how='outer',indicator=True)\n",
    "res"
   ]
  },
  {
   "cell_type": "code",
   "execution_count": null,
   "id": "f472c22f-5128-4f45-b5d8-769381b06cd6",
   "metadata": {},
   "outputs": [],
   "source": [
    "df_boys=pd.DataFrame({'年龄':[12,34,12],\n",
    "                      '班级':[1,2,3]})\n",
    "df_girls=pd.DataFrame({'班级':[1,2,4],\n",
    "                     '年龄':[23,13,17]})"
   ]
  },
  {
   "cell_type": "code",
   "execution_count": null,
   "id": "9ea95807-64b5-4697-8697-acb88460a04c",
   "metadata": {},
   "outputs": [],
   "source": [
    "# 输出两个表中相同班级的男孩女孩，并在年龄后添加后缀\n",
    "res=pd.merge(df_boys,df_girls,on='班级',suffixes=['_男孩','_女孩'],how='inner')\n",
    "res"
   ]
  },
  {
   "cell_type": "markdown",
   "id": "e71e1fc7-f86c-4c0a-a85e-b3e7e4223f02",
   "metadata": {},
   "source": [
    "## pandas的数据可视化plot"
   ]
  },
  {
   "cell_type": "code",
   "execution_count": 104,
   "id": "06ee1db8-9b03-4f85-aaa4-91b465bf8001",
   "metadata": {},
   "outputs": [
    {
     "data": {
      "text/plain": "0   -0.839630\n1   -0.259675\n2   -0.557927\n3   -0.325140\n4   -0.015131\n5    0.245846\n6   -0.499989\n7    0.284506\n8    0.688556\n9   -2.615733\ndtype: float64"
     },
     "execution_count": 104,
     "metadata": {},
     "output_type": "execute_result"
    }
   ],
   "source": [
    "series1=pd.Series(np.random.randn(1000),index=np.arange(1000)) \n",
    "series1[:10]"
   ]
  },
  {
   "cell_type": "code",
   "execution_count": 105,
   "id": "80e113fc-d9ef-478f-8d5c-1db370251298",
   "metadata": {},
   "outputs": [
    {
     "data": {
      "text/plain": "<AxesSubplot:>"
     },
     "execution_count": 105,
     "metadata": {},
     "output_type": "execute_result"
    },
    {
     "data": {
      "text/plain": "<Figure size 432x288 with 1 Axes>",
      "image/png": "[encoded data removed]"
     },
     "metadata": {
      "needs_background": "light"
     },
     "output_type": "display_data"
    }
   ],
   "source": [
    "series1=series1.cumsum() # 累加\n",
    "series1.plot()"
   ]
  },
  {
   "cell_type": "code",
   "execution_count": 111,
   "id": "a709007d-24b7-456d-a577-7c89f7d306d1",
   "metadata": {},
   "outputs": [
    {
     "name": "stderr",
     "output_type": "stream",
     "text": [
      "UsageError: Line magic function `%%` not found.\n"
     ]
    },
    {
     "data": {
      "text/plain": "<Figure size 432x288 with 1 Axes>",
      "image/png": "[encoded data removed]"
     },
     "metadata": {
      "needs_background": "light"
     },
     "output_type": "display_data"
    },
    {
     "data": {
      "text/plain": "<Figure size 432x288 with 1 Axes>",
      "image/png": "[encoded data removed]"
     },
     "metadata": {
      "needs_background": "light"
     },
     "output_type": "display_data"
    }
   ],
   "source": [
    "series2=pd.DataFrame(np.random.randint(1,5,(20,4)),index=np.arange(20),columns=list('ABCD'))\n",
    "series2.plot()\n",
    "\n",
    "series2.cumsum()\n",
    "series2.plot()\n",
    "# plot的方法:\n",
    "    # bar,hist,box,kde,area,scatter,hexbin,pie"
   ]
  },
  {
   "cell_type": "code",
   "execution_count": 112,
   "outputs": [
    {
     "data": {
      "text/plain": "<AxesSubplot:xlabel='A', ylabel='C'>"
     },
     "execution_count": 112,
     "metadata": {},
     "output_type": "execute_result"
    },
    {
     "data": {
      "text/plain": "<Figure size 432x288 with 1 Axes>",
      "image/png": "[encoded data removed]"
     },
     "metadata": {
      "needs_background": "light"
     },
     "output_type": "display_data"
    }
   ],
   "source": [
    "ax=series2.plot.scatter(x='A',y='B',color='DarkBlue',label='Class 1')\n",
    "series2.plot.scatter(x='A',y='C',color='Green',label='Class 2',ax=ax)"
   ],
   "metadata": {
    "collapsed": false,
    "pycharm": {
     "name": "#%%\n"
    }
   }
  },
  {
   "cell_type": "markdown",
   "id": "ede3de2c-b3b9-48d2-83af-ab2b1ec40172",
   "metadata": {
    "pycharm": {
     "name": "#%% md\n"
    }
   },
   "source": [
    "# Finish,完结撒花✌"
   ]
  }
 ],
 "metadata": {
  "kernelspec": {
   "display_name": "Python 3 (ipykernel)",
   "language": "python",
   "name": "python3"
  },
  "language_info": {
   "codemirror_mode": {
    "name": "ipython",
    "version": 3
   },
   "file_extension": ".py",
   "mimetype": "text/x-python",
   "name": "python",
   "nbconvert_exporter": "python",
   "pygments_lexer": "ipython3",
   "version": "3.9.7"
  },
  "toc-showtags": false
 },
 "nbformat": 4,
 "nbformat_minor": 5
}