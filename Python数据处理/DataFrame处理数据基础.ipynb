{
 "cells": [
  {
   "cell_type": "code",
   "execution_count": 2,
   "metadata": {
    "collapsed": true
   },
   "outputs": [],
   "source": [
    "import numpy as np\n",
    "import pandas as pd"
   ]
  },
  {
   "cell_type": "code",
   "execution_count": 2,
   "outputs": [],
   "source": [
    "scores = np.random.randint(50, 101, (5, 3))\n",
    "names = ('关羽', '张飞', '赵云', '马超', '黄忠')\n",
    "courses = ('语文', '数学', '英语')\n",
    "df_score = pd.DataFrame(data=scores, columns=courses, index=names)"
   ],
   "metadata": {
    "collapsed": false,
    "pycharm": {
     "name": "#%%\n"
    }
   }
  },
  {
   "cell_type": "markdown",
   "source": [
    "### TOPN"
   ],
   "metadata": {
    "collapsed": false,
    "pycharm": {
     "name": "#%% md\n"
    }
   }
  },
  {
   "cell_type": "code",
   "execution_count": 3,
   "outputs": [
    {
     "data": {
      "text/plain": "    语文  数学  英语\n赵云  96  75  58\n马超  89  80  77\n关羽  77  61  66",
      "text/html": "<div>\n<style scoped>\n    .dataframe tbody tr th:only-of-type {\n        vertical-align: middle;\n    }\n\n    .dataframe tbody tr th {\n        vertical-align: top;\n    }\n\n    .dataframe thead th {\n        text-align: right;\n    }\n</style>\n<table border=\"1\" class=\"dataframe\">\n  <thead>\n    <tr style=\"text-align: right;\">\n      <th></th>\n      <th>语文</th>\n      <th>数学</th>\n      <th>英语</th>\n    </tr>\n  </thead>\n  <tbody>\n    <tr>\n      <th>赵云</th>\n      <td>96</td>\n      <td>75</td>\n      <td>58</td>\n    </tr>\n    <tr>\n      <th>马超</th>\n      <td>89</td>\n      <td>80</td>\n      <td>77</td>\n    </tr>\n    <tr>\n      <th>关羽</th>\n      <td>77</td>\n      <td>61</td>\n      <td>66</td>\n    </tr>\n  </tbody>\n</table>\n</div>"
     },
     "execution_count": 3,
     "metadata": {},
     "output_type": "execute_result"
    }
   ],
   "source": [
    "# 获取按语文成绩排名的前三名\n",
    "df_score.nlargest(3,'语文')"
   ],
   "metadata": {
    "collapsed": false,
    "pycharm": {
     "name": "#%%\n"
    }
   }
  },
  {
   "cell_type": "code",
   "execution_count": 4,
   "outputs": [
    {
     "data": {
      "text/plain": "    语文  数学  英语\n关羽  77  61  66\n赵云  96  75  58\n黄忠  74  75  65",
      "text/html": "<div>\n<style scoped>\n    .dataframe tbody tr th:only-of-type {\n        vertical-align: middle;\n    }\n\n    .dataframe tbody tr th {\n        vertical-align: top;\n    }\n\n    .dataframe thead th {\n        text-align: right;\n    }\n</style>\n<table border=\"1\" class=\"dataframe\">\n  <thead>\n    <tr style=\"text-align: right;\">\n      <th></th>\n      <th>语文</th>\n      <th>数学</th>\n      <th>英语</th>\n    </tr>\n  </thead>\n  <tbody>\n    <tr>\n      <th>关羽</th>\n      <td>77</td>\n      <td>61</td>\n      <td>66</td>\n    </tr>\n    <tr>\n      <th>赵云</th>\n      <td>96</td>\n      <td>75</td>\n      <td>58</td>\n    </tr>\n    <tr>\n      <th>黄忠</th>\n      <td>74</td>\n      <td>75</td>\n      <td>65</td>\n    </tr>\n  </tbody>\n</table>\n</div>"
     },
     "execution_count": 4,
     "metadata": {},
     "output_type": "execute_result"
    }
   ],
   "source": [
    "# 获取按数学成绩排名的后三名\n",
    "df_score.nsmallest(3,'数学')"
   ],
   "metadata": {
    "collapsed": false,
    "pycharm": {
     "name": "#%%\n"
    }
   }
  },
  {
   "cell_type": "code",
   "execution_count": 5,
   "outputs": [
    {
     "data": {
      "text/plain": "语文    82.6\n数学    78.0\n英语    71.8\ndtype: float64"
     },
     "execution_count": 5,
     "metadata": {},
     "output_type": "execute_result"
    }
   ],
   "source": [
    "# 按学科获取平均成绩\n",
    "df_score.mean()"
   ],
   "metadata": {
    "collapsed": false,
    "pycharm": {
     "name": "#%%\n"
    }
   }
  },
  {
   "cell_type": "code",
   "execution_count": 6,
   "outputs": [
    {
     "data": {
      "text/plain": "关羽    68.000000\n张飞    89.666667\n赵云    76.333333\n马超    82.000000\n黄忠    71.333333\ndtype: float64"
     },
     "execution_count": 6,
     "metadata": {},
     "output_type": "execute_result"
    }
   ],
   "source": [
    "# 按学生获取平均成绩\n",
    "df_score.mean(axis=1)"
   ],
   "metadata": {
    "collapsed": false,
    "pycharm": {
     "name": "#%%\n"
    }
   }
  },
  {
   "cell_type": "code",
   "execution_count": 7,
   "outputs": [
    {
     "name": "stdout",
     "output_type": "stream",
     "text": [
      "<class 'pandas.core.frame.DataFrame'>\n",
      "RangeIndex: 1945 entries, 0 to 1944\n",
      "Data columns (total 7 columns):\n",
      " #   Column  Non-Null Count  Dtype         \n",
      "---  ------  --------------  -----         \n",
      " 0   销售日期    1945 non-null   datetime64[ns]\n",
      " 1   销售区域    1945 non-null   object        \n",
      " 2   销售渠道    1945 non-null   object        \n",
      " 3   销售订单    1945 non-null   object        \n",
      " 4   品牌      1945 non-null   object        \n",
      " 5   售价      1945 non-null   int64         \n",
      " 6   销售数量    1945 non-null   int64         \n",
      "dtypes: datetime64[ns](1), int64(2), object(4)\n",
      "memory usage: 106.5+ KB\n",
      "None\n"
     ]
    },
    {
     "data": {
      "text/plain": "        销售日期 销售区域 销售渠道        销售订单   品牌   售价  销售数量\n0 2020-01-01   上海  拼多多  182894-455  八匹马   99    83\n1 2020-01-01   上海   抖音  205635-402  八匹马  219    29\n2 2020-01-01   上海   天猫  205654-021  八匹马  169    85\n3 2020-01-01   上海   天猫  205654-519  八匹马  169    14\n4 2020-01-01   上海   天猫  377781-010  皮皮虾  249    61",
      "text/html": "<div>\n<style scoped>\n    .dataframe tbody tr th:only-of-type {\n        vertical-align: middle;\n    }\n\n    .dataframe tbody tr th {\n        vertical-align: top;\n    }\n\n    .dataframe thead th {\n        text-align: right;\n    }\n</style>\n<table border=\"1\" class=\"dataframe\">\n  <thead>\n    <tr style=\"text-align: right;\">\n      <th></th>\n      <th>销售日期</th>\n      <th>销售区域</th>\n      <th>销售渠道</th>\n      <th>销售订单</th>\n      <th>品牌</th>\n      <th>售价</th>\n      <th>销售数量</th>\n    </tr>\n  </thead>\n  <tbody>\n    <tr>\n      <th>0</th>\n      <td>2020-01-01</td>\n      <td>上海</td>\n      <td>拼多多</td>\n      <td>182894-455</td>\n      <td>八匹马</td>\n      <td>99</td>\n      <td>83</td>\n    </tr>\n    <tr>\n      <th>1</th>\n      <td>2020-01-01</td>\n      <td>上海</td>\n      <td>抖音</td>\n      <td>205635-402</td>\n      <td>八匹马</td>\n      <td>219</td>\n      <td>29</td>\n    </tr>\n    <tr>\n      <th>2</th>\n      <td>2020-01-01</td>\n      <td>上海</td>\n      <td>天猫</td>\n      <td>205654-021</td>\n      <td>八匹马</td>\n      <td>169</td>\n      <td>85</td>\n    </tr>\n    <tr>\n      <th>3</th>\n      <td>2020-01-01</td>\n      <td>上海</td>\n      <td>天猫</td>\n      <td>205654-519</td>\n      <td>八匹马</td>\n      <td>169</td>\n      <td>14</td>\n    </tr>\n    <tr>\n      <th>4</th>\n      <td>2020-01-01</td>\n      <td>上海</td>\n      <td>天猫</td>\n      <td>377781-010</td>\n      <td>皮皮虾</td>\n      <td>249</td>\n      <td>61</td>\n    </tr>\n  </tbody>\n</table>\n</div>"
     },
     "execution_count": 7,
     "metadata": {},
     "output_type": "execute_result"
    }
   ],
   "source": [
    "# data = [['2020-01-01', '上海', '拼多多', '182894-455', '八匹马', 99, 10],\n",
    "#         ['2020-01-01', '北京', '淘宝', '205635-402', '八匹马', 219, 20],\n",
    "#         ['2020-01-01', '上海', '天猫', '377781-010', None, 500, 25]]\n",
    "# columns = ['销售日期', '销售区域', '销售渠道', '销售订单', '品牌', '售价', '销售数量']\n",
    "# df_sale = pd.DataFrame(data=data, columns=columns)\n",
    "df_sale = pd.read_excel(io ='res/2020年销售数据.xlsx')\n",
    "print(df_sale.info())\n",
    "df_sale.head()"
   ],
   "metadata": {
    "collapsed": false,
    "pycharm": {
     "name": "#%%\n"
    }
   }
  },
  {
   "cell_type": "markdown",
   "source": [
    "### 通过计算添加新的一列"
   ],
   "metadata": {
    "collapsed": false,
    "pycharm": {
     "name": "#%% md\n"
    }
   }
  },
  {
   "cell_type": "code",
   "execution_count": 8,
   "outputs": [
    {
     "data": {
      "text/plain": "           销售日期 销售区域 销售渠道            销售订单    品牌   售价  销售数量    销售额\n0    2020-01-01   上海  拼多多      182894-455   八匹马   99    83   8217\n1    2020-01-01   上海   抖音      205635-402   八匹马  219    29   6351\n2    2020-01-01   上海   天猫      205654-021   八匹马  169    85  14365\n3    2020-01-01   上海   天猫      205654-519   八匹马  169    14   2366\n4    2020-01-01   上海   天猫      377781-010   皮皮虾  249    61  15189\n...         ...  ...  ...             ...   ...  ...   ...    ...\n1940 2020-12-30   北京   京东          D89677  花花姑娘  269    26   6994\n1941 2020-12-30   福建   实体      182719-050   八匹马   79    97   7663\n1942 2020-12-31   福建   实体          G70083  花花姑娘  269    55  14795\n1943 2020-12-31   福建   抖音  211471-902/704   八匹马   59    59   3481\n1944 2020-12-31   福建   天猫      211807-050   八匹马   99    27   2673\n\n[1945 rows x 8 columns]",
      "text/html": "<div>\n<style scoped>\n    .dataframe tbody tr th:only-of-type {\n        vertical-align: middle;\n    }\n\n    .dataframe tbody tr th {\n        vertical-align: top;\n    }\n\n    .dataframe thead th {\n        text-align: right;\n    }\n</style>\n<table border=\"1\" class=\"dataframe\">\n  <thead>\n    <tr style=\"text-align: right;\">\n      <th></th>\n      <th>销售日期</th>\n      <th>销售区域</th>\n      <th>销售渠道</th>\n      <th>销售订单</th>\n      <th>品牌</th>\n      <th>售价</th>\n      <th>销售数量</th>\n      <th>销售额</th>\n    </tr>\n  </thead>\n  <tbody>\n    <tr>\n      <th>0</th>\n      <td>2020-01-01</td>\n      <td>上海</td>\n      <td>拼多多</td>\n      <td>182894-455</td>\n      <td>八匹马</td>\n      <td>99</td>\n      <td>83</td>\n      <td>8217</td>\n    </tr>\n    <tr>\n      <th>1</th>\n      <td>2020-01-01</td>\n      <td>上海</td>\n      <td>抖音</td>\n      <td>205635-402</td>\n      <td>八匹马</td>\n      <td>219</td>\n      <td>29</td>\n      <td>6351</td>\n    </tr>\n    <tr>\n      <th>2</th>\n      <td>2020-01-01</td>\n      <td>上海</td>\n      <td>天猫</td>\n      <td>205654-021</td>\n      <td>八匹马</td>\n      <td>169</td>\n      <td>85</td>\n      <td>14365</td>\n    </tr>\n    <tr>\n      <th>3</th>\n      <td>2020-01-01</td>\n      <td>上海</td>\n      <td>天猫</td>\n      <td>205654-519</td>\n      <td>八匹马</td>\n      <td>169</td>\n      <td>14</td>\n      <td>2366</td>\n    </tr>\n    <tr>\n      <th>4</th>\n      <td>2020-01-01</td>\n      <td>上海</td>\n      <td>天猫</td>\n      <td>377781-010</td>\n      <td>皮皮虾</td>\n      <td>249</td>\n      <td>61</td>\n      <td>15189</td>\n    </tr>\n    <tr>\n      <th>...</th>\n      <td>...</td>\n      <td>...</td>\n      <td>...</td>\n      <td>...</td>\n      <td>...</td>\n      <td>...</td>\n      <td>...</td>\n      <td>...</td>\n    </tr>\n    <tr>\n      <th>1940</th>\n      <td>2020-12-30</td>\n      <td>北京</td>\n      <td>京东</td>\n      <td>D89677</td>\n      <td>花花姑娘</td>\n      <td>269</td>\n      <td>26</td>\n      <td>6994</td>\n    </tr>\n    <tr>\n      <th>1941</th>\n      <td>2020-12-30</td>\n      <td>福建</td>\n      <td>实体</td>\n      <td>182719-050</td>\n      <td>八匹马</td>\n      <td>79</td>\n      <td>97</td>\n      <td>7663</td>\n    </tr>\n    <tr>\n      <th>1942</th>\n      <td>2020-12-31</td>\n      <td>福建</td>\n      <td>实体</td>\n      <td>G70083</td>\n      <td>花花姑娘</td>\n      <td>269</td>\n      <td>55</td>\n      <td>14795</td>\n    </tr>\n    <tr>\n      <th>1943</th>\n      <td>2020-12-31</td>\n      <td>福建</td>\n      <td>抖音</td>\n      <td>211471-902/704</td>\n      <td>八匹马</td>\n      <td>59</td>\n      <td>59</td>\n      <td>3481</td>\n    </tr>\n    <tr>\n      <th>1944</th>\n      <td>2020-12-31</td>\n      <td>福建</td>\n      <td>天猫</td>\n      <td>211807-050</td>\n      <td>八匹马</td>\n      <td>99</td>\n      <td>27</td>\n      <td>2673</td>\n    </tr>\n  </tbody>\n</table>\n<p>1945 rows × 8 columns</p>\n</div>"
     },
     "execution_count": 8,
     "metadata": {},
     "output_type": "execute_result"
    }
   ],
   "source": [
    "df_sale['销售额']=df_sale.售价 * df_sale.销售数量\n",
    "df_sale"
   ],
   "metadata": {
    "collapsed": false,
    "pycharm": {
     "name": "#%%\n"
    }
   }
  },
  {
   "cell_type": "markdown",
   "source": [
    "### groupby()方法进行分组"
   ],
   "metadata": {
    "collapsed": false,
    "pycharm": {
     "name": "#%% md\n"
    }
   }
  },
  {
   "cell_type": "code",
   "execution_count": 25,
   "outputs": [
    {
     "data": {
      "text/plain": "销售渠道\n天猫     12500\n拼多多      990\n淘宝      4380\nName: 销售额, dtype: int64"
     },
     "execution_count": 25,
     "metadata": {},
     "output_type": "execute_result"
    }
   ],
   "source": [
    "df_sale.groupby('销售渠道').销售额.sum()"
   ],
   "metadata": {
    "collapsed": false,
    "pycharm": {
     "name": "#%%\n"
    }
   }
  },
  {
   "cell_type": "markdown",
   "source": [
    "### 获取不同销售区域,不同销售渠道的销售额的总值和均值"
   ],
   "metadata": {
    "collapsed": false,
    "pycharm": {
     "name": "#%% md\n"
    }
   }
  },
  {
   "cell_type": "code",
   "execution_count": 26,
   "outputs": [
    {
     "data": {
      "text/plain": "             sum     mean\n销售区域 销售渠道                \n上海   拼多多     990    990.0\n北京   淘宝     4380   4380.0\n上海   天猫    12500  12500.0",
      "text/html": "<div>\n<style scoped>\n    .dataframe tbody tr th:only-of-type {\n        vertical-align: middle;\n    }\n\n    .dataframe tbody tr th {\n        vertical-align: top;\n    }\n\n    .dataframe thead th {\n        text-align: right;\n    }\n</style>\n<table border=\"1\" class=\"dataframe\">\n  <thead>\n    <tr style=\"text-align: right;\">\n      <th></th>\n      <th></th>\n      <th>sum</th>\n      <th>mean</th>\n    </tr>\n    <tr>\n      <th>销售区域</th>\n      <th>销售渠道</th>\n      <th></th>\n      <th></th>\n    </tr>\n  </thead>\n  <tbody>\n    <tr>\n      <th>上海</th>\n      <th>拼多多</th>\n      <td>990</td>\n      <td>990.0</td>\n    </tr>\n    <tr>\n      <th>北京</th>\n      <th>淘宝</th>\n      <td>4380</td>\n      <td>4380.0</td>\n    </tr>\n    <tr>\n      <th>上海</th>\n      <th>天猫</th>\n      <td>12500</td>\n      <td>12500.0</td>\n    </tr>\n  </tbody>\n</table>\n</div>"
     },
     "execution_count": 26,
     "metadata": {},
     "output_type": "execute_result"
    }
   ],
   "source": [
    "df_sale.groupby(['销售区域','销售渠道']).销售额.agg(['sum','mean']).sort_values(by='mean',ascending=True)"
   ],
   "metadata": {
    "collapsed": false,
    "pycharm": {
     "name": "#%%\n"
    }
   }
  },
  {
   "cell_type": "markdown",
   "source": [
    "### 透视表\n",
    "透视表的本质就是对数据进行分组聚合操作，根据 A 列对 B 列进行统计，例如，我们要“统计每个销售区域的销售总额”，那么“销售区域”就是我们的 A 列，而“销售额”就是我们的 B 列，在pivot_table函数中分别对应index和values参数，这两个参数都可以是单个列或者多个列."
   ],
   "metadata": {
    "collapsed": false,
    "pycharm": {
     "name": "#%% md\n"
    }
   }
  },
  {
   "cell_type": "code",
   "execution_count": 5,
   "outputs": [
    {
     "data": {
      "text/plain": "        销售额\n销售区域       \n上海    13490\n北京     4380",
      "text/html": "<div>\n<style scoped>\n    .dataframe tbody tr th:only-of-type {\n        vertical-align: middle;\n    }\n\n    .dataframe tbody tr th {\n        vertical-align: top;\n    }\n\n    .dataframe thead th {\n        text-align: right;\n    }\n</style>\n<table border=\"1\" class=\"dataframe\">\n  <thead>\n    <tr style=\"text-align: right;\">\n      <th></th>\n      <th>销售额</th>\n    </tr>\n    <tr>\n      <th>销售区域</th>\n      <th></th>\n    </tr>\n  </thead>\n  <tbody>\n    <tr>\n      <th>上海</th>\n      <td>13490</td>\n    </tr>\n    <tr>\n      <th>北京</th>\n      <td>4380</td>\n    </tr>\n  </tbody>\n</table>\n</div>"
     },
     "execution_count": 5,
     "metadata": {},
     "output_type": "execute_result"
    }
   ],
   "source": [
    "pd.pivot_table(df_sale,index='销售区域',values='销售额',aggfunc='sum')"
   ],
   "metadata": {
    "collapsed": false,
    "pycharm": {
     "name": "#%%\n"
    }
   }
  },
  {
   "cell_type": "markdown",
   "source": [
    "groupby操作后，如果对单个列进行聚合，得到的结果是一个Series对象，而上面的结果是一个DataFrame 对象."
   ],
   "metadata": {
    "collapsed": false,
    "pycharm": {
     "name": "#%% md\n"
    }
   }
  },
  {
   "cell_type": "code",
   "execution_count": null,
   "outputs": [],
   "source": [],
   "metadata": {
    "collapsed": false,
    "pycharm": {
     "name": "#%%\n"
    }
   }
  }
 ],
 "metadata": {
  "kernelspec": {
   "display_name": "Python 3",
   "language": "python",
   "name": "python3"
  },
  "language_info": {
   "codemirror_mode": {
    "name": "ipython",
    "version": 2
   },
   "file_extension": ".py",
   "mimetype": "text/x-python",
   "name": "python",
   "nbconvert_exporter": "python",
   "pygments_lexer": "ipython2",
   "version": "2.7.6"
  }
 },
 "nbformat": 4,
 "nbformat_minor": 0
}