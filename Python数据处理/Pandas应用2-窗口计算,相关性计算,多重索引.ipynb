{
 "cells": [
  {
   "cell_type": "markdown",
   "metadata": {
    "collapsed": true,
    "pycharm": {
     "name": "#%% md\n"
    }
   },
   "source": [
    "## 窗口计算\n",
    "DataFrame对象的`rolling`方法允许我们将数据置于窗口中,之后可以使用函数对窗口中的数据进行处理.\n",
    "Example:\n",
    "    我们获取了百度的近期股票数据,计划制作5日均线和10日均线,需要先设置窗口再进行运算,主要使用到第三方库`pandas-datareader`"
   ]
  },
  {
   "cell_type": "code",
   "execution_count": 11,
   "outputs": [],
   "source": [
    "import numpy as np\n",
    "import pandas as pd\n",
    "import pandas_datareader as pdr\n",
    "# 获取百度的股票\n",
    "baidu_df = pdr.get_data_stooq('BIDU',start='2021-12-04', end='2021-12-19').sort_index()"
   ],
   "metadata": {
    "collapsed": false,
    "pycharm": {
     "name": "#%%\n"
    }
   }
  },
  {
   "cell_type": "code",
   "execution_count": 7,
   "outputs": [
    {
     "data": {
      "text/plain": "               Open    High     Low   Close   Volume\nDate                                                \n2021-12-06  136.250  147.80  136.11  147.65  4962278\n2021-12-07  150.180  151.61  147.10  149.89  4327345\n2021-12-08  147.170  150.67  146.21  148.93  2864314\n2021-12-09  148.685  154.28  148.12  148.69  2825701\n2021-12-10  148.000  150.56  147.31  149.34  2932520\n2021-12-13  147.650  147.68  143.46  144.55  2915092\n2021-12-14  140.570  145.37  140.53  142.89  2420134\n2021-12-15  141.000  141.46  136.45  141.41  4023886\n2021-12-16  142.550  145.84  139.85  140.17  2748176\n2021-12-17  138.310  143.14  137.22  142.09  4169208",
      "text/html": "<div>\n<style scoped>\n    .dataframe tbody tr th:only-of-type {\n        vertical-align: middle;\n    }\n\n    .dataframe tbody tr th {\n        vertical-align: top;\n    }\n\n    .dataframe thead th {\n        text-align: right;\n    }\n</style>\n<table border=\"1\" class=\"dataframe\">\n  <thead>\n    <tr style=\"text-align: right;\">\n      <th></th>\n      <th>Open</th>\n      <th>High</th>\n      <th>Low</th>\n      <th>Close</th>\n      <th>Volume</th>\n    </tr>\n    <tr>\n      <th>Date</th>\n      <th></th>\n      <th></th>\n      <th></th>\n      <th></th>\n      <th></th>\n    </tr>\n  </thead>\n  <tbody>\n    <tr>\n      <th>2021-12-06</th>\n      <td>136.250</td>\n      <td>147.80</td>\n      <td>136.11</td>\n      <td>147.65</td>\n      <td>4962278</td>\n    </tr>\n    <tr>\n      <th>2021-12-07</th>\n      <td>150.180</td>\n      <td>151.61</td>\n      <td>147.10</td>\n      <td>149.89</td>\n      <td>4327345</td>\n    </tr>\n    <tr>\n      <th>2021-12-08</th>\n      <td>147.170</td>\n      <td>150.67</td>\n      <td>146.21</td>\n      <td>148.93</td>\n      <td>2864314</td>\n    </tr>\n    <tr>\n      <th>2021-12-09</th>\n      <td>148.685</td>\n      <td>154.28</td>\n      <td>148.12</td>\n      <td>148.69</td>\n      <td>2825701</td>\n    </tr>\n    <tr>\n      <th>2021-12-10</th>\n      <td>148.000</td>\n      <td>150.56</td>\n      <td>147.31</td>\n      <td>149.34</td>\n      <td>2932520</td>\n    </tr>\n    <tr>\n      <th>2021-12-13</th>\n      <td>147.650</td>\n      <td>147.68</td>\n      <td>143.46</td>\n      <td>144.55</td>\n      <td>2915092</td>\n    </tr>\n    <tr>\n      <th>2021-12-14</th>\n      <td>140.570</td>\n      <td>145.37</td>\n      <td>140.53</td>\n      <td>142.89</td>\n      <td>2420134</td>\n    </tr>\n    <tr>\n      <th>2021-12-15</th>\n      <td>141.000</td>\n      <td>141.46</td>\n      <td>136.45</td>\n      <td>141.41</td>\n      <td>4023886</td>\n    </tr>\n    <tr>\n      <th>2021-12-16</th>\n      <td>142.550</td>\n      <td>145.84</td>\n      <td>139.85</td>\n      <td>140.17</td>\n      <td>2748176</td>\n    </tr>\n    <tr>\n      <th>2021-12-17</th>\n      <td>138.310</td>\n      <td>143.14</td>\n      <td>137.22</td>\n      <td>142.09</td>\n      <td>4169208</td>\n    </tr>\n  </tbody>\n</table>\n</div>"
     },
     "execution_count": 7,
     "metadata": {},
     "output_type": "execute_result"
    }
   ],
   "source": [
    "baidu_df\n",
    "# 五个列分别代表 开盘价、最高价、最低价、收盘价和成交量"
   ],
   "metadata": {
    "collapsed": false,
    "pycharm": {
     "name": "#%%\n"
    }
   }
  },
  {
   "cell_type": "code",
   "execution_count": 10,
   "outputs": [
    {
     "data": {
      "text/plain": "Date\n2021-12-06        NaN\n2021-12-07        NaN\n2021-12-08        NaN\n2021-12-09        NaN\n2021-12-10    148.900\n2021-12-13    148.280\n2021-12-14    146.880\n2021-12-15    145.376\n2021-12-16    143.672\n2021-12-17    142.222\nName: Close, dtype: float64"
     },
     "execution_count": 10,
     "metadata": {},
     "output_type": "execute_result"
    }
   ],
   "source": [
    "# close列的数据就是我们需要的5日均线\n",
    "baidu_df.Close.rolling(5).mean()"
   ],
   "metadata": {
    "collapsed": false,
    "pycharm": {
     "name": "#%%\n"
    }
   }
  },
  {
   "cell_type": "markdown",
   "source": [
    "### 相关性判断\n",
    "在统计学中,我们通常使用协方差(covariance)来衡量两个随机变量的联合变化程度,如果 $X$ 的较大值主要与另一个变量 $Y$的较大值相对应,而两者较小值也相对应,那么两个变量倾向于表现出相似的行为,协方差为正.相反,如果较大值与另一个变量的较小值相对应,协方差为负.\n",
    "方差则是协方差的特殊情况,即变量与自身的协方差\n",
    "$$ cov(X,Y) = E((X - \\mu)(Y - \\upsilon)) = E(X \\cdot Y) - \\mu\\upsilon $$\n",
    "\n",
    "如果X和Y是统计独立的,则COV=0,因为X和Y独立时:\n",
    "$$ E(X \\cdot Y) = E(X) \\cdot E(Y) = \\mu\\upsilon $$\n",
    "#### 皮尔逊相关系数(Pearson)\n",
    "协方差的数值大小取决于变量的大小，通常是不容易解释的，但是正态形式的协方差大小可以显示两变量线性关系的强弱。在统计学中，皮尔逊积矩相关系数就是正态形式的协方差，它用于度量两个变量 $X$ 和 $Y$ 之间的相关程度（线性相关），其值介于-1到1之间。\n",
    "\n",
    "$$ \\rho{X,Y} = \\frac {cov(X, Y)} {\\sigma_{X}\\sigma_{Y}} $$\n",
    "\n",
    "估算样本的协方差和标准差，可以得到样本皮尔逊系数，通常用希腊字母 $\\rho$ 表示。\n",
    "$$ \\rho = \\frac {\\sum_{i=1}^{n}(X_i - \\bar{X})(Y_i - \\bar{Y})} {\\sqrt{\\sum_{i=1}^{n}(X_i - \\bar{X})^2} \\sqrt{\\sum_{i=1}^{n}(Y_i - \\bar{Y})^2}} $$\n",
    "\n",
    "我们用 $\\rho$ 值判断指标的相关性时遵循以下两个步骤。\n",
    "\n",
    "判断指标间是正相关、负相关，还是不相关。\n",
    "当 $ \\rho \\gt 0 $，认为变量之间是正相关，也就是两者的趋势一致。\n",
    "当 $ \\rho \\lt 0 $，认为变量之间是负相关，也就是两者的趋势相反。\n",
    "当 $ \\rho = 0 $，认为变量之间是不相关的，但并不代表两个指标是统计独立的。\n",
    "判断指标间的相关程度。\n",
    "当 $ \\rho $ 的绝对值在 $ [0.6,1] $ 之间，认为变量之间是强相关的。\n",
    "当 $ \\rho $ 的绝对值在 $ [0.1,0.6) $ 之间，认为变量之间是弱相关的。\n",
    "当 $ \\rho $ 的绝对值在 $ [0,0.1) $ 之间，认为变量之间没有相关性.\n",
    "\n",
    "皮尔逊相关系数适用于：\n",
    "\n",
    "两个变量之间是线性关系，都是连续数据。\n",
    "两个变量的总体是正态分布，或接近正态的单峰分布。\n",
    "两个变量的观测值是成对的，每对观测值之间相互独立.\n",
    "\n",
    "DataFrame对象的cov方法和corr方法分别用于计算协方差和相关系数,corr方法的method参数默认为皮尔逊相关系数,除此之外,还可以使用kendall或spearman来获得肯德尔系数或斯皮尔曼等级相关系数"
   ],
   "metadata": {
    "collapsed": false,
    "pycharm": {
     "name": "#%% md\n"
    }
   }
  },
  {
   "cell_type": "markdown",
   "source": [
    "### 相关系数案例-Boston房价\n",
    "corr()方法 获得一个DataFrame对象,总共13个因素,形状为14*14(其中有一个为price),数据为横纵坐标的相关系数\n",
    "可以发现,对角线全为1"
   ],
   "metadata": {
    "collapsed": false
   }
  },
  {
   "cell_type": "code",
   "execution_count": 31,
   "outputs": [
    {
     "data": {
      "text/plain": "<pandas.io.formats.style.Styler at 0x107534130>",
      "text/html": "<style type=\"text/css\">\n#T_ef372_row0_col13 {\n  background-color: #f46d43;\n  color: #f1f1f1;\n}\n#T_ef372_row1_col13 {\n  background-color: #cfebf3;\n  color: #000000;\n}\n#T_ef372_row2_col13 {\n  background-color: #e44c34;\n  color: #f1f1f1;\n}\n#T_ef372_row3_col13 {\n  background-color: #f7fcce;\n  color: #000000;\n}\n#T_ef372_row4_col13 {\n  background-color: #ed5f3c;\n  color: #f1f1f1;\n}\n#T_ef372_row5_col13 {\n  background-color: #679ec9;\n  color: #f1f1f1;\n}\n#T_ef372_row6_col13 {\n  background-color: #f57245;\n  color: #f1f1f1;\n}\n#T_ef372_row7_col13 {\n  background-color: #eaf7e6;\n  color: #000000;\n}\n#T_ef372_row8_col13 {\n  background-color: #f47044;\n  color: #f1f1f1;\n}\n#T_ef372_row9_col13 {\n  background-color: #e65036;\n  color: #f1f1f1;\n}\n#T_ef372_row10_col13 {\n  background-color: #e0422f;\n  color: #f1f1f1;\n}\n#T_ef372_row11_col13 {\n  background-color: #d8eff6;\n  color: #000000;\n}\n#T_ef372_row12_col13 {\n  background-color: #a50026;\n  color: #f1f1f1;\n}\n#T_ef372_row13_col13 {\n  background-color: #313695;\n  color: #f1f1f1;\n}\n</style>\n<table id=\"T_ef372_\">\n  <thead>\n    <tr>\n      <th class=\"blank level0\" >&nbsp;</th>\n      <th class=\"col_heading level0 col0\" >CRIM</th>\n      <th class=\"col_heading level0 col1\" >ZN</th>\n      <th class=\"col_heading level0 col2\" >INDUS</th>\n      <th class=\"col_heading level0 col3\" >CHAS</th>\n      <th class=\"col_heading level0 col4\" >NOX</th>\n      <th class=\"col_heading level0 col5\" >RM</th>\n      <th class=\"col_heading level0 col6\" >AGE</th>\n      <th class=\"col_heading level0 col7\" >DIS</th>\n      <th class=\"col_heading level0 col8\" >RAD</th>\n      <th class=\"col_heading level0 col9\" >TAX</th>\n      <th class=\"col_heading level0 col10\" >PTRATIO</th>\n      <th class=\"col_heading level0 col11\" >B</th>\n      <th class=\"col_heading level0 col12\" >LSTAT</th>\n      <th class=\"col_heading level0 col13\" >PRICE</th>\n    </tr>\n  </thead>\n  <tbody>\n    <tr>\n      <th id=\"T_ef372_level0_row0\" class=\"row_heading level0 row0\" >CRIM</th>\n      <td id=\"T_ef372_row0_col0\" class=\"data row0 col0\" >1.000000</td>\n      <td id=\"T_ef372_row0_col1\" class=\"data row0 col1\" >-0.200469</td>\n      <td id=\"T_ef372_row0_col2\" class=\"data row0 col2\" >0.406583</td>\n      <td id=\"T_ef372_row0_col3\" class=\"data row0 col3\" >-0.055892</td>\n      <td id=\"T_ef372_row0_col4\" class=\"data row0 col4\" >0.420972</td>\n      <td id=\"T_ef372_row0_col5\" class=\"data row0 col5\" >-0.219247</td>\n      <td id=\"T_ef372_row0_col6\" class=\"data row0 col6\" >0.352734</td>\n      <td id=\"T_ef372_row0_col7\" class=\"data row0 col7\" >-0.379670</td>\n      <td id=\"T_ef372_row0_col8\" class=\"data row0 col8\" >0.625505</td>\n      <td id=\"T_ef372_row0_col9\" class=\"data row0 col9\" >0.582764</td>\n      <td id=\"T_ef372_row0_col10\" class=\"data row0 col10\" >0.289946</td>\n      <td id=\"T_ef372_row0_col11\" class=\"data row0 col11\" >-0.385064</td>\n      <td id=\"T_ef372_row0_col12\" class=\"data row0 col12\" >0.455621</td>\n      <td id=\"T_ef372_row0_col13\" class=\"data row0 col13\" >-0.388305</td>\n    </tr>\n    <tr>\n      <th id=\"T_ef372_level0_row1\" class=\"row_heading level0 row1\" >ZN</th>\n      <td id=\"T_ef372_row1_col0\" class=\"data row1 col0\" >-0.200469</td>\n      <td id=\"T_ef372_row1_col1\" class=\"data row1 col1\" >1.000000</td>\n      <td id=\"T_ef372_row1_col2\" class=\"data row1 col2\" >-0.533828</td>\n      <td id=\"T_ef372_row1_col3\" class=\"data row1 col3\" >-0.042697</td>\n      <td id=\"T_ef372_row1_col4\" class=\"data row1 col4\" >-0.516604</td>\n      <td id=\"T_ef372_row1_col5\" class=\"data row1 col5\" >0.311991</td>\n      <td id=\"T_ef372_row1_col6\" class=\"data row1 col6\" >-0.569537</td>\n      <td id=\"T_ef372_row1_col7\" class=\"data row1 col7\" >0.664408</td>\n      <td id=\"T_ef372_row1_col8\" class=\"data row1 col8\" >-0.311948</td>\n      <td id=\"T_ef372_row1_col9\" class=\"data row1 col9\" >-0.314563</td>\n      <td id=\"T_ef372_row1_col10\" class=\"data row1 col10\" >-0.391679</td>\n      <td id=\"T_ef372_row1_col11\" class=\"data row1 col11\" >0.175520</td>\n      <td id=\"T_ef372_row1_col12\" class=\"data row1 col12\" >-0.412995</td>\n      <td id=\"T_ef372_row1_col13\" class=\"data row1 col13\" >0.360445</td>\n    </tr>\n    <tr>\n      <th id=\"T_ef372_level0_row2\" class=\"row_heading level0 row2\" >INDUS</th>\n      <td id=\"T_ef372_row2_col0\" class=\"data row2 col0\" >0.406583</td>\n      <td id=\"T_ef372_row2_col1\" class=\"data row2 col1\" >-0.533828</td>\n      <td id=\"T_ef372_row2_col2\" class=\"data row2 col2\" >1.000000</td>\n      <td id=\"T_ef372_row2_col3\" class=\"data row2 col3\" >0.062938</td>\n      <td id=\"T_ef372_row2_col4\" class=\"data row2 col4\" >0.763651</td>\n      <td id=\"T_ef372_row2_col5\" class=\"data row2 col5\" >-0.391676</td>\n      <td id=\"T_ef372_row2_col6\" class=\"data row2 col6\" >0.644779</td>\n      <td id=\"T_ef372_row2_col7\" class=\"data row2 col7\" >-0.708027</td>\n      <td id=\"T_ef372_row2_col8\" class=\"data row2 col8\" >0.595129</td>\n      <td id=\"T_ef372_row2_col9\" class=\"data row2 col9\" >0.720760</td>\n      <td id=\"T_ef372_row2_col10\" class=\"data row2 col10\" >0.383248</td>\n      <td id=\"T_ef372_row2_col11\" class=\"data row2 col11\" >-0.356977</td>\n      <td id=\"T_ef372_row2_col12\" class=\"data row2 col12\" >0.603800</td>\n      <td id=\"T_ef372_row2_col13\" class=\"data row2 col13\" >-0.483725</td>\n    </tr>\n    <tr>\n      <th id=\"T_ef372_level0_row3\" class=\"row_heading level0 row3\" >CHAS</th>\n      <td id=\"T_ef372_row3_col0\" class=\"data row3 col0\" >-0.055892</td>\n      <td id=\"T_ef372_row3_col1\" class=\"data row3 col1\" >-0.042697</td>\n      <td id=\"T_ef372_row3_col2\" class=\"data row3 col2\" >0.062938</td>\n      <td id=\"T_ef372_row3_col3\" class=\"data row3 col3\" >1.000000</td>\n      <td id=\"T_ef372_row3_col4\" class=\"data row3 col4\" >0.091203</td>\n      <td id=\"T_ef372_row3_col5\" class=\"data row3 col5\" >0.091251</td>\n      <td id=\"T_ef372_row3_col6\" class=\"data row3 col6\" >0.086518</td>\n      <td id=\"T_ef372_row3_col7\" class=\"data row3 col7\" >-0.099176</td>\n      <td id=\"T_ef372_row3_col8\" class=\"data row3 col8\" >-0.007368</td>\n      <td id=\"T_ef372_row3_col9\" class=\"data row3 col9\" >-0.035587</td>\n      <td id=\"T_ef372_row3_col10\" class=\"data row3 col10\" >-0.121515</td>\n      <td id=\"T_ef372_row3_col11\" class=\"data row3 col11\" >0.048788</td>\n      <td id=\"T_ef372_row3_col12\" class=\"data row3 col12\" >-0.053929</td>\n      <td id=\"T_ef372_row3_col13\" class=\"data row3 col13\" >0.175260</td>\n    </tr>\n    <tr>\n      <th id=\"T_ef372_level0_row4\" class=\"row_heading level0 row4\" >NOX</th>\n      <td id=\"T_ef372_row4_col0\" class=\"data row4 col0\" >0.420972</td>\n      <td id=\"T_ef372_row4_col1\" class=\"data row4 col1\" >-0.516604</td>\n      <td id=\"T_ef372_row4_col2\" class=\"data row4 col2\" >0.763651</td>\n      <td id=\"T_ef372_row4_col3\" class=\"data row4 col3\" >0.091203</td>\n      <td id=\"T_ef372_row4_col4\" class=\"data row4 col4\" >1.000000</td>\n      <td id=\"T_ef372_row4_col5\" class=\"data row4 col5\" >-0.302188</td>\n      <td id=\"T_ef372_row4_col6\" class=\"data row4 col6\" >0.731470</td>\n      <td id=\"T_ef372_row4_col7\" class=\"data row4 col7\" >-0.769230</td>\n      <td id=\"T_ef372_row4_col8\" class=\"data row4 col8\" >0.611441</td>\n      <td id=\"T_ef372_row4_col9\" class=\"data row4 col9\" >0.668023</td>\n      <td id=\"T_ef372_row4_col10\" class=\"data row4 col10\" >0.188933</td>\n      <td id=\"T_ef372_row4_col11\" class=\"data row4 col11\" >-0.380051</td>\n      <td id=\"T_ef372_row4_col12\" class=\"data row4 col12\" >0.590879</td>\n      <td id=\"T_ef372_row4_col13\" class=\"data row4 col13\" >-0.427321</td>\n    </tr>\n    <tr>\n      <th id=\"T_ef372_level0_row5\" class=\"row_heading level0 row5\" >RM</th>\n      <td id=\"T_ef372_row5_col0\" class=\"data row5 col0\" >-0.219247</td>\n      <td id=\"T_ef372_row5_col1\" class=\"data row5 col1\" >0.311991</td>\n      <td id=\"T_ef372_row5_col2\" class=\"data row5 col2\" >-0.391676</td>\n      <td id=\"T_ef372_row5_col3\" class=\"data row5 col3\" >0.091251</td>\n      <td id=\"T_ef372_row5_col4\" class=\"data row5 col4\" >-0.302188</td>\n      <td id=\"T_ef372_row5_col5\" class=\"data row5 col5\" >1.000000</td>\n      <td id=\"T_ef372_row5_col6\" class=\"data row5 col6\" >-0.240265</td>\n      <td id=\"T_ef372_row5_col7\" class=\"data row5 col7\" >0.205246</td>\n      <td id=\"T_ef372_row5_col8\" class=\"data row5 col8\" >-0.209847</td>\n      <td id=\"T_ef372_row5_col9\" class=\"data row5 col9\" >-0.292048</td>\n      <td id=\"T_ef372_row5_col10\" class=\"data row5 col10\" >-0.355501</td>\n      <td id=\"T_ef372_row5_col11\" class=\"data row5 col11\" >0.128069</td>\n      <td id=\"T_ef372_row5_col12\" class=\"data row5 col12\" >-0.613808</td>\n      <td id=\"T_ef372_row5_col13\" class=\"data row5 col13\" >0.695360</td>\n    </tr>\n    <tr>\n      <th id=\"T_ef372_level0_row6\" class=\"row_heading level0 row6\" >AGE</th>\n      <td id=\"T_ef372_row6_col0\" class=\"data row6 col0\" >0.352734</td>\n      <td id=\"T_ef372_row6_col1\" class=\"data row6 col1\" >-0.569537</td>\n      <td id=\"T_ef372_row6_col2\" class=\"data row6 col2\" >0.644779</td>\n      <td id=\"T_ef372_row6_col3\" class=\"data row6 col3\" >0.086518</td>\n      <td id=\"T_ef372_row6_col4\" class=\"data row6 col4\" >0.731470</td>\n      <td id=\"T_ef372_row6_col5\" class=\"data row6 col5\" >-0.240265</td>\n      <td id=\"T_ef372_row6_col6\" class=\"data row6 col6\" >1.000000</td>\n      <td id=\"T_ef372_row6_col7\" class=\"data row6 col7\" >-0.747881</td>\n      <td id=\"T_ef372_row6_col8\" class=\"data row6 col8\" >0.456022</td>\n      <td id=\"T_ef372_row6_col9\" class=\"data row6 col9\" >0.506456</td>\n      <td id=\"T_ef372_row6_col10\" class=\"data row6 col10\" >0.261515</td>\n      <td id=\"T_ef372_row6_col11\" class=\"data row6 col11\" >-0.273534</td>\n      <td id=\"T_ef372_row6_col12\" class=\"data row6 col12\" >0.602339</td>\n      <td id=\"T_ef372_row6_col13\" class=\"data row6 col13\" >-0.376955</td>\n    </tr>\n    <tr>\n      <th id=\"T_ef372_level0_row7\" class=\"row_heading level0 row7\" >DIS</th>\n      <td id=\"T_ef372_row7_col0\" class=\"data row7 col0\" >-0.379670</td>\n      <td id=\"T_ef372_row7_col1\" class=\"data row7 col1\" >0.664408</td>\n      <td id=\"T_ef372_row7_col2\" class=\"data row7 col2\" >-0.708027</td>\n      <td id=\"T_ef372_row7_col3\" class=\"data row7 col3\" >-0.099176</td>\n      <td id=\"T_ef372_row7_col4\" class=\"data row7 col4\" >-0.769230</td>\n      <td id=\"T_ef372_row7_col5\" class=\"data row7 col5\" >0.205246</td>\n      <td id=\"T_ef372_row7_col6\" class=\"data row7 col6\" >-0.747881</td>\n      <td id=\"T_ef372_row7_col7\" class=\"data row7 col7\" >1.000000</td>\n      <td id=\"T_ef372_row7_col8\" class=\"data row7 col8\" >-0.494588</td>\n      <td id=\"T_ef372_row7_col9\" class=\"data row7 col9\" >-0.534432</td>\n      <td id=\"T_ef372_row7_col10\" class=\"data row7 col10\" >-0.232471</td>\n      <td id=\"T_ef372_row7_col11\" class=\"data row7 col11\" >0.291512</td>\n      <td id=\"T_ef372_row7_col12\" class=\"data row7 col12\" >-0.496996</td>\n      <td id=\"T_ef372_row7_col13\" class=\"data row7 col13\" >0.249929</td>\n    </tr>\n    <tr>\n      <th id=\"T_ef372_level0_row8\" class=\"row_heading level0 row8\" >RAD</th>\n      <td id=\"T_ef372_row8_col0\" class=\"data row8 col0\" >0.625505</td>\n      <td id=\"T_ef372_row8_col1\" class=\"data row8 col1\" >-0.311948</td>\n      <td id=\"T_ef372_row8_col2\" class=\"data row8 col2\" >0.595129</td>\n      <td id=\"T_ef372_row8_col3\" class=\"data row8 col3\" >-0.007368</td>\n      <td id=\"T_ef372_row8_col4\" class=\"data row8 col4\" >0.611441</td>\n      <td id=\"T_ef372_row8_col5\" class=\"data row8 col5\" >-0.209847</td>\n      <td id=\"T_ef372_row8_col6\" class=\"data row8 col6\" >0.456022</td>\n      <td id=\"T_ef372_row8_col7\" class=\"data row8 col7\" >-0.494588</td>\n      <td id=\"T_ef372_row8_col8\" class=\"data row8 col8\" >1.000000</td>\n      <td id=\"T_ef372_row8_col9\" class=\"data row8 col9\" >0.910228</td>\n      <td id=\"T_ef372_row8_col10\" class=\"data row8 col10\" >0.464741</td>\n      <td id=\"T_ef372_row8_col11\" class=\"data row8 col11\" >-0.444413</td>\n      <td id=\"T_ef372_row8_col12\" class=\"data row8 col12\" >0.488676</td>\n      <td id=\"T_ef372_row8_col13\" class=\"data row8 col13\" >-0.381626</td>\n    </tr>\n    <tr>\n      <th id=\"T_ef372_level0_row9\" class=\"row_heading level0 row9\" >TAX</th>\n      <td id=\"T_ef372_row9_col0\" class=\"data row9 col0\" >0.582764</td>\n      <td id=\"T_ef372_row9_col1\" class=\"data row9 col1\" >-0.314563</td>\n      <td id=\"T_ef372_row9_col2\" class=\"data row9 col2\" >0.720760</td>\n      <td id=\"T_ef372_row9_col3\" class=\"data row9 col3\" >-0.035587</td>\n      <td id=\"T_ef372_row9_col4\" class=\"data row9 col4\" >0.668023</td>\n      <td id=\"T_ef372_row9_col5\" class=\"data row9 col5\" >-0.292048</td>\n      <td id=\"T_ef372_row9_col6\" class=\"data row9 col6\" >0.506456</td>\n      <td id=\"T_ef372_row9_col7\" class=\"data row9 col7\" >-0.534432</td>\n      <td id=\"T_ef372_row9_col8\" class=\"data row9 col8\" >0.910228</td>\n      <td id=\"T_ef372_row9_col9\" class=\"data row9 col9\" >1.000000</td>\n      <td id=\"T_ef372_row9_col10\" class=\"data row9 col10\" >0.460853</td>\n      <td id=\"T_ef372_row9_col11\" class=\"data row9 col11\" >-0.441808</td>\n      <td id=\"T_ef372_row9_col12\" class=\"data row9 col12\" >0.543993</td>\n      <td id=\"T_ef372_row9_col13\" class=\"data row9 col13\" >-0.468536</td>\n    </tr>\n    <tr>\n      <th id=\"T_ef372_level0_row10\" class=\"row_heading level0 row10\" >PTRATIO</th>\n      <td id=\"T_ef372_row10_col0\" class=\"data row10 col0\" >0.289946</td>\n      <td id=\"T_ef372_row10_col1\" class=\"data row10 col1\" >-0.391679</td>\n      <td id=\"T_ef372_row10_col2\" class=\"data row10 col2\" >0.383248</td>\n      <td id=\"T_ef372_row10_col3\" class=\"data row10 col3\" >-0.121515</td>\n      <td id=\"T_ef372_row10_col4\" class=\"data row10 col4\" >0.188933</td>\n      <td id=\"T_ef372_row10_col5\" class=\"data row10 col5\" >-0.355501</td>\n      <td id=\"T_ef372_row10_col6\" class=\"data row10 col6\" >0.261515</td>\n      <td id=\"T_ef372_row10_col7\" class=\"data row10 col7\" >-0.232471</td>\n      <td id=\"T_ef372_row10_col8\" class=\"data row10 col8\" >0.464741</td>\n      <td id=\"T_ef372_row10_col9\" class=\"data row10 col9\" >0.460853</td>\n      <td id=\"T_ef372_row10_col10\" class=\"data row10 col10\" >1.000000</td>\n      <td id=\"T_ef372_row10_col11\" class=\"data row10 col11\" >-0.177383</td>\n      <td id=\"T_ef372_row10_col12\" class=\"data row10 col12\" >0.374044</td>\n      <td id=\"T_ef372_row10_col13\" class=\"data row10 col13\" >-0.507787</td>\n    </tr>\n    <tr>\n      <th id=\"T_ef372_level0_row11\" class=\"row_heading level0 row11\" >B</th>\n      <td id=\"T_ef372_row11_col0\" class=\"data row11 col0\" >-0.385064</td>\n      <td id=\"T_ef372_row11_col1\" class=\"data row11 col1\" >0.175520</td>\n      <td id=\"T_ef372_row11_col2\" class=\"data row11 col2\" >-0.356977</td>\n      <td id=\"T_ef372_row11_col3\" class=\"data row11 col3\" >0.048788</td>\n      <td id=\"T_ef372_row11_col4\" class=\"data row11 col4\" >-0.380051</td>\n      <td id=\"T_ef372_row11_col5\" class=\"data row11 col5\" >0.128069</td>\n      <td id=\"T_ef372_row11_col6\" class=\"data row11 col6\" >-0.273534</td>\n      <td id=\"T_ef372_row11_col7\" class=\"data row11 col7\" >0.291512</td>\n      <td id=\"T_ef372_row11_col8\" class=\"data row11 col8\" >-0.444413</td>\n      <td id=\"T_ef372_row11_col9\" class=\"data row11 col9\" >-0.441808</td>\n      <td id=\"T_ef372_row11_col10\" class=\"data row11 col10\" >-0.177383</td>\n      <td id=\"T_ef372_row11_col11\" class=\"data row11 col11\" >1.000000</td>\n      <td id=\"T_ef372_row11_col12\" class=\"data row11 col12\" >-0.366087</td>\n      <td id=\"T_ef372_row11_col13\" class=\"data row11 col13\" >0.333461</td>\n    </tr>\n    <tr>\n      <th id=\"T_ef372_level0_row12\" class=\"row_heading level0 row12\" >LSTAT</th>\n      <td id=\"T_ef372_row12_col0\" class=\"data row12 col0\" >0.455621</td>\n      <td id=\"T_ef372_row12_col1\" class=\"data row12 col1\" >-0.412995</td>\n      <td id=\"T_ef372_row12_col2\" class=\"data row12 col2\" >0.603800</td>\n      <td id=\"T_ef372_row12_col3\" class=\"data row12 col3\" >-0.053929</td>\n      <td id=\"T_ef372_row12_col4\" class=\"data row12 col4\" >0.590879</td>\n      <td id=\"T_ef372_row12_col5\" class=\"data row12 col5\" >-0.613808</td>\n      <td id=\"T_ef372_row12_col6\" class=\"data row12 col6\" >0.602339</td>\n      <td id=\"T_ef372_row12_col7\" class=\"data row12 col7\" >-0.496996</td>\n      <td id=\"T_ef372_row12_col8\" class=\"data row12 col8\" >0.488676</td>\n      <td id=\"T_ef372_row12_col9\" class=\"data row12 col9\" >0.543993</td>\n      <td id=\"T_ef372_row12_col10\" class=\"data row12 col10\" >0.374044</td>\n      <td id=\"T_ef372_row12_col11\" class=\"data row12 col11\" >-0.366087</td>\n      <td id=\"T_ef372_row12_col12\" class=\"data row12 col12\" >1.000000</td>\n      <td id=\"T_ef372_row12_col13\" class=\"data row12 col13\" >-0.737663</td>\n    </tr>\n    <tr>\n      <th id=\"T_ef372_level0_row13\" class=\"row_heading level0 row13\" >PRICE</th>\n      <td id=\"T_ef372_row13_col0\" class=\"data row13 col0\" >-0.388305</td>\n      <td id=\"T_ef372_row13_col1\" class=\"data row13 col1\" >0.360445</td>\n      <td id=\"T_ef372_row13_col2\" class=\"data row13 col2\" >-0.483725</td>\n      <td id=\"T_ef372_row13_col3\" class=\"data row13 col3\" >0.175260</td>\n      <td id=\"T_ef372_row13_col4\" class=\"data row13 col4\" >-0.427321</td>\n      <td id=\"T_ef372_row13_col5\" class=\"data row13 col5\" >0.695360</td>\n      <td id=\"T_ef372_row13_col6\" class=\"data row13 col6\" >-0.376955</td>\n      <td id=\"T_ef372_row13_col7\" class=\"data row13 col7\" >0.249929</td>\n      <td id=\"T_ef372_row13_col8\" class=\"data row13 col8\" >-0.381626</td>\n      <td id=\"T_ef372_row13_col9\" class=\"data row13 col9\" >-0.468536</td>\n      <td id=\"T_ef372_row13_col10\" class=\"data row13 col10\" >-0.507787</td>\n      <td id=\"T_ef372_row13_col11\" class=\"data row13 col11\" >0.333461</td>\n      <td id=\"T_ef372_row13_col12\" class=\"data row13 col12\" >-0.737663</td>\n      <td id=\"T_ef372_row13_col13\" class=\"data row13 col13\" >1.000000</td>\n    </tr>\n  </tbody>\n</table>\n"
     },
     "execution_count": 31,
     "metadata": {},
     "output_type": "execute_result"
    }
   ],
   "source": [
    "boston_df = pd.read_csv('res/boston_house_price.csv')\n",
    "a = boston_df.corr(method='pearson')\n",
    "a.style.background_gradient('RdYlBu', subset=['PRICE'])"
   ],
   "metadata": {
    "collapsed": false,
    "pycharm": {
     "name": "#%%\n"
    }
   }
  },
  {
   "cell_type": "code",
   "execution_count": 27,
   "outputs": [
    {
     "data": {
      "text/plain": "<matplotlib.colors.LinearSegmentedColormap at 0x1436b5130>",
      "text/html": "<div style=\"vertical-align: middle;\"><strong>RdYlBu</strong> </div><div class=\"cmap\"><img alt=\"RdYlBu colormap\" title=\"RdYlBu\" style=\"border: 1px solid #555;\" src=\"data:image/png;base64,iVBORw0KGgoAAAANSUhEUgAAAgAAAABACAYAAABsv8+/AAAAFXRFWHRUaXRsZQBSZFlsQnUgY29sb3JtYXBNDGkpAAAAG3RFWHREZXNjcmlwdGlvbgBSZFlsQnUgY29sb3JtYXAEm3HNAAAAMHRFWHRBdXRob3IATWF0cGxvdGxpYiB2My41LjAsIGh0dHBzOi8vbWF0cGxvdGxpYi5vcmdSPF7BAAAAMnRFWHRTb2Z0d2FyZQBNYXRwbG90bGliIHYzLjUuMCwgaHR0cHM6Ly9tYXRwbG90bGliLm9yZ3yaweYAAAIUSURBVHic7dZLcuMgAEVRJO8lO88yZXoQUMrIWC0nGb1zJhQCYfmT1F0+y0ctpZRlKaWUUtb1zfGn9//SOUs74DDelravz9eX+6b3Tfc9P2+dnHf2uutt+ECG9T4vw+uf7t+vr5NzZvN1uP/iuZe/2Hd/CH/7Ovv7638wy/p8XMfrk/2HfcP+6frsnIvPVb7G2sZ7fZzXehvmbd9+3+3h+nTf2TmT9e/ner3ex+1e2v7axrP5tX3b6b6fnd+vb31+n4zD+na4Xq7dN1kfrx/2n97XnqN9MdP308f2Adf9+uS+7XFeD+fdn+4bx3o47/Vz1uH5+g+uTtbr/oO5uO/N9f99rv7F9P8CAEAQAQAAgQQAAAQSAAAQSAAAQCABAACBBAAABBIAABBIAABAIAEAAIEEAAAEEgAAEEgAAEAgAQAAgQQAAAQSAAAQSAAAQCABAACBBAAABBIAABBIAABAIAEAAIEEAAAEEgAAEEgAAEAgAQAAgQQAAAQSAAAQSAAAQCABAACBBAAABBIAABBIAABAIAEAAIEEAAAEEgAAEEgAAEAgAQAAgQQAAAQSAAAQSAAAQCABAACBBAAABBIAABBIAABAIAEAAIEEAAAEEgAAEEgAAEAgAQAAgQQAAAQSAAAQSAAAQCABAACBBAAABBIAABBIAABAIAEAAIEEAAAEEgAAEEgAAEAgAQAAgQQAAAT6BwqLRYrxtpyGAAAAAElFTkSuQmCC\"></div><div style=\"vertical-align: middle; max-width: 514px; display: flex; justify-content: space-between;\"><div style=\"float: left;\"><div title=\"#a50026ff\" style=\"display: inline-block; width: 1em; height: 1em; margin: 0; vertical-align: middle; border: 1px solid #555; background-color: #a50026ff;\"></div> under</div><div style=\"margin: 0 auto; display: inline-block;\">bad <div title=\"#00000000\" style=\"display: inline-block; width: 1em; height: 1em; margin: 0; vertical-align: middle; border: 1px solid #555; background-color: #00000000;\"></div></div><div style=\"float: right;\">over <div title=\"#313695ff\" style=\"display: inline-block; width: 1em; height: 1em; margin: 0; vertical-align: middle; border: 1px solid #555; background-color: #313695ff;\"></div></div>",
      "image/png": "[encoded data removed]"
     },
     "execution_count": 27,
     "metadata": {},
     "output_type": "execute_result"
    }
   ],
   "source": [
    "from matplotlib import pyplot as plt\n",
    "\n",
    "plt.get_cmap('RdYlBu')\n",
    "#上面代码中的RdYlBu代表的颜色如下所示，相关系数的数据值越接近1，颜色越接近红色；数据值越接近1，颜色越接近蓝色；数据值在0附近则是黄色."
   ],
   "metadata": {
    "collapsed": false,
    "pycharm": {
     "name": "#%%\n"
    }
   }
  },
  {
   "cell_type": "code",
   "execution_count": 33,
   "outputs": [
    {
     "data": {
      "text/plain": "PRICE      1.000000\nRM         0.695360\nZN         0.360445\nB          0.333461\nDIS        0.249929\nCHAS       0.175260\nAGE       -0.376955\nRAD       -0.381626\nCRIM      -0.388305\nNOX       -0.427321\nTAX       -0.468536\nINDUS     -0.483725\nPTRATIO   -0.507787\nLSTAT     -0.737663\nName: PRICE, dtype: float64"
     },
     "execution_count": 33,
     "metadata": {},
     "output_type": "execute_result"
    }
   ],
   "source": [
    "a.PRICE.sort_values(ascending=False)"
   ],
   "metadata": {
    "collapsed": false,
    "pycharm": {
     "name": "#%%\n"
    }
   }
  },
  {
   "cell_type": "markdown",
   "source": [
    "## Index的应用\n",
    "Index类型为Series和DataFrame对象提供了索引服务,常见的有下列"
   ],
   "metadata": {
    "collapsed": false
   }
  },
  {
   "cell_type": "markdown",
   "source": [
    "### RangeIndex(范围索引)"
   ],
   "metadata": {
    "collapsed": false,
    "pycharm": {
     "name": "#%% md\n"
    }
   }
  },
  {
   "cell_type": "code",
   "execution_count": 35,
   "outputs": [
    {
     "data": {
      "text/plain": "月份\n1     938\n2     871\n3     539\n4     749\n5     650\n6     485\n7     561\n8     425\n9     735\n10    628\n11    661\n12    491\ndtype: int64"
     },
     "execution_count": 35,
     "metadata": {},
     "output_type": "execute_result"
    }
   ],
   "source": [
    "sales_data = np.random.randint(400,1000,12)\n",
    "month_index = pd.RangeIndex(1,13,name='月份')\n",
    "ser = pd.Series(data =sales_data,index=month_index)\n",
    "ser"
   ],
   "metadata": {
    "collapsed": false,
    "pycharm": {
     "name": "#%%\n"
    }
   }
  },
  {
   "cell_type": "markdown",
   "source": [
    "### CategoricalIndex(分类索引)"
   ],
   "metadata": {
    "collapsed": false,
    "pycharm": {
     "name": "#%% md\n"
    }
   }
  },
  {
   "cell_type": "code",
   "execution_count": 37,
   "outputs": [
    {
     "data": {
      "text/plain": "苹果    6\n香蕉    6\n苹果    7\n苹果    6\n桃子    8\n香蕉    6\ndtype: int64"
     },
     "execution_count": 37,
     "metadata": {},
     "output_type": "execute_result"
    }
   ],
   "source": [
    "cate_index = pd.CategoricalIndex(\n",
    "    ['苹果','香蕉','苹果','苹果','桃子','香蕉'],\n",
    "    ordered=True,\n",
    "    categories=['苹果','香蕉','桃子']\n",
    ")\n",
    "ser = pd.Series(data=[6,6,7,6,8,6], index=cate_index)\n",
    "ser"
   ],
   "metadata": {
    "collapsed": false,
    "pycharm": {
     "name": "#%%\n"
    }
   }
  },
  {
   "cell_type": "code",
   "execution_count": 38,
   "outputs": [
    {
     "data": {
      "text/plain": "苹果    19\n香蕉    12\n桃子     8\ndtype: int64"
     },
     "execution_count": 38,
     "metadata": {},
     "output_type": "execute_result"
    }
   ],
   "source": [
    "ser.groupby(level=0).sum()"
   ],
   "metadata": {
    "collapsed": false,
    "pycharm": {
     "name": "#%%\n"
    }
   }
  },
  {
   "cell_type": "markdown",
   "source": [
    "### MultiIndex(多级索引,多索引)"
   ],
   "metadata": {
    "collapsed": false,
    "pycharm": {
     "name": "#%% md\n"
    }
   }
  },
  {
   "cell_type": "code",
   "execution_count": 65,
   "outputs": [
    {
     "data": {
      "text/plain": "          语   数   英\n学号   学期            \n1001 期中  79  98  80\n     期末  86  91  92\n1002 期中  84  82  69\n     期末  66  79  60\n1003 期中  80  82  66\n     期末  87  81  63\n1004 期中  92  81  75\n     期末  94  83  76\n1005 期中  77  90  92\n     期末  80  87  67",
      "text/html": "<div>\n<style scoped>\n    .dataframe tbody tr th:only-of-type {\n        vertical-align: middle;\n    }\n\n    .dataframe tbody tr th {\n        vertical-align: top;\n    }\n\n    .dataframe thead th {\n        text-align: right;\n    }\n</style>\n<table border=\"1\" class=\"dataframe\">\n  <thead>\n    <tr style=\"text-align: right;\">\n      <th></th>\n      <th></th>\n      <th>语</th>\n      <th>数</th>\n      <th>英</th>\n    </tr>\n    <tr>\n      <th>学号</th>\n      <th>学期</th>\n      <th></th>\n      <th></th>\n      <th></th>\n    </tr>\n  </thead>\n  <tbody>\n    <tr>\n      <th rowspan=\"2\" valign=\"top\">1001</th>\n      <th>期中</th>\n      <td>79</td>\n      <td>98</td>\n      <td>80</td>\n    </tr>\n    <tr>\n      <th>期末</th>\n      <td>86</td>\n      <td>91</td>\n      <td>92</td>\n    </tr>\n    <tr>\n      <th rowspan=\"2\" valign=\"top\">1002</th>\n      <th>期中</th>\n      <td>84</td>\n      <td>82</td>\n      <td>69</td>\n    </tr>\n    <tr>\n      <th>期末</th>\n      <td>66</td>\n      <td>79</td>\n      <td>60</td>\n    </tr>\n    <tr>\n      <th rowspan=\"2\" valign=\"top\">1003</th>\n      <th>期中</th>\n      <td>80</td>\n      <td>82</td>\n      <td>66</td>\n    </tr>\n    <tr>\n      <th>期末</th>\n      <td>87</td>\n      <td>81</td>\n      <td>63</td>\n    </tr>\n    <tr>\n      <th rowspan=\"2\" valign=\"top\">1004</th>\n      <th>期中</th>\n      <td>92</td>\n      <td>81</td>\n      <td>75</td>\n    </tr>\n    <tr>\n      <th>期末</th>\n      <td>94</td>\n      <td>83</td>\n      <td>76</td>\n    </tr>\n    <tr>\n      <th rowspan=\"2\" valign=\"top\">1005</th>\n      <th>期中</th>\n      <td>77</td>\n      <td>90</td>\n      <td>92</td>\n    </tr>\n    <tr>\n      <th>期末</th>\n      <td>80</td>\n      <td>87</td>\n      <td>67</td>\n    </tr>\n  </tbody>\n</table>\n</div>"
     },
     "execution_count": 65,
     "metadata": {},
     "output_type": "execute_result"
    }
   ],
   "source": [
    "ids = np.arange(1001,1006)\n",
    "sms = ['期中','期末']\n",
    "index = pd.MultiIndex.from_product((ids,sms),names=['学号','学期']) #笛卡尔积\n",
    "courses = list('语数英')\n",
    "scores = np.random.randint(60,101,(10,3))\n",
    "df = pd.DataFrame(data=scores,index=index,columns=courses)\n",
    "df"
   ],
   "metadata": {
    "collapsed": false,
    "pycharm": {
     "name": "#%%\n"
    }
   }
  },
  {
   "cell_type": "code",
   "execution_count": 53,
   "outputs": [
    {
     "data": {
      "text/plain": "90"
     },
     "execution_count": 53,
     "metadata": {},
     "output_type": "execute_result"
    }
   ],
   "source": [
    "df.loc[1001,'期中'].语"
   ],
   "metadata": {
    "collapsed": false,
    "pycharm": {
     "name": "#%%\n"
    }
   }
  },
  {
   "cell_type": "markdown",
   "source": [
    "#### 计算每个人的综合成绩,期中成绩占比.25,期末成绩占比.75"
   ],
   "metadata": {
    "collapsed": false,
    "pycharm": {
     "name": "#%% md\n"
    }
   }
  },
  {
   "cell_type": "code",
   "execution_count": 67,
   "outputs": [],
   "source": [
    "df1= df.groupby(level=0).agg(lambda x: x.values[0] * 0.25 + x.values[1] * 0.75)"
   ],
   "metadata": {
    "collapsed": false,
    "pycharm": {
     "name": "#%%\n"
    }
   }
  },
  {
   "cell_type": "code",
   "source": [
    "df1.agg(sum,axis=1)"
   ],
   "metadata": {
    "collapsed": false,
    "pycharm": {
     "name": "#%%\n"
    }
   },
   "execution_count": 76,
   "outputs": [
    {
     "data": {
      "text/plain": "学号\n1001    266.00\n1002    212.50\n1003    230.25\n1004    251.75\n1005    240.25\ndtype: float64"
     },
     "execution_count": 76,
     "metadata": {},
     "output_type": "execute_result"
    }
   ]
  },
  {
   "cell_type": "markdown",
   "source": [
    "### DatetimeIndex(时间日期索引)"
   ],
   "metadata": {
    "collapsed": false,
    "pycharm": {
     "name": "#%% md\n"
    }
   }
  },
  {
   "cell_type": "code",
   "execution_count": 77,
   "outputs": [
    {
     "data": {
      "text/plain": "DatetimeIndex(['2021-12-15 00:00:00', '2021-12-16 21:20:00',\n               '2021-12-18 18:40:00', '2021-12-20 16:00:00',\n               '2021-12-22 13:20:00', '2021-12-24 10:40:00',\n               '2021-12-26 08:00:00', '2021-12-28 05:20:00',\n               '2021-12-30 02:40:00', '2022-01-01 00:00:00'],\n              dtype='datetime64[ns]', freq=None)"
     },
     "execution_count": 77,
     "metadata": {},
     "output_type": "execute_result"
    }
   ],
   "source": [
    "pd.date_range(start='2021-12-15',end='2022-01-01',periods=10)\n",
    "# 平均分成十个时期"
   ],
   "metadata": {
    "collapsed": false,
    "pycharm": {
     "name": "#%%\n"
    }
   }
  },
  {
   "cell_type": "code",
   "execution_count": 85,
   "outputs": [
    {
     "data": {
      "text/plain": "DatetimeIndex(['2021-12-20', '2021-12-27', '2022-01-03', '2022-01-10',\n               '2022-01-17', '2022-01-24', '2022-01-31', '2022-02-07',\n               '2022-02-14'],\n              dtype='datetime64[ns]', freq='W-MON')"
     },
     "execution_count": 85,
     "metadata": {},
     "output_type": "execute_result"
    }
   ],
   "source": [
    "pd.date_range('2021-12-20', '2022-02-14', freq='W-MON')\n",
    "# 获取每个区间的每个周一 左右全开"
   ],
   "metadata": {
    "collapsed": false,
    "pycharm": {
     "name": "#%%\n"
    }
   }
  },
  {
   "cell_type": "code",
   "execution_count": 86,
   "outputs": [
    {
     "data": {
      "text/plain": "DatetimeIndex(['2021-12-18', '2021-12-25', '2022-01-01', '2022-01-08',\n               '2022-01-15', '2022-01-22', '2022-01-29', '2022-02-05',\n               '2022-02-12'],\n              dtype='datetime64[ns]', freq=None)"
     },
     "execution_count": 86,
     "metadata": {},
     "output_type": "execute_result"
    }
   ],
   "source": [
    "# 设置时间偏置\n",
    "pd.date_range('2021-12-20', '2022-02-14', freq='W-MON')-pd.DateOffset(days =2)"
   ],
   "metadata": {
    "collapsed": false,
    "pycharm": {
     "name": "#%%\n"
    }
   }
  },
  {
   "cell_type": "markdown",
   "source": [
    "shift()方法,对数据进行时间推移"
   ],
   "metadata": {
    "collapsed": false,
    "pycharm": {
     "name": "#%% md\n"
    }
   }
  },
  {
   "cell_type": "code",
   "execution_count": 90,
   "outputs": [
    {
     "data": {
      "text/plain": "               Open    High     Low   Close   Volume\nDate                                                \n2021-12-06    0.000    0.00    0.00    0.00        0\n2021-12-07    0.000    0.00    0.00    0.00        0\n2021-12-08    0.000    0.00    0.00    0.00        0\n2021-12-09  136.250  147.80  136.11  147.65  4962278\n2021-12-10  150.180  151.61  147.10  149.89  4327345\n2021-12-13  147.170  150.67  146.21  148.93  2864314\n2021-12-14  148.685  154.28  148.12  148.69  2825701\n2021-12-15  148.000  150.56  147.31  149.34  2932520\n2021-12-16  147.650  147.68  143.46  144.55  2915092\n2021-12-17  140.570  145.37  140.53  142.89  2420134",
      "text/html": "<div>\n<style scoped>\n    .dataframe tbody tr th:only-of-type {\n        vertical-align: middle;\n    }\n\n    .dataframe tbody tr th {\n        vertical-align: top;\n    }\n\n    .dataframe thead th {\n        text-align: right;\n    }\n</style>\n<table border=\"1\" class=\"dataframe\">\n  <thead>\n    <tr style=\"text-align: right;\">\n      <th></th>\n      <th>Open</th>\n      <th>High</th>\n      <th>Low</th>\n      <th>Close</th>\n      <th>Volume</th>\n    </tr>\n    <tr>\n      <th>Date</th>\n      <th></th>\n      <th></th>\n      <th></th>\n      <th></th>\n      <th></th>\n    </tr>\n  </thead>\n  <tbody>\n    <tr>\n      <th>2021-12-06</th>\n      <td>0.000</td>\n      <td>0.00</td>\n      <td>0.00</td>\n      <td>0.00</td>\n      <td>0</td>\n    </tr>\n    <tr>\n      <th>2021-12-07</th>\n      <td>0.000</td>\n      <td>0.00</td>\n      <td>0.00</td>\n      <td>0.00</td>\n      <td>0</td>\n    </tr>\n    <tr>\n      <th>2021-12-08</th>\n      <td>0.000</td>\n      <td>0.00</td>\n      <td>0.00</td>\n      <td>0.00</td>\n      <td>0</td>\n    </tr>\n    <tr>\n      <th>2021-12-09</th>\n      <td>136.250</td>\n      <td>147.80</td>\n      <td>136.11</td>\n      <td>147.65</td>\n      <td>4962278</td>\n    </tr>\n    <tr>\n      <th>2021-12-10</th>\n      <td>150.180</td>\n      <td>151.61</td>\n      <td>147.10</td>\n      <td>149.89</td>\n      <td>4327345</td>\n    </tr>\n    <tr>\n      <th>2021-12-13</th>\n      <td>147.170</td>\n      <td>150.67</td>\n      <td>146.21</td>\n      <td>148.93</td>\n      <td>2864314</td>\n    </tr>\n    <tr>\n      <th>2021-12-14</th>\n      <td>148.685</td>\n      <td>154.28</td>\n      <td>148.12</td>\n      <td>148.69</td>\n      <td>2825701</td>\n    </tr>\n    <tr>\n      <th>2021-12-15</th>\n      <td>148.000</td>\n      <td>150.56</td>\n      <td>147.31</td>\n      <td>149.34</td>\n      <td>2932520</td>\n    </tr>\n    <tr>\n      <th>2021-12-16</th>\n      <td>147.650</td>\n      <td>147.68</td>\n      <td>143.46</td>\n      <td>144.55</td>\n      <td>2915092</td>\n    </tr>\n    <tr>\n      <th>2021-12-17</th>\n      <td>140.570</td>\n      <td>145.37</td>\n      <td>140.53</td>\n      <td>142.89</td>\n      <td>2420134</td>\n    </tr>\n  </tbody>\n</table>\n</div>"
     },
     "execution_count": 90,
     "metadata": {},
     "output_type": "execute_result"
    }
   ],
   "source": [
    "baidu_df.shift(3, fill_value=0)"
   ],
   "metadata": {
    "collapsed": false,
    "pycharm": {
     "name": "#%%\n"
    }
   }
  },
  {
   "cell_type": "code",
   "execution_count": null,
   "outputs": [],
   "source": [],
   "metadata": {
    "collapsed": false,
    "pycharm": {
     "name": "#%%\n"
    }
   }
  },
  {
   "cell_type": "code",
   "execution_count": 93,
   "outputs": [
    {
     "data": {
      "text/plain": "              Open    High     Low   Close     Volume\nDate                                                 \n2021-12-06  136.25  147.80  136.11  147.65  4962278.0\n2021-12-11  142.55  145.84  139.85  140.17  2748176.0\n2021-12-16  142.55  145.84  139.85  140.17  2748176.0",
      "text/html": "<div>\n<style scoped>\n    .dataframe tbody tr th:only-of-type {\n        vertical-align: middle;\n    }\n\n    .dataframe tbody tr th {\n        vertical-align: top;\n    }\n\n    .dataframe thead th {\n        text-align: right;\n    }\n</style>\n<table border=\"1\" class=\"dataframe\">\n  <thead>\n    <tr style=\"text-align: right;\">\n      <th></th>\n      <th>Open</th>\n      <th>High</th>\n      <th>Low</th>\n      <th>Close</th>\n      <th>Volume</th>\n    </tr>\n    <tr>\n      <th>Date</th>\n      <th></th>\n      <th></th>\n      <th></th>\n      <th></th>\n      <th></th>\n    </tr>\n  </thead>\n  <tbody>\n    <tr>\n      <th>2021-12-06</th>\n      <td>136.25</td>\n      <td>147.80</td>\n      <td>136.11</td>\n      <td>147.65</td>\n      <td>4962278.0</td>\n    </tr>\n    <tr>\n      <th>2021-12-11</th>\n      <td>142.55</td>\n      <td>145.84</td>\n      <td>139.85</td>\n      <td>140.17</td>\n      <td>2748176.0</td>\n    </tr>\n    <tr>\n      <th>2021-12-16</th>\n      <td>142.55</td>\n      <td>145.84</td>\n      <td>139.85</td>\n      <td>140.17</td>\n      <td>2748176.0</td>\n    </tr>\n  </tbody>\n</table>\n</div>"
     },
     "execution_count": 93,
     "metadata": {},
     "output_type": "execute_result"
    }
   ],
   "source": [
    "baidu_df.asfreq('5D').bfill()"
   ],
   "metadata": {
    "collapsed": false,
    "pycharm": {
     "name": "#%%\n"
    }
   }
  },
  {
   "cell_type": "markdown",
   "source": [
    "### 时区转换"
   ],
   "metadata": {
    "collapsed": false,
    "pycharm": {
     "name": "#%% md\n"
    }
   }
  },
  {
   "cell_type": "code",
   "execution_count": 94,
   "outputs": [
    {
     "data": {
      "text/plain": "['Africa/Abidjan', 'Africa/Accra', 'Africa/Addis_Ababa', 'Africa/Algiers', 'Africa/Asmara', 'Africa/Bamako', 'Africa/Bangui', 'Africa/Banjul', 'Africa/Bissau', 'Africa/Blantyre', 'Africa/Brazzaville', 'Africa/Bujumbura', 'Africa/Cairo', 'Africa/Casablanca', 'Africa/Ceuta', 'Africa/Conakry', 'Africa/Dakar', 'Africa/Dar_es_Salaam', 'Africa/Djibouti', 'Africa/Douala', 'Africa/El_Aaiun', 'Africa/Freetown', 'Africa/Gaborone', 'Africa/Harare', 'Africa/Johannesburg', 'Africa/Juba', 'Africa/Kampala', 'Africa/Khartoum', 'Africa/Kigali', 'Africa/Kinshasa', 'Africa/Lagos', 'Africa/Libreville', 'Africa/Lome', 'Africa/Luanda', 'Africa/Lubumbashi', 'Africa/Lusaka', 'Africa/Malabo', 'Africa/Maputo', 'Africa/Maseru', 'Africa/Mbabane', 'Africa/Mogadishu', 'Africa/Monrovia', 'Africa/Nairobi', 'Africa/Ndjamena', 'Africa/Niamey', 'Africa/Nouakchott', 'Africa/Ouagadougou', 'Africa/Porto-Novo', 'Africa/Sao_Tome', 'Africa/Tripoli', 'Africa/Tunis', 'Africa/Windhoek', 'America/Adak', 'America/Anchorage', 'America/Anguilla', 'America/Antigua', 'America/Araguaina', 'America/Argentina/Buenos_Aires', 'America/Argentina/Catamarca', 'America/Argentina/Cordoba', 'America/Argentina/Jujuy', 'America/Argentina/La_Rioja', 'America/Argentina/Mendoza', 'America/Argentina/Rio_Gallegos', 'America/Argentina/Salta', 'America/Argentina/San_Juan', 'America/Argentina/San_Luis', 'America/Argentina/Tucuman', 'America/Argentina/Ushuaia', 'America/Aruba', 'America/Asuncion', 'America/Atikokan', 'America/Bahia', 'America/Bahia_Banderas', 'America/Barbados', 'America/Belem', 'America/Belize', 'America/Blanc-Sablon', 'America/Boa_Vista', 'America/Bogota', 'America/Boise', 'America/Cambridge_Bay', 'America/Campo_Grande', 'America/Cancun', 'America/Caracas', 'America/Cayenne', 'America/Cayman', 'America/Chicago', 'America/Chihuahua', 'America/Costa_Rica', 'America/Creston', 'America/Cuiaba', 'America/Curacao', 'America/Danmarkshavn', 'America/Dawson', 'America/Dawson_Creek', 'America/Denver', 'America/Detroit', 'America/Dominica', 'America/Edmonton', 'America/Eirunepe', 'America/El_Salvador', 'America/Fort_Nelson', 'America/Fortaleza', 'America/Glace_Bay', 'America/Goose_Bay', 'America/Grand_Turk', 'America/Grenada', 'America/Guadeloupe', 'America/Guatemala', 'America/Guayaquil', 'America/Guyana', 'America/Halifax', 'America/Havana', 'America/Hermosillo', 'America/Indiana/Indianapolis', 'America/Indiana/Knox', 'America/Indiana/Marengo', 'America/Indiana/Petersburg', 'America/Indiana/Tell_City', 'America/Indiana/Vevay', 'America/Indiana/Vincennes', 'America/Indiana/Winamac', 'America/Inuvik', 'America/Iqaluit', 'America/Jamaica', 'America/Juneau', 'America/Kentucky/Louisville', 'America/Kentucky/Monticello', 'America/Kralendijk', 'America/La_Paz', 'America/Lima', 'America/Los_Angeles', 'America/Lower_Princes', 'America/Maceio', 'America/Managua', 'America/Manaus', 'America/Marigot', 'America/Martinique', 'America/Matamoros', 'America/Mazatlan', 'America/Menominee', 'America/Merida', 'America/Metlakatla', 'America/Mexico_City', 'America/Miquelon', 'America/Moncton', 'America/Monterrey', 'America/Montevideo', 'America/Montserrat', 'America/Nassau', 'America/New_York', 'America/Nipigon', 'America/Nome', 'America/Noronha', 'America/North_Dakota/Beulah', 'America/North_Dakota/Center', 'America/North_Dakota/New_Salem', 'America/Nuuk', 'America/Ojinaga', 'America/Panama', 'America/Pangnirtung', 'America/Paramaribo', 'America/Phoenix', 'America/Port-au-Prince', 'America/Port_of_Spain', 'America/Porto_Velho', 'America/Puerto_Rico', 'America/Punta_Arenas', 'America/Rainy_River', 'America/Rankin_Inlet', 'America/Recife', 'America/Regina', 'America/Resolute', 'America/Rio_Branco', 'America/Santarem', 'America/Santiago', 'America/Santo_Domingo', 'America/Sao_Paulo', 'America/Scoresbysund', 'America/Sitka', 'America/St_Barthelemy', 'America/St_Johns', 'America/St_Kitts', 'America/St_Lucia', 'America/St_Thomas', 'America/St_Vincent', 'America/Swift_Current', 'America/Tegucigalpa', 'America/Thule', 'America/Thunder_Bay', 'America/Tijuana', 'America/Toronto', 'America/Tortola', 'America/Vancouver', 'America/Whitehorse', 'America/Winnipeg', 'America/Yakutat', 'America/Yellowknife', 'Antarctica/Casey', 'Antarctica/Davis', 'Antarctica/DumontDUrville', 'Antarctica/Macquarie', 'Antarctica/Mawson', 'Antarctica/McMurdo', 'Antarctica/Palmer', 'Antarctica/Rothera', 'Antarctica/Syowa', 'Antarctica/Troll', 'Antarctica/Vostok', 'Arctic/Longyearbyen', 'Asia/Aden', 'Asia/Almaty', 'Asia/Amman', 'Asia/Anadyr', 'Asia/Aqtau', 'Asia/Aqtobe', 'Asia/Ashgabat', 'Asia/Atyrau', 'Asia/Baghdad', 'Asia/Bahrain', 'Asia/Baku', 'Asia/Bangkok', 'Asia/Barnaul', 'Asia/Beirut', 'Asia/Bishkek', 'Asia/Brunei', 'Asia/Chita', 'Asia/Choibalsan', 'Asia/Colombo', 'Asia/Damascus', 'Asia/Dhaka', 'Asia/Dili', 'Asia/Dubai', 'Asia/Dushanbe', 'Asia/Famagusta', 'Asia/Gaza', 'Asia/Hebron', 'Asia/Ho_Chi_Minh', 'Asia/Hong_Kong', 'Asia/Hovd', 'Asia/Irkutsk', 'Asia/Jakarta', 'Asia/Jayapura', 'Asia/Jerusalem', 'Asia/Kabul', 'Asia/Kamchatka', 'Asia/Karachi', 'Asia/Kathmandu', 'Asia/Khandyga', 'Asia/Kolkata', 'Asia/Krasnoyarsk', 'Asia/Kuala_Lumpur', 'Asia/Kuching', 'Asia/Kuwait', 'Asia/Macau', 'Asia/Magadan', 'Asia/Makassar', 'Asia/Manila', 'Asia/Muscat', 'Asia/Nicosia', 'Asia/Novokuznetsk', 'Asia/Novosibirsk', 'Asia/Omsk', 'Asia/Oral', 'Asia/Phnom_Penh', 'Asia/Pontianak', 'Asia/Pyongyang', 'Asia/Qatar', 'Asia/Qostanay', 'Asia/Qyzylorda', 'Asia/Riyadh', 'Asia/Sakhalin', 'Asia/Samarkand', 'Asia/Seoul', 'Asia/Shanghai', 'Asia/Singapore', 'Asia/Srednekolymsk', 'Asia/Taipei', 'Asia/Tashkent', 'Asia/Tbilisi', 'Asia/Tehran', 'Asia/Thimphu', 'Asia/Tokyo', 'Asia/Tomsk', 'Asia/Ulaanbaatar', 'Asia/Urumqi', 'Asia/Ust-Nera', 'Asia/Vientiane', 'Asia/Vladivostok', 'Asia/Yakutsk', 'Asia/Yangon', 'Asia/Yekaterinburg', 'Asia/Yerevan', 'Atlantic/Azores', 'Atlantic/Bermuda', 'Atlantic/Canary', 'Atlantic/Cape_Verde', 'Atlantic/Faroe', 'Atlantic/Madeira', 'Atlantic/Reykjavik', 'Atlantic/South_Georgia', 'Atlantic/St_Helena', 'Atlantic/Stanley', 'Australia/Adelaide', 'Australia/Brisbane', 'Australia/Broken_Hill', 'Australia/Darwin', 'Australia/Eucla', 'Australia/Hobart', 'Australia/Lindeman', 'Australia/Lord_Howe', 'Australia/Melbourne', 'Australia/Perth', 'Australia/Sydney', 'Canada/Atlantic', 'Canada/Central', 'Canada/Eastern', 'Canada/Mountain', 'Canada/Newfoundland', 'Canada/Pacific', 'Europe/Amsterdam', 'Europe/Andorra', 'Europe/Astrakhan', 'Europe/Athens', 'Europe/Belgrade', 'Europe/Berlin', 'Europe/Bratislava', 'Europe/Brussels', 'Europe/Bucharest', 'Europe/Budapest', 'Europe/Busingen', 'Europe/Chisinau', 'Europe/Copenhagen', 'Europe/Dublin', 'Europe/Gibraltar', 'Europe/Guernsey', 'Europe/Helsinki', 'Europe/Isle_of_Man', 'Europe/Istanbul', 'Europe/Jersey', 'Europe/Kaliningrad', 'Europe/Kiev', 'Europe/Kirov', 'Europe/Lisbon', 'Europe/Ljubljana', 'Europe/London', 'Europe/Luxembourg', 'Europe/Madrid', 'Europe/Malta', 'Europe/Mariehamn', 'Europe/Minsk', 'Europe/Monaco', 'Europe/Moscow', 'Europe/Oslo', 'Europe/Paris', 'Europe/Podgorica', 'Europe/Prague', 'Europe/Riga', 'Europe/Rome', 'Europe/Samara', 'Europe/San_Marino', 'Europe/Sarajevo', 'Europe/Saratov', 'Europe/Simferopol', 'Europe/Skopje', 'Europe/Sofia', 'Europe/Stockholm', 'Europe/Tallinn', 'Europe/Tirane', 'Europe/Ulyanovsk', 'Europe/Uzhgorod', 'Europe/Vaduz', 'Europe/Vatican', 'Europe/Vienna', 'Europe/Vilnius', 'Europe/Volgograd', 'Europe/Warsaw', 'Europe/Zagreb', 'Europe/Zaporozhye', 'Europe/Zurich', 'GMT', 'Indian/Antananarivo', 'Indian/Chagos', 'Indian/Christmas', 'Indian/Cocos', 'Indian/Comoro', 'Indian/Kerguelen', 'Indian/Mahe', 'Indian/Maldives', 'Indian/Mauritius', 'Indian/Mayotte', 'Indian/Reunion', 'Pacific/Apia', 'Pacific/Auckland', 'Pacific/Bougainville', 'Pacific/Chatham', 'Pacific/Chuuk', 'Pacific/Easter', 'Pacific/Efate', 'Pacific/Fakaofo', 'Pacific/Fiji', 'Pacific/Funafuti', 'Pacific/Galapagos', 'Pacific/Gambier', 'Pacific/Guadalcanal', 'Pacific/Guam', 'Pacific/Honolulu', 'Pacific/Kanton', 'Pacific/Kiritimati', 'Pacific/Kosrae', 'Pacific/Kwajalein', 'Pacific/Majuro', 'Pacific/Marquesas', 'Pacific/Midway', 'Pacific/Nauru', 'Pacific/Niue', 'Pacific/Norfolk', 'Pacific/Noumea', 'Pacific/Pago_Pago', 'Pacific/Palau', 'Pacific/Pitcairn', 'Pacific/Pohnpei', 'Pacific/Port_Moresby', 'Pacific/Rarotonga', 'Pacific/Saipan', 'Pacific/Tahiti', 'Pacific/Tarawa', 'Pacific/Tongatapu', 'Pacific/Wake', 'Pacific/Wallis', 'US/Alaska', 'US/Arizona', 'US/Central', 'US/Eastern', 'US/Hawaii', 'US/Mountain', 'US/Pacific', 'UTC']"
     },
     "execution_count": 94,
     "metadata": {},
     "output_type": "execute_result"
    }
   ],
   "source": [
    "import pytz\n",
    "pytz.common_timezones"
   ],
   "metadata": {
    "collapsed": false,
    "pycharm": {
     "name": "#%%\n"
    }
   }
  },
  {
   "cell_type": "code",
   "execution_count": 97,
   "outputs": [
    {
     "data": {
      "text/plain": "                              Open    High     Low   Close   Volume\nDate                                                               \n2021-12-06 00:00:00+08:00  136.250  147.80  136.11  147.65  4962278\n2021-12-07 00:00:00+08:00  150.180  151.61  147.10  149.89  4327345\n2021-12-08 00:00:00+08:00  147.170  150.67  146.21  148.93  2864314\n2021-12-09 00:00:00+08:00  148.685  154.28  148.12  148.69  2825701\n2021-12-10 00:00:00+08:00  148.000  150.56  147.31  149.34  2932520\n2021-12-13 00:00:00+08:00  147.650  147.68  143.46  144.55  2915092\n2021-12-14 00:00:00+08:00  140.570  145.37  140.53  142.89  2420134\n2021-12-15 00:00:00+08:00  141.000  141.46  136.45  141.41  4023886\n2021-12-16 00:00:00+08:00  142.550  145.84  139.85  140.17  2748176\n2021-12-17 00:00:00+08:00  138.310  143.14  137.22  142.09  4169208",
      "text/html": "<div>\n<style scoped>\n    .dataframe tbody tr th:only-of-type {\n        vertical-align: middle;\n    }\n\n    .dataframe tbody tr th {\n        vertical-align: top;\n    }\n\n    .dataframe thead th {\n        text-align: right;\n    }\n</style>\n<table border=\"1\" class=\"dataframe\">\n  <thead>\n    <tr style=\"text-align: right;\">\n      <th></th>\n      <th>Open</th>\n      <th>High</th>\n      <th>Low</th>\n      <th>Close</th>\n      <th>Volume</th>\n    </tr>\n    <tr>\n      <th>Date</th>\n      <th></th>\n      <th></th>\n      <th></th>\n      <th></th>\n      <th></th>\n    </tr>\n  </thead>\n  <tbody>\n    <tr>\n      <th>2021-12-06 00:00:00+08:00</th>\n      <td>136.250</td>\n      <td>147.80</td>\n      <td>136.11</td>\n      <td>147.65</td>\n      <td>4962278</td>\n    </tr>\n    <tr>\n      <th>2021-12-07 00:00:00+08:00</th>\n      <td>150.180</td>\n      <td>151.61</td>\n      <td>147.10</td>\n      <td>149.89</td>\n      <td>4327345</td>\n    </tr>\n    <tr>\n      <th>2021-12-08 00:00:00+08:00</th>\n      <td>147.170</td>\n      <td>150.67</td>\n      <td>146.21</td>\n      <td>148.93</td>\n      <td>2864314</td>\n    </tr>\n    <tr>\n      <th>2021-12-09 00:00:00+08:00</th>\n      <td>148.685</td>\n      <td>154.28</td>\n      <td>148.12</td>\n      <td>148.69</td>\n      <td>2825701</td>\n    </tr>\n    <tr>\n      <th>2021-12-10 00:00:00+08:00</th>\n      <td>148.000</td>\n      <td>150.56</td>\n      <td>147.31</td>\n      <td>149.34</td>\n      <td>2932520</td>\n    </tr>\n    <tr>\n      <th>2021-12-13 00:00:00+08:00</th>\n      <td>147.650</td>\n      <td>147.68</td>\n      <td>143.46</td>\n      <td>144.55</td>\n      <td>2915092</td>\n    </tr>\n    <tr>\n      <th>2021-12-14 00:00:00+08:00</th>\n      <td>140.570</td>\n      <td>145.37</td>\n      <td>140.53</td>\n      <td>142.89</td>\n      <td>2420134</td>\n    </tr>\n    <tr>\n      <th>2021-12-15 00:00:00+08:00</th>\n      <td>141.000</td>\n      <td>141.46</td>\n      <td>136.45</td>\n      <td>141.41</td>\n      <td>4023886</td>\n    </tr>\n    <tr>\n      <th>2021-12-16 00:00:00+08:00</th>\n      <td>142.550</td>\n      <td>145.84</td>\n      <td>139.85</td>\n      <td>140.17</td>\n      <td>2748176</td>\n    </tr>\n    <tr>\n      <th>2021-12-17 00:00:00+08:00</th>\n      <td>138.310</td>\n      <td>143.14</td>\n      <td>137.22</td>\n      <td>142.09</td>\n      <td>4169208</td>\n    </tr>\n  </tbody>\n</table>\n</div>"
     },
     "execution_count": 97,
     "metadata": {},
     "output_type": "execute_result"
    }
   ],
   "source": [
    "baidu_df = baidu_df.tz_convert('Asia/Shanghai')\n",
    "baidu_df"
   ],
   "metadata": {
    "collapsed": false,
    "pycharm": {
     "name": "#%%\n"
    }
   }
  }
 ],
 "metadata": {
  "kernelspec": {
   "display_name": "Python 3",
   "language": "python",
   "name": "python3"
  },
  "language_info": {
   "codemirror_mode": {
    "name": "ipython",
    "version": 2
   },
   "file_extension": ".py",
   "mimetype": "text/x-python",
   "name": "python",
   "nbconvert_exporter": "python",
   "pygments_lexer": "ipython2",
   "version": "2.7.6"
  }
 },
 "nbformat": 4,
 "nbformat_minor": 0
}