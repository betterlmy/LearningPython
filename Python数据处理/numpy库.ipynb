{
 "cells": [
  {
   "cell_type": "code",
   "execution_count": 2,
   "id": "c10b7373-fb1a-4626-8ecb-2fd0287bf358",
   "metadata": {},
   "outputs": [],
   "source": [
    "import numpy as np\n",
    "import matplotlib.pyplot as plt\n",
    "%matplotlib inline"
   ]
  },
  {
   "cell_type": "markdown",
   "id": "c5b3bf2a-3dac-4840-a79e-9b45a6435740",
   "metadata": {
    "tags": []
   },
   "source": [
    "# [Numpy](https://numpy.org/doc/stable/index.html#)"
   ]
  },
  {
   "cell_type": "markdown",
   "id": "2d514a68-95a4-4274-b11e-a58a4d86de95",
   "metadata": {},
   "source": [
    "## numpy常见的属性"
   ]
  },
  {
   "cell_type": "code",
   "execution_count": 2,
   "id": "c195b151-8d6c-4041-877b-6375360e8493",
   "metadata": {},
   "outputs": [
    {
     "name": "stdout",
     "output_type": "stream",
     "text": [
      "[[1 2 3 4]\n",
      " [2 3 4 5]\n",
      " [3 4 5 6]]\n",
      "number of dimension: 2\n",
      "shape: (3, 4)\n",
      "size: 12\n"
     ]
    }
   ],
   "source": [
    "array = np.array([\n",
    "    [1, 2, 3, 4],\n",
    "    [2, 3, 4, 5],\n",
    "    [3, 4, 5, 6]\n",
    "])\n",
    "#输出矩阵\n",
    "print(array)\n",
    "\n",
    "#输出维度\n",
    "print(\"number of dimension:\", array.ndim)\n",
    "\n",
    "#输出行列\n",
    "print(\"shape:\", array.shape)\n",
    "\n",
    "#输出元素个数\n",
    "print(\"size:\", array.size)"
   ]
  },
  {
   "cell_type": "markdown",
   "id": "cd5fff98-f5b9-4235-bc28-c5aad7849608",
   "metadata": {},
   "source": [
    "## ndarray的创建\n",
    "### 通过np的array()方法,赋值list或者tuple"
   ]
  },
  {
   "cell_type": "code",
   "execution_count": 7,
   "id": "16d7ca2e-f264-46fc-a072-0aab8fd53ac1",
   "metadata": {},
   "outputs": [
    {
     "name": "stdout",
     "output_type": "stream",
     "text": [
      "[123  23   4]\n",
      "int64\n",
      "['testArray' '23' '4']\n",
      "<U9\n",
      "['testArray1' '231' '41']\n",
      "<U10\n"
     ]
    }
   ],
   "source": [
    "#基础创建\n",
    "a = np.array([123, 23, 4], dtype=int)  # 通过dtype的数据类型 包括int int32 float64 float32\n",
    "print(a)\n",
    "print(a.dtype)\n",
    "\n",
    "list1 = ['testArray', 23, 4]\n",
    "a = np.array(list1)\n",
    "print(a)\n",
    "print(a.dtype)\n",
    "\n",
    "tuple1 =('testArray1', 231, 41)\n",
    "a = np.array(tuple1)\n",
    "print(a)\n",
    "print(a.dtype)"
   ]
  },
  {
   "cell_type": "markdown",
   "source": [
    "### 对象元素类型\n",
    "![元素类型](./res/elementType.png)"
   ],
   "metadata": {
    "collapsed": false,
    "pycharm": {
     "name": "#%% md\n"
    }
   }
  },
  {
   "cell_type": "markdown",
   "source": [
    "### 创建0矩阵"
   ],
   "metadata": {
    "collapsed": false,
    "pycharm": {
     "name": "#%% md\n"
    }
   }
  },
  {
   "cell_type": "code",
   "execution_count": 8,
   "id": "52d6d9a3-e0f8-4dad-a82e-bbb9d00b7281",
   "metadata": {},
   "outputs": [
    {
     "data": {
      "text/plain": "array([[0., 0., 0., 0.],\n       [0., 0., 0., 0.],\n       [0., 0., 0., 0.]])"
     },
     "execution_count": 8,
     "metadata": {},
     "output_type": "execute_result"
    }
   ],
   "source": [
    "#特殊创建\n",
    "#创建全部为0的矩阵\n",
    "zeroArray = np.zeros((3, 4))  #创建了一个三行四列的零矩阵\n",
    "zeroArray"
   ]
  },
  {
   "cell_type": "markdown",
   "source": [
    "### 数组复制"
   ],
   "metadata": {
    "collapsed": false,
    "pycharm": {
     "name": "#%% md\n"
    }
   }
  },
  {
   "cell_type": "code",
   "execution_count": 32,
   "outputs": [
    {
     "name": "stdout",
     "output_type": "stream",
     "text": [
      "[[0. 0. 0. 0.]\n",
      " [0. 0. 0. 0.]\n",
      " [0. 0. 0. 0.]]\n"
     ]
    }
   ],
   "source": [
    "array_new = zeroArray[:]\n",
    "print(array_new.base)\n",
    "# 数组的复制区别于list的切片操作,其内存空间相同,而list不同"
   ],
   "metadata": {
    "collapsed": false,
    "pycharm": {
     "name": "#%%\n"
    }
   }
  },
  {
   "cell_type": "markdown",
   "source": [
    "### 范围创建一维数组与reshape"
   ],
   "metadata": {
    "collapsed": false,
    "pycharm": {
     "name": "#%% md\n"
    }
   }
  },
  {
   "cell_type": "code",
   "execution_count": 33,
   "id": "4a8a259e-0f64-490d-8f33-b1898a14e5d0",
   "metadata": {},
   "outputs": [
    {
     "name": "stdout",
     "output_type": "stream",
     "text": [
      "[1 4 7]\n",
      "[[1 2 3]\n",
      " [4 5 6]\n",
      " [7 8 9]]\n",
      "[[ 0  1  2  3]\n",
      " [ 4  5  6  7]\n",
      " [ 8  9 10 11]]\n"
     ]
    }
   ],
   "source": [
    "#创建范围（手动指定步长）\n",
    "rangeArray1 = np.arange(1, 10, 3)  # 大于等于1小于10，左开右闭 步进值=3\n",
    "print(rangeArray1)  # 默认为一行\n",
    "\n",
    "rangeArray2 = np.arange(1, 10).reshape((3, 3))  # reshape的大小必须与前面的范围相同\n",
    "print(rangeArray2)\n",
    "\n",
    "rangeArray3 = np.arange(12).reshape((3, 4))  # 默认从0开始\n",
    "print(rangeArray3)"
   ]
  },
  {
   "cell_type": "code",
   "execution_count": 42,
   "id": "b199d238-95bf-4b27-8bbe-2296d98b3ce4",
   "metadata": {},
   "outputs": [
    {
     "name": "stdout",
     "output_type": "stream",
     "text": [
      "[[ 1.  3.  5.  7.  9.]\n",
      " [11. 13. 15. 17. 19.]]\n"
     ]
    }
   ],
   "source": [
    "#创建范围（自动分配步长）\n",
    "lineArray = np.linspace(1, 19, 10).reshape((2, 5))  #x大于等于1小于等于19，平均选择10个值\n",
    "print(lineArray)"
   ]
  },
  {
   "cell_type": "markdown",
   "source": [
    "### 随机数矩阵"
   ],
   "metadata": {
    "collapsed": false,
    "pycharm": {
     "name": "#%% md\n"
    }
   }
  },
  {
   "cell_type": "code",
   "execution_count": 25,
   "outputs": [
    {
     "data": {
      "text/plain": "array([[1, 3, 3, 2, 1]])"
     },
     "execution_count": 25,
     "metadata": {},
     "output_type": "execute_result"
    }
   ],
   "source": [
    "array4 = np.random.randint(1,4,5).reshape((1,5))\n",
    "array4"
   ],
   "metadata": {
    "collapsed": false,
    "pycharm": {
     "name": "#%%\n"
    }
   }
  },
  {
   "cell_type": "markdown",
   "source": [
    "### 单位矩阵"
   ],
   "metadata": {
    "collapsed": false,
    "pycharm": {
     "name": "#%% md\n"
    }
   }
  },
  {
   "cell_type": "code",
   "execution_count": 29,
   "outputs": [
    {
     "data": {
      "text/plain": "array([[1., 0., 0., 0.],\n       [0., 1., 0., 0.],\n       [0., 0., 1., 0.],\n       [0., 0., 0., 1.]])"
     },
     "execution_count": 29,
     "metadata": {},
     "output_type": "execute_result"
    }
   ],
   "source": [
    "array = np.eye(4)\n",
    "array"
   ],
   "metadata": {
    "collapsed": false,
    "pycharm": {
     "name": "#%%\n"
    }
   }
  },
  {
   "cell_type": "markdown",
   "id": "e98f4db8-cb85-4476-a681-162f8deabf84",
   "metadata": {},
   "source": [
    "## numpy基础运算"
   ]
  },
  {
   "cell_type": "code",
   "execution_count": 10,
   "id": "c1b7a079-be32-44d3-84e6-82926b1a8f9a",
   "metadata": {},
   "outputs": [
    {
     "name": "stdout",
     "output_type": "stream",
     "text": [
      "[10 20 30 40] [1 2 3 4]\n"
     ]
    }
   ],
   "source": [
    "# 创建两个一行四列的一维数组\n",
    "arrayA = np.array([10, 20, 30, 40], dtype=int)\n",
    "# arrayB=np.arange(0,4)\n",
    "arrayB = np.arange(1, 5)\n",
    "print(arrayA, arrayB)  # [10 20 30 40] [1 2 3 4]"
   ]
  },
  {
   "cell_type": "markdown",
   "source": [
    "### 加减乘除"
   ],
   "metadata": {
    "collapsed": false,
    "pycharm": {
     "name": "#%% md\n"
    }
   }
  },
  {
   "cell_type": "code",
   "execution_count": 11,
   "id": "85b25b14-9d99-4acd-851b-0e549570fa0e",
   "metadata": {},
   "outputs": [
    {
     "name": "stdout",
     "output_type": "stream",
     "text": [
      "[ 9 18 27 36]\n",
      "[11 22 33 44]\n",
      "int64 [ 10  40  90 160]\n",
      "float64 [10. 10. 10. 10.]\n"
     ]
    }
   ],
   "source": [
    "# 元素按顺序逐个一一相加减乘除\n",
    "print(arrayA - arrayB)\n",
    "print(arrayA + arrayB)\n",
    "c = arrayA * arrayB\n",
    "print(c.dtype, c)\n",
    "try:\n",
    "    c = arrayA / arrayB  #使用除法后 数据类型变为float64\n",
    "    print(c.dtype, c)\n",
    "except ZeroDivisionError:\n",
    "    print(\"错误 除以0了\")"
   ]
  },
  {
   "cell_type": "code",
   "execution_count": 12,
   "id": "098ee21b-6d2d-437f-b566-7a22d5735ef1",
   "metadata": {},
   "outputs": [
    {
     "name": "stdout",
     "output_type": "stream",
     "text": [
      "[ 100  400  900 1600]\n",
      "[-0.54402111  0.91294525 -0.98803162  0.74511316]\n"
     ]
    }
   ],
   "source": [
    "# 次数运算\n",
    "print(arrayA ** 2)\n",
    "# 三角函数运算\n",
    "print(np.sin(arrayA))"
   ]
  },
  {
   "cell_type": "markdown",
   "source": [
    "### 元素大小判断"
   ],
   "metadata": {
    "collapsed": false,
    "pycharm": {
     "name": "#%% md\n"
    }
   }
  },
  {
   "cell_type": "code",
   "execution_count": 22,
   "id": "7af36adb-064e-4e35-88f7-347530092315",
   "metadata": {},
   "outputs": [
    {
     "name": "stdout",
     "output_type": "stream",
     "text": [
      "[False False  True False]\n",
      "[ True  True False False]\n"
     ]
    }
   ],
   "source": [
    "# 直接判断元素的大小\n",
    "print(arrayB==3)\n",
    "print(arrayB<3)"
   ]
  },
  {
   "cell_type": "markdown",
   "source": [
    "### 矩阵相乘"
   ],
   "metadata": {
    "collapsed": false,
    "pycharm": {
     "name": "#%% md\n"
    }
   }
  },
  {
   "cell_type": "code",
   "execution_count": 28,
   "id": "c65c3022-6f7e-4c4d-9b31-923bf892cb0e",
   "metadata": {},
   "outputs": [
    {
     "name": "stdout",
     "output_type": "stream",
     "text": [
      "[[1 1]\n",
      " [0 1]] \n",
      " [[0 1]\n",
      " [2 3]]\n"
     ]
    },
    {
     "data": {
      "text/plain": "array([[2, 4],\n       [2, 3]])"
     },
     "execution_count": 28,
     "metadata": {},
     "output_type": "execute_result"
    }
   ],
   "source": [
    "# 矩阵的运算\n",
    "rectA=np.array([\n",
    "    [1,1],\n",
    "    [0,1]])\n",
    "rectB=np.arange(4).reshape((2,2))\n",
    "print(rectA,'\\n',rectB)\n",
    "rectA.dot(rectB)\n",
    "# 矩阵乘法 注意：不要使用rectA*rectB 这样计算是按照坐标挨个相乘的结果"
   ]
  },
  {
   "cell_type": "markdown",
   "source": [
    "### 矩阵的单目运算(统计方法)\n",
    "主要包括：sum()、mean()、std()、var()、min()、max()、argmin()、argmax()、cumsum()等,\n",
    "分别用于   求和、求平均、求标准差、求方差、找最小, 找最大 求累积和等，请参考下面的代码."
   ],
   "metadata": {
    "collapsed": false,
    "pycharm": {
     "name": "#%% md\n"
    }
   }
  },
  {
   "cell_type": "code",
   "execution_count": 30,
   "id": "8e4d511f-ade4-478b-8382-816c6fb7ce81",
   "metadata": {},
   "outputs": [
    {
     "name": "stdout",
     "output_type": "stream",
     "text": [
      "[[1 2]\n",
      " [3 4]] [4 6] [1 3] 4 2.5 2.5\n"
     ]
    }
   ],
   "source": [
    "rect_random=np.arange(1,5).reshape((2,2))#在0到1之间随机产生数字组成一个矩阵\n",
    "print(rect_random,\n",
    "      rect_random.sum(axis=0),# axis=0时，针对行数进行求和，axis=1时，针对列数分别求和，不添加时针对所有元素进行求和\n",
    "      rect_random.min(axis=1),\n",
    "      rect_random.max(),\n",
    "      rect_random.mean(),\n",
    "      np.median(rect_random))#中位数"
   ]
  },
  {
   "cell_type": "code",
   "execution_count": 34,
   "id": "36be6ec6-3c54-4f72-aea7-e30a4f532a19",
   "metadata": {},
   "outputs": [
    {
     "name": "stdout",
     "output_type": "stream",
     "text": [
      "[[ 2  3  4  5]\n",
      " [ 6  7  8  9]\n",
      " [10 11 12 13]]\n",
      "0\n",
      "[ 2  5  9 14 20 27 35 44 54 65 77 90]\n",
      "[[14 13 12 11]\n",
      " [10  9  8  7]\n",
      " [ 6  5  4  3]]\n",
      "[[ 6  5  4  3]\n",
      " [10  9  8  7]\n",
      " [14 13 12 11]]\n",
      "[[ 2  6 10]\n",
      " [ 3  7 11]\n",
      " [ 4  8 12]\n",
      " [ 5  9 13]]\n",
      "[[5 5 5 5]\n",
      " [6 7 8 9]\n",
      " [9 9 9 9]]\n"
     ]
    }
   ],
   "source": [
    "rect_a=np.arange(2,14).reshape((3,4))\n",
    "print(rect_a)\n",
    "print(rect_a.argmin())# 求数列中最小值的索引\n",
    "print(rect_a.cumsum())# 累加到一位数列\n",
    "\n",
    "rect_b=np.arange(14,2,-1).reshape((3,4))\n",
    "print(rect_b)\n",
    "print(np.sort(rect_b,axis=0))# 重拍序列\n",
    "\n",
    "print(rect_a.T)# 矩阵的转置 \n",
    "\n",
    "print(rect_a.clip(5,9)) # 设置阈值 小于5都设置成5 大于9都设置成9\n"
   ]
  },
  {
   "cell_type": "markdown",
   "source": [
    "#### 其他方法\n",
    "flatten()方法：将多维数组扁平化为一维数组.\n",
    "nonzero()方法：返回非0元素的索引.\n",
    "round()方法：对数组中的元素做四舍五入操作.\n",
    "sort()方法：对数组进行就地排序.\n",
    "dump()方法：保存数组到文件中，可以通过 NumPy 中的load()函数从保存的文件中加载数据创建数组.\n",
    "all() / any()方法：判断数组是否所有元素都是True / 判断数组是否有为True的元素.\n",
    "swapaxes():交换数组指定的轴.\n",
    "tolist()方法：将数组转成Python中的list."
   ],
   "metadata": {
    "collapsed": false,
    "pycharm": {
     "name": "#%% md\n"
    }
   }
  },
  {
   "cell_type": "markdown",
   "id": "dcff4141-aae8-46ea-92e1-bb017d3393aa",
   "metadata": {},
   "source": [
    "## numpy的索引运算"
   ]
  },
  {
   "cell_type": "code",
   "execution_count": null,
   "id": "52195ce5-ef43-487e-ac34-27f77f34bf6e",
   "metadata": {
    "pycharm": {
     "is_executing": true
    }
   },
   "outputs": [],
   "source": [
    "array_indexa=np.arange(3,15).reshape((2,3,2))\n",
    "print(array_indexa,'\\n')\n",
    "# print(array_indexa[1],'\\n')\n",
    "# print(array_indexa[1][2],'\\n')# 与array_indexa[1,2]相同\n",
    "# print(array_indexa[:,1],'\\n')\n",
    "\n",
    "\n",
    "# 输出每一行\n",
    "for row in array_indexa:\n",
    "    print(row,'\\n')\n",
    "    \n",
    "# 通过转置矩阵输出每一列\n",
    "for col in array_indexa.T:\n",
    "    print(col,'\\n')\n",
    "    \n",
    "# 输出每个元素  \n",
    "for item in array_indexa.flat:# !!!数组（一维化之后）元素的迭代器\n",
    "    print(item,'\\n')"
   ]
  },
  {
   "cell_type": "markdown",
   "source": [
    "### 花式索引\n",
    "Fancy index是指利用整数数组进行索引,这里的数组可以是ndarray,也可是其他可迭代对象"
   ],
   "metadata": {
    "collapsed": false,
    "pycharm": {
     "name": "#%% md\n"
    }
   }
  },
  {
   "cell_type": "code",
   "execution_count": 37,
   "outputs": [
    {
     "data": {
      "text/plain": "array([60, 90])"
     },
     "execution_count": 37,
     "metadata": {},
     "output_type": "execute_result"
    }
   ],
   "source": [
    "array12 = np.array([[30, 20, 10],\n",
    "                  [40, 60, 50],\n",
    "                  [10, 90, 80]])\n",
    "\n",
    "array12[[1,2],1]"
   ],
   "metadata": {
    "collapsed": false,
    "pycharm": {
     "name": "#%%\n"
    }
   }
  },
  {
   "cell_type": "markdown",
   "id": "4e746469-1455-40c8-aacd-4e7f72557f93",
   "metadata": {},
   "source": [
    "## array的合并与分割"
   ]
  },
  {
   "cell_type": "code",
   "execution_count": 106,
   "id": "f165ef9a-4bfb-48ea-afe5-a4f9b6e2aaa6",
   "metadata": {},
   "outputs": [
    {
     "name": "stdout",
     "output_type": "stream",
     "text": [
      "[1 1 1] [2 3 4]\n",
      "[[1 1 1]\n",
      " [2 3 4]\n",
      " [1 1 1]]\n",
      "[1 1 1 2 3 4]\n",
      "[[1]\n",
      " [1]\n",
      " [1]]\n"
     ]
    }
   ],
   "source": [
    "# 合并\n",
    "array_a=np.array([1,1,1])\n",
    "array_b=np.array([2,3,4])\n",
    "print(array_a,array_b)\n",
    "\n",
    "print(np.vstack((array_a,array_b,array_a))) #将A和B在垂直方向上合并。 vertical\n",
    "print(np.hstack((array_a,array_b))) #将A和B在水平方向上合并。 horizontal\n",
    "\n",
    "print(np.vstack(array_a)) #转为竖向"
   ]
  },
  {
   "cell_type": "code",
   "execution_count": 114,
   "id": "47645e26-e138-4fcf-9a4b-73477e1c639c",
   "metadata": {},
   "outputs": [
    {
     "name": "stdout",
     "output_type": "stream",
     "text": [
      "[[ 0  1  2  3]\n",
      " [ 4  5  6  7]\n",
      " [ 8  9 10 11]\n",
      " [12 13 14 15]\n",
      " [16 17 18 19]\n",
      " [20 21 22 23]] \n",
      "\n",
      "[array([[0, 1, 2, 3],\n",
      "       [4, 5, 6, 7]]), array([[ 8,  9, 10, 11],\n",
      "       [12, 13, 14, 15]]), array([[16, 17, 18, 19],\n",
      "       [20, 21, 22, 23]])]\n",
      "[array([[ 0,  1],\n",
      "       [ 4,  5],\n",
      "       [ 8,  9],\n",
      "       [12, 13],\n",
      "       [16, 17],\n",
      "       [20, 21]]), array([[ 2,  3],\n",
      "       [ 6,  7],\n",
      "       [10, 11],\n",
      "       [14, 15],\n",
      "       [18, 19],\n",
      "       [22, 23]])]\n"
     ]
    }
   ],
   "source": [
    "# 分割\n",
    "array_a=np.arange(24).reshape((6,4))\n",
    "print(array_a,'\\n')\n",
    "\n",
    "print(np.split(array_a,3,axis=0)) #按照行分割成三个数组\n",
    "print(np.split(array_a,2,axis=1)) #按照列分割成两个数组"
   ]
  },
  {
   "cell_type": "markdown",
   "source": [
    "## 案例:图像处理"
   ],
   "metadata": {
    "collapsed": false,
    "pycharm": {
     "name": "#%% md\n"
    }
   }
  },
  {
   "cell_type": "code",
   "execution_count": 6,
   "outputs": [
    {
     "data": {
      "text/plain": "<matplotlib.image.AxesImage at 0x104fb1310>"
     },
     "execution_count": 6,
     "metadata": {},
     "output_type": "execute_result"
    },
    {
     "data": {
      "text/plain": "<Figure size 432x288 with 1 Axes>",
      "image/png": "[encoded data removed]"
     },
     "metadata": {
      "needs_background": "light"
     },
     "output_type": "display_data"
    }
   ],
   "source": [
    "guido_img = plt.imread('./res/guido.jpg')\n",
    "plt.imshow(guido_img) # 颜色通道需要修改\n",
    "plt.imshow(guido_img[::-1]) # 中心反转图像"
   ],
   "metadata": {
    "collapsed": false,
    "pycharm": {
     "name": "#%%\n"
    }
   }
  },
  {
   "cell_type": "code",
   "execution_count": 7,
   "outputs": [
    {
     "data": {
      "text/plain": "<matplotlib.image.AxesImage at 0x137874b80>"
     },
     "execution_count": 7,
     "metadata": {},
     "output_type": "execute_result"
    },
    {
     "data": {
      "text/plain": "<Figure size 432x288 with 1 Axes>",
      "image/png": "[encoded data removed]"
     },
     "metadata": {
      "needs_background": "light"
     },
     "output_type": "display_data"
    }
   ],
   "source": [
    "plt.imshow(guido_img[:,::-1]) # 水平翻转"
   ],
   "metadata": {
    "collapsed": false,
    "pycharm": {
     "name": "#%%\n"
    }
   }
  },
  {
   "cell_type": "markdown",
   "source": [
    "### numpy的广播机制"
   ],
   "metadata": {
    "collapsed": false,
    "pycharm": {
     "name": "#%% md\n"
    }
   }
  },
  {
   "cell_type": "code",
   "execution_count": 26,
   "outputs": [
    {
     "name": "stdout",
     "output_type": "stream",
     "text": [
      "(2, 3)\n",
      "(3, 3)\n"
     ]
    },
    {
     "ename": "ValueError",
     "evalue": "operands could not be broadcast together with shapes (2,3) (3,3) ",
     "output_type": "error",
     "traceback": [
      "\u001B[0;31m---------------------------------------------------------------------------\u001B[0m",
      "\u001B[0;31mValueError\u001B[0m                                Traceback (most recent call last)",
      "\u001B[0;32m/var/folders/6y/2tfbrqxd44xb1_g_2djcnjr00000gn/T/ipykernel_17796/3848399053.py\u001B[0m in \u001B[0;36m<module>\u001B[0;34m\u001B[0m\n\u001B[1;32m      5\u001B[0m \u001B[0marray2\u001B[0m \u001B[0;34m=\u001B[0m \u001B[0mnp\u001B[0m\u001B[0;34m.\u001B[0m\u001B[0marray\u001B[0m\u001B[0;34m(\u001B[0m\u001B[0;34m[\u001B[0m\u001B[0;34m[\u001B[0m\u001B[0;36m1\u001B[0m\u001B[0;34m,\u001B[0m\u001B[0;36m1\u001B[0m\u001B[0;34m,\u001B[0m\u001B[0;36m1\u001B[0m\u001B[0;34m]\u001B[0m\u001B[0;34m,\u001B[0m\u001B[0;34m[\u001B[0m\u001B[0;36m2\u001B[0m\u001B[0;34m,\u001B[0m\u001B[0;36m2\u001B[0m\u001B[0;34m,\u001B[0m\u001B[0;36m2\u001B[0m\u001B[0;34m]\u001B[0m\u001B[0;34m,\u001B[0m\u001B[0;34m[\u001B[0m\u001B[0;36m3\u001B[0m\u001B[0;34m,\u001B[0m\u001B[0;36m3\u001B[0m\u001B[0;34m,\u001B[0m\u001B[0;36m3\u001B[0m\u001B[0;34m]\u001B[0m\u001B[0;34m]\u001B[0m\u001B[0;34m)\u001B[0m\u001B[0;34m\u001B[0m\u001B[0;34m\u001B[0m\u001B[0m\n\u001B[1;32m      6\u001B[0m \u001B[0mprint\u001B[0m\u001B[0;34m(\u001B[0m\u001B[0marray2\u001B[0m\u001B[0;34m.\u001B[0m\u001B[0mshape\u001B[0m\u001B[0;34m)\u001B[0m\u001B[0;34m\u001B[0m\u001B[0;34m\u001B[0m\u001B[0m\n\u001B[0;32m----> 7\u001B[0;31m \u001B[0mprint\u001B[0m\u001B[0;34m(\u001B[0m\u001B[0marray1\u001B[0m \u001B[0;34m+\u001B[0m \u001B[0marray2\u001B[0m\u001B[0;34m)\u001B[0m\u001B[0;34m\u001B[0m\u001B[0;34m\u001B[0m\u001B[0m\n\u001B[0m\u001B[1;32m      8\u001B[0m \u001B[0;34m\u001B[0m\u001B[0m\n\u001B[1;32m      9\u001B[0m \u001B[0marray3\u001B[0m \u001B[0;34m=\u001B[0m \u001B[0mnp\u001B[0m\u001B[0;34m.\u001B[0m\u001B[0marray\u001B[0m\u001B[0;34m(\u001B[0m\u001B[0;34m[\u001B[0m\u001B[0;34m[\u001B[0m\u001B[0;36m1\u001B[0m\u001B[0;34m]\u001B[0m\u001B[0;34m,\u001B[0m\u001B[0;34m[\u001B[0m\u001B[0;36m2\u001B[0m\u001B[0;34m]\u001B[0m\u001B[0;34m]\u001B[0m\u001B[0;34m)\u001B[0m\u001B[0;34m\u001B[0m\u001B[0;34m\u001B[0m\u001B[0m\n",
      "\u001B[0;31mValueError\u001B[0m: operands could not be broadcast together with shapes (2,3) (3,3) "
     ]
    }
   ],
   "source": [
    "array1 = np.array([[1,2,3],\n",
    "                   [2,3,4]]) # 2*3\n",
    "print(array1.shape)\n",
    "\n",
    "array2 = np.array([[1,1,1],[2,2,2],[3,3,3]])\n",
    "print(array2.shape)\n",
    "print(array1 + array2)\n",
    "\n",
    "array3 = np.array([[1],[2]])\n",
    "print(array3.shape)\n",
    "array4 = array1+ array3\n",
    "print(array4)\n",
    "print(array4 == array1 + array2)\n"
   ],
   "metadata": {
    "collapsed": false,
    "pycharm": {
     "name": "#%%\n"
    }
   }
  },
  {
   "cell_type": "markdown",
   "source": [
    "可以看出,形状不同的数组仍然有机会进行二元运算,称为广播机制,如果原数组形状a*b其触发条件(满足任意即可):\n",
    "* 1. x*b 其中x<=a\n",
    "* 2. x*1 其中x<=a\n",
    "\n",
    "即只有两个数组后缘维度相同或者其中一个数组后缘维度为1,所谓后缘维度，指的是数组shape属性对应的元组中最后一个元素的值（从后往前数最后一个维度的值），例如，我们之前打开的图像对应的数组后缘维度为3，3行4列的二维数组后缘维度为4，而有5个元素的一维数组后缘维度为5."
   ],
   "metadata": {
    "collapsed": false,
    "pycharm": {
     "name": "#%% md\n"
    }
   }
  },
  {
   "cell_type": "markdown",
   "source": [
    "### 其他常用函数\n",
    "**NumPy其他常用函数**\n",
    "\n",
    "| 函数                             | 说明                       |\n",
    "|--------------------------------|--------------------------|\n",
    "| `unique`                       | 去除数组重复元素，返回唯一元素构成的有序数组   |\n",
    "| `copy`                         | 返回拷贝数组得到的数组              |\n",
    "| `sort`                         | 返回数组元素排序后的拷贝             |\n",
    "| `split` / `hsplit` / `vsplit`  | 将数组拆成若干个子数组              |\n",
    "| `stack` / `hstack` / `vstack`  | 将多个数组堆叠成新数组              |\n",
    "| `concatenate`                  | 沿着指定的轴连接多个数组构成新数组        |\n",
    "| `append` / `insert`            | 向数组末尾追加元素 / 在数组指定位置插入元素  |\n",
    "| `argwhere`                     | 找出数组中非0元素的位置             |\n",
    "| `extract` / `select` / `where` | 按照指定的条件从数组中抽取或处理数组元素     |\n",
    "| `flip`                         | 沿指定的轴翻转数组中的元素            |\n",
    "| `fromiter`                     | 通过迭代器创建数组对象              |\n",
    "| `fromregex`                    | 通过读取文件和正则表达式解析获取数据创建数组对象 |\n",
    "| `repeat` / `tile`              | 通过对元素的重复来创建新数组           |\n",
    "| `roll`                         | 沿指定轴对数组元素进行移位            |\n",
    "| `resize`                       | 重新调整数组的大小                |\n",
    "| `place` / `put`                | 将数组中满足条件的元素/指定的元素替换为指定的值 |\n",
    "| `ptp`                          | 沿指定的轴计算极差（最大值与最小值的差）     |\n",
    "| `median`                       | 沿指定轴计算中位数                |\n",
    "| `partition`                    | 用选定的元素对数组进行一次划分并返回划分后的数组 |"
   ],
   "metadata": {
    "collapsed": false,
    "pycharm": {
     "name": "#%% md\n"
    }
   }
  },
  {
   "cell_type": "code",
   "execution_count": 38,
   "outputs": [
    {
     "name": "stdout",
     "output_type": "stream",
     "text": [
      "修改前的array1 [1 2 3]\n",
      "修改前的array2 [1 2 3]\n",
      "修改前的array3 [1 2 3]\n",
      "修改后的array1 [1 2 2]\n",
      "修改后的array2 [1 2 3]\n",
      "修改后的array3 [1 2 3]\n"
     ]
    }
   ],
   "source": [
    "# 数组的复制\n",
    "array1 = np.array([1,2,3])\n",
    "array2 = array1.copy()\n",
    "array3 = array1[:]\n",
    "print(\"修改前的array1\",array1)\n",
    "print(\"修改前的array2\",array2)\n",
    "print(\"修改前的array3\",array3)\n",
    "array1 = np.array([1,2,2])\n",
    "print(\"修改后的array1\",array1)\n",
    "print(\"修改后的array2\",array2)\n",
    "print(\"修改后的array3\",array3)"
   ],
   "metadata": {
    "collapsed": false,
    "pycharm": {
     "name": "#%%\n"
    }
   }
  },
  {
   "cell_type": "markdown",
   "source": [
    "## 矩阵运算\n",
    "Note:\n",
    "[It is no longer recommended to use this class, even for linear algebra. Instead use regular arrays. The class may be removed in the future.](https://numpy.org/doc/stable/reference/generated/numpy.matrix.html?highlight=matrix#numpy.matrix)\n",
    "不再使用"
   ],
   "metadata": {
    "collapsed": false,
    "pycharm": {
     "name": "#%% md\n"
    }
   }
  },
  {
   "cell_type": "markdown",
   "source": [
    "1. 向量可以进行加、减、数乘、点积、叉积等运算.\n",
    "2. 行列式由向量组成，它的性质可以由向量解释.\n",
    "3. 行列式可以使用行列式公式计算：$det(\\boldsymbol{A})=\\sum_{n!} \\pm {a_{1\\alpha}a_{2\\beta} \\cdots a_{n\\omega}}$.\n",
    "4. 高阶行列式可以用代数余子式展开成多个低阶行列式，如：$det(\\boldsymbol{A})=a_{11}C_{11}+a_{12}C_{12}+ \\cdots +a_{1n}C_{1n}$.\n",
    "5. 矩阵是由一系列元素排成的矩形阵列，矩阵里的元素可以是数字、符号或数学公式.\n",
    "6. 矩阵可以进行加法、减法、数乘、乘法、转置等运算.\n",
    "7. 逆矩阵用$\\boldsymbol{A^{-1}}$表示，$\\boldsymbol{A}\\boldsymbol{A^{-1}}=\\boldsymbol{A^{-1}}\\boldsymbol{A}=\\boldsymbol{E}$；没有逆矩阵的方阵是奇异矩阵.\n",
    "8. 如果一个矩阵是满秩矩阵(矩阵的秩等于矩阵的阶数)，该方阵对应的线性方程有唯一解."
   ],
   "metadata": {
    "collapsed": false,
    "pycharm": {
     "name": "#%% md\n"
    }
   }
  },
  {
   "cell_type": "code",
   "execution_count": 61,
   "outputs": [
    {
     "name": "stdout",
     "output_type": "stream",
     "text": [
      "[[ True  True]\n",
      " [ True  True]]\n"
     ]
    },
    {
     "ename": "AttributeError",
     "evalue": "'numpy.ndarray' object has no attribute 'I'",
     "output_type": "error",
     "traceback": [
      "\u001B[0;31m---------------------------------------------------------------------------\u001B[0m",
      "\u001B[0;31mAttributeError\u001B[0m                            Traceback (most recent call last)",
      "\u001B[0;32m/var/folders/6y/2tfbrqxd44xb1_g_2djcnjr00000gn/T/ipykernel_17796/1097146237.py\u001B[0m in \u001B[0;36m<module>\u001B[0;34m\u001B[0m\n\u001B[1;32m      9\u001B[0m \u001B[0mm6\u001B[0m \u001B[0;34m=\u001B[0m \u001B[0mmatrix2\u001B[0m \u001B[0;34m@\u001B[0m \u001B[0mmatrix3\u001B[0m\u001B[0;34m\u001B[0m\u001B[0;34m\u001B[0m\u001B[0m\n\u001B[1;32m     10\u001B[0m \u001B[0mprint\u001B[0m\u001B[0;34m(\u001B[0m\u001B[0mm4\u001B[0m \u001B[0;34m==\u001B[0m \u001B[0mm6\u001B[0m\u001B[0;34m)\u001B[0m\u001B[0;34m\u001B[0m\u001B[0;34m\u001B[0m\u001B[0m\n\u001B[0;32m---> 11\u001B[0;31m \u001B[0mmatrix2\u001B[0m\u001B[0;34m.\u001B[0m\u001B[0mI\u001B[0m\u001B[0;34m\u001B[0m\u001B[0;34m\u001B[0m\u001B[0m\n\u001B[0m",
      "\u001B[0;31mAttributeError\u001B[0m: 'numpy.ndarray' object has no attribute 'I'"
     ]
    }
   ],
   "source": [
    "matrix1 = np.matrix('1,2,3;4,5,6')\n",
    "\n",
    "matrix2 = np.array([[1, 2, 3],\n",
    "                    [4, 5, 6]])\n",
    "matrix3 = matrix2.T\n",
    "# 三个矩阵积\n",
    "m4 = np.matmul(matrix2, matrix3)\n",
    "m5 = matrix2.dot(matrix3)\n",
    "m6 = matrix2 @ matrix3\n",
    "print(m4 == m6)\n",
    "matrix2.I"
   ],
   "metadata": {
    "collapsed": false,
    "pycharm": {
     "name": "#%%\n"
    }
   }
  },
  {
   "cell_type": "markdown",
   "source": [
    "## NumPy的线性代数模块\n",
    "linalg(Linear algebra)模块中有一组标准的矩阵分解运算以及诸如求逆和行列式之类的函数，它们跟 MATLAB 和 R 等语言所使用的是相同的行业标准线性代数库，下面的表格列出了numpy以及linalg模块中常用的跟线性代数相关的函数.\n",
    "\n",
    "| 函数            | 说明                                                                          |\n",
    "|---------------|-----------------------------------------------------------------------------|\n",
    "| `diag`        | 以一维数组的形式返回方阵的对角线元素或将一维数组转换为方阵（非对角元素元素为0）                                    |\n",
    "| `vdot`        | 向量的点积                                                                       |\n",
    "| `dot`         | 数组的点积                                                                       |\n",
    "| `inner`       | 数组的内积                                                                       |\n",
    "| `outer`       | 数组的叉积                                                                       |\n",
    "| `trace`       | 计算对角线元素的和                                                                   |\n",
    "| `norm`        | 求模（范数）运算                                                                    |\n",
    "| `det`         | 计算行列式的值（在方阵上计算会得到一个标量）                                                      |\n",
    "| `matrix_rank` | 计算矩阵的秩                                                                      |\n",
    "| `eig`         | 计算矩阵的特征值（eigenvalue）和特征向量（eigenvector）                                      |\n",
    "| `inv`         | 计算非奇异矩阵（$n$阶方阵）的逆矩阵                                                         |\n",
    "| `pinv`        | 计算矩阵的摩尔-彭若斯（Moore-Penrose）广义逆                                               |\n",
    "| `qr`          | QR分解（把矩阵分解成一个正交矩阵与一个上三角矩阵的积）                                                |\n",
    "| `svd`         | 计算奇异值分解（singular value decomposition）                                       |\n",
    "| `solve`       | 解线性方程组$\\boldsymbol{A}\\boldsymbol{x}=\\boldsymbol{b}$，其中$\\boldsymbol{A}$是一个方阵 |\n",
    "| `lstsq`       | 计算$\\boldsymbol{A}\\boldsymbol{x}=\\boldsymbol{b}$的最小二乘解                       |"
   ],
   "metadata": {
    "collapsed": false,
    "pycharm": {
     "name": "#%% md\n"
    }
   }
  },
  {
   "cell_type": "code",
   "execution_count": 51,
   "outputs": [
    {
     "data": {
      "text/plain": "array([[-2, -3, -4],\n       [-5, -6, -7]])"
     },
     "execution_count": 51,
     "metadata": {},
     "output_type": "execute_result"
    }
   ],
   "source": [
    "matrix2 = np.array([[1, 2, 3],\n",
    "                    [4, 5, 6]])\n",
    "m2I = np.linalg.inv(matrix2)\n",
    "m2I"
   ],
   "metadata": {
    "collapsed": false,
    "pycharm": {
     "name": "#%%\n"
    }
   }
  },
  {
   "cell_type": "code",
   "execution_count": 54,
   "outputs": [
    {
     "name": "stdout",
     "output_type": "stream",
     "text": [
      "4.0\n"
     ]
    }
   ],
   "source": [
    "# 求行列式\n",
    "m3 = np.array([[1, 0],\n",
    "               [0, 4]])\n",
    "print(np.linalg.det(m3))"
   ],
   "metadata": {
    "collapsed": false,
    "pycharm": {
     "name": "#%%\n"
    }
   }
  },
  {
   "cell_type": "code",
   "execution_count": 57,
   "outputs": [
    {
     "data": {
      "text/plain": "array([2., 3.])"
     },
     "execution_count": 57,
     "metadata": {},
     "output_type": "execute_result"
    }
   ],
   "source": [
    "# 解线性方程组\n",
    "# 3x + y = 9，x + 2y = 8\n",
    "a = np.array([[3, 1], [1, 2]])\n",
    "b = np.array([9, 8])\n",
    "np.linalg.solve(a, b)"
   ],
   "metadata": {
    "collapsed": false,
    "pycharm": {
     "name": "#%%\n"
    }
   }
  }
 ],
 "metadata": {
  "kernelspec": {
   "display_name": "Python 3 (ipykernel)",
   "language": "python",
   "name": "python3"
  },
  "language_info": {
   "codemirror_mode": {
    "name": "ipython",
    "version": 3
   },
   "file_extension": ".py",
   "mimetype": "text/x-python",
   "name": "python",
   "nbconvert_exporter": "python",
   "pygments_lexer": "ipython3",
   "version": "3.8.10"
  },
  "toc-showtags": false
 },
 "nbformat": 4,
 "nbformat_minor": 5
}