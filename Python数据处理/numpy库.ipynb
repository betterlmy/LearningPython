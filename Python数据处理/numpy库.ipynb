{
 "cells": [
  {
   "cell_type": "code",
   "execution_count": 1,
   "id": "c10b7373-fb1a-4626-8ecb-2fd0287bf358",
   "metadata": {},
   "outputs": [],
   "source": [
    "import pandas as pd\n",
    "import numpy as np\n",
    "import matplotlib.pyplot as plt\n",
    "%matplotlib inline"
   ]
  },
  {
   "cell_type": "markdown",
   "id": "c5b3bf2a-3dac-4840-a79e-9b45a6435740",
   "metadata": {
    "tags": []
   },
   "source": [
    "# Numpy"
   ]
  },
  {
   "cell_type": "markdown",
   "id": "2d514a68-95a4-4274-b11e-a58a4d86de95",
   "metadata": {},
   "source": [
    "## numpy常见的属性"
   ]
  },
  {
   "cell_type": "code",
   "execution_count": 2,
   "id": "c195b151-8d6c-4041-877b-6375360e8493",
   "metadata": {},
   "outputs": [
    {
     "name": "stdout",
     "output_type": "stream",
     "text": [
      "[[1 2 3 4]\n",
      " [2 3 4 5]\n",
      " [3 4 5 6]]\n",
      "number of dimension: 2\n",
      "shape: (3, 4)\n",
      "size: 12\n"
     ]
    }
   ],
   "source": [
    "array = np.array([\n",
    "    [1, 2, 3, 4],\n",
    "    [2, 3, 4, 5],\n",
    "    [3, 4, 5, 6]\n",
    "])\n",
    "#输出矩阵\n",
    "print(array)\n",
    "\n",
    "#输出维度\n",
    "print(\"number of dimension:\", array.ndim)\n",
    "\n",
    "#输出行列\n",
    "print(\"shape:\", array.shape)\n",
    "\n",
    "#输出元素个数\n",
    "print(\"size:\", array.size)"
   ]
  },
  {
   "cell_type": "markdown",
   "id": "cd5fff98-f5b9-4235-bc28-c5aad7849608",
   "metadata": {},
   "source": [
    "## narray的创建\n",
    "### 通过np的array()方法,赋值list或者tuple"
   ]
  },
  {
   "cell_type": "code",
   "execution_count": 7,
   "id": "16d7ca2e-f264-46fc-a072-0aab8fd53ac1",
   "metadata": {},
   "outputs": [
    {
     "name": "stdout",
     "output_type": "stream",
     "text": [
      "[123  23   4]\n",
      "int64\n",
      "['testArray' '23' '4']\n",
      "<U9\n",
      "['testArray1' '231' '41']\n",
      "<U10\n"
     ]
    }
   ],
   "source": [
    "#基础创建\n",
    "a = np.array([123, 23, 4], dtype=int)  # 通过dtype的数据类型 包括int int32 float64 float32\n",
    "print(a)\n",
    "print(a.dtype)\n",
    "\n",
    "list1 = ['testArray', 23, 4]\n",
    "a = np.array(list1)\n",
    "print(a)\n",
    "print(a.dtype)\n",
    "\n",
    "tuple1 =('testArray1', 231, 41)\n",
    "a = np.array(tuple1)\n",
    "print(a)\n",
    "print(a.dtype)"
   ]
  },
  {
   "cell_type": "markdown",
   "source": [
    "### 对象元素类型\n",
    "![元素类型](./res/elementType.png)"
   ],
   "metadata": {
    "collapsed": false,
    "pycharm": {
     "name": "#%% md\n"
    }
   }
  },
  {
   "cell_type": "markdown",
   "source": [
    "### 创建0矩阵"
   ],
   "metadata": {
    "collapsed": false,
    "pycharm": {
     "name": "#%% md\n"
    }
   }
  },
  {
   "cell_type": "code",
   "execution_count": 8,
   "id": "52d6d9a3-e0f8-4dad-a82e-bbb9d00b7281",
   "metadata": {},
   "outputs": [
    {
     "data": {
      "text/plain": "array([[0., 0., 0., 0.],\n       [0., 0., 0., 0.],\n       [0., 0., 0., 0.]])"
     },
     "execution_count": 8,
     "metadata": {},
     "output_type": "execute_result"
    }
   ],
   "source": [
    "#特殊创建\n",
    "#创建全部为0的矩阵\n",
    "zeroArray = np.zeros((3, 4))  #创建了一个三行四列的零矩阵\n",
    "zeroArray"
   ]
  },
  {
   "cell_type": "markdown",
   "source": [
    "### 范围创建一维数组与reshape"
   ],
   "metadata": {
    "collapsed": false,
    "pycharm": {
     "name": "#%% md\n"
    }
   }
  },
  {
   "cell_type": "code",
   "execution_count": 33,
   "id": "4a8a259e-0f64-490d-8f33-b1898a14e5d0",
   "metadata": {},
   "outputs": [
    {
     "name": "stdout",
     "output_type": "stream",
     "text": [
      "[1 4 7]\n",
      "[[1 2 3]\n",
      " [4 5 6]\n",
      " [7 8 9]]\n",
      "[[ 0  1  2  3]\n",
      " [ 4  5  6  7]\n",
      " [ 8  9 10 11]]\n"
     ]
    }
   ],
   "source": [
    "#创建范围（手动指定步长）\n",
    "rangeArray1 = np.arange(1, 10, 3)  # 大于等于1小于10，左开右闭 步进值=3\n",
    "print(rangeArray1)  # 默认为一行\n",
    "\n",
    "rangeArray2 = np.arange(1, 10).reshape((3, 3))  # reshape的大小必须与前面的范围相同\n",
    "print(rangeArray2)\n",
    "\n",
    "rangeArray3 = np.arange(12).reshape((3, 4))  # 默认从0开始\n",
    "print(rangeArray3)"
   ]
  },
  {
   "cell_type": "code",
   "execution_count": 42,
   "id": "b199d238-95bf-4b27-8bbe-2296d98b3ce4",
   "metadata": {},
   "outputs": [
    {
     "name": "stdout",
     "output_type": "stream",
     "text": [
      "[[ 1.  3.  5.  7.  9.]\n",
      " [11. 13. 15. 17. 19.]]\n"
     ]
    }
   ],
   "source": [
    "#创建范围（自动分配步长）\n",
    "lineArray = np.linspace(1, 19, 10).reshape((2, 5))  #x大于等于1小于等于19，平均选择10个值\n",
    "print(lineArray)"
   ]
  },
  {
   "cell_type": "markdown",
   "source": [
    "### 随机数矩阵"
   ],
   "metadata": {
    "collapsed": false,
    "pycharm": {
     "name": "#%% md\n"
    }
   }
  },
  {
   "cell_type": "code",
   "execution_count": 25,
   "outputs": [
    {
     "data": {
      "text/plain": "array([[1, 3, 3, 2, 1]])"
     },
     "execution_count": 25,
     "metadata": {},
     "output_type": "execute_result"
    }
   ],
   "source": [
    "array4 = np.random.randint(1,4,5).reshape((1,5))\n",
    "array4"
   ],
   "metadata": {
    "collapsed": false,
    "pycharm": {
     "name": "#%%\n"
    }
   }
  },
  {
   "cell_type": "markdown",
   "source": [
    "### 单位矩阵"
   ],
   "metadata": {
    "collapsed": false,
    "pycharm": {
     "name": "#%% md\n"
    }
   }
  },
  {
   "cell_type": "code",
   "execution_count": 29,
   "outputs": [
    {
     "data": {
      "text/plain": "array([[1., 0., 0., 0.],\n       [0., 1., 0., 0.],\n       [0., 0., 1., 0.],\n       [0., 0., 0., 1.]])"
     },
     "execution_count": 29,
     "metadata": {},
     "output_type": "execute_result"
    }
   ],
   "source": [
    "array = np.eye(4)\n",
    "array"
   ],
   "metadata": {
    "collapsed": false,
    "pycharm": {
     "name": "#%%\n"
    }
   }
  },
  {
   "cell_type": "markdown",
   "id": "e98f4db8-cb85-4476-a681-162f8deabf84",
   "metadata": {},
   "source": [
    "## numpy基础运算"
   ]
  },
  {
   "cell_type": "code",
   "execution_count": 10,
   "id": "c1b7a079-be32-44d3-84e6-82926b1a8f9a",
   "metadata": {},
   "outputs": [
    {
     "name": "stdout",
     "output_type": "stream",
     "text": [
      "[10 20 30 40] [1 2 3 4]\n"
     ]
    }
   ],
   "source": [
    "# 创建两个一行四列的一维数组\n",
    "arrayA = np.array([10, 20, 30, 40], dtype=int)\n",
    "# arrayB=np.arange(0,4)\n",
    "arrayB = np.arange(1, 5)\n",
    "print(arrayA, arrayB)  # [10 20 30 40] [1 2 3 4]"
   ]
  },
  {
   "cell_type": "markdown",
   "source": [
    "### 加减乘除"
   ],
   "metadata": {
    "collapsed": false,
    "pycharm": {
     "name": "#%% md\n"
    }
   }
  },
  {
   "cell_type": "code",
   "execution_count": 11,
   "id": "85b25b14-9d99-4acd-851b-0e549570fa0e",
   "metadata": {},
   "outputs": [
    {
     "name": "stdout",
     "output_type": "stream",
     "text": [
      "[ 9 18 27 36]\n",
      "[11 22 33 44]\n",
      "int64 [ 10  40  90 160]\n",
      "float64 [10. 10. 10. 10.]\n"
     ]
    }
   ],
   "source": [
    "# 元素按顺序逐个一一相加减乘除\n",
    "print(arrayA - arrayB)\n",
    "print(arrayA + arrayB)\n",
    "c = arrayA * arrayB\n",
    "print(c.dtype, c)\n",
    "try:\n",
    "    c = arrayA / arrayB  #使用除法后 数据类型变为float64\n",
    "    print(c.dtype, c)\n",
    "except ZeroDivisionError:\n",
    "    print(\"错误 除以0了\")"
   ]
  },
  {
   "cell_type": "code",
   "execution_count": 12,
   "id": "098ee21b-6d2d-437f-b566-7a22d5735ef1",
   "metadata": {},
   "outputs": [
    {
     "name": "stdout",
     "output_type": "stream",
     "text": [
      "[ 100  400  900 1600]\n",
      "[-0.54402111  0.91294525 -0.98803162  0.74511316]\n"
     ]
    }
   ],
   "source": [
    "# 次数运算\n",
    "print(arrayA ** 2)\n",
    "# 三角函数运算\n",
    "print(np.sin(arrayA))"
   ]
  },
  {
   "cell_type": "markdown",
   "source": [
    "### 元素大小判断"
   ],
   "metadata": {
    "collapsed": false,
    "pycharm": {
     "name": "#%% md\n"
    }
   }
  },
  {
   "cell_type": "code",
   "execution_count": 22,
   "id": "7af36adb-064e-4e35-88f7-347530092315",
   "metadata": {},
   "outputs": [
    {
     "name": "stdout",
     "output_type": "stream",
     "text": [
      "[False False  True False]\n",
      "[ True  True False False]\n"
     ]
    }
   ],
   "source": [
    "# 直接判断元素的大小\n",
    "print(arrayB==3)\n",
    "print(arrayB<3)"
   ]
  },
  {
   "cell_type": "markdown",
   "source": [
    "### 矩阵相乘"
   ],
   "metadata": {
    "collapsed": false,
    "pycharm": {
     "name": "#%% md\n"
    }
   }
  },
  {
   "cell_type": "code",
   "execution_count": 28,
   "id": "c65c3022-6f7e-4c4d-9b31-923bf892cb0e",
   "metadata": {},
   "outputs": [
    {
     "name": "stdout",
     "output_type": "stream",
     "text": [
      "[[1 1]\n",
      " [0 1]] \n",
      " [[0 1]\n",
      " [2 3]]\n"
     ]
    },
    {
     "data": {
      "text/plain": "array([[2, 4],\n       [2, 3]])"
     },
     "execution_count": 28,
     "metadata": {},
     "output_type": "execute_result"
    }
   ],
   "source": [
    "# 矩阵的运算\n",
    "rectA=np.array([\n",
    "    [1,1],\n",
    "    [0,1]])\n",
    "rectB=np.arange(4).reshape((2,2))\n",
    "print(rectA,'\\n',rectB)\n",
    "rectA.dot(rectB)\n",
    "# 矩阵乘法 注意：不要使用rectA*rectB 这样计算是按照坐标挨个相乘的结果"
   ]
  },
  {
   "cell_type": "code",
   "execution_count": 30,
   "id": "8e4d511f-ade4-478b-8382-816c6fb7ce81",
   "metadata": {},
   "outputs": [
    {
     "name": "stdout",
     "output_type": "stream",
     "text": [
      "[[1 2]\n",
      " [3 4]] [4 6] [1 3] 4 2.5 2.5\n"
     ]
    }
   ],
   "source": [
    "# 矩阵的单目运算\n",
    "rect_random=np.arange(1,5).reshape((2,2))#在0到1之间随机产生数字组成一个矩阵\n",
    "print(rect_random,\n",
    "      rect_random.sum(axis=0),# axis=0时，针对行数进行求和，axis=1时，针对列数分别求和，不添加时针对所有元素进行求和\n",
    "      rect_random.min(axis=1),\n",
    "      rect_random.max(),\n",
    "      rect_random.mean(),\n",
    "      np.median(rect_random))#中位数"
   ]
  },
  {
   "cell_type": "code",
   "execution_count": 77,
   "id": "36be6ec6-3c54-4f72-aea7-e30a4f532a19",
   "metadata": {},
   "outputs": [
    {
     "name": "stdout",
     "output_type": "stream",
     "text": [
      "[[ 2  3  4  5]\n",
      " [ 6  7  8  9]\n",
      " [10 11 12 13]]\n",
      "0\n",
      "[ 2  5  9 14 20 27 35 44 54 65 77 90]\n",
      "[[14 13 12 11]\n",
      " [10  9  8  7]\n",
      " [ 6  5  4  3]]\n",
      "[[11 12 13 14]\n",
      " [ 7  8  9 10]\n",
      " [ 3  4  5  6]]\n",
      "[[ 2  6 10]\n",
      " [ 3  7 11]\n",
      " [ 4  8 12]\n",
      " [ 5  9 13]]\n",
      "[[5 5 5 5]\n",
      " [6 7 8 9]\n",
      " [9 9 9 9]]\n"
     ]
    }
   ],
   "source": [
    "rect_a=np.arange(2,14).reshape((3,4))\n",
    "print(rect_a)\n",
    "print(rect_a.argmin())# 求数列中最小值的索引\n",
    "print(rect_a.cumsum())# 累加到一位数列\n",
    "\n",
    "rect_b=np.arange(14,2,-1).reshape((3,4))\n",
    "print(rect_b)\n",
    "print(np.sort(rect_b))# 重拍序列\n",
    "\n",
    "print(rect_a.T)# 矩阵的转置 \n",
    "\n",
    "print(rect_a.clip(5,9)) # 设置阈值 小于5都设置成5 大于9都设置成9"
   ]
  },
  {
   "cell_type": "markdown",
   "id": "dcff4141-aae8-46ea-92e1-bb017d3393aa",
   "metadata": {},
   "source": [
    "## numpy的索引运算"
   ]
  },
  {
   "cell_type": "code",
   "execution_count": 100,
   "id": "52195ce5-ef43-487e-ac34-27f77f34bf6e",
   "metadata": {},
   "outputs": [
    {
     "name": "stdout",
     "output_type": "stream",
     "text": [
      "[[[ 3  4]\n",
      "  [ 5  6]\n",
      "  [ 7  8]]\n",
      "\n",
      " [[ 9 10]\n",
      "  [11 12]\n",
      "  [13 14]]] \n",
      "\n",
      "[[3 4]\n",
      " [5 6]\n",
      " [7 8]] \n",
      "\n",
      "[[ 9 10]\n",
      " [11 12]\n",
      " [13 14]] \n",
      "\n",
      "[[ 3  9]\n",
      " [ 5 11]\n",
      " [ 7 13]] \n",
      "\n",
      "[[ 4 10]\n",
      " [ 6 12]\n",
      " [ 8 14]] \n",
      "\n",
      "3 \n",
      "\n",
      "4 \n",
      "\n",
      "5 \n",
      "\n",
      "6 \n",
      "\n",
      "7 \n",
      "\n",
      "8 \n",
      "\n",
      "9 \n",
      "\n",
      "10 \n",
      "\n",
      "11 \n",
      "\n",
      "12 \n",
      "\n",
      "13 \n",
      "\n",
      "14 \n",
      "\n"
     ]
    }
   ],
   "source": [
    "array_indexa=np.arange(3,15).reshape((2,3,2))\n",
    "print(array_indexa,'\\n')\n",
    "# print(array_indexa[1],'\\n')\n",
    "# print(array_indexa[1][2],'\\n')# 与array_indexa[1,2]相同\n",
    "# print(array_indexa[:,1],'\\n')\n",
    "\n",
    "\n",
    "# 输出每一行\n",
    "for row in array_indexa:\n",
    "    print(row,'\\n')\n",
    "    \n",
    "# 通过转置矩阵输出每一列\n",
    "for col in array_indexa.T:\n",
    "    print(col,'\\n')\n",
    "    \n",
    "# 输出每个元素  \n",
    "for item in array_indexa.flat:\n",
    "    print(item,'\\n')"
   ]
  },
  {
   "cell_type": "markdown",
   "id": "4e746469-1455-40c8-aacd-4e7f72557f93",
   "metadata": {},
   "source": [
    "## array的合并与分割"
   ]
  },
  {
   "cell_type": "code",
   "execution_count": 106,
   "id": "f165ef9a-4bfb-48ea-afe5-a4f9b6e2aaa6",
   "metadata": {},
   "outputs": [
    {
     "name": "stdout",
     "output_type": "stream",
     "text": [
      "[1 1 1] [2 3 4]\n",
      "[[1 1 1]\n",
      " [2 3 4]\n",
      " [1 1 1]]\n",
      "[1 1 1 2 3 4]\n",
      "[[1]\n",
      " [1]\n",
      " [1]]\n"
     ]
    }
   ],
   "source": [
    "# 合并\n",
    "array_a=np.array([1,1,1])\n",
    "array_b=np.array([2,3,4])\n",
    "print(array_a,array_b)\n",
    "\n",
    "print(np.vstack((array_a,array_b,array_a))) #将A和B在垂直方向上合并。 vertical\n",
    "print(np.hstack((array_a,array_b))) #将A和B在水平方向上合并。 horizontal\n",
    "\n",
    "print(np.vstack(array_a)) #转为竖向"
   ]
  },
  {
   "cell_type": "code",
   "execution_count": 114,
   "id": "47645e26-e138-4fcf-9a4b-73477e1c639c",
   "metadata": {},
   "outputs": [
    {
     "name": "stdout",
     "output_type": "stream",
     "text": [
      "[[ 0  1  2  3]\n",
      " [ 4  5  6  7]\n",
      " [ 8  9 10 11]\n",
      " [12 13 14 15]\n",
      " [16 17 18 19]\n",
      " [20 21 22 23]] \n",
      "\n",
      "[array([[0, 1, 2, 3],\n",
      "       [4, 5, 6, 7]]), array([[ 8,  9, 10, 11],\n",
      "       [12, 13, 14, 15]]), array([[16, 17, 18, 19],\n",
      "       [20, 21, 22, 23]])]\n",
      "[array([[ 0,  1],\n",
      "       [ 4,  5],\n",
      "       [ 8,  9],\n",
      "       [12, 13],\n",
      "       [16, 17],\n",
      "       [20, 21]]), array([[ 2,  3],\n",
      "       [ 6,  7],\n",
      "       [10, 11],\n",
      "       [14, 15],\n",
      "       [18, 19],\n",
      "       [22, 23]])]\n"
     ]
    }
   ],
   "source": [
    "# 分割\n",
    "array_a=np.arange(24).reshape((6,4))\n",
    "print(array_a,'\\n')\n",
    "\n",
    "print(np.split(array_a,3,axis=0)) #按照行分割成三个数组\n",
    "print(np.split(array_a,2,axis=1)) #按照列分割成两个数组"
   ]
  },
  {
   "cell_type": "markdown",
   "id": "be7060a1-d48a-48a0-a8d8-87aa485755a8",
   "metadata": {},
   "source": [
    "# Pandas"
   ]
  },
  {
   "cell_type": "code",
   "execution_count": 4,
   "id": "2ae0882f-666e-4d75-880c-c8b3b8ff4602",
   "metadata": {},
   "outputs": [
    {
     "name": "stdout",
     "output_type": "stream",
     "text": [
      "0    2\n",
      "1    4\n",
      "2    6\n",
      "3    8\n",
      "dtype: int64\n"
     ]
    }
   ],
   "source": [
    "s=pd.Series(np.arange(2,10,2))\n",
    "print(s)"
   ]
  },
  {
   "cell_type": "markdown",
   "id": "4c7d98ac-87d0-4ebc-a03f-ddc6811b3332",
   "metadata": {},
   "source": [
    "## DataFrame"
   ]
  },
  {
   "cell_type": "code",
   "execution_count": 5,
   "id": "e5c8c2f1-0062-43ac-92e0-0d6a7edcdc08",
   "metadata": {},
   "outputs": [
    {
     "name": "stdout",
     "output_type": "stream",
     "text": [
      "DatetimeIndex(['2020-01-01', '2020-01-02', '2020-01-03', '2020-01-04',\n",
      "               '2020-01-05', '2020-01-06'],\n",
      "              dtype='datetime64[ns]', freq='D')\n"
     ]
    }
   ],
   "source": [
    "dates=pd.date_range('20200101',periods=6)# pandas处理日期\n",
    "print(dates)"
   ]
  },
  {
   "cell_type": "code",
   "execution_count": 6,
   "id": "5d8ddea4-413b-488a-bf7e-0a30d12e8c8f",
   "metadata": {},
   "outputs": [
    {
     "data": {
      "text/html": [
       "<div>\n",
       "<style scoped>\n",
       "    .dataframe tbody tr th:only-of-type {\n",
       "        vertical-align: middle;\n",
       "    }\n",
       "\n",
       "    .dataframe tbody tr th {\n",
       "        vertical-align: top;\n",
       "    }\n",
       "\n",
       "    .dataframe thead th {\n",
       "        text-align: right;\n",
       "    }\n",
       "</style>\n",
       "<table border=\"1\" class=\"dataframe\">\n",
       "  <thead>\n",
       "    <tr style=\"text-align: right;\">\n",
       "      <th></th>\n",
       "      <th>0</th>\n",
       "      <th>1</th>\n",
       "      <th>2</th>\n",
       "      <th>3</th>\n",
       "    </tr>\n",
       "  </thead>\n",
       "  <tbody>\n",
       "    <tr>\n",
       "      <th>0</th>\n",
       "      <td>0.757928</td>\n",
       "      <td>0.067926</td>\n",
       "      <td>-1.511394</td>\n",
       "      <td>0.839340</td>\n",
       "    </tr>\n",
       "    <tr>\n",
       "      <th>1</th>\n",
       "      <td>0.376454</td>\n",
       "      <td>-0.305120</td>\n",
       "      <td>-1.382774</td>\n",
       "      <td>-1.156446</td>\n",
       "    </tr>\n",
       "    <tr>\n",
       "      <th>2</th>\n",
       "      <td>-1.894389</td>\n",
       "      <td>-0.791011</td>\n",
       "      <td>0.909169</td>\n",
       "      <td>0.658560</td>\n",
       "    </tr>\n",
       "    <tr>\n",
       "      <th>3</th>\n",
       "      <td>-0.437070</td>\n",
       "      <td>0.193418</td>\n",
       "      <td>0.895585</td>\n",
       "      <td>-0.442813</td>\n",
       "    </tr>\n",
       "    <tr>\n",
       "      <th>4</th>\n",
       "      <td>-0.523716</td>\n",
       "      <td>0.431777</td>\n",
       "      <td>-1.645631</td>\n",
       "      <td>-1.905674</td>\n",
       "    </tr>\n",
       "    <tr>\n",
       "      <th>5</th>\n",
       "      <td>-0.340606</td>\n",
       "      <td>-0.104544</td>\n",
       "      <td>-0.926604</td>\n",
       "      <td>-0.524979</td>\n",
       "    </tr>\n",
       "  </tbody>\n",
       "</table>\n",
       "</div>"
      ],
      "text/plain": [
       "          0         1         2         3\n",
       "0  0.757928  0.067926 -1.511394  0.839340\n",
       "1  0.376454 -0.305120 -1.382774 -1.156446\n",
       "2 -1.894389 -0.791011  0.909169  0.658560\n",
       "3 -0.437070  0.193418  0.895585 -0.442813\n",
       "4 -0.523716  0.431777 -1.645631 -1.905674\n",
       "5 -0.340606 -0.104544 -0.926604 -0.524979"
      ]
     },
     "execution_count": 6,
     "metadata": {},
     "output_type": "execute_result"
    }
   ],
   "source": [
    "dataframe2=pd.DataFrame(np.random.randn(6,4))\n",
    "dataframe2"
   ]
  },
  {
   "cell_type": "code",
   "execution_count": 11,
   "id": "27eb6c66-a66e-4ea9-a32b-024548b493e4",
   "metadata": {},
   "outputs": [
    {
     "data": {
      "text/html": [
       "<div>\n",
       "<style scoped>\n",
       "    .dataframe tbody tr th:only-of-type {\n",
       "        vertical-align: middle;\n",
       "    }\n",
       "\n",
       "    .dataframe tbody tr th {\n",
       "        vertical-align: top;\n",
       "    }\n",
       "\n",
       "    .dataframe thead th {\n",
       "        text-align: right;\n",
       "    }\n",
       "</style>\n",
       "<table border=\"1\" class=\"dataframe\">\n",
       "  <thead>\n",
       "    <tr style=\"text-align: right;\">\n",
       "      <th></th>\n",
       "      <th>随机的1</th>\n",
       "      <th>随机的2</th>\n",
       "      <th>随机的3</th>\n",
       "      <th>随机的4</th>\n",
       "    </tr>\n",
       "  </thead>\n",
       "  <tbody>\n",
       "    <tr>\n",
       "      <th>2020-01-01</th>\n",
       "      <td>0.769066</td>\n",
       "      <td>-0.865885</td>\n",
       "      <td>2.313550</td>\n",
       "      <td>0.262838</td>\n",
       "    </tr>\n",
       "    <tr>\n",
       "      <th>2020-01-02</th>\n",
       "      <td>-0.197779</td>\n",
       "      <td>-0.740515</td>\n",
       "      <td>-1.056415</td>\n",
       "      <td>-0.450932</td>\n",
       "    </tr>\n",
       "    <tr>\n",
       "      <th>2020-01-03</th>\n",
       "      <td>1.381660</td>\n",
       "      <td>-0.997424</td>\n",
       "      <td>1.477507</td>\n",
       "      <td>-0.988972</td>\n",
       "    </tr>\n",
       "    <tr>\n",
       "      <th>2020-01-04</th>\n",
       "      <td>-0.068592</td>\n",
       "      <td>-0.899369</td>\n",
       "      <td>-0.439156</td>\n",
       "      <td>-0.475279</td>\n",
       "    </tr>\n",
       "    <tr>\n",
       "      <th>2020-01-05</th>\n",
       "      <td>-0.627250</td>\n",
       "      <td>-0.935802</td>\n",
       "      <td>-0.675782</td>\n",
       "      <td>-0.944373</td>\n",
       "    </tr>\n",
       "    <tr>\n",
       "      <th>2020-01-06</th>\n",
       "      <td>0.227566</td>\n",
       "      <td>-0.590504</td>\n",
       "      <td>0.905295</td>\n",
       "      <td>-0.287732</td>\n",
       "    </tr>\n",
       "  </tbody>\n",
       "</table>\n",
       "</div>"
      ],
      "text/plain": [
       "                随机的1      随机的2      随机的3      随机的4\n",
       "2020-01-01  0.769066 -0.865885  2.313550  0.262838\n",
       "2020-01-02 -0.197779 -0.740515 -1.056415 -0.450932\n",
       "2020-01-03  1.381660 -0.997424  1.477507 -0.988972\n",
       "2020-01-04 -0.068592 -0.899369 -0.439156 -0.475279\n",
       "2020-01-05 -0.627250 -0.935802 -0.675782 -0.944373\n",
       "2020-01-06  0.227566 -0.590504  0.905295 -0.287732"
      ]
     },
     "execution_count": 11,
     "metadata": {},
     "output_type": "execute_result"
    }
   ],
   "source": [
    "# 指定行列的标签\n",
    "dataframe1=pd.DataFrame(np.random.randn(6,4),index=dates,columns=['随机的1','随机的2','随机的3','随机的4'])\n",
    "dataframe1"
   ]
  },
  {
   "cell_type": "markdown",
   "id": "a10c9162-45c8-44be-b416-ea5e8284a3fb",
   "metadata": {},
   "source": [
    "## 输出dataframe及赋值"
   ]
  },
  {
   "cell_type": "code",
   "execution_count": 142,
   "id": "1d857cfc-a765-405f-9714-aefe2be86b6e",
   "metadata": {},
   "outputs": [
    {
     "data": {
      "text/plain": [
       "2020-01-01    0.613982\n",
       "2020-01-02   -0.868848\n",
       "2020-01-03    0.015555\n",
       "2020-01-04    1.035838\n",
       "2020-01-05   -0.497776\n",
       "2020-01-06    1.203178\n",
       "Freq: D, Name: 随机的1, dtype: float64"
      ]
     },
     "execution_count": 142,
     "metadata": {},
     "output_type": "execute_result"
    }
   ],
   "source": [
    "dataframe1.随机的1"
   ]
  },
  {
   "cell_type": "markdown",
   "id": "10f9b8bd-f15d-4419-8792-f6d7cb8a80c2",
   "metadata": {},
   "source": [
    "### loc[] 根据标签进行输出"
   ]
  },
  {
   "cell_type": "code",
   "execution_count": 150,
   "id": "ab1eb1d6-c9af-4433-b293-defb3a09fafa",
   "metadata": {},
   "outputs": [
    {
     "data": {
      "text/html": [
       "<div>\n",
       "<style scoped>\n",
       "    .dataframe tbody tr th:only-of-type {\n",
       "        vertical-align: middle;\n",
       "    }\n",
       "\n",
       "    .dataframe tbody tr th {\n",
       "        vertical-align: top;\n",
       "    }\n",
       "\n",
       "    .dataframe thead th {\n",
       "        text-align: right;\n",
       "    }\n",
       "</style>\n",
       "<table border=\"1\" class=\"dataframe\">\n",
       "  <thead>\n",
       "    <tr style=\"text-align: right;\">\n",
       "      <th></th>\n",
       "      <th>随机的1</th>\n",
       "      <th>随机的3</th>\n",
       "    </tr>\n",
       "  </thead>\n",
       "  <tbody>\n",
       "    <tr>\n",
       "      <th>2020-01-01</th>\n",
       "      <td>0.613982</td>\n",
       "      <td>-1.315874</td>\n",
       "    </tr>\n",
       "    <tr>\n",
       "      <th>2020-01-02</th>\n",
       "      <td>-0.868848</td>\n",
       "      <td>1.193062</td>\n",
       "    </tr>\n",
       "    <tr>\n",
       "      <th>2020-01-03</th>\n",
       "      <td>0.015555</td>\n",
       "      <td>-1.415268</td>\n",
       "    </tr>\n",
       "  </tbody>\n",
       "</table>\n",
       "</div>"
      ],
      "text/plain": [
       "                随机的1      随机的3\n",
       "2020-01-01  0.613982 -1.315874\n",
       "2020-01-02 -0.868848  1.193062\n",
       "2020-01-03  0.015555 -1.415268"
      ]
     },
     "execution_count": 150,
     "metadata": {},
     "output_type": "execute_result"
    }
   ],
   "source": [
    "# 筛选后输出\n",
    "dataframe1.loc['2020-01-01':'2020-01-03',['随机的1','随机的3']]"
   ]
  },
  {
   "cell_type": "code",
   "execution_count": 151,
   "id": "b5cbec4b-eb86-4c84-a4cc-b6d5082cb759",
   "metadata": {},
   "outputs": [
    {
     "data": {
      "text/html": [
       "<div>\n",
       "<style scoped>\n",
       "    .dataframe tbody tr th:only-of-type {\n",
       "        vertical-align: middle;\n",
       "    }\n",
       "\n",
       "    .dataframe tbody tr th {\n",
       "        vertical-align: top;\n",
       "    }\n",
       "\n",
       "    .dataframe thead th {\n",
       "        text-align: right;\n",
       "    }\n",
       "</style>\n",
       "<table border=\"1\" class=\"dataframe\">\n",
       "  <thead>\n",
       "    <tr style=\"text-align: right;\">\n",
       "      <th></th>\n",
       "      <th>随机的1</th>\n",
       "      <th>随机的2</th>\n",
       "      <th>随机的3</th>\n",
       "    </tr>\n",
       "  </thead>\n",
       "  <tbody>\n",
       "    <tr>\n",
       "      <th>2020-01-01</th>\n",
       "      <td>0.613982</td>\n",
       "      <td>0.750415</td>\n",
       "      <td>-1.315874</td>\n",
       "    </tr>\n",
       "    <tr>\n",
       "      <th>2020-01-02</th>\n",
       "      <td>-0.868848</td>\n",
       "      <td>-1.345087</td>\n",
       "      <td>1.193062</td>\n",
       "    </tr>\n",
       "    <tr>\n",
       "      <th>2020-01-03</th>\n",
       "      <td>0.015555</td>\n",
       "      <td>-0.982156</td>\n",
       "      <td>-1.415268</td>\n",
       "    </tr>\n",
       "  </tbody>\n",
       "</table>\n",
       "</div>"
      ],
      "text/plain": [
       "                随机的1      随机的2      随机的3\n",
       "2020-01-01  0.613982  0.750415 -1.315874\n",
       "2020-01-02 -0.868848 -1.345087  1.193062\n",
       "2020-01-03  0.015555 -0.982156 -1.415268"
      ]
     },
     "execution_count": 151,
     "metadata": {},
     "output_type": "execute_result"
    }
   ],
   "source": [
    "dataframe1.loc['2020-01-01':'2020-01-03','随机的1':'随机的3']"
   ]
  },
  {
   "cell_type": "markdown",
   "id": "679d1016-7bba-4f0d-b680-fc17840692f0",
   "metadata": {},
   "source": [
    "### iloc[] 根据坐标进行输出"
   ]
  },
  {
   "cell_type": "code",
   "execution_count": 152,
   "id": "15c61638-d90b-4702-ab95-81f597e5ef93",
   "metadata": {},
   "outputs": [
    {
     "data": {
      "text/plain": [
       "随机的1    0.015555\n",
       "随机的2   -0.982156\n",
       "随机的3   -1.415268\n",
       "随机的4   -1.639529\n",
       "Name: 2020-01-03 00:00:00, dtype: float64"
      ]
     },
     "execution_count": 152,
     "metadata": {},
     "output_type": "execute_result"
    }
   ],
   "source": [
    "dataframe1.iloc[2]"
   ]
  },
  {
   "cell_type": "code",
   "execution_count": 154,
   "id": "3d621f2e-73cd-4f8a-9253-5ee3ec0e3e6b",
   "metadata": {},
   "outputs": [
    {
     "data": {
      "text/html": [
       "<div>\n",
       "<style scoped>\n",
       "    .dataframe tbody tr th:only-of-type {\n",
       "        vertical-align: middle;\n",
       "    }\n",
       "\n",
       "    .dataframe tbody tr th {\n",
       "        vertical-align: top;\n",
       "    }\n",
       "\n",
       "    .dataframe thead th {\n",
       "        text-align: right;\n",
       "    }\n",
       "</style>\n",
       "<table border=\"1\" class=\"dataframe\">\n",
       "  <thead>\n",
       "    <tr style=\"text-align: right;\">\n",
       "      <th></th>\n",
       "      <th>随机的1</th>\n",
       "      <th>随机的2</th>\n",
       "      <th>随机的3</th>\n",
       "      <th>随机的4</th>\n",
       "    </tr>\n",
       "  </thead>\n",
       "  <tbody>\n",
       "    <tr>\n",
       "      <th>2020-01-03</th>\n",
       "      <td>0.015555</td>\n",
       "      <td>-0.982156</td>\n",
       "      <td>-1.415268</td>\n",
       "      <td>-1.639529</td>\n",
       "    </tr>\n",
       "    <tr>\n",
       "      <th>2020-01-04</th>\n",
       "      <td>1.035838</td>\n",
       "      <td>0.699951</td>\n",
       "      <td>0.329679</td>\n",
       "      <td>1.057735</td>\n",
       "    </tr>\n",
       "  </tbody>\n",
       "</table>\n",
       "</div>"
      ],
      "text/plain": [
       "                随机的1      随机的2      随机的3      随机的4\n",
       "2020-01-03  0.015555 -0.982156 -1.415268 -1.639529\n",
       "2020-01-04  1.035838  0.699951  0.329679  1.057735"
      ]
     },
     "execution_count": 154,
     "metadata": {},
     "output_type": "execute_result"
    }
   ],
   "source": [
    "dataframe1.iloc[2:4]"
   ]
  },
  {
   "cell_type": "code",
   "execution_count": 155,
   "id": "8a806f49-0756-456a-baca-578238523978",
   "metadata": {},
   "outputs": [
    {
     "data": {
      "text/plain": [
       "2020-01-03   -0.982156\n",
       "2020-01-04    0.699951\n",
       "Freq: D, Name: 随机的2, dtype: float64"
      ]
     },
     "execution_count": 155,
     "metadata": {},
     "output_type": "execute_result"
    }
   ],
   "source": [
    "dataframe1.iloc[2:4,1]"
   ]
  },
  {
   "cell_type": "code",
   "execution_count": 156,
   "id": "f72fbee7-79c3-436d-bc8b-185fd69c8c6a",
   "metadata": {},
   "outputs": [
    {
     "data": {
      "text/html": [
       "<div>\n",
       "<style scoped>\n",
       "    .dataframe tbody tr th:only-of-type {\n",
       "        vertical-align: middle;\n",
       "    }\n",
       "\n",
       "    .dataframe tbody tr th {\n",
       "        vertical-align: top;\n",
       "    }\n",
       "\n",
       "    .dataframe thead th {\n",
       "        text-align: right;\n",
       "    }\n",
       "</style>\n",
       "<table border=\"1\" class=\"dataframe\">\n",
       "  <thead>\n",
       "    <tr style=\"text-align: right;\">\n",
       "      <th></th>\n",
       "      <th>随机的2</th>\n",
       "      <th>随机的3</th>\n",
       "    </tr>\n",
       "  </thead>\n",
       "  <tbody>\n",
       "    <tr>\n",
       "      <th>2020-01-03</th>\n",
       "      <td>-0.982156</td>\n",
       "      <td>-1.415268</td>\n",
       "    </tr>\n",
       "    <tr>\n",
       "      <th>2020-01-04</th>\n",
       "      <td>0.699951</td>\n",
       "      <td>0.329679</td>\n",
       "    </tr>\n",
       "  </tbody>\n",
       "</table>\n",
       "</div>"
      ],
      "text/plain": [
       "                随机的2      随机的3\n",
       "2020-01-03 -0.982156 -1.415268\n",
       "2020-01-04  0.699951  0.329679"
      ]
     },
     "execution_count": 156,
     "metadata": {},
     "output_type": "execute_result"
    }
   ],
   "source": [
    "dataframe1.iloc[2:4,1:3]"
   ]
  },
  {
   "cell_type": "markdown",
   "id": "1bfb012d-81c7-40bb-9f4b-22ab86d64f2c",
   "metadata": {},
   "source": [
    "### 筛选输出"
   ]
  },
  {
   "cell_type": "code",
   "execution_count": 159,
   "id": "9b13de3f-b488-43a8-8afa-f55cc47f34e3",
   "metadata": {},
   "outputs": [
    {
     "data": {
      "text/html": [
       "<div>\n",
       "<style scoped>\n",
       "    .dataframe tbody tr th:only-of-type {\n",
       "        vertical-align: middle;\n",
       "    }\n",
       "\n",
       "    .dataframe tbody tr th {\n",
       "        vertical-align: top;\n",
       "    }\n",
       "\n",
       "    .dataframe thead th {\n",
       "        text-align: right;\n",
       "    }\n",
       "</style>\n",
       "<table border=\"1\" class=\"dataframe\">\n",
       "  <thead>\n",
       "    <tr style=\"text-align: right;\">\n",
       "      <th></th>\n",
       "      <th>随机的1</th>\n",
       "      <th>随机的2</th>\n",
       "      <th>随机的3</th>\n",
       "      <th>随机的4</th>\n",
       "    </tr>\n",
       "  </thead>\n",
       "  <tbody>\n",
       "    <tr>\n",
       "      <th>2020-01-01</th>\n",
       "      <td>0.613982</td>\n",
       "      <td>0.750415</td>\n",
       "      <td>-1.315874</td>\n",
       "      <td>0.251495</td>\n",
       "    </tr>\n",
       "    <tr>\n",
       "      <th>2020-01-04</th>\n",
       "      <td>1.035838</td>\n",
       "      <td>0.699951</td>\n",
       "      <td>0.329679</td>\n",
       "      <td>1.057735</td>\n",
       "    </tr>\n",
       "    <tr>\n",
       "      <th>2020-01-06</th>\n",
       "      <td>1.203178</td>\n",
       "      <td>-0.213518</td>\n",
       "      <td>0.210330</td>\n",
       "      <td>0.227327</td>\n",
       "    </tr>\n",
       "  </tbody>\n",
       "</table>\n",
       "</div>"
      ],
      "text/plain": [
       "                随机的1      随机的2      随机的3      随机的4\n",
       "2020-01-01  0.613982  0.750415 -1.315874  0.251495\n",
       "2020-01-04  1.035838  0.699951  0.329679  1.057735\n",
       "2020-01-06  1.203178 -0.213518  0.210330  0.227327"
      ]
     },
     "execution_count": 159,
     "metadata": {},
     "output_type": "execute_result"
    }
   ],
   "source": [
    "dataframe1[dataframe1.随机的1>0.5]"
   ]
  },
  {
   "cell_type": "markdown",
   "id": "b36b1e9c-f886-4b0a-9020-c70eeb8439ab",
   "metadata": {},
   "source": [
    "#### 输出的时候可以直接进行赋值"
   ]
  },
  {
   "cell_type": "markdown",
   "id": "d7367734",
   "metadata": {},
   "source": [
    "### 对存在空值的行或列进行处理"
   ]
  },
  {
   "cell_type": "code",
   "execution_count": 10,
   "id": "df278877",
   "metadata": {},
   "outputs": [],
   "source": [
    "dataframe1.iloc[0,1]=np.nan"
   ]
  },
  {
   "cell_type": "code",
   "execution_count": 4,
   "id": "c6ec787a",
   "metadata": {},
   "outputs": [],
   "source": [
    "df_copy=dataframe1.copy()"
   ]
  },
  {
   "cell_type": "code",
   "execution_count": 5,
   "id": "59986117",
   "metadata": {},
   "outputs": [
    {
     "data": {
      "text/html": [
       "<div>\n",
       "<style scoped>\n",
       "    .dataframe tbody tr th:only-of-type {\n",
       "        vertical-align: middle;\n",
       "    }\n",
       "\n",
       "    .dataframe tbody tr th {\n",
       "        vertical-align: top;\n",
       "    }\n",
       "\n",
       "    .dataframe thead th {\n",
       "        text-align: right;\n",
       "    }\n",
       "</style>\n",
       "<table border=\"1\" class=\"dataframe\">\n",
       "  <thead>\n",
       "    <tr style=\"text-align: right;\">\n",
       "      <th></th>\n",
       "      <th>随机的1</th>\n",
       "      <th>随机的2</th>\n",
       "      <th>随机的3</th>\n",
       "      <th>随机的4</th>\n",
       "    </tr>\n",
       "  </thead>\n",
       "  <tbody>\n",
       "    <tr>\n",
       "      <th>2020-01-01</th>\n",
       "      <td>-0.271308</td>\n",
       "      <td>1.501895</td>\n",
       "      <td>2.535416</td>\n",
       "      <td>-0.820439</td>\n",
       "    </tr>\n",
       "    <tr>\n",
       "      <th>2020-01-02</th>\n",
       "      <td>-0.177521</td>\n",
       "      <td>-1.477258</td>\n",
       "      <td>0.055338</td>\n",
       "      <td>1.171904</td>\n",
       "    </tr>\n",
       "    <tr>\n",
       "      <th>2020-01-03</th>\n",
       "      <td>1.077296</td>\n",
       "      <td>0.033274</td>\n",
       "      <td>-0.135878</td>\n",
       "      <td>-0.258927</td>\n",
       "    </tr>\n",
       "    <tr>\n",
       "      <th>2020-01-04</th>\n",
       "      <td>-1.373579</td>\n",
       "      <td>0.257124</td>\n",
       "      <td>-1.828525</td>\n",
       "      <td>0.550934</td>\n",
       "    </tr>\n",
       "    <tr>\n",
       "      <th>2020-01-05</th>\n",
       "      <td>-0.474267</td>\n",
       "      <td>-0.628227</td>\n",
       "      <td>-0.774109</td>\n",
       "      <td>-0.442992</td>\n",
       "    </tr>\n",
       "    <tr>\n",
       "      <th>2020-01-06</th>\n",
       "      <td>0.057655</td>\n",
       "      <td>0.268651</td>\n",
       "      <td>0.157211</td>\n",
       "      <td>1.061847</td>\n",
       "    </tr>\n",
       "  </tbody>\n",
       "</table>\n",
       "</div>"
      ],
      "text/plain": [
       "                随机的1      随机的2      随机的3      随机的4\n",
       "2020-01-01 -0.271308  1.501895  2.535416 -0.820439\n",
       "2020-01-02 -0.177521 -1.477258  0.055338  1.171904\n",
       "2020-01-03  1.077296  0.033274 -0.135878 -0.258927\n",
       "2020-01-04 -1.373579  0.257124 -1.828525  0.550934\n",
       "2020-01-05 -0.474267 -0.628227 -0.774109 -0.442992\n",
       "2020-01-06  0.057655  0.268651  0.157211  1.061847"
      ]
     },
     "execution_count": 5,
     "metadata": {},
     "output_type": "execute_result"
    }
   ],
   "source": [
    "df_copy"
   ]
  },
  {
   "cell_type": "code",
   "execution_count": 38,
   "id": "84b01350",
   "metadata": {},
   "outputs": [],
   "source": [
    "df_copy=df_copy.dropna(axis=0,how='any')  # 删除 how{‘any’,'all'} 存在一个，或必须全部都是 ,注意这个函数返回处理后的df，并不对原数据进行改变"
   ]
  },
  {
   "cell_type": "code",
   "execution_count": 39,
   "id": "cf15fa48",
   "metadata": {},
   "outputs": [
    {
     "data": {
      "text/html": [
       "<div>\n",
       "<style scoped>\n",
       "    .dataframe tbody tr th:only-of-type {\n",
       "        vertical-align: middle;\n",
       "    }\n",
       "\n",
       "    .dataframe tbody tr th {\n",
       "        vertical-align: top;\n",
       "    }\n",
       "\n",
       "    .dataframe thead th {\n",
       "        text-align: right;\n",
       "    }\n",
       "</style>\n",
       "<table border=\"1\" class=\"dataframe\">\n",
       "  <thead>\n",
       "    <tr style=\"text-align: right;\">\n",
       "      <th></th>\n",
       "      <th>随机的1</th>\n",
       "      <th>随机的2</th>\n",
       "      <th>随机的3</th>\n",
       "      <th>随机的4</th>\n",
       "    </tr>\n",
       "  </thead>\n",
       "  <tbody>\n",
       "    <tr>\n",
       "      <th>2020-01-02</th>\n",
       "      <td>-1.925065</td>\n",
       "      <td>1.168314</td>\n",
       "      <td>-1.326331</td>\n",
       "      <td>-0.513010</td>\n",
       "    </tr>\n",
       "    <tr>\n",
       "      <th>2020-01-03</th>\n",
       "      <td>2.126420</td>\n",
       "      <td>1.397309</td>\n",
       "      <td>-0.247637</td>\n",
       "      <td>0.590224</td>\n",
       "    </tr>\n",
       "    <tr>\n",
       "      <th>2020-01-04</th>\n",
       "      <td>0.525194</td>\n",
       "      <td>0.086559</td>\n",
       "      <td>-1.790388</td>\n",
       "      <td>-2.322944</td>\n",
       "    </tr>\n",
       "    <tr>\n",
       "      <th>2020-01-05</th>\n",
       "      <td>0.378932</td>\n",
       "      <td>-1.202496</td>\n",
       "      <td>-0.073446</td>\n",
       "      <td>1.889031</td>\n",
       "    </tr>\n",
       "    <tr>\n",
       "      <th>2020-01-06</th>\n",
       "      <td>1.248367</td>\n",
       "      <td>-1.383523</td>\n",
       "      <td>-1.390223</td>\n",
       "      <td>0.631609</td>\n",
       "    </tr>\n",
       "  </tbody>\n",
       "</table>\n",
       "</div>"
      ],
      "text/plain": [
       "                随机的1      随机的2      随机的3      随机的4\n",
       "2020-01-02 -1.925065  1.168314 -1.326331 -0.513010\n",
       "2020-01-03  2.126420  1.397309 -0.247637  0.590224\n",
       "2020-01-04  0.525194  0.086559 -1.790388 -2.322944\n",
       "2020-01-05  0.378932 -1.202496 -0.073446  1.889031\n",
       "2020-01-06  1.248367 -1.383523 -1.390223  0.631609"
      ]
     },
     "execution_count": 39,
     "metadata": {},
     "output_type": "execute_result"
    }
   ],
   "source": [
    "df_copy"
   ]
  },
  {
   "cell_type": "code",
   "execution_count": null,
   "id": "b8ade382",
   "metadata": {},
   "outputs": [],
   "source": [
    "df_copy.iloc[:,2]=np.nan\n",
    "df_copy.iloc[1,1]=np.nan"
   ]
  },
  {
   "cell_type": "markdown",
   "id": "f40f5012-d601-4641-bab6-fb6df9ed9851",
   "metadata": {},
   "source": [
    "#### 删除空值"
   ]
  },
  {
   "cell_type": "code",
   "execution_count": 44,
   "id": "9d7150b5",
   "metadata": {},
   "outputs": [
    {
     "data": {
      "text/html": [
       "<div>\n",
       "<style scoped>\n",
       "    .dataframe tbody tr th:only-of-type {\n",
       "        vertical-align: middle;\n",
       "    }\n",
       "\n",
       "    .dataframe tbody tr th {\n",
       "        vertical-align: top;\n",
       "    }\n",
       "\n",
       "    .dataframe thead th {\n",
       "        text-align: right;\n",
       "    }\n",
       "</style>\n",
       "<table border=\"1\" class=\"dataframe\">\n",
       "  <thead>\n",
       "    <tr style=\"text-align: right;\">\n",
       "      <th></th>\n",
       "      <th>随机的1</th>\n",
       "      <th>随机的2</th>\n",
       "      <th>随机的4</th>\n",
       "    </tr>\n",
       "  </thead>\n",
       "  <tbody>\n",
       "    <tr>\n",
       "      <th>2020-01-02</th>\n",
       "      <td>-1.925065</td>\n",
       "      <td>1.168314</td>\n",
       "      <td>-0.513010</td>\n",
       "    </tr>\n",
       "    <tr>\n",
       "      <th>2020-01-03</th>\n",
       "      <td>2.126420</td>\n",
       "      <td>NaN</td>\n",
       "      <td>0.590224</td>\n",
       "    </tr>\n",
       "    <tr>\n",
       "      <th>2020-01-04</th>\n",
       "      <td>0.525194</td>\n",
       "      <td>0.086559</td>\n",
       "      <td>-2.322944</td>\n",
       "    </tr>\n",
       "    <tr>\n",
       "      <th>2020-01-05</th>\n",
       "      <td>0.378932</td>\n",
       "      <td>-1.202496</td>\n",
       "      <td>1.889031</td>\n",
       "    </tr>\n",
       "    <tr>\n",
       "      <th>2020-01-06</th>\n",
       "      <td>1.248367</td>\n",
       "      <td>-1.383523</td>\n",
       "      <td>0.631609</td>\n",
       "    </tr>\n",
       "  </tbody>\n",
       "</table>\n",
       "</div>"
      ],
      "text/plain": [
       "                随机的1      随机的2      随机的4\n",
       "2020-01-02 -1.925065  1.168314 -0.513010\n",
       "2020-01-03  2.126420       NaN  0.590224\n",
       "2020-01-04  0.525194  0.086559 -2.322944\n",
       "2020-01-05  0.378932 -1.202496  1.889031\n",
       "2020-01-06  1.248367 -1.383523  0.631609"
      ]
     },
     "execution_count": 44,
     "metadata": {},
     "output_type": "execute_result"
    }
   ],
   "source": [
    "df_copy.dropna(axis=1,how='all')"
   ]
  },
  {
   "cell_type": "code",
   "execution_count": 6,
   "id": "b6f4c514-2bec-4483-abed-394a55461fa3",
   "metadata": {},
   "outputs": [],
   "source": [
    "df_copy.iloc[:,2]=np.nan"
   ]
  },
  {
   "cell_type": "code",
   "execution_count": 7,
   "id": "17426dee-eb1e-414f-81a7-c60f130fd3b5",
   "metadata": {},
   "outputs": [
    {
     "data": {
      "text/html": [
       "<div>\n",
       "<style scoped>\n",
       "    .dataframe tbody tr th:only-of-type {\n",
       "        vertical-align: middle;\n",
       "    }\n",
       "\n",
       "    .dataframe tbody tr th {\n",
       "        vertical-align: top;\n",
       "    }\n",
       "\n",
       "    .dataframe thead th {\n",
       "        text-align: right;\n",
       "    }\n",
       "</style>\n",
       "<table border=\"1\" class=\"dataframe\">\n",
       "  <thead>\n",
       "    <tr style=\"text-align: right;\">\n",
       "      <th></th>\n",
       "      <th>随机的1</th>\n",
       "      <th>随机的2</th>\n",
       "      <th>随机的3</th>\n",
       "      <th>随机的4</th>\n",
       "    </tr>\n",
       "  </thead>\n",
       "  <tbody>\n",
       "    <tr>\n",
       "      <th>2020-01-01</th>\n",
       "      <td>-0.271308</td>\n",
       "      <td>1.501895</td>\n",
       "      <td>NaN</td>\n",
       "      <td>-0.820439</td>\n",
       "    </tr>\n",
       "    <tr>\n",
       "      <th>2020-01-02</th>\n",
       "      <td>-0.177521</td>\n",
       "      <td>-1.477258</td>\n",
       "      <td>NaN</td>\n",
       "      <td>1.171904</td>\n",
       "    </tr>\n",
       "    <tr>\n",
       "      <th>2020-01-03</th>\n",
       "      <td>1.077296</td>\n",
       "      <td>0.033274</td>\n",
       "      <td>NaN</td>\n",
       "      <td>-0.258927</td>\n",
       "    </tr>\n",
       "    <tr>\n",
       "      <th>2020-01-04</th>\n",
       "      <td>-1.373579</td>\n",
       "      <td>0.257124</td>\n",
       "      <td>NaN</td>\n",
       "      <td>0.550934</td>\n",
       "    </tr>\n",
       "    <tr>\n",
       "      <th>2020-01-05</th>\n",
       "      <td>-0.474267</td>\n",
       "      <td>-0.628227</td>\n",
       "      <td>NaN</td>\n",
       "      <td>-0.442992</td>\n",
       "    </tr>\n",
       "    <tr>\n",
       "      <th>2020-01-06</th>\n",
       "      <td>0.057655</td>\n",
       "      <td>0.268651</td>\n",
       "      <td>NaN</td>\n",
       "      <td>1.061847</td>\n",
       "    </tr>\n",
       "  </tbody>\n",
       "</table>\n",
       "</div>"
      ],
      "text/plain": [
       "                随机的1      随机的2  随机的3      随机的4\n",
       "2020-01-01 -0.271308  1.501895   NaN -0.820439\n",
       "2020-01-02 -0.177521 -1.477258   NaN  1.171904\n",
       "2020-01-03  1.077296  0.033274   NaN -0.258927\n",
       "2020-01-04 -1.373579  0.257124   NaN  0.550934\n",
       "2020-01-05 -0.474267 -0.628227   NaN -0.442992\n",
       "2020-01-06  0.057655  0.268651   NaN  1.061847"
      ]
     },
     "execution_count": 7,
     "metadata": {},
     "output_type": "execute_result"
    }
   ],
   "source": [
    "df_copy"
   ]
  },
  {
   "cell_type": "markdown",
   "id": "e18867ef-59b1-4100-a91a-53ce7f336953",
   "metadata": {},
   "source": [
    "#### 填充空值"
   ]
  },
  {
   "cell_type": "code",
   "execution_count": 9,
   "id": "20977204-2c8c-4481-9ce3-59a42c4cb2d7",
   "metadata": {},
   "outputs": [
    {
     "data": {
      "text/html": [
       "<div>\n",
       "<style scoped>\n",
       "    .dataframe tbody tr th:only-of-type {\n",
       "        vertical-align: middle;\n",
       "    }\n",
       "\n",
       "    .dataframe tbody tr th {\n",
       "        vertical-align: top;\n",
       "    }\n",
       "\n",
       "    .dataframe thead th {\n",
       "        text-align: right;\n",
       "    }\n",
       "</style>\n",
       "<table border=\"1\" class=\"dataframe\">\n",
       "  <thead>\n",
       "    <tr style=\"text-align: right;\">\n",
       "      <th></th>\n",
       "      <th>随机的1</th>\n",
       "      <th>随机的2</th>\n",
       "      <th>随机的3</th>\n",
       "      <th>随机的4</th>\n",
       "    </tr>\n",
       "  </thead>\n",
       "  <tbody>\n",
       "    <tr>\n",
       "      <th>2020-01-01</th>\n",
       "      <td>-0.271308</td>\n",
       "      <td>1.501895</td>\n",
       "      <td>aa</td>\n",
       "      <td>-0.820439</td>\n",
       "    </tr>\n",
       "    <tr>\n",
       "      <th>2020-01-02</th>\n",
       "      <td>-0.177521</td>\n",
       "      <td>-1.477258</td>\n",
       "      <td>aa</td>\n",
       "      <td>1.171904</td>\n",
       "    </tr>\n",
       "    <tr>\n",
       "      <th>2020-01-03</th>\n",
       "      <td>1.077296</td>\n",
       "      <td>0.033274</td>\n",
       "      <td>aa</td>\n",
       "      <td>-0.258927</td>\n",
       "    </tr>\n",
       "    <tr>\n",
       "      <th>2020-01-04</th>\n",
       "      <td>-1.373579</td>\n",
       "      <td>0.257124</td>\n",
       "      <td>aa</td>\n",
       "      <td>0.550934</td>\n",
       "    </tr>\n",
       "    <tr>\n",
       "      <th>2020-01-05</th>\n",
       "      <td>-0.474267</td>\n",
       "      <td>-0.628227</td>\n",
       "      <td>aa</td>\n",
       "      <td>-0.442992</td>\n",
       "    </tr>\n",
       "    <tr>\n",
       "      <th>2020-01-06</th>\n",
       "      <td>0.057655</td>\n",
       "      <td>0.268651</td>\n",
       "      <td>aa</td>\n",
       "      <td>1.061847</td>\n",
       "    </tr>\n",
       "  </tbody>\n",
       "</table>\n",
       "</div>"
      ],
      "text/plain": [
       "                随机的1      随机的2 随机的3      随机的4\n",
       "2020-01-01 -0.271308  1.501895   aa -0.820439\n",
       "2020-01-02 -0.177521 -1.477258   aa  1.171904\n",
       "2020-01-03  1.077296  0.033274   aa -0.258927\n",
       "2020-01-04 -1.373579  0.257124   aa  0.550934\n",
       "2020-01-05 -0.474267 -0.628227   aa -0.442992\n",
       "2020-01-06  0.057655  0.268651   aa  1.061847"
      ]
     },
     "execution_count": 9,
     "metadata": {},
     "output_type": "execute_result"
    }
   ],
   "source": [
    "df_copy.fillna(value=\"aa\") "
   ]
  },
  {
   "cell_type": "markdown",
   "id": "2b95d1ea-0749-456e-bd72-9cb42b2e18f0",
   "metadata": {},
   "source": [
    "#### 判断空值"
   ]
  },
  {
   "cell_type": "code",
   "execution_count": 15,
   "id": "140cbd79-b81c-4b74-a7ae-5dd28a53e217",
   "metadata": {},
   "outputs": [
    {
     "name": "stdout",
     "output_type": "stream",
     "text": [
      "True\n"
     ]
    }
   ],
   "source": [
    "# 如果是空，则将该块内容设置为空\n",
    "df_copy.isnull()\n",
    "\n",
    "# 返回整个df中是否包含空值\n",
    "print(np.any(df_copy.isnull())==True)"
   ]
  },
  {
   "cell_type": "markdown",
   "id": "c50dea37-d561-49af-a9c2-be245c27515b",
   "metadata": {},
   "source": [
    "## 利用pandas进行导入与导出操作"
   ]
  },
  {
   "cell_type": "markdown",
   "id": "26eda896-7d72-42e8-bd04-6af9532a8c47",
   "metadata": {},
   "source": [
    "to_csv()与read_csv()"
   ]
  },
  {
   "cell_type": "code",
   "execution_count": 2,
   "id": "27724509-0025-4e73-a0a2-269c0a861964",
   "metadata": {},
   "outputs": [],
   "source": [
    "student_data=pd.read_csv('Resources/student.csv')"
   ]
  },
  {
   "cell_type": "code",
   "execution_count": 4,
   "id": "7274a0ee-d876-448d-b670-bcc0d3e9f2d6",
   "metadata": {},
   "outputs": [
    {
     "data": {
      "text/html": [
       "<div>\n",
       "<style scoped>\n",
       "    .dataframe tbody tr th:only-of-type {\n",
       "        vertical-align: middle;\n",
       "    }\n",
       "\n",
       "    .dataframe tbody tr th {\n",
       "        vertical-align: top;\n",
       "    }\n",
       "\n",
       "    .dataframe thead th {\n",
       "        text-align: right;\n",
       "    }\n",
       "</style>\n",
       "<table border=\"1\" class=\"dataframe\">\n",
       "  <thead>\n",
       "    <tr style=\"text-align: right;\">\n",
       "      <th></th>\n",
       "      <th>Student ID</th>\n",
       "      <th>name</th>\n",
       "      <th>age</th>\n",
       "      <th>gender</th>\n",
       "    </tr>\n",
       "  </thead>\n",
       "  <tbody>\n",
       "    <tr>\n",
       "      <th>0</th>\n",
       "      <td>1100</td>\n",
       "      <td>A</td>\n",
       "      <td>8</td>\n",
       "      <td>Female</td>\n",
       "    </tr>\n",
       "    <tr>\n",
       "      <th>1</th>\n",
       "      <td>1101</td>\n",
       "      <td>B</td>\n",
       "      <td>6</td>\n",
       "      <td>Female</td>\n",
       "    </tr>\n",
       "    <tr>\n",
       "      <th>2</th>\n",
       "      <td>1102</td>\n",
       "      <td>C</td>\n",
       "      <td>7</td>\n",
       "      <td>Female</td>\n",
       "    </tr>\n",
       "    <tr>\n",
       "      <th>3</th>\n",
       "      <td>1103</td>\n",
       "      <td>D</td>\n",
       "      <td>57</td>\n",
       "      <td>Male</td>\n",
       "    </tr>\n",
       "    <tr>\n",
       "      <th>4</th>\n",
       "      <td>1104</td>\n",
       "      <td>E</td>\n",
       "      <td>675</td>\n",
       "      <td>Male</td>\n",
       "    </tr>\n",
       "    <tr>\n",
       "      <th>5</th>\n",
       "      <td>1105</td>\n",
       "      <td>F</td>\n",
       "      <td>54</td>\n",
       "      <td>Male</td>\n",
       "    </tr>\n",
       "    <tr>\n",
       "      <th>6</th>\n",
       "      <td>1106</td>\n",
       "      <td>G</td>\n",
       "      <td>64</td>\n",
       "      <td>Female</td>\n",
       "    </tr>\n",
       "    <tr>\n",
       "      <th>7</th>\n",
       "      <td>1107</td>\n",
       "      <td>H</td>\n",
       "      <td>32</td>\n",
       "      <td>Female</td>\n",
       "    </tr>\n",
       "    <tr>\n",
       "      <th>8</th>\n",
       "      <td>1108</td>\n",
       "      <td>I</td>\n",
       "      <td>345</td>\n",
       "      <td>Male</td>\n",
       "    </tr>\n",
       "    <tr>\n",
       "      <th>9</th>\n",
       "      <td>1109</td>\n",
       "      <td>J</td>\n",
       "      <td>1</td>\n",
       "      <td>Female</td>\n",
       "    </tr>\n",
       "    <tr>\n",
       "      <th>10</th>\n",
       "      <td>1110</td>\n",
       "      <td>K</td>\n",
       "      <td>23</td>\n",
       "      <td>Male</td>\n",
       "    </tr>\n",
       "    <tr>\n",
       "      <th>11</th>\n",
       "      <td>1111</td>\n",
       "      <td>L</td>\n",
       "      <td>45</td>\n",
       "      <td>Male</td>\n",
       "    </tr>\n",
       "  </tbody>\n",
       "</table>\n",
       "</div>"
      ],
      "text/plain": [
       "    Student ID name  age  gender\n",
       "0         1100    A    8  Female\n",
       "1         1101    B    6  Female\n",
       "2         1102    C    7  Female\n",
       "3         1103    D   57    Male\n",
       "4         1104    E  675    Male\n",
       "5         1105    F   54    Male\n",
       "6         1106    G   64  Female\n",
       "7         1107    H   32  Female\n",
       "8         1108    I  345    Male\n",
       "9         1109    J    1  Female\n",
       "10        1110    K   23    Male\n",
       "11        1111    L   45    Male"
      ]
     },
     "execution_count": 4,
     "metadata": {},
     "output_type": "execute_result"
    }
   ],
   "source": [
    "student_data"
   ]
  },
  {
   "cell_type": "code",
   "execution_count": 16,
   "id": "d3d3eb78-06a2-41bb-9777-bd89ed1285da",
   "metadata": {},
   "outputs": [],
   "source": [
    "dataframe1.to_csv('Resources/test.csv',encoding='utf_8_sig')\n"
   ]
  },
  {
   "cell_type": "markdown",
   "id": "5ab36839-5e2d-4de0-adda-d6ead0118147",
   "metadata": {},
   "source": [
    "## 合并与分割"
   ]
  },
  {
   "cell_type": "markdown",
   "id": "a675b32f-87ee-45da-a675-fe5070a5af19",
   "metadata": {},
   "source": [
    "### 合并concat"
   ]
  },
  {
   "cell_type": "code",
   "execution_count": 2,
   "id": "eb27e867-03dc-4e59-a1ad-fe47889d0390",
   "metadata": {},
   "outputs": [],
   "source": [
    "df1=pd.DataFrame(np.ones((3,4))*0,columns=['a','b','c','d'])\n",
    "df2=pd.DataFrame(np.ones((3,4))*1,columns=['a','b','c','d'])\n",
    "df3=pd.DataFrame(np.ones((3,4))*2,columns=['a','b','c','d'])\n",
    "# print(df1)"
   ]
  },
  {
   "cell_type": "code",
   "execution_count": 24,
   "id": "656c5d5f-f4b0-45d5-a16f-4f52489fd699",
   "metadata": {},
   "outputs": [
    {
     "data": {
      "text/html": [
       "<div>\n",
       "<style scoped>\n",
       "    .dataframe tbody tr th:only-of-type {\n",
       "        vertical-align: middle;\n",
       "    }\n",
       "\n",
       "    .dataframe tbody tr th {\n",
       "        vertical-align: top;\n",
       "    }\n",
       "\n",
       "    .dataframe thead th {\n",
       "        text-align: right;\n",
       "    }\n",
       "</style>\n",
       "<table border=\"1\" class=\"dataframe\">\n",
       "  <thead>\n",
       "    <tr style=\"text-align: right;\">\n",
       "      <th></th>\n",
       "      <th>a</th>\n",
       "      <th>b</th>\n",
       "      <th>c</th>\n",
       "      <th>d</th>\n",
       "    </tr>\n",
       "  </thead>\n",
       "  <tbody>\n",
       "    <tr>\n",
       "      <th>0</th>\n",
       "      <td>0.0</td>\n",
       "      <td>0.0</td>\n",
       "      <td>0.0</td>\n",
       "      <td>0.0</td>\n",
       "    </tr>\n",
       "    <tr>\n",
       "      <th>1</th>\n",
       "      <td>0.0</td>\n",
       "      <td>0.0</td>\n",
       "      <td>0.0</td>\n",
       "      <td>0.0</td>\n",
       "    </tr>\n",
       "    <tr>\n",
       "      <th>2</th>\n",
       "      <td>0.0</td>\n",
       "      <td>0.0</td>\n",
       "      <td>0.0</td>\n",
       "      <td>0.0</td>\n",
       "    </tr>\n",
       "    <tr>\n",
       "      <th>0</th>\n",
       "      <td>1.0</td>\n",
       "      <td>1.0</td>\n",
       "      <td>1.0</td>\n",
       "      <td>1.0</td>\n",
       "    </tr>\n",
       "    <tr>\n",
       "      <th>1</th>\n",
       "      <td>1.0</td>\n",
       "      <td>1.0</td>\n",
       "      <td>1.0</td>\n",
       "      <td>1.0</td>\n",
       "    </tr>\n",
       "    <tr>\n",
       "      <th>2</th>\n",
       "      <td>1.0</td>\n",
       "      <td>1.0</td>\n",
       "      <td>1.0</td>\n",
       "      <td>1.0</td>\n",
       "    </tr>\n",
       "    <tr>\n",
       "      <th>0</th>\n",
       "      <td>2.0</td>\n",
       "      <td>2.0</td>\n",
       "      <td>2.0</td>\n",
       "      <td>2.0</td>\n",
       "    </tr>\n",
       "    <tr>\n",
       "      <th>1</th>\n",
       "      <td>2.0</td>\n",
       "      <td>2.0</td>\n",
       "      <td>2.0</td>\n",
       "      <td>2.0</td>\n",
       "    </tr>\n",
       "    <tr>\n",
       "      <th>2</th>\n",
       "      <td>2.0</td>\n",
       "      <td>2.0</td>\n",
       "      <td>2.0</td>\n",
       "      <td>2.0</td>\n",
       "    </tr>\n",
       "  </tbody>\n",
       "</table>\n",
       "</div>"
      ],
      "text/plain": [
       "     a    b    c    d\n",
       "0  0.0  0.0  0.0  0.0\n",
       "1  0.0  0.0  0.0  0.0\n",
       "2  0.0  0.0  0.0  0.0\n",
       "0  1.0  1.0  1.0  1.0\n",
       "1  1.0  1.0  1.0  1.0\n",
       "2  1.0  1.0  1.0  1.0\n",
       "0  2.0  2.0  2.0  2.0\n",
       "1  2.0  2.0  2.0  2.0\n",
       "2  2.0  2.0  2.0  2.0"
      ]
     },
     "execution_count": 24,
     "metadata": {},
     "output_type": "execute_result"
    }
   ],
   "source": [
    "res=pd.concat([df1,df2,df3],axis=0)\n",
    "res"
   ]
  },
  {
   "cell_type": "code",
   "execution_count": 26,
   "id": "1d4bb416-2c36-4281-9234-f56f41c23307",
   "metadata": {},
   "outputs": [
    {
     "data": {
      "text/html": [
       "<div>\n",
       "<style scoped>\n",
       "    .dataframe tbody tr th:only-of-type {\n",
       "        vertical-align: middle;\n",
       "    }\n",
       "\n",
       "    .dataframe tbody tr th {\n",
       "        vertical-align: top;\n",
       "    }\n",
       "\n",
       "    .dataframe thead th {\n",
       "        text-align: right;\n",
       "    }\n",
       "</style>\n",
       "<table border=\"1\" class=\"dataframe\">\n",
       "  <thead>\n",
       "    <tr style=\"text-align: right;\">\n",
       "      <th></th>\n",
       "      <th>a</th>\n",
       "      <th>b</th>\n",
       "      <th>c</th>\n",
       "      <th>d</th>\n",
       "    </tr>\n",
       "  </thead>\n",
       "  <tbody>\n",
       "    <tr>\n",
       "      <th>0</th>\n",
       "      <td>0.0</td>\n",
       "      <td>0.0</td>\n",
       "      <td>0.0</td>\n",
       "      <td>0.0</td>\n",
       "    </tr>\n",
       "    <tr>\n",
       "      <th>1</th>\n",
       "      <td>0.0</td>\n",
       "      <td>0.0</td>\n",
       "      <td>0.0</td>\n",
       "      <td>0.0</td>\n",
       "    </tr>\n",
       "    <tr>\n",
       "      <th>2</th>\n",
       "      <td>0.0</td>\n",
       "      <td>0.0</td>\n",
       "      <td>0.0</td>\n",
       "      <td>0.0</td>\n",
       "    </tr>\n",
       "    <tr>\n",
       "      <th>3</th>\n",
       "      <td>1.0</td>\n",
       "      <td>1.0</td>\n",
       "      <td>1.0</td>\n",
       "      <td>1.0</td>\n",
       "    </tr>\n",
       "    <tr>\n",
       "      <th>4</th>\n",
       "      <td>1.0</td>\n",
       "      <td>1.0</td>\n",
       "      <td>1.0</td>\n",
       "      <td>1.0</td>\n",
       "    </tr>\n",
       "    <tr>\n",
       "      <th>5</th>\n",
       "      <td>1.0</td>\n",
       "      <td>1.0</td>\n",
       "      <td>1.0</td>\n",
       "      <td>1.0</td>\n",
       "    </tr>\n",
       "    <tr>\n",
       "      <th>6</th>\n",
       "      <td>2.0</td>\n",
       "      <td>2.0</td>\n",
       "      <td>2.0</td>\n",
       "      <td>2.0</td>\n",
       "    </tr>\n",
       "    <tr>\n",
       "      <th>7</th>\n",
       "      <td>2.0</td>\n",
       "      <td>2.0</td>\n",
       "      <td>2.0</td>\n",
       "      <td>2.0</td>\n",
       "    </tr>\n",
       "    <tr>\n",
       "      <th>8</th>\n",
       "      <td>2.0</td>\n",
       "      <td>2.0</td>\n",
       "      <td>2.0</td>\n",
       "      <td>2.0</td>\n",
       "    </tr>\n",
       "  </tbody>\n",
       "</table>\n",
       "</div>"
      ],
      "text/plain": [
       "     a    b    c    d\n",
       "0  0.0  0.0  0.0  0.0\n",
       "1  0.0  0.0  0.0  0.0\n",
       "2  0.0  0.0  0.0  0.0\n",
       "3  1.0  1.0  1.0  1.0\n",
       "4  1.0  1.0  1.0  1.0\n",
       "5  1.0  1.0  1.0  1.0\n",
       "6  2.0  2.0  2.0  2.0\n",
       "7  2.0  2.0  2.0  2.0\n",
       "8  2.0  2.0  2.0  2.0"
      ]
     },
     "execution_count": 26,
     "metadata": {},
     "output_type": "execute_result"
    }
   ],
   "source": [
    "# 忽视掉序列号\n",
    "res=pd.concat([df1,df2,df3],axis=0,ignore_index=True)\n",
    "res"
   ]
  },
  {
   "cell_type": "markdown",
   "id": "6ed82fed-5fd0-4964-97f5-28d3d5790542",
   "metadata": {},
   "source": [
    "### 连接join(outer与inner)"
   ]
  },
  {
   "cell_type": "code",
   "execution_count": 5,
   "id": "bc52af98-50c5-4cea-a678-9b3568a90202",
   "metadata": {},
   "outputs": [
    {
     "data": {
      "text/html": [
       "<div>\n",
       "<style scoped>\n",
       "    .dataframe tbody tr th:only-of-type {\n",
       "        vertical-align: middle;\n",
       "    }\n",
       "\n",
       "    .dataframe tbody tr th {\n",
       "        vertical-align: top;\n",
       "    }\n",
       "\n",
       "    .dataframe thead th {\n",
       "        text-align: right;\n",
       "    }\n",
       "</style>\n",
       "<table border=\"1\" class=\"dataframe\">\n",
       "  <thead>\n",
       "    <tr style=\"text-align: right;\">\n",
       "      <th></th>\n",
       "      <th>a</th>\n",
       "      <th>b</th>\n",
       "      <th>c</th>\n",
       "      <th>d</th>\n",
       "    </tr>\n",
       "  </thead>\n",
       "  <tbody>\n",
       "    <tr>\n",
       "      <th>1</th>\n",
       "      <td>0.0</td>\n",
       "      <td>0.0</td>\n",
       "      <td>0.0</td>\n",
       "      <td>0.0</td>\n",
       "    </tr>\n",
       "    <tr>\n",
       "      <th>2</th>\n",
       "      <td>0.0</td>\n",
       "      <td>0.0</td>\n",
       "      <td>0.0</td>\n",
       "      <td>0.0</td>\n",
       "    </tr>\n",
       "    <tr>\n",
       "      <th>3</th>\n",
       "      <td>0.0</td>\n",
       "      <td>0.0</td>\n",
       "      <td>0.0</td>\n",
       "      <td>0.0</td>\n",
       "    </tr>\n",
       "  </tbody>\n",
       "</table>\n",
       "</div>"
      ],
      "text/plain": [
       "     a    b    c    d\n",
       "1  0.0  0.0  0.0  0.0\n",
       "2  0.0  0.0  0.0  0.0\n",
       "3  0.0  0.0  0.0  0.0"
      ]
     },
     "execution_count": 5,
     "metadata": {},
     "output_type": "execute_result"
    }
   ],
   "source": [
    "#使用不同标签的列进行合并\n",
    "df1=pd.DataFrame(np.ones((3,4))*0,columns=['a','b','c','d'],index=[1,2,3])\n",
    "df2=pd.DataFrame(np.ones((3,4))*1,columns=['b','c','d','e'],index=[2,3,4])\n",
    "df1"
   ]
  },
  {
   "cell_type": "code",
   "execution_count": 6,
   "id": "40454ea6-2ef2-4f11-808f-d0098aca6539",
   "metadata": {},
   "outputs": [
    {
     "data": {
      "text/html": [
       "<div>\n",
       "<style scoped>\n",
       "    .dataframe tbody tr th:only-of-type {\n",
       "        vertical-align: middle;\n",
       "    }\n",
       "\n",
       "    .dataframe tbody tr th {\n",
       "        vertical-align: top;\n",
       "    }\n",
       "\n",
       "    .dataframe thead th {\n",
       "        text-align: right;\n",
       "    }\n",
       "</style>\n",
       "<table border=\"1\" class=\"dataframe\">\n",
       "  <thead>\n",
       "    <tr style=\"text-align: right;\">\n",
       "      <th></th>\n",
       "      <th>b</th>\n",
       "      <th>c</th>\n",
       "      <th>d</th>\n",
       "      <th>e</th>\n",
       "    </tr>\n",
       "  </thead>\n",
       "  <tbody>\n",
       "    <tr>\n",
       "      <th>2</th>\n",
       "      <td>1.0</td>\n",
       "      <td>1.0</td>\n",
       "      <td>1.0</td>\n",
       "      <td>1.0</td>\n",
       "    </tr>\n",
       "    <tr>\n",
       "      <th>3</th>\n",
       "      <td>1.0</td>\n",
       "      <td>1.0</td>\n",
       "      <td>1.0</td>\n",
       "      <td>1.0</td>\n",
       "    </tr>\n",
       "    <tr>\n",
       "      <th>4</th>\n",
       "      <td>1.0</td>\n",
       "      <td>1.0</td>\n",
       "      <td>1.0</td>\n",
       "      <td>1.0</td>\n",
       "    </tr>\n",
       "  </tbody>\n",
       "</table>\n",
       "</div>"
      ],
      "text/plain": [
       "     b    c    d    e\n",
       "2  1.0  1.0  1.0  1.0\n",
       "3  1.0  1.0  1.0  1.0\n",
       "4  1.0  1.0  1.0  1.0"
      ]
     },
     "execution_count": 6,
     "metadata": {},
     "output_type": "execute_result"
    }
   ],
   "source": [
    "df2"
   ]
  },
  {
   "cell_type": "code",
   "execution_count": 11,
   "id": "e6420051-cc0e-47b3-96d6-a7085fd66255",
   "metadata": {},
   "outputs": [
    {
     "data": {
      "text/html": [
       "<div>\n",
       "<style scoped>\n",
       "    .dataframe tbody tr th:only-of-type {\n",
       "        vertical-align: middle;\n",
       "    }\n",
       "\n",
       "    .dataframe tbody tr th {\n",
       "        vertical-align: top;\n",
       "    }\n",
       "\n",
       "    .dataframe thead th {\n",
       "        text-align: right;\n",
       "    }\n",
       "</style>\n",
       "<table border=\"1\" class=\"dataframe\">\n",
       "  <thead>\n",
       "    <tr style=\"text-align: right;\">\n",
       "      <th></th>\n",
       "      <th>a</th>\n",
       "      <th>b</th>\n",
       "      <th>c</th>\n",
       "      <th>d</th>\n",
       "      <th>e</th>\n",
       "    </tr>\n",
       "  </thead>\n",
       "  <tbody>\n",
       "    <tr>\n",
       "      <th>1</th>\n",
       "      <td>0.0</td>\n",
       "      <td>0.0</td>\n",
       "      <td>0.0</td>\n",
       "      <td>0.0</td>\n",
       "      <td>NaN</td>\n",
       "    </tr>\n",
       "    <tr>\n",
       "      <th>2</th>\n",
       "      <td>0.0</td>\n",
       "      <td>0.0</td>\n",
       "      <td>0.0</td>\n",
       "      <td>0.0</td>\n",
       "      <td>NaN</td>\n",
       "    </tr>\n",
       "    <tr>\n",
       "      <th>3</th>\n",
       "      <td>0.0</td>\n",
       "      <td>0.0</td>\n",
       "      <td>0.0</td>\n",
       "      <td>0.0</td>\n",
       "      <td>NaN</td>\n",
       "    </tr>\n",
       "    <tr>\n",
       "      <th>2</th>\n",
       "      <td>NaN</td>\n",
       "      <td>1.0</td>\n",
       "      <td>1.0</td>\n",
       "      <td>1.0</td>\n",
       "      <td>1.0</td>\n",
       "    </tr>\n",
       "    <tr>\n",
       "      <th>3</th>\n",
       "      <td>NaN</td>\n",
       "      <td>1.0</td>\n",
       "      <td>1.0</td>\n",
       "      <td>1.0</td>\n",
       "      <td>1.0</td>\n",
       "    </tr>\n",
       "    <tr>\n",
       "      <th>4</th>\n",
       "      <td>NaN</td>\n",
       "      <td>1.0</td>\n",
       "      <td>1.0</td>\n",
       "      <td>1.0</td>\n",
       "      <td>1.0</td>\n",
       "    </tr>\n",
       "  </tbody>\n",
       "</table>\n",
       "</div>"
      ],
      "text/plain": [
       "     a    b    c    d    e\n",
       "1  0.0  0.0  0.0  0.0  NaN\n",
       "2  0.0  0.0  0.0  0.0  NaN\n",
       "3  0.0  0.0  0.0  0.0  NaN\n",
       "2  NaN  1.0  1.0  1.0  1.0\n",
       "3  NaN  1.0  1.0  1.0  1.0\n",
       "4  NaN  1.0  1.0  1.0  1.0"
      ]
     },
     "execution_count": 11,
     "metadata": {},
     "output_type": "execute_result"
    }
   ],
   "source": [
    "res=pd.concat([df1,df2],join='outer')\n",
    "res"
   ]
  },
  {
   "cell_type": "code",
   "execution_count": 13,
   "id": "017d851a-7a1a-45e6-bad5-4430d271e111",
   "metadata": {},
   "outputs": [
    {
     "data": {
      "text/html": [
       "<div>\n",
       "<style scoped>\n",
       "    .dataframe tbody tr th:only-of-type {\n",
       "        vertical-align: middle;\n",
       "    }\n",
       "\n",
       "    .dataframe tbody tr th {\n",
       "        vertical-align: top;\n",
       "    }\n",
       "\n",
       "    .dataframe thead th {\n",
       "        text-align: right;\n",
       "    }\n",
       "</style>\n",
       "<table border=\"1\" class=\"dataframe\">\n",
       "  <thead>\n",
       "    <tr style=\"text-align: right;\">\n",
       "      <th></th>\n",
       "      <th>b</th>\n",
       "      <th>c</th>\n",
       "      <th>d</th>\n",
       "    </tr>\n",
       "  </thead>\n",
       "  <tbody>\n",
       "    <tr>\n",
       "      <th>0</th>\n",
       "      <td>0.0</td>\n",
       "      <td>0.0</td>\n",
       "      <td>0.0</td>\n",
       "    </tr>\n",
       "    <tr>\n",
       "      <th>1</th>\n",
       "      <td>0.0</td>\n",
       "      <td>0.0</td>\n",
       "      <td>0.0</td>\n",
       "    </tr>\n",
       "    <tr>\n",
       "      <th>2</th>\n",
       "      <td>0.0</td>\n",
       "      <td>0.0</td>\n",
       "      <td>0.0</td>\n",
       "    </tr>\n",
       "    <tr>\n",
       "      <th>3</th>\n",
       "      <td>1.0</td>\n",
       "      <td>1.0</td>\n",
       "      <td>1.0</td>\n",
       "    </tr>\n",
       "    <tr>\n",
       "      <th>4</th>\n",
       "      <td>1.0</td>\n",
       "      <td>1.0</td>\n",
       "      <td>1.0</td>\n",
       "    </tr>\n",
       "    <tr>\n",
       "      <th>5</th>\n",
       "      <td>1.0</td>\n",
       "      <td>1.0</td>\n",
       "      <td>1.0</td>\n",
       "    </tr>\n",
       "  </tbody>\n",
       "</table>\n",
       "</div>"
      ],
      "text/plain": [
       "     b    c    d\n",
       "0  0.0  0.0  0.0\n",
       "1  0.0  0.0  0.0\n",
       "2  0.0  0.0  0.0\n",
       "3  1.0  1.0  1.0\n",
       "4  1.0  1.0  1.0\n",
       "5  1.0  1.0  1.0"
      ]
     },
     "execution_count": 13,
     "metadata": {},
     "output_type": "execute_result"
    }
   ],
   "source": [
    "res=pd.concat([df1,df2],join='inner')\n",
    "res=pd.concat([df1,df2],join='inner',ignore_index=True)\n",
    "res"
   ]
  },
  {
   "cell_type": "markdown",
   "id": "91f2d9e3-19e4-4013-b873-76528418a73b",
   "metadata": {},
   "source": [
    "### 通过append()添加Series"
   ]
  },
  {
   "cell_type": "code",
   "execution_count": 15,
   "id": "10df9bbe-7ccb-4bd9-a0cc-7b2892056b41",
   "metadata": {},
   "outputs": [
    {
     "data": {
      "text/html": [
       "<div>\n",
       "<style scoped>\n",
       "    .dataframe tbody tr th:only-of-type {\n",
       "        vertical-align: middle;\n",
       "    }\n",
       "\n",
       "    .dataframe tbody tr th {\n",
       "        vertical-align: top;\n",
       "    }\n",
       "\n",
       "    .dataframe thead th {\n",
       "        text-align: right;\n",
       "    }\n",
       "</style>\n",
       "<table border=\"1\" class=\"dataframe\">\n",
       "  <thead>\n",
       "    <tr style=\"text-align: right;\">\n",
       "      <th></th>\n",
       "      <th>a</th>\n",
       "      <th>b</th>\n",
       "      <th>c</th>\n",
       "      <th>d</th>\n",
       "    </tr>\n",
       "  </thead>\n",
       "  <tbody>\n",
       "    <tr>\n",
       "      <th>0</th>\n",
       "      <td>0.0</td>\n",
       "      <td>0.0</td>\n",
       "      <td>0.0</td>\n",
       "      <td>0.0</td>\n",
       "    </tr>\n",
       "    <tr>\n",
       "      <th>1</th>\n",
       "      <td>0.0</td>\n",
       "      <td>0.0</td>\n",
       "      <td>0.0</td>\n",
       "      <td>0.0</td>\n",
       "    </tr>\n",
       "    <tr>\n",
       "      <th>2</th>\n",
       "      <td>0.0</td>\n",
       "      <td>0.0</td>\n",
       "      <td>0.0</td>\n",
       "      <td>0.0</td>\n",
       "    </tr>\n",
       "    <tr>\n",
       "      <th>3</th>\n",
       "      <td>1.0</td>\n",
       "      <td>2.0</td>\n",
       "      <td>3.0</td>\n",
       "      <td>4.0</td>\n",
       "    </tr>\n",
       "  </tbody>\n",
       "</table>\n",
       "</div>"
      ],
      "text/plain": [
       "     a    b    c    d\n",
       "0  0.0  0.0  0.0  0.0\n",
       "1  0.0  0.0  0.0  0.0\n",
       "2  0.0  0.0  0.0  0.0\n",
       "3  1.0  2.0  3.0  4.0"
      ]
     },
     "execution_count": 15,
     "metadata": {},
     "output_type": "execute_result"
    }
   ],
   "source": [
    "series1=pd.Series([1,2,3,4],index=['a','b','c','d'])\n",
    "res=df1.append(series1,ignore_index=True)\n",
    "res"
   ]
  },
  {
   "cell_type": "markdown",
   "id": "80d66f27-86bd-4d61-a20e-226ac08712ae",
   "metadata": {},
   "source": [
    "### merge()进行合并"
   ]
  },
  {
   "cell_type": "markdown",
   "id": "fc711276-3f49-4a0a-a898-ee9eb5dcb0e9",
   "metadata": {},
   "source": [
    "#### 根据一个key进行合并"
   ]
  },
  {
   "cell_type": "code",
   "execution_count": 23,
   "id": "80360a5d-ec10-4925-acd8-88150d35696b",
   "metadata": {},
   "outputs": [],
   "source": [
    "# 通过字典的形式进行创建dataframe\n",
    "df_left=pd.DataFrame({'key':['K0','aa','K2','K3'],\n",
    "                      'A':['A0','A1','A2','A3'],\n",
    "                      'B':['B0','B1','B2','B3']\n",
    "                     })\n",
    "df_right=pd.DataFrame({'key':['K0','bb','K2','K3'],\n",
    "                      'C':['C0','C1','C2','C3'],\n",
    "                      'D':['D0','D1','D2','D3']\n",
    "                     })"
   ]
  },
  {
   "cell_type": "code",
   "execution_count": 18,
   "id": "b2202976-95db-4d8a-8fce-bb5a64f2877c",
   "metadata": {},
   "outputs": [
    {
     "data": {
      "text/html": [
       "<div>\n",
       "<style scoped>\n",
       "    .dataframe tbody tr th:only-of-type {\n",
       "        vertical-align: middle;\n",
       "    }\n",
       "\n",
       "    .dataframe tbody tr th {\n",
       "        vertical-align: top;\n",
       "    }\n",
       "\n",
       "    .dataframe thead th {\n",
       "        text-align: right;\n",
       "    }\n",
       "</style>\n",
       "<table border=\"1\" class=\"dataframe\">\n",
       "  <thead>\n",
       "    <tr style=\"text-align: right;\">\n",
       "      <th></th>\n",
       "      <th>key</th>\n",
       "      <th>C</th>\n",
       "      <th>D</th>\n",
       "    </tr>\n",
       "  </thead>\n",
       "  <tbody>\n",
       "    <tr>\n",
       "      <th>0</th>\n",
       "      <td>K0</td>\n",
       "      <td>C0</td>\n",
       "      <td>D0</td>\n",
       "    </tr>\n",
       "    <tr>\n",
       "      <th>1</th>\n",
       "      <td>K1</td>\n",
       "      <td>C1</td>\n",
       "      <td>D1</td>\n",
       "    </tr>\n",
       "    <tr>\n",
       "      <th>2</th>\n",
       "      <td>K2</td>\n",
       "      <td>C2</td>\n",
       "      <td>D2</td>\n",
       "    </tr>\n",
       "    <tr>\n",
       "      <th>3</th>\n",
       "      <td>K3</td>\n",
       "      <td>C3</td>\n",
       "      <td>D3</td>\n",
       "    </tr>\n",
       "  </tbody>\n",
       "</table>\n",
       "</div>"
      ],
      "text/plain": [
       "  key   C   D\n",
       "0  K0  C0  D0\n",
       "1  K1  C1  D1\n",
       "2  K2  C2  D2\n",
       "3  K3  C3  D3"
      ]
     },
     "execution_count": 18,
     "metadata": {},
     "output_type": "execute_result"
    }
   ],
   "source": [
    "df_right"
   ]
  },
  {
   "cell_type": "code",
   "execution_count": 24,
   "id": "e1533390-c6b2-4246-ab80-825078a01ac6",
   "metadata": {},
   "outputs": [
    {
     "data": {
      "text/html": [
       "<div>\n",
       "<style scoped>\n",
       "    .dataframe tbody tr th:only-of-type {\n",
       "        vertical-align: middle;\n",
       "    }\n",
       "\n",
       "    .dataframe tbody tr th {\n",
       "        vertical-align: top;\n",
       "    }\n",
       "\n",
       "    .dataframe thead th {\n",
       "        text-align: right;\n",
       "    }\n",
       "</style>\n",
       "<table border=\"1\" class=\"dataframe\">\n",
       "  <thead>\n",
       "    <tr style=\"text-align: right;\">\n",
       "      <th></th>\n",
       "      <th>key</th>\n",
       "      <th>A</th>\n",
       "      <th>B</th>\n",
       "      <th>C</th>\n",
       "      <th>D</th>\n",
       "    </tr>\n",
       "  </thead>\n",
       "  <tbody>\n",
       "    <tr>\n",
       "      <th>0</th>\n",
       "      <td>K0</td>\n",
       "      <td>A0</td>\n",
       "      <td>B0</td>\n",
       "      <td>C0</td>\n",
       "      <td>D0</td>\n",
       "    </tr>\n",
       "    <tr>\n",
       "      <th>1</th>\n",
       "      <td>K2</td>\n",
       "      <td>A2</td>\n",
       "      <td>B2</td>\n",
       "      <td>C2</td>\n",
       "      <td>D2</td>\n",
       "    </tr>\n",
       "    <tr>\n",
       "      <th>2</th>\n",
       "      <td>K3</td>\n",
       "      <td>A3</td>\n",
       "      <td>B3</td>\n",
       "      <td>C3</td>\n",
       "      <td>D3</td>\n",
       "    </tr>\n",
       "  </tbody>\n",
       "</table>\n",
       "</div>"
      ],
      "text/plain": [
       "  key   A   B   C   D\n",
       "0  K0  A0  B0  C0  D0\n",
       "1  K2  A2  B2  C2  D2\n",
       "2  K3  A3  B3  C3  D3"
      ]
     },
     "execution_count": 24,
     "metadata": {},
     "output_type": "execute_result"
    }
   ],
   "source": [
    "res=pd.merge(df_left,df_right,on='key')# 仅合并相同的部分\n",
    "res"
   ]
  },
  {
   "cell_type": "markdown",
   "id": "87e2150b-bbfd-4bd9-bb79-54d1990ef4dd",
   "metadata": {},
   "source": [
    "#### 根据多个key进行合并"
   ]
  },
  {
   "cell_type": "code",
   "execution_count": 28,
   "id": "428ac1ed-3760-4d9b-b5f3-e7fa055e35d7",
   "metadata": {},
   "outputs": [],
   "source": [
    "df_left=pd.DataFrame({'key1':['K0','aa','K2','K3'],\n",
    "                      'key2':['K1','K2','K5','K3'],\n",
    "                      'A':['A0','A1','A2','A3'],\n",
    "                      'B':['B0','B1','B2','B3']\n",
    "                     })\n",
    "df_right=pd.DataFrame({'key1':['K0','bb','K2','K3'],\n",
    "                       'key2':['K1','K0','K0','K0'],\n",
    "                      'C':['C0','C1','C2','C3'],\n",
    "                      'D':['D0','D1','D2','D3']\n",
    "                     })"
   ]
  },
  {
   "cell_type": "code",
   "execution_count": 31,
   "id": "ea76a0a9-9f18-421a-91fc-f4d140df7fff",
   "metadata": {},
   "outputs": [
    {
     "data": {
      "text/html": [
       "<div>\n",
       "<style scoped>\n",
       "    .dataframe tbody tr th:only-of-type {\n",
       "        vertical-align: middle;\n",
       "    }\n",
       "\n",
       "    .dataframe tbody tr th {\n",
       "        vertical-align: top;\n",
       "    }\n",
       "\n",
       "    .dataframe thead th {\n",
       "        text-align: right;\n",
       "    }\n",
       "</style>\n",
       "<table border=\"1\" class=\"dataframe\">\n",
       "  <thead>\n",
       "    <tr style=\"text-align: right;\">\n",
       "      <th></th>\n",
       "      <th>key1</th>\n",
       "      <th>key2</th>\n",
       "      <th>A</th>\n",
       "      <th>B</th>\n",
       "      <th>C</th>\n",
       "      <th>D</th>\n",
       "    </tr>\n",
       "  </thead>\n",
       "  <tbody>\n",
       "    <tr>\n",
       "      <th>0</th>\n",
       "      <td>K0</td>\n",
       "      <td>K1</td>\n",
       "      <td>A0</td>\n",
       "      <td>B0</td>\n",
       "      <td>C0</td>\n",
       "      <td>D0</td>\n",
       "    </tr>\n",
       "  </tbody>\n",
       "</table>\n",
       "</div>"
      ],
      "text/plain": [
       "  key1 key2   A   B   C   D\n",
       "0   K0   K1  A0  B0  C0  D0"
      ]
     },
     "execution_count": 31,
     "metadata": {},
     "output_type": "execute_result"
    }
   ],
   "source": [
    "res=pd.merge(df_left,df_right,on=['key1','key2']) #默认为how='inner'\n",
    "res"
   ]
  },
  {
   "cell_type": "code",
   "execution_count": 33,
   "id": "d3599924-7afd-4cba-86ca-2f1536b9c6db",
   "metadata": {},
   "outputs": [
    {
     "data": {
      "text/html": [
       "<div>\n",
       "<style scoped>\n",
       "    .dataframe tbody tr th:only-of-type {\n",
       "        vertical-align: middle;\n",
       "    }\n",
       "\n",
       "    .dataframe tbody tr th {\n",
       "        vertical-align: top;\n",
       "    }\n",
       "\n",
       "    .dataframe thead th {\n",
       "        text-align: right;\n",
       "    }\n",
       "</style>\n",
       "<table border=\"1\" class=\"dataframe\">\n",
       "  <thead>\n",
       "    <tr style=\"text-align: right;\">\n",
       "      <th></th>\n",
       "      <th>key1</th>\n",
       "      <th>key2</th>\n",
       "      <th>A</th>\n",
       "      <th>B</th>\n",
       "      <th>C</th>\n",
       "      <th>D</th>\n",
       "    </tr>\n",
       "  </thead>\n",
       "  <tbody>\n",
       "    <tr>\n",
       "      <th>0</th>\n",
       "      <td>K0</td>\n",
       "      <td>K1</td>\n",
       "      <td>A0</td>\n",
       "      <td>B0</td>\n",
       "      <td>C0</td>\n",
       "      <td>D0</td>\n",
       "    </tr>\n",
       "    <tr>\n",
       "      <th>1</th>\n",
       "      <td>bb</td>\n",
       "      <td>K0</td>\n",
       "      <td>NaN</td>\n",
       "      <td>NaN</td>\n",
       "      <td>C1</td>\n",
       "      <td>D1</td>\n",
       "    </tr>\n",
       "    <tr>\n",
       "      <th>2</th>\n",
       "      <td>K2</td>\n",
       "      <td>K0</td>\n",
       "      <td>NaN</td>\n",
       "      <td>NaN</td>\n",
       "      <td>C2</td>\n",
       "      <td>D2</td>\n",
       "    </tr>\n",
       "    <tr>\n",
       "      <th>3</th>\n",
       "      <td>K3</td>\n",
       "      <td>K0</td>\n",
       "      <td>NaN</td>\n",
       "      <td>NaN</td>\n",
       "      <td>C3</td>\n",
       "      <td>D3</td>\n",
       "    </tr>\n",
       "  </tbody>\n",
       "</table>\n",
       "</div>"
      ],
      "text/plain": [
       "  key1 key2    A    B   C   D\n",
       "0   K0   K1   A0   B0  C0  D0\n",
       "1   bb   K0  NaN  NaN  C1  D1\n",
       "2   K2   K0  NaN  NaN  C2  D2\n",
       "3   K3   K0  NaN  NaN  C3  D3"
      ]
     },
     "execution_count": 33,
     "metadata": {},
     "output_type": "execute_result"
    }
   ],
   "source": [
    "res=pd.merge(df_left,df_right,on=['key1','key2'],how='right') \n",
    "res"
   ]
  },
  {
   "cell_type": "code",
   "execution_count": 34,
   "id": "37f18691-162c-4c41-8dce-95302ca196cb",
   "metadata": {},
   "outputs": [
    {
     "data": {
      "text/html": [
       "<div>\n",
       "<style scoped>\n",
       "    .dataframe tbody tr th:only-of-type {\n",
       "        vertical-align: middle;\n",
       "    }\n",
       "\n",
       "    .dataframe tbody tr th {\n",
       "        vertical-align: top;\n",
       "    }\n",
       "\n",
       "    .dataframe thead th {\n",
       "        text-align: right;\n",
       "    }\n",
       "</style>\n",
       "<table border=\"1\" class=\"dataframe\">\n",
       "  <thead>\n",
       "    <tr style=\"text-align: right;\">\n",
       "      <th></th>\n",
       "      <th>key1</th>\n",
       "      <th>key2</th>\n",
       "      <th>A</th>\n",
       "      <th>B</th>\n",
       "      <th>C</th>\n",
       "      <th>D</th>\n",
       "    </tr>\n",
       "  </thead>\n",
       "  <tbody>\n",
       "    <tr>\n",
       "      <th>0</th>\n",
       "      <td>K0</td>\n",
       "      <td>K1</td>\n",
       "      <td>A0</td>\n",
       "      <td>B0</td>\n",
       "      <td>C0</td>\n",
       "      <td>D0</td>\n",
       "    </tr>\n",
       "    <tr>\n",
       "      <th>1</th>\n",
       "      <td>aa</td>\n",
       "      <td>K2</td>\n",
       "      <td>A1</td>\n",
       "      <td>B1</td>\n",
       "      <td>NaN</td>\n",
       "      <td>NaN</td>\n",
       "    </tr>\n",
       "    <tr>\n",
       "      <th>2</th>\n",
       "      <td>K2</td>\n",
       "      <td>K5</td>\n",
       "      <td>A2</td>\n",
       "      <td>B2</td>\n",
       "      <td>NaN</td>\n",
       "      <td>NaN</td>\n",
       "    </tr>\n",
       "    <tr>\n",
       "      <th>3</th>\n",
       "      <td>K3</td>\n",
       "      <td>K3</td>\n",
       "      <td>A3</td>\n",
       "      <td>B3</td>\n",
       "      <td>NaN</td>\n",
       "      <td>NaN</td>\n",
       "    </tr>\n",
       "  </tbody>\n",
       "</table>\n",
       "</div>"
      ],
      "text/plain": [
       "  key1 key2   A   B    C    D\n",
       "0   K0   K1  A0  B0   C0   D0\n",
       "1   aa   K2  A1  B1  NaN  NaN\n",
       "2   K2   K5  A2  B2  NaN  NaN\n",
       "3   K3   K3  A3  B3  NaN  NaN"
      ]
     },
     "execution_count": 34,
     "metadata": {},
     "output_type": "execute_result"
    }
   ],
   "source": [
    "res=pd.merge(df_left,df_right,on=['key1','key2'],how='left') \n",
    "res"
   ]
  },
  {
   "cell_type": "code",
   "execution_count": 38,
   "id": "7a908135-c062-4541-8acf-13f8e75d0710",
   "metadata": {},
   "outputs": [
    {
     "data": {
      "text/html": [
       "<div>\n",
       "<style scoped>\n",
       "    .dataframe tbody tr th:only-of-type {\n",
       "        vertical-align: middle;\n",
       "    }\n",
       "\n",
       "    .dataframe tbody tr th {\n",
       "        vertical-align: top;\n",
       "    }\n",
       "\n",
       "    .dataframe thead th {\n",
       "        text-align: right;\n",
       "    }\n",
       "</style>\n",
       "<table border=\"1\" class=\"dataframe\">\n",
       "  <thead>\n",
       "    <tr style=\"text-align: right;\">\n",
       "      <th></th>\n",
       "      <th>key1</th>\n",
       "      <th>key2</th>\n",
       "      <th>A</th>\n",
       "      <th>B</th>\n",
       "      <th>C</th>\n",
       "      <th>D</th>\n",
       "      <th>indicator_column</th>\n",
       "    </tr>\n",
       "  </thead>\n",
       "  <tbody>\n",
       "    <tr>\n",
       "      <th>0</th>\n",
       "      <td>K0</td>\n",
       "      <td>K1</td>\n",
       "      <td>A0</td>\n",
       "      <td>B0</td>\n",
       "      <td>C0</td>\n",
       "      <td>D0</td>\n",
       "      <td>both</td>\n",
       "    </tr>\n",
       "    <tr>\n",
       "      <th>1</th>\n",
       "      <td>aa</td>\n",
       "      <td>K2</td>\n",
       "      <td>A1</td>\n",
       "      <td>B1</td>\n",
       "      <td>NaN</td>\n",
       "      <td>NaN</td>\n",
       "      <td>left_only</td>\n",
       "    </tr>\n",
       "    <tr>\n",
       "      <th>2</th>\n",
       "      <td>K2</td>\n",
       "      <td>K5</td>\n",
       "      <td>A2</td>\n",
       "      <td>B2</td>\n",
       "      <td>NaN</td>\n",
       "      <td>NaN</td>\n",
       "      <td>left_only</td>\n",
       "    </tr>\n",
       "    <tr>\n",
       "      <th>3</th>\n",
       "      <td>K3</td>\n",
       "      <td>K3</td>\n",
       "      <td>A3</td>\n",
       "      <td>B3</td>\n",
       "      <td>NaN</td>\n",
       "      <td>NaN</td>\n",
       "      <td>left_only</td>\n",
       "    </tr>\n",
       "    <tr>\n",
       "      <th>4</th>\n",
       "      <td>bb</td>\n",
       "      <td>K0</td>\n",
       "      <td>NaN</td>\n",
       "      <td>NaN</td>\n",
       "      <td>C1</td>\n",
       "      <td>D1</td>\n",
       "      <td>right_only</td>\n",
       "    </tr>\n",
       "    <tr>\n",
       "      <th>5</th>\n",
       "      <td>K2</td>\n",
       "      <td>K0</td>\n",
       "      <td>NaN</td>\n",
       "      <td>NaN</td>\n",
       "      <td>C2</td>\n",
       "      <td>D2</td>\n",
       "      <td>right_only</td>\n",
       "    </tr>\n",
       "    <tr>\n",
       "      <th>6</th>\n",
       "      <td>K3</td>\n",
       "      <td>K0</td>\n",
       "      <td>NaN</td>\n",
       "      <td>NaN</td>\n",
       "      <td>C3</td>\n",
       "      <td>D3</td>\n",
       "      <td>right_only</td>\n",
       "    </tr>\n",
       "  </tbody>\n",
       "</table>\n",
       "</div>"
      ],
      "text/plain": [
       "  key1 key2    A    B    C    D indicator_column\n",
       "0   K0   K1   A0   B0   C0   D0             both\n",
       "1   aa   K2   A1   B1  NaN  NaN        left_only\n",
       "2   K2   K5   A2   B2  NaN  NaN        left_only\n",
       "3   K3   K3   A3   B3  NaN  NaN        left_only\n",
       "4   bb   K0  NaN  NaN   C1   D1       right_only\n",
       "5   K2   K0  NaN  NaN   C2   D2       right_only\n",
       "6   K3   K0  NaN  NaN   C3   D3       right_only"
      ]
     },
     "execution_count": 38,
     "metadata": {},
     "output_type": "execute_result"
    }
   ],
   "source": [
    "res=pd.merge(df_left,df_right,on=['key1','key2'],how='outer',indicator='indicator_column') # 添加指示器并对指示器命名\n",
    "res"
   ]
  },
  {
   "cell_type": "markdown",
   "id": "6c0eb439-1bb0-41d4-8d99-63c85faa6c0b",
   "metadata": {},
   "source": [
    "#### 根据index进行合并"
   ]
  },
  {
   "cell_type": "code",
   "execution_count": 39,
   "id": "bbbc23d2-be4b-495d-8036-c9ed008d56b7",
   "metadata": {},
   "outputs": [],
   "source": [
    "df_left=pd.DataFrame({'A':['A0','A1','A2','A3'],\n",
    "                      'B':['B0','B1','B2','B3']},\n",
    "                     index=['K0','aa','K2','K3'],)\n",
    "df_right=pd.DataFrame({'C':['C0','C1','C2','C3'],\n",
    "                      'D':['D0','D1','D2','D3']},\n",
    "                     index=['K0','ab','K4','K3'])"
   ]
  },
  {
   "cell_type": "code",
   "execution_count": 44,
   "id": "b1acef8e-7277-4369-bb8b-a14a13134386",
   "metadata": {},
   "outputs": [
    {
     "data": {
      "text/html": [
       "<div>\n",
       "<style scoped>\n",
       "    .dataframe tbody tr th:only-of-type {\n",
       "        vertical-align: middle;\n",
       "    }\n",
       "\n",
       "    .dataframe tbody tr th {\n",
       "        vertical-align: top;\n",
       "    }\n",
       "\n",
       "    .dataframe thead th {\n",
       "        text-align: right;\n",
       "    }\n",
       "</style>\n",
       "<table border=\"1\" class=\"dataframe\">\n",
       "  <thead>\n",
       "    <tr style=\"text-align: right;\">\n",
       "      <th></th>\n",
       "      <th>A</th>\n",
       "      <th>B</th>\n",
       "      <th>C</th>\n",
       "      <th>D</th>\n",
       "      <th>_merge</th>\n",
       "    </tr>\n",
       "  </thead>\n",
       "  <tbody>\n",
       "    <tr>\n",
       "      <th>K0</th>\n",
       "      <td>A0</td>\n",
       "      <td>B0</td>\n",
       "      <td>C0</td>\n",
       "      <td>D0</td>\n",
       "      <td>both</td>\n",
       "    </tr>\n",
       "    <tr>\n",
       "      <th>K2</th>\n",
       "      <td>A2</td>\n",
       "      <td>B2</td>\n",
       "      <td>NaN</td>\n",
       "      <td>NaN</td>\n",
       "      <td>left_only</td>\n",
       "    </tr>\n",
       "    <tr>\n",
       "      <th>K3</th>\n",
       "      <td>A3</td>\n",
       "      <td>B3</td>\n",
       "      <td>C3</td>\n",
       "      <td>D3</td>\n",
       "      <td>both</td>\n",
       "    </tr>\n",
       "    <tr>\n",
       "      <th>K4</th>\n",
       "      <td>NaN</td>\n",
       "      <td>NaN</td>\n",
       "      <td>C2</td>\n",
       "      <td>D2</td>\n",
       "      <td>right_only</td>\n",
       "    </tr>\n",
       "    <tr>\n",
       "      <th>aa</th>\n",
       "      <td>A1</td>\n",
       "      <td>B1</td>\n",
       "      <td>NaN</td>\n",
       "      <td>NaN</td>\n",
       "      <td>left_only</td>\n",
       "    </tr>\n",
       "    <tr>\n",
       "      <th>ab</th>\n",
       "      <td>NaN</td>\n",
       "      <td>NaN</td>\n",
       "      <td>C1</td>\n",
       "      <td>D1</td>\n",
       "      <td>right_only</td>\n",
       "    </tr>\n",
       "  </tbody>\n",
       "</table>\n",
       "</div>"
      ],
      "text/plain": [
       "      A    B    C    D      _merge\n",
       "K0   A0   B0   C0   D0        both\n",
       "K2   A2   B2  NaN  NaN   left_only\n",
       "K3   A3   B3   C3   D3        both\n",
       "K4  NaN  NaN   C2   D2  right_only\n",
       "aa   A1   B1  NaN  NaN   left_only\n",
       "ab  NaN  NaN   C1   D1  right_only"
      ]
     },
     "execution_count": 44,
     "metadata": {},
     "output_type": "execute_result"
    }
   ],
   "source": [
    "res=pd.merge(df_left,df_right,left_index=True,right_index=True,how='outer',indicator=True)\n",
    "res"
   ]
  },
  {
   "cell_type": "code",
   "execution_count": 51,
   "id": "f472c22f-5128-4f45-b5d8-769381b06cd6",
   "metadata": {},
   "outputs": [],
   "source": [
    "df_boys=pd.DataFrame({'年龄':[12,34,12],\n",
    "                      '班级':[1,2,3]})\n",
    "df_girls=pd.DataFrame({'班级':[1,2,4],\n",
    "                     '年龄':[23,13,17]})"
   ]
  },
  {
   "cell_type": "code",
   "execution_count": 52,
   "id": "9ea95807-64b5-4697-8697-acb88460a04c",
   "metadata": {},
   "outputs": [
    {
     "data": {
      "text/html": [
       "<div>\n",
       "<style scoped>\n",
       "    .dataframe tbody tr th:only-of-type {\n",
       "        vertical-align: middle;\n",
       "    }\n",
       "\n",
       "    .dataframe tbody tr th {\n",
       "        vertical-align: top;\n",
       "    }\n",
       "\n",
       "    .dataframe thead th {\n",
       "        text-align: right;\n",
       "    }\n",
       "</style>\n",
       "<table border=\"1\" class=\"dataframe\">\n",
       "  <thead>\n",
       "    <tr style=\"text-align: right;\">\n",
       "      <th></th>\n",
       "      <th>年龄_男孩</th>\n",
       "      <th>班级</th>\n",
       "      <th>年龄_女孩</th>\n",
       "    </tr>\n",
       "  </thead>\n",
       "  <tbody>\n",
       "    <tr>\n",
       "      <th>0</th>\n",
       "      <td>12</td>\n",
       "      <td>1</td>\n",
       "      <td>23</td>\n",
       "    </tr>\n",
       "    <tr>\n",
       "      <th>1</th>\n",
       "      <td>34</td>\n",
       "      <td>2</td>\n",
       "      <td>13</td>\n",
       "    </tr>\n",
       "  </tbody>\n",
       "</table>\n",
       "</div>"
      ],
      "text/plain": [
       "   年龄_男孩  班级  年龄_女孩\n",
       "0     12   1     23\n",
       "1     34   2     13"
      ]
     },
     "execution_count": 52,
     "metadata": {},
     "output_type": "execute_result"
    }
   ],
   "source": [
    "# 输出两个表中相同班级的男孩女孩，并在年龄后添加后缀\n",
    "res=pd.merge(df_boys,df_girls,on='班级',suffixes=['_男孩','_女孩'],how='inner')\n",
    "res"
   ]
  },
  {
   "cell_type": "markdown",
   "id": "e71e1fc7-f86c-4c0a-a85e-b3e7e4223f02",
   "metadata": {},
   "source": [
    "## pandas的数据可视化plot"
   ]
  },
  {
   "cell_type": "code",
   "execution_count": 56,
   "id": "06ee1db8-9b03-4f85-aaa4-91b465bf8001",
   "metadata": {},
   "outputs": [
    {
     "data": {
      "text/plain": [
       "0     -0.191359\n",
       "1      1.005785\n",
       "2     -1.602393\n",
       "3      0.956355\n",
       "4      1.527641\n",
       "         ...   \n",
       "995   -0.838967\n",
       "996    0.241068\n",
       "997    0.013095\n",
       "998    0.658291\n",
       "999   -0.033598\n",
       "Length: 1000, dtype: float64"
      ]
     },
     "execution_count": 56,
     "metadata": {},
     "output_type": "execute_result"
    }
   ],
   "source": [
    "series1=pd.Series(np.random.randn(1000),index=np.arange(1000)) \n",
    "series1"
   ]
  },
  {
   "cell_type": "code",
   "execution_count": 59,
   "id": "80e113fc-d9ef-478f-8d5c-1db370251298",
   "metadata": {},
   "outputs": [
    {
     "data": {
      "text/plain": [
       "<AxesSubplot:>"
      ]
     },
     "execution_count": 59,
     "metadata": {},
     "output_type": "execute_result"
    },
    {
     "data": {
      "image/png": "[encoded data removed]",
      "text/plain": [
       "<Figure size 432x288 with 1 Axes>"
      ]
     },
     "metadata": {
      "needs_background": "light"
     },
     "output_type": "display_data"
    }
   ],
   "source": [
    "series1=series1.cumsum() # 累加\n",
    "series1.plot()"
   ]
  },
  {
   "cell_type": "code",
   "execution_count": 69,
   "id": "a709007d-24b7-456d-a577-7c89f7d306d1",
   "metadata": {},
   "outputs": [
    {
     "data": {
      "text/plain": [
       "<AxesSubplot:>"
      ]
     },
     "execution_count": 69,
     "metadata": {},
     "output_type": "execute_result"
    },
    {
     "data": {
      "image/png": "[encoded data removed]",
      "text/plain": [
       "<Figure size 432x288 with 1 Axes>"
      ]
     },
     "metadata": {
      "needs_background": "light"
     },
     "output_type": "display_data"
    },
    {
     "data": {
      "image/png": "[encoded data removed]",
      "text/plain": [
       "<Figure size 432x288 with 1 Axes>"
      ]
     },
     "metadata": {
      "needs_background": "light"
     },
     "output_type": "display_data"
    }
   ],
   "source": [
    "series2=pd.DataFrame(np.random.randn(1000,4),index=np.arange(1000),columns=list('ABCD')) \n",
    "series2.plot()\n",
    "series2.cumsum()\n",
    "series2.plot()\n",
    "# plot的方法:\n",
    "    # bar,hist,box,kde,area,scatter,hexbin,pie"
   ]
  },
  {
   "cell_type": "code",
   "execution_count": 76,
   "id": "28d0d3de-bd16-4c96-9fe9-262a32f4069c",
   "metadata": {},
   "outputs": [
    {
     "data": {
      "text/plain": [
       "<AxesSubplot:xlabel='A', ylabel='C'>"
      ]
     },
     "execution_count": 76,
     "metadata": {},
     "output_type": "execute_result"
    },
    {
     "data": {
      "image/png": "[encoded data removed]",
      "text/plain": [
       "<Figure size 432x288 with 1 Axes>"
      ]
     },
     "metadata": {
      "needs_background": "light"
     },
     "output_type": "display_data"
    }
   ],
   "source": [
    "ax=series2.plot.scatter(x='A',y='B',color='DarkBlue',label='Class 1')\n",
    "series2.plot.scatter(x='A',y='C',color='Green',label='Class 2',ax=ax)"
   ]
  },
  {
   "cell_type": "markdown",
   "id": "ede3de2c-b3b9-48d2-83af-ab2b1ec40172",
   "metadata": {},
   "source": [
    "# Finish,完结撒花✌️"
   ]
  }
 ],
 "metadata": {
  "kernelspec": {
   "display_name": "Python 3 (ipykernel)",
   "language": "python",
   "name": "python3"
  },
  "language_info": {
   "codemirror_mode": {
    "name": "ipython",
    "version": 3
   },
   "file_extension": ".py",
   "mimetype": "text/x-python",
   "name": "python",
   "nbconvert_exporter": "python",
   "pygments_lexer": "ipython3",
   "version": "3.8.10"
  },
  "toc-showtags": false
 },
 "nbformat": 4,
 "nbformat_minor": 5
}