{
 "cells": [
  {
   "cell_type": "code",
   "execution_count": 46,
   "metadata": {
    "collapsed": true
   },
   "outputs": [],
   "source": [
    "import numpy as np\n",
    "import pandas as pd\n",
    "import matplotlib.pyplot as plt\n",
    "plt.rcParams['font.sans-serif']=['Arial Unicode MS']  #MacOS\n",
    "# plt.rcParams['font.sans-serif']=['SimHei'] #Windows\n",
    "plt.rcParams['axes.unicode_minus']=False #用来正常显示负号\n",
    "%matplotlib inline"
   ]
  },
  {
   "cell_type": "code",
   "execution_count": 2,
   "outputs": [],
   "source": [
    "scores = np.random.randint(50, 101, (5, 3))\n",
    "names = ('关羽', '张飞', '赵云', '马超', '黄忠')\n",
    "courses = ('语文', '数学', '英语')\n",
    "df_score = pd.DataFrame(data=scores, columns=courses, index=names)"
   ],
   "metadata": {
    "collapsed": false,
    "pycharm": {
     "name": "#%%\n"
    }
   }
  },
  {
   "cell_type": "markdown",
   "source": [
    "### TOPN"
   ],
   "metadata": {
    "collapsed": false,
    "pycharm": {
     "name": "#%% md\n"
    }
   }
  },
  {
   "cell_type": "code",
   "execution_count": 3,
   "outputs": [
    {
     "data": {
      "text/plain": "    语文  数学  英语\n赵云  96  75  58\n马超  89  80  77\n关羽  77  61  66",
      "text/html": "<div>\n<style scoped>\n    .dataframe tbody tr th:only-of-type {\n        vertical-align: middle;\n    }\n\n    .dataframe tbody tr th {\n        vertical-align: top;\n    }\n\n    .dataframe thead th {\n        text-align: right;\n    }\n</style>\n<table border=\"1\" class=\"dataframe\">\n  <thead>\n    <tr style=\"text-align: right;\">\n      <th></th>\n      <th>语文</th>\n      <th>数学</th>\n      <th>英语</th>\n    </tr>\n  </thead>\n  <tbody>\n    <tr>\n      <th>赵云</th>\n      <td>96</td>\n      <td>75</td>\n      <td>58</td>\n    </tr>\n    <tr>\n      <th>马超</th>\n      <td>89</td>\n      <td>80</td>\n      <td>77</td>\n    </tr>\n    <tr>\n      <th>关羽</th>\n      <td>77</td>\n      <td>61</td>\n      <td>66</td>\n    </tr>\n  </tbody>\n</table>\n</div>"
     },
     "execution_count": 3,
     "metadata": {},
     "output_type": "execute_result"
    }
   ],
   "source": [
    "# 获取按语文成绩排名的前三名\n",
    "df_score.nlargest(3,'语文')"
   ],
   "metadata": {
    "collapsed": false,
    "pycharm": {
     "name": "#%%\n"
    }
   }
  },
  {
   "cell_type": "code",
   "execution_count": 4,
   "outputs": [
    {
     "data": {
      "text/plain": "    语文  数学  英语\n关羽  77  61  66\n赵云  96  75  58\n黄忠  74  75  65",
      "text/html": "<div>\n<style scoped>\n    .dataframe tbody tr th:only-of-type {\n        vertical-align: middle;\n    }\n\n    .dataframe tbody tr th {\n        vertical-align: top;\n    }\n\n    .dataframe thead th {\n        text-align: right;\n    }\n</style>\n<table border=\"1\" class=\"dataframe\">\n  <thead>\n    <tr style=\"text-align: right;\">\n      <th></th>\n      <th>语文</th>\n      <th>数学</th>\n      <th>英语</th>\n    </tr>\n  </thead>\n  <tbody>\n    <tr>\n      <th>关羽</th>\n      <td>77</td>\n      <td>61</td>\n      <td>66</td>\n    </tr>\n    <tr>\n      <th>赵云</th>\n      <td>96</td>\n      <td>75</td>\n      <td>58</td>\n    </tr>\n    <tr>\n      <th>黄忠</th>\n      <td>74</td>\n      <td>75</td>\n      <td>65</td>\n    </tr>\n  </tbody>\n</table>\n</div>"
     },
     "execution_count": 4,
     "metadata": {},
     "output_type": "execute_result"
    }
   ],
   "source": [
    "# 获取按数学成绩排名的后三名\n",
    "df_score.nsmallest(3,'数学')"
   ],
   "metadata": {
    "collapsed": false,
    "pycharm": {
     "name": "#%%\n"
    }
   }
  },
  {
   "cell_type": "code",
   "execution_count": 5,
   "outputs": [
    {
     "data": {
      "text/plain": "语文    82.6\n数学    78.0\n英语    71.8\ndtype: float64"
     },
     "execution_count": 5,
     "metadata": {},
     "output_type": "execute_result"
    }
   ],
   "source": [
    "# 按学科获取平均成绩\n",
    "df_score.mean()"
   ],
   "metadata": {
    "collapsed": false,
    "pycharm": {
     "name": "#%%\n"
    }
   }
  },
  {
   "cell_type": "code",
   "execution_count": 6,
   "outputs": [
    {
     "data": {
      "text/plain": "关羽    68.000000\n张飞    89.666667\n赵云    76.333333\n马超    82.000000\n黄忠    71.333333\ndtype: float64"
     },
     "execution_count": 6,
     "metadata": {},
     "output_type": "execute_result"
    }
   ],
   "source": [
    "# 按学生获取平均成绩\n",
    "df_score.mean(axis=1)"
   ],
   "metadata": {
    "collapsed": false,
    "pycharm": {
     "name": "#%%\n"
    }
   }
  },
  {
   "cell_type": "code",
   "execution_count": 7,
   "outputs": [
    {
     "name": "stdout",
     "output_type": "stream",
     "text": [
      "<class 'pandas.core.frame.DataFrame'>\n",
      "RangeIndex: 1945 entries, 0 to 1944\n",
      "Data columns (total 7 columns):\n",
      " #   Column  Non-Null Count  Dtype         \n",
      "---  ------  --------------  -----         \n",
      " 0   销售日期    1945 non-null   datetime64[ns]\n",
      " 1   销售区域    1945 non-null   object        \n",
      " 2   销售渠道    1945 non-null   object        \n",
      " 3   销售订单    1945 non-null   object        \n",
      " 4   品牌      1945 non-null   object        \n",
      " 5   售价      1945 non-null   int64         \n",
      " 6   销售数量    1945 non-null   int64         \n",
      "dtypes: datetime64[ns](1), int64(2), object(4)\n",
      "memory usage: 106.5+ KB\n",
      "None\n"
     ]
    },
    {
     "data": {
      "text/plain": "        销售日期 销售区域 销售渠道        销售订单   品牌   售价  销售数量\n0 2020-01-01   上海  拼多多  182894-455  八匹马   99    83\n1 2020-01-01   上海   抖音  205635-402  八匹马  219    29\n2 2020-01-01   上海   天猫  205654-021  八匹马  169    85\n3 2020-01-01   上海   天猫  205654-519  八匹马  169    14\n4 2020-01-01   上海   天猫  377781-010  皮皮虾  249    61",
      "text/html": "<div>\n<style scoped>\n    .dataframe tbody tr th:only-of-type {\n        vertical-align: middle;\n    }\n\n    .dataframe tbody tr th {\n        vertical-align: top;\n    }\n\n    .dataframe thead th {\n        text-align: right;\n    }\n</style>\n<table border=\"1\" class=\"dataframe\">\n  <thead>\n    <tr style=\"text-align: right;\">\n      <th></th>\n      <th>销售日期</th>\n      <th>销售区域</th>\n      <th>销售渠道</th>\n      <th>销售订单</th>\n      <th>品牌</th>\n      <th>售价</th>\n      <th>销售数量</th>\n    </tr>\n  </thead>\n  <tbody>\n    <tr>\n      <th>0</th>\n      <td>2020-01-01</td>\n      <td>上海</td>\n      <td>拼多多</td>\n      <td>182894-455</td>\n      <td>八匹马</td>\n      <td>99</td>\n      <td>83</td>\n    </tr>\n    <tr>\n      <th>1</th>\n      <td>2020-01-01</td>\n      <td>上海</td>\n      <td>抖音</td>\n      <td>205635-402</td>\n      <td>八匹马</td>\n      <td>219</td>\n      <td>29</td>\n    </tr>\n    <tr>\n      <th>2</th>\n      <td>2020-01-01</td>\n      <td>上海</td>\n      <td>天猫</td>\n      <td>205654-021</td>\n      <td>八匹马</td>\n      <td>169</td>\n      <td>85</td>\n    </tr>\n    <tr>\n      <th>3</th>\n      <td>2020-01-01</td>\n      <td>上海</td>\n      <td>天猫</td>\n      <td>205654-519</td>\n      <td>八匹马</td>\n      <td>169</td>\n      <td>14</td>\n    </tr>\n    <tr>\n      <th>4</th>\n      <td>2020-01-01</td>\n      <td>上海</td>\n      <td>天猫</td>\n      <td>377781-010</td>\n      <td>皮皮虾</td>\n      <td>249</td>\n      <td>61</td>\n    </tr>\n  </tbody>\n</table>\n</div>"
     },
     "execution_count": 7,
     "metadata": {},
     "output_type": "execute_result"
    }
   ],
   "source": [
    "# data = [['2020-01-01', '上海', '拼多多', '182894-455', '八匹马', 99, 10],\n",
    "#         ['2020-01-01', '北京', '淘宝', '205635-402', '八匹马', 219, 20],\n",
    "#         ['2020-01-01', '上海', '天猫', '377781-010', None, 500, 25]]\n",
    "# columns = ['销售日期', '销售区域', '销售渠道', '销售订单', '品牌', '售价', '销售数量']\n",
    "# df_sale = pd.DataFrame(data=data, columns=columns)\n",
    "df_sale = pd.read_excel(io ='res/2020年销售数据.xlsx')\n",
    "print(df_sale.info())\n",
    "df_sale.head()"
   ],
   "metadata": {
    "collapsed": false,
    "pycharm": {
     "name": "#%%\n"
    }
   }
  },
  {
   "cell_type": "markdown",
   "source": [
    "### 通过计算添加新的一列"
   ],
   "metadata": {
    "collapsed": false,
    "pycharm": {
     "name": "#%% md\n"
    }
   }
  },
  {
   "cell_type": "code",
   "execution_count": 9,
   "outputs": [
    {
     "data": {
      "text/plain": "        销售日期 销售区域 销售渠道        销售订单   品牌   售价  销售数量    销售额\n0 2020-01-01   上海  拼多多  182894-455  八匹马   99    83   8217\n1 2020-01-01   上海   抖音  205635-402  八匹马  219    29   6351\n2 2020-01-01   上海   天猫  205654-021  八匹马  169    85  14365\n3 2020-01-01   上海   天猫  205654-519  八匹马  169    14   2366\n4 2020-01-01   上海   天猫  377781-010  皮皮虾  249    61  15189",
      "text/html": "<div>\n<style scoped>\n    .dataframe tbody tr th:only-of-type {\n        vertical-align: middle;\n    }\n\n    .dataframe tbody tr th {\n        vertical-align: top;\n    }\n\n    .dataframe thead th {\n        text-align: right;\n    }\n</style>\n<table border=\"1\" class=\"dataframe\">\n  <thead>\n    <tr style=\"text-align: right;\">\n      <th></th>\n      <th>销售日期</th>\n      <th>销售区域</th>\n      <th>销售渠道</th>\n      <th>销售订单</th>\n      <th>品牌</th>\n      <th>售价</th>\n      <th>销售数量</th>\n      <th>销售额</th>\n    </tr>\n  </thead>\n  <tbody>\n    <tr>\n      <th>0</th>\n      <td>2020-01-01</td>\n      <td>上海</td>\n      <td>拼多多</td>\n      <td>182894-455</td>\n      <td>八匹马</td>\n      <td>99</td>\n      <td>83</td>\n      <td>8217</td>\n    </tr>\n    <tr>\n      <th>1</th>\n      <td>2020-01-01</td>\n      <td>上海</td>\n      <td>抖音</td>\n      <td>205635-402</td>\n      <td>八匹马</td>\n      <td>219</td>\n      <td>29</td>\n      <td>6351</td>\n    </tr>\n    <tr>\n      <th>2</th>\n      <td>2020-01-01</td>\n      <td>上海</td>\n      <td>天猫</td>\n      <td>205654-021</td>\n      <td>八匹马</td>\n      <td>169</td>\n      <td>85</td>\n      <td>14365</td>\n    </tr>\n    <tr>\n      <th>3</th>\n      <td>2020-01-01</td>\n      <td>上海</td>\n      <td>天猫</td>\n      <td>205654-519</td>\n      <td>八匹马</td>\n      <td>169</td>\n      <td>14</td>\n      <td>2366</td>\n    </tr>\n    <tr>\n      <th>4</th>\n      <td>2020-01-01</td>\n      <td>上海</td>\n      <td>天猫</td>\n      <td>377781-010</td>\n      <td>皮皮虾</td>\n      <td>249</td>\n      <td>61</td>\n      <td>15189</td>\n    </tr>\n  </tbody>\n</table>\n</div>"
     },
     "execution_count": 9,
     "metadata": {},
     "output_type": "execute_result"
    }
   ],
   "source": [
    "df_sale['销售额']=df_sale.售价 * df_sale.销售数量\n",
    "df_sale.head()"
   ],
   "metadata": {
    "collapsed": false,
    "pycharm": {
     "name": "#%%\n"
    }
   }
  },
  {
   "cell_type": "markdown",
   "source": [
    "### groupby()方法进行分组\n",
    "note: 如果列仅为一个的话,此方法获得的是一个Series对象"
   ],
   "metadata": {
    "collapsed": false,
    "pycharm": {
     "name": "#%% md\n"
    }
   }
  },
  {
   "cell_type": "code",
   "execution_count": 22,
   "outputs": [
    {
     "data": {
      "text/plain": "销售渠道\n天猫     13698903\n拼多多     8447392\n京东      7694468\n实体      5148419\n抖音      4782905\nName: 销售额, dtype: int64"
     },
     "execution_count": 22,
     "metadata": {},
     "output_type": "execute_result"
    }
   ],
   "source": [
    "df_sale.groupby('销售渠道').销售额.sum().sort_values(ascending=False)"
   ],
   "metadata": {
    "collapsed": false,
    "pycharm": {
     "name": "#%%\n"
    }
   }
  },
  {
   "cell_type": "markdown",
   "source": [
    "\n",
    "### 获取不同销售区域,不同销售渠道的销售额的总值和均值"
   ],
   "metadata": {
    "collapsed": false,
    "pycharm": {
     "name": "#%% md\n"
    }
   }
  },
  {
   "cell_type": "code",
   "execution_count": 26,
   "outputs": [
    {
     "data": {
      "text/plain": "               sum          mean\n销售区域 销售渠道                       \n江苏   抖音      88327  44163.500000\n广东   拼多多    350228  38914.222222\n     抖音     147477  36869.250000\n浙江   天猫     360950  32813.636364\n江苏   实体      63845  31922.500000\n浙江   京东     157283  31456.600000\n安徽   实体     124288  31072.000000\n广东   天猫     771932  30877.280000\n安徽   抖音      90157  30052.333333\n     天猫     415569  29683.500000\n广东   实体     116205  29051.250000\n     京东     232107  29013.375000\n江苏   天猫     226867  28358.375000\n南京   抖音     198184  28312.000000\n     实体     252383  28042.555556\n江苏   京东      83837  27945.666667\n     拼多多     74203  24734.333333\n浙江   拼多多    123264  24652.800000\n南京   拼多多    296121  22778.538462\n北京   抖音    1681974  22729.378378\n上海   实体    1545411  21766.352113\n     拼多多   2552666  21272.216667\n     京东    2496713  21158.584746\n南京   天猫     714564  21016.588235\n北京   实体    1718535  20957.743902\n     拼多多   2614671  20917.368000\n安徽   拼多多    145714  20816.285714\n福建   拼多多   2290525  20635.360360\n上海   抖音    1415208  20510.260870\n安徽   京东     119735  19955.833333\n上海   天猫    3600491  19462.113514\n北京   天猫    4150172  19213.759259\n南京   京东     306049  19128.062500\n福建   实体    1298787  19099.808824\n北京   京东    2312365  18799.715447\n福建   天猫    3458358  17918.953368\n     京东    1986379  17578.575221\n     抖音    1144178  16115.183099\n浙江   实体      28965  14482.500000\n     抖音      17400   8700.000000",
      "text/html": "<div>\n<style scoped>\n    .dataframe tbody tr th:only-of-type {\n        vertical-align: middle;\n    }\n\n    .dataframe tbody tr th {\n        vertical-align: top;\n    }\n\n    .dataframe thead th {\n        text-align: right;\n    }\n</style>\n<table border=\"1\" class=\"dataframe\">\n  <thead>\n    <tr style=\"text-align: right;\">\n      <th></th>\n      <th></th>\n      <th>sum</th>\n      <th>mean</th>\n    </tr>\n    <tr>\n      <th>销售区域</th>\n      <th>销售渠道</th>\n      <th></th>\n      <th></th>\n    </tr>\n  </thead>\n  <tbody>\n    <tr>\n      <th>江苏</th>\n      <th>抖音</th>\n      <td>88327</td>\n      <td>44163.500000</td>\n    </tr>\n    <tr>\n      <th rowspan=\"2\" valign=\"top\">广东</th>\n      <th>拼多多</th>\n      <td>350228</td>\n      <td>38914.222222</td>\n    </tr>\n    <tr>\n      <th>抖音</th>\n      <td>147477</td>\n      <td>36869.250000</td>\n    </tr>\n    <tr>\n      <th>浙江</th>\n      <th>天猫</th>\n      <td>360950</td>\n      <td>32813.636364</td>\n    </tr>\n    <tr>\n      <th>江苏</th>\n      <th>实体</th>\n      <td>63845</td>\n      <td>31922.500000</td>\n    </tr>\n    <tr>\n      <th>浙江</th>\n      <th>京东</th>\n      <td>157283</td>\n      <td>31456.600000</td>\n    </tr>\n    <tr>\n      <th>安徽</th>\n      <th>实体</th>\n      <td>124288</td>\n      <td>31072.000000</td>\n    </tr>\n    <tr>\n      <th>广东</th>\n      <th>天猫</th>\n      <td>771932</td>\n      <td>30877.280000</td>\n    </tr>\n    <tr>\n      <th rowspan=\"2\" valign=\"top\">安徽</th>\n      <th>抖音</th>\n      <td>90157</td>\n      <td>30052.333333</td>\n    </tr>\n    <tr>\n      <th>天猫</th>\n      <td>415569</td>\n      <td>29683.500000</td>\n    </tr>\n    <tr>\n      <th rowspan=\"2\" valign=\"top\">广东</th>\n      <th>实体</th>\n      <td>116205</td>\n      <td>29051.250000</td>\n    </tr>\n    <tr>\n      <th>京东</th>\n      <td>232107</td>\n      <td>29013.375000</td>\n    </tr>\n    <tr>\n      <th>江苏</th>\n      <th>天猫</th>\n      <td>226867</td>\n      <td>28358.375000</td>\n    </tr>\n    <tr>\n      <th rowspan=\"2\" valign=\"top\">南京</th>\n      <th>抖音</th>\n      <td>198184</td>\n      <td>28312.000000</td>\n    </tr>\n    <tr>\n      <th>实体</th>\n      <td>252383</td>\n      <td>28042.555556</td>\n    </tr>\n    <tr>\n      <th rowspan=\"2\" valign=\"top\">江苏</th>\n      <th>京东</th>\n      <td>83837</td>\n      <td>27945.666667</td>\n    </tr>\n    <tr>\n      <th>拼多多</th>\n      <td>74203</td>\n      <td>24734.333333</td>\n    </tr>\n    <tr>\n      <th>浙江</th>\n      <th>拼多多</th>\n      <td>123264</td>\n      <td>24652.800000</td>\n    </tr>\n    <tr>\n      <th>南京</th>\n      <th>拼多多</th>\n      <td>296121</td>\n      <td>22778.538462</td>\n    </tr>\n    <tr>\n      <th>北京</th>\n      <th>抖音</th>\n      <td>1681974</td>\n      <td>22729.378378</td>\n    </tr>\n    <tr>\n      <th rowspan=\"3\" valign=\"top\">上海</th>\n      <th>实体</th>\n      <td>1545411</td>\n      <td>21766.352113</td>\n    </tr>\n    <tr>\n      <th>拼多多</th>\n      <td>2552666</td>\n      <td>21272.216667</td>\n    </tr>\n    <tr>\n      <th>京东</th>\n      <td>2496713</td>\n      <td>21158.584746</td>\n    </tr>\n    <tr>\n      <th>南京</th>\n      <th>天猫</th>\n      <td>714564</td>\n      <td>21016.588235</td>\n    </tr>\n    <tr>\n      <th rowspan=\"2\" valign=\"top\">北京</th>\n      <th>实体</th>\n      <td>1718535</td>\n      <td>20957.743902</td>\n    </tr>\n    <tr>\n      <th>拼多多</th>\n      <td>2614671</td>\n      <td>20917.368000</td>\n    </tr>\n    <tr>\n      <th>安徽</th>\n      <th>拼多多</th>\n      <td>145714</td>\n      <td>20816.285714</td>\n    </tr>\n    <tr>\n      <th>福建</th>\n      <th>拼多多</th>\n      <td>2290525</td>\n      <td>20635.360360</td>\n    </tr>\n    <tr>\n      <th>上海</th>\n      <th>抖音</th>\n      <td>1415208</td>\n      <td>20510.260870</td>\n    </tr>\n    <tr>\n      <th>安徽</th>\n      <th>京东</th>\n      <td>119735</td>\n      <td>19955.833333</td>\n    </tr>\n    <tr>\n      <th>上海</th>\n      <th>天猫</th>\n      <td>3600491</td>\n      <td>19462.113514</td>\n    </tr>\n    <tr>\n      <th>北京</th>\n      <th>天猫</th>\n      <td>4150172</td>\n      <td>19213.759259</td>\n    </tr>\n    <tr>\n      <th>南京</th>\n      <th>京东</th>\n      <td>306049</td>\n      <td>19128.062500</td>\n    </tr>\n    <tr>\n      <th>福建</th>\n      <th>实体</th>\n      <td>1298787</td>\n      <td>19099.808824</td>\n    </tr>\n    <tr>\n      <th>北京</th>\n      <th>京东</th>\n      <td>2312365</td>\n      <td>18799.715447</td>\n    </tr>\n    <tr>\n      <th rowspan=\"3\" valign=\"top\">福建</th>\n      <th>天猫</th>\n      <td>3458358</td>\n      <td>17918.953368</td>\n    </tr>\n    <tr>\n      <th>京东</th>\n      <td>1986379</td>\n      <td>17578.575221</td>\n    </tr>\n    <tr>\n      <th>抖音</th>\n      <td>1144178</td>\n      <td>16115.183099</td>\n    </tr>\n    <tr>\n      <th rowspan=\"2\" valign=\"top\">浙江</th>\n      <th>实体</th>\n      <td>28965</td>\n      <td>14482.500000</td>\n    </tr>\n    <tr>\n      <th>抖音</th>\n      <td>17400</td>\n      <td>8700.000000</td>\n    </tr>\n  </tbody>\n</table>\n</div>"
     },
     "execution_count": 26,
     "metadata": {},
     "output_type": "execute_result"
    }
   ],
   "source": [
    "a= df_sale.groupby(['销售区域','销售渠道']).销售额.agg(['sum','mean'])\n",
    "a.sort_values(by='mean',ascending=False)\n"
   ],
   "metadata": {
    "collapsed": false,
    "pycharm": {
     "name": "#%%\n"
    }
   }
  },
  {
   "cell_type": "code",
   "execution_count": 28,
   "outputs": [
    {
     "data": {
      "text/plain": "          销售总额    单笔最高  单笔最低\n销售区域                        \n上海    11610489  116303   948\n北京    12477717  133411   690\n南京     1767301   87527  1089\n安徽      895463   68502  1683\n广东     1617949  120807   990\n江苏      537079  114312  3383\n浙江      687862   90909  3927\n福建    10178227   87527   897",
      "text/html": "<div>\n<style scoped>\n    .dataframe tbody tr th:only-of-type {\n        vertical-align: middle;\n    }\n\n    .dataframe tbody tr th {\n        vertical-align: top;\n    }\n\n    .dataframe thead th {\n        text-align: right;\n    }\n</style>\n<table border=\"1\" class=\"dataframe\">\n  <thead>\n    <tr style=\"text-align: right;\">\n      <th></th>\n      <th>销售总额</th>\n      <th>单笔最高</th>\n      <th>单笔最低</th>\n    </tr>\n    <tr>\n      <th>销售区域</th>\n      <th></th>\n      <th></th>\n      <th></th>\n    </tr>\n  </thead>\n  <tbody>\n    <tr>\n      <th>上海</th>\n      <td>11610489</td>\n      <td>116303</td>\n      <td>948</td>\n    </tr>\n    <tr>\n      <th>北京</th>\n      <td>12477717</td>\n      <td>133411</td>\n      <td>690</td>\n    </tr>\n    <tr>\n      <th>南京</th>\n      <td>1767301</td>\n      <td>87527</td>\n      <td>1089</td>\n    </tr>\n    <tr>\n      <th>安徽</th>\n      <td>895463</td>\n      <td>68502</td>\n      <td>1683</td>\n    </tr>\n    <tr>\n      <th>广东</th>\n      <td>1617949</td>\n      <td>120807</td>\n      <td>990</td>\n    </tr>\n    <tr>\n      <th>江苏</th>\n      <td>537079</td>\n      <td>114312</td>\n      <td>3383</td>\n    </tr>\n    <tr>\n      <th>浙江</th>\n      <td>687862</td>\n      <td>90909</td>\n      <td>3927</td>\n    </tr>\n    <tr>\n      <th>福建</th>\n      <td>10178227</td>\n      <td>87527</td>\n      <td>897</td>\n    </tr>\n  </tbody>\n</table>\n</div>"
     },
     "execution_count": 28,
     "metadata": {},
     "output_type": "execute_result"
    }
   ],
   "source": [
    "df_sale.groupby('销售区域').销售额.agg(销售总额='sum', 单笔最高='max', 单笔最低='min')"
   ],
   "metadata": {
    "collapsed": false,
    "pycharm": {
     "name": "#%%\n"
    }
   }
  },
  {
   "cell_type": "markdown",
   "source": [
    "## 透视表\n",
    "透视表的本质就是对数据进行分组聚合操作，根据 A 列对 B 列进行统计，例如，我们要“统计每个销售区域的销售总额”，那么“销售区域”就是我们的 A 列，而“销售额”就是我们的 B 列，在pivot_table函数中分别对应index和values参数，这两个参数都可以是单个列或者多个列."
   ],
   "metadata": {
    "collapsed": false,
    "pycharm": {
     "name": "#%% md\n"
    }
   }
  },
  {
   "cell_type": "code",
   "execution_count": 29,
   "outputs": [
    {
     "data": {
      "text/plain": "               销售额\n销售区域 销售日期         \n上海   1     1679125\n     2     1689527\n     3     1061193\n     4     1082187\n     5      841199\n     6      785404\n     7      863906\n     8      734937\n     9     1107693\n     10     412108\n     11     825169\n     12     528041\n北京   1     1878234\n     2     1807787\n     3     1360666\n     4     1205989\n     5      807300\n     6     1216432\n     7     1219083\n     8      645727\n     9      390077\n     10     671608\n     11     678668\n     12     596146\n南京   7      841032\n     10     710962\n     12     215307\n安徽   4      341308\n     5      554155\n广东   3      388180\n     8      469390\n     9      365191\n     11     395188\n江苏   4      537079\n浙江   3      248354\n     8      439508\n福建   1     1852496\n     2     1111141\n     3     1106579\n     4      830207\n     5     1036351\n     6      816100\n     7      577283\n     8      658627\n     9      769999\n     10     580707\n     11     486258\n     12     352479",
      "text/html": "<div>\n<style scoped>\n    .dataframe tbody tr th:only-of-type {\n        vertical-align: middle;\n    }\n\n    .dataframe tbody tr th {\n        vertical-align: top;\n    }\n\n    .dataframe thead th {\n        text-align: right;\n    }\n</style>\n<table border=\"1\" class=\"dataframe\">\n  <thead>\n    <tr style=\"text-align: right;\">\n      <th></th>\n      <th></th>\n      <th>销售额</th>\n    </tr>\n    <tr>\n      <th>销售区域</th>\n      <th>销售日期</th>\n      <th></th>\n    </tr>\n  </thead>\n  <tbody>\n    <tr>\n      <th rowspan=\"12\" valign=\"top\">上海</th>\n      <th>1</th>\n      <td>1679125</td>\n    </tr>\n    <tr>\n      <th>2</th>\n      <td>1689527</td>\n    </tr>\n    <tr>\n      <th>3</th>\n      <td>1061193</td>\n    </tr>\n    <tr>\n      <th>4</th>\n      <td>1082187</td>\n    </tr>\n    <tr>\n      <th>5</th>\n      <td>841199</td>\n    </tr>\n    <tr>\n      <th>6</th>\n      <td>785404</td>\n    </tr>\n    <tr>\n      <th>7</th>\n      <td>863906</td>\n    </tr>\n    <tr>\n      <th>8</th>\n      <td>734937</td>\n    </tr>\n    <tr>\n      <th>9</th>\n      <td>1107693</td>\n    </tr>\n    <tr>\n      <th>10</th>\n      <td>412108</td>\n    </tr>\n    <tr>\n      <th>11</th>\n      <td>825169</td>\n    </tr>\n    <tr>\n      <th>12</th>\n      <td>528041</td>\n    </tr>\n    <tr>\n      <th rowspan=\"12\" valign=\"top\">北京</th>\n      <th>1</th>\n      <td>1878234</td>\n    </tr>\n    <tr>\n      <th>2</th>\n      <td>1807787</td>\n    </tr>\n    <tr>\n      <th>3</th>\n      <td>1360666</td>\n    </tr>\n    <tr>\n      <th>4</th>\n      <td>1205989</td>\n    </tr>\n    <tr>\n      <th>5</th>\n      <td>807300</td>\n    </tr>\n    <tr>\n      <th>6</th>\n      <td>1216432</td>\n    </tr>\n    <tr>\n      <th>7</th>\n      <td>1219083</td>\n    </tr>\n    <tr>\n      <th>8</th>\n      <td>645727</td>\n    </tr>\n    <tr>\n      <th>9</th>\n      <td>390077</td>\n    </tr>\n    <tr>\n      <th>10</th>\n      <td>671608</td>\n    </tr>\n    <tr>\n      <th>11</th>\n      <td>678668</td>\n    </tr>\n    <tr>\n      <th>12</th>\n      <td>596146</td>\n    </tr>\n    <tr>\n      <th rowspan=\"3\" valign=\"top\">南京</th>\n      <th>7</th>\n      <td>841032</td>\n    </tr>\n    <tr>\n      <th>10</th>\n      <td>710962</td>\n    </tr>\n    <tr>\n      <th>12</th>\n      <td>215307</td>\n    </tr>\n    <tr>\n      <th rowspan=\"2\" valign=\"top\">安徽</th>\n      <th>4</th>\n      <td>341308</td>\n    </tr>\n    <tr>\n      <th>5</th>\n      <td>554155</td>\n    </tr>\n    <tr>\n      <th rowspan=\"4\" valign=\"top\">广东</th>\n      <th>3</th>\n      <td>388180</td>\n    </tr>\n    <tr>\n      <th>8</th>\n      <td>469390</td>\n    </tr>\n    <tr>\n      <th>9</th>\n      <td>365191</td>\n    </tr>\n    <tr>\n      <th>11</th>\n      <td>395188</td>\n    </tr>\n    <tr>\n      <th>江苏</th>\n      <th>4</th>\n      <td>537079</td>\n    </tr>\n    <tr>\n      <th rowspan=\"2\" valign=\"top\">浙江</th>\n      <th>3</th>\n      <td>248354</td>\n    </tr>\n    <tr>\n      <th>8</th>\n      <td>439508</td>\n    </tr>\n    <tr>\n      <th rowspan=\"12\" valign=\"top\">福建</th>\n      <th>1</th>\n      <td>1852496</td>\n    </tr>\n    <tr>\n      <th>2</th>\n      <td>1111141</td>\n    </tr>\n    <tr>\n      <th>3</th>\n      <td>1106579</td>\n    </tr>\n    <tr>\n      <th>4</th>\n      <td>830207</td>\n    </tr>\n    <tr>\n      <th>5</th>\n      <td>1036351</td>\n    </tr>\n    <tr>\n      <th>6</th>\n      <td>816100</td>\n    </tr>\n    <tr>\n      <th>7</th>\n      <td>577283</td>\n    </tr>\n    <tr>\n      <th>8</th>\n      <td>658627</td>\n    </tr>\n    <tr>\n      <th>9</th>\n      <td>769999</td>\n    </tr>\n    <tr>\n      <th>10</th>\n      <td>580707</td>\n    </tr>\n    <tr>\n      <th>11</th>\n      <td>486258</td>\n    </tr>\n    <tr>\n      <th>12</th>\n      <td>352479</td>\n    </tr>\n  </tbody>\n</table>\n</div>"
     },
     "execution_count": 29,
     "metadata": {},
     "output_type": "execute_result"
    }
   ],
   "source": [
    "pd.pivot_table(df_sale, index=['销售区域', df_sale['销售日期'].dt.month], values='销售额', aggfunc='sum')"
   ],
   "metadata": {
    "collapsed": false,
    "pycharm": {
     "name": "#%%\n"
    }
   }
  },
  {
   "cell_type": "markdown",
   "source": [
    "groupby操作后，如果对单个列进行聚合，得到的结果是一个Series对象，而上面的结果是一个DataFrame 对象."
   ],
   "metadata": {
    "collapsed": false,
    "pycharm": {
     "name": "#%% md\n"
    }
   }
  },
  {
   "cell_type": "code",
   "execution_count": 30,
   "outputs": [
    {
     "data": {
      "text/plain": "销售日期       1        2        3        4        5        6        7       8   \\\n销售区域                                                                          \n上海    1679125  1689527  1061193  1082187   841199   785404   863906  734937   \n北京    1878234  1807787  1360666  1205989   807300  1216432  1219083  645727   \n南京          0        0        0        0        0        0   841032       0   \n安徽          0        0        0   341308   554155        0        0       0   \n广东          0        0   388180        0        0        0        0  469390   \n江苏          0        0        0   537079        0        0        0       0   \n浙江          0        0   248354        0        0        0        0  439508   \n福建    1852496  1111141  1106579   830207  1036351   816100   577283  658627   \n\n销售日期       9       10      11      12  \n销售区域                                   \n上海    1107693  412108  825169  528041  \n北京     390077  671608  678668  596146  \n南京          0  710962       0  215307  \n安徽          0       0       0       0  \n广东     365191       0  395188       0  \n江苏          0       0       0       0  \n浙江          0       0       0       0  \n福建     769999  580707  486258  352479  ",
      "text/html": "<div>\n<style scoped>\n    .dataframe tbody tr th:only-of-type {\n        vertical-align: middle;\n    }\n\n    .dataframe tbody tr th {\n        vertical-align: top;\n    }\n\n    .dataframe thead th {\n        text-align: right;\n    }\n</style>\n<table border=\"1\" class=\"dataframe\">\n  <thead>\n    <tr style=\"text-align: right;\">\n      <th>销售日期</th>\n      <th>1</th>\n      <th>2</th>\n      <th>3</th>\n      <th>4</th>\n      <th>5</th>\n      <th>6</th>\n      <th>7</th>\n      <th>8</th>\n      <th>9</th>\n      <th>10</th>\n      <th>11</th>\n      <th>12</th>\n    </tr>\n    <tr>\n      <th>销售区域</th>\n      <th></th>\n      <th></th>\n      <th></th>\n      <th></th>\n      <th></th>\n      <th></th>\n      <th></th>\n      <th></th>\n      <th></th>\n      <th></th>\n      <th></th>\n      <th></th>\n    </tr>\n  </thead>\n  <tbody>\n    <tr>\n      <th>上海</th>\n      <td>1679125</td>\n      <td>1689527</td>\n      <td>1061193</td>\n      <td>1082187</td>\n      <td>841199</td>\n      <td>785404</td>\n      <td>863906</td>\n      <td>734937</td>\n      <td>1107693</td>\n      <td>412108</td>\n      <td>825169</td>\n      <td>528041</td>\n    </tr>\n    <tr>\n      <th>北京</th>\n      <td>1878234</td>\n      <td>1807787</td>\n      <td>1360666</td>\n      <td>1205989</td>\n      <td>807300</td>\n      <td>1216432</td>\n      <td>1219083</td>\n      <td>645727</td>\n      <td>390077</td>\n      <td>671608</td>\n      <td>678668</td>\n      <td>596146</td>\n    </tr>\n    <tr>\n      <th>南京</th>\n      <td>0</td>\n      <td>0</td>\n      <td>0</td>\n      <td>0</td>\n      <td>0</td>\n      <td>0</td>\n      <td>841032</td>\n      <td>0</td>\n      <td>0</td>\n      <td>710962</td>\n      <td>0</td>\n      <td>215307</td>\n    </tr>\n    <tr>\n      <th>安徽</th>\n      <td>0</td>\n      <td>0</td>\n      <td>0</td>\n      <td>341308</td>\n      <td>554155</td>\n      <td>0</td>\n      <td>0</td>\n      <td>0</td>\n      <td>0</td>\n      <td>0</td>\n      <td>0</td>\n      <td>0</td>\n    </tr>\n    <tr>\n      <th>广东</th>\n      <td>0</td>\n      <td>0</td>\n      <td>388180</td>\n      <td>0</td>\n      <td>0</td>\n      <td>0</td>\n      <td>0</td>\n      <td>469390</td>\n      <td>365191</td>\n      <td>0</td>\n      <td>395188</td>\n      <td>0</td>\n    </tr>\n    <tr>\n      <th>江苏</th>\n      <td>0</td>\n      <td>0</td>\n      <td>0</td>\n      <td>537079</td>\n      <td>0</td>\n      <td>0</td>\n      <td>0</td>\n      <td>0</td>\n      <td>0</td>\n      <td>0</td>\n      <td>0</td>\n      <td>0</td>\n    </tr>\n    <tr>\n      <th>浙江</th>\n      <td>0</td>\n      <td>0</td>\n      <td>248354</td>\n      <td>0</td>\n      <td>0</td>\n      <td>0</td>\n      <td>0</td>\n      <td>439508</td>\n      <td>0</td>\n      <td>0</td>\n      <td>0</td>\n      <td>0</td>\n    </tr>\n    <tr>\n      <th>福建</th>\n      <td>1852496</td>\n      <td>1111141</td>\n      <td>1106579</td>\n      <td>830207</td>\n      <td>1036351</td>\n      <td>816100</td>\n      <td>577283</td>\n      <td>658627</td>\n      <td>769999</td>\n      <td>580707</td>\n      <td>486258</td>\n      <td>352479</td>\n    </tr>\n  </tbody>\n</table>\n</div>"
     },
     "execution_count": 30,
     "metadata": {},
     "output_type": "execute_result"
    }
   ],
   "source": [
    "pd.pivot_table(\n",
    "    df_sale, index='销售区域', columns=df_sale['销售日期'].dt.month,\n",
    "    values='销售额', aggfunc='sum', fill_value=0\n",
    ")"
   ],
   "metadata": {
    "collapsed": false,
    "pycharm": {
     "name": "#%%\n"
    }
   }
  },
  {
   "cell_type": "markdown",
   "source": [
    "### 使用margins和margins_name对聚合做汇总"
   ],
   "metadata": {
    "collapsed": false,
    "pycharm": {
     "name": "#%% md\n"
    }
   }
  },
  {
   "cell_type": "code",
   "execution_count": 31,
   "outputs": [
    {
     "data": {
      "text/plain": "月份          1        2        3        4        5        6        7        8  \\\n销售区域                                                                           \n上海    1679125  1689527  1061193  1082187   841199   785404   863906   734937   \n北京    1878234  1807787  1360666  1205989   807300  1216432  1219083   645727   \n南京          0        0        0        0        0        0   841032        0   \n安徽          0        0        0   341308   554155        0        0        0   \n广东          0        0   388180        0        0        0        0   469390   \n江苏          0        0        0   537079        0        0        0        0   \n浙江          0        0   248354        0        0        0        0   439508   \n福建    1852496  1111141  1106579   830207  1036351   816100   577283   658627   \n总计1   5409855  4608455  4164972  3996770  3239005  2817936  3501304  2948189   \n\n月份          9       10       11       12       总计1  \n销售区域                                                \n上海    1107693   412108   825169   528041  11610489  \n北京     390077   671608   678668   596146  12477717  \n南京          0   710962        0   215307   1767301  \n安徽          0        0        0        0    895463  \n广东     365191        0   395188        0   1617949  \n江苏          0        0        0        0    537079  \n浙江          0        0        0        0    687862  \n福建     769999   580707   486258   352479  10178227  \n总计1   2632960  2375385  2385283  1691973  39772087  ",
      "text/html": "<div>\n<style scoped>\n    .dataframe tbody tr th:only-of-type {\n        vertical-align: middle;\n    }\n\n    .dataframe tbody tr th {\n        vertical-align: top;\n    }\n\n    .dataframe thead th {\n        text-align: right;\n    }\n</style>\n<table border=\"1\" class=\"dataframe\">\n  <thead>\n    <tr style=\"text-align: right;\">\n      <th>月份</th>\n      <th>1</th>\n      <th>2</th>\n      <th>3</th>\n      <th>4</th>\n      <th>5</th>\n      <th>6</th>\n      <th>7</th>\n      <th>8</th>\n      <th>9</th>\n      <th>10</th>\n      <th>11</th>\n      <th>12</th>\n      <th>总计1</th>\n    </tr>\n    <tr>\n      <th>销售区域</th>\n      <th></th>\n      <th></th>\n      <th></th>\n      <th></th>\n      <th></th>\n      <th></th>\n      <th></th>\n      <th></th>\n      <th></th>\n      <th></th>\n      <th></th>\n      <th></th>\n      <th></th>\n    </tr>\n  </thead>\n  <tbody>\n    <tr>\n      <th>上海</th>\n      <td>1679125</td>\n      <td>1689527</td>\n      <td>1061193</td>\n      <td>1082187</td>\n      <td>841199</td>\n      <td>785404</td>\n      <td>863906</td>\n      <td>734937</td>\n      <td>1107693</td>\n      <td>412108</td>\n      <td>825169</td>\n      <td>528041</td>\n      <td>11610489</td>\n    </tr>\n    <tr>\n      <th>北京</th>\n      <td>1878234</td>\n      <td>1807787</td>\n      <td>1360666</td>\n      <td>1205989</td>\n      <td>807300</td>\n      <td>1216432</td>\n      <td>1219083</td>\n      <td>645727</td>\n      <td>390077</td>\n      <td>671608</td>\n      <td>678668</td>\n      <td>596146</td>\n      <td>12477717</td>\n    </tr>\n    <tr>\n      <th>南京</th>\n      <td>0</td>\n      <td>0</td>\n      <td>0</td>\n      <td>0</td>\n      <td>0</td>\n      <td>0</td>\n      <td>841032</td>\n      <td>0</td>\n      <td>0</td>\n      <td>710962</td>\n      <td>0</td>\n      <td>215307</td>\n      <td>1767301</td>\n    </tr>\n    <tr>\n      <th>安徽</th>\n      <td>0</td>\n      <td>0</td>\n      <td>0</td>\n      <td>341308</td>\n      <td>554155</td>\n      <td>0</td>\n      <td>0</td>\n      <td>0</td>\n      <td>0</td>\n      <td>0</td>\n      <td>0</td>\n      <td>0</td>\n      <td>895463</td>\n    </tr>\n    <tr>\n      <th>广东</th>\n      <td>0</td>\n      <td>0</td>\n      <td>388180</td>\n      <td>0</td>\n      <td>0</td>\n      <td>0</td>\n      <td>0</td>\n      <td>469390</td>\n      <td>365191</td>\n      <td>0</td>\n      <td>395188</td>\n      <td>0</td>\n      <td>1617949</td>\n    </tr>\n    <tr>\n      <th>江苏</th>\n      <td>0</td>\n      <td>0</td>\n      <td>0</td>\n      <td>537079</td>\n      <td>0</td>\n      <td>0</td>\n      <td>0</td>\n      <td>0</td>\n      <td>0</td>\n      <td>0</td>\n      <td>0</td>\n      <td>0</td>\n      <td>537079</td>\n    </tr>\n    <tr>\n      <th>浙江</th>\n      <td>0</td>\n      <td>0</td>\n      <td>248354</td>\n      <td>0</td>\n      <td>0</td>\n      <td>0</td>\n      <td>0</td>\n      <td>439508</td>\n      <td>0</td>\n      <td>0</td>\n      <td>0</td>\n      <td>0</td>\n      <td>687862</td>\n    </tr>\n    <tr>\n      <th>福建</th>\n      <td>1852496</td>\n      <td>1111141</td>\n      <td>1106579</td>\n      <td>830207</td>\n      <td>1036351</td>\n      <td>816100</td>\n      <td>577283</td>\n      <td>658627</td>\n      <td>769999</td>\n      <td>580707</td>\n      <td>486258</td>\n      <td>352479</td>\n      <td>10178227</td>\n    </tr>\n    <tr>\n      <th>总计1</th>\n      <td>5409855</td>\n      <td>4608455</td>\n      <td>4164972</td>\n      <td>3996770</td>\n      <td>3239005</td>\n      <td>2817936</td>\n      <td>3501304</td>\n      <td>2948189</td>\n      <td>2632960</td>\n      <td>2375385</td>\n      <td>2385283</td>\n      <td>1691973</td>\n      <td>39772087</td>\n    </tr>\n  </tbody>\n</table>\n</div>"
     },
     "execution_count": 31,
     "metadata": {},
     "output_type": "execute_result"
    }
   ],
   "source": [
    "df_sale['月份']=df_sale['销售日期'].dt.month\n",
    "pd.pivot_table(\n",
    "    df_sale,index=['销售区域'],columns='月份',\n",
    "    values='销售额',aggfunc = 'sum', fill_value = 0,\n",
    "    margins =True,margins_name='总计1'\n",
    ")"
   ],
   "metadata": {
    "collapsed": false,
    "pycharm": {
     "name": "#%%\n"
    }
   }
  },
  {
   "cell_type": "markdown",
   "source": [
    "## 交叉表\n",
    "交叉表是一种特殊的透视表,不需要提前构造DataFrame对象,而是直接通过数组或者Series对象指定两个或多个因素进行运算的统计结果.\n",
    "Exmaple:\n",
    "    统计每个区域的销售总额,可以按照如下的方式来完成"
   ],
   "metadata": {
    "collapsed": false,
    "pycharm": {
     "name": "#%% md\n"
    }
   }
  },
  {
   "cell_type": "code",
   "execution_count": 34,
   "outputs": [],
   "source": [
    "# 准备三组数据,每个数据都是一个Series对象\n",
    "sales_area, sales_month, sales_amount = df_sale['销售区域'], df_sale['月份'], df_sale['销售额']"
   ],
   "metadata": {
    "collapsed": false,
    "pycharm": {
     "name": "#%%\n"
    }
   }
  },
  {
   "cell_type": "code",
   "execution_count": 45,
   "outputs": [
    {
     "data": {
      "text/plain": "月份         1        2        3        4        5        6        7       8   \\\n销售区域                                                                          \n上海    1679125  1689527  1061193  1082187   841199   785404   863906  734937   \n北京    1878234  1807787  1360666  1205989   807300  1216432  1219083  645727   \n南京          0        0        0        0        0        0   841032       0   \n安徽          0        0        0   341308   554155        0        0       0   \n广东          0        0   388180        0        0        0        0  469390   \n江苏          0        0        0   537079        0        0        0       0   \n浙江          0        0   248354        0        0        0        0  439508   \n福建    1852496  1111141  1106579   830207  1036351   816100   577283  658627   \n\n月份         9       10      11      12  \n销售区域                                   \n上海    1107693  412108  825169  528041  \n北京     390077  671608  678668  596146  \n南京          0  710962       0  215307  \n安徽          0       0       0       0  \n广东     365191       0  395188       0  \n江苏          0       0       0       0  \n浙江          0       0       0       0  \n福建     769999  580707  486258  352479  ",
      "text/html": "<div>\n<style scoped>\n    .dataframe tbody tr th:only-of-type {\n        vertical-align: middle;\n    }\n\n    .dataframe tbody tr th {\n        vertical-align: top;\n    }\n\n    .dataframe thead th {\n        text-align: right;\n    }\n</style>\n<table border=\"1\" class=\"dataframe\">\n  <thead>\n    <tr style=\"text-align: right;\">\n      <th>月份</th>\n      <th>1</th>\n      <th>2</th>\n      <th>3</th>\n      <th>4</th>\n      <th>5</th>\n      <th>6</th>\n      <th>7</th>\n      <th>8</th>\n      <th>9</th>\n      <th>10</th>\n      <th>11</th>\n      <th>12</th>\n    </tr>\n    <tr>\n      <th>销售区域</th>\n      <th></th>\n      <th></th>\n      <th></th>\n      <th></th>\n      <th></th>\n      <th></th>\n      <th></th>\n      <th></th>\n      <th></th>\n      <th></th>\n      <th></th>\n      <th></th>\n    </tr>\n  </thead>\n  <tbody>\n    <tr>\n      <th>上海</th>\n      <td>1679125</td>\n      <td>1689527</td>\n      <td>1061193</td>\n      <td>1082187</td>\n      <td>841199</td>\n      <td>785404</td>\n      <td>863906</td>\n      <td>734937</td>\n      <td>1107693</td>\n      <td>412108</td>\n      <td>825169</td>\n      <td>528041</td>\n    </tr>\n    <tr>\n      <th>北京</th>\n      <td>1878234</td>\n      <td>1807787</td>\n      <td>1360666</td>\n      <td>1205989</td>\n      <td>807300</td>\n      <td>1216432</td>\n      <td>1219083</td>\n      <td>645727</td>\n      <td>390077</td>\n      <td>671608</td>\n      <td>678668</td>\n      <td>596146</td>\n    </tr>\n    <tr>\n      <th>南京</th>\n      <td>0</td>\n      <td>0</td>\n      <td>0</td>\n      <td>0</td>\n      <td>0</td>\n      <td>0</td>\n      <td>841032</td>\n      <td>0</td>\n      <td>0</td>\n      <td>710962</td>\n      <td>0</td>\n      <td>215307</td>\n    </tr>\n    <tr>\n      <th>安徽</th>\n      <td>0</td>\n      <td>0</td>\n      <td>0</td>\n      <td>341308</td>\n      <td>554155</td>\n      <td>0</td>\n      <td>0</td>\n      <td>0</td>\n      <td>0</td>\n      <td>0</td>\n      <td>0</td>\n      <td>0</td>\n    </tr>\n    <tr>\n      <th>广东</th>\n      <td>0</td>\n      <td>0</td>\n      <td>388180</td>\n      <td>0</td>\n      <td>0</td>\n      <td>0</td>\n      <td>0</td>\n      <td>469390</td>\n      <td>365191</td>\n      <td>0</td>\n      <td>395188</td>\n      <td>0</td>\n    </tr>\n    <tr>\n      <th>江苏</th>\n      <td>0</td>\n      <td>0</td>\n      <td>0</td>\n      <td>537079</td>\n      <td>0</td>\n      <td>0</td>\n      <td>0</td>\n      <td>0</td>\n      <td>0</td>\n      <td>0</td>\n      <td>0</td>\n      <td>0</td>\n    </tr>\n    <tr>\n      <th>浙江</th>\n      <td>0</td>\n      <td>0</td>\n      <td>248354</td>\n      <td>0</td>\n      <td>0</td>\n      <td>0</td>\n      <td>0</td>\n      <td>439508</td>\n      <td>0</td>\n      <td>0</td>\n      <td>0</td>\n      <td>0</td>\n    </tr>\n    <tr>\n      <th>福建</th>\n      <td>1852496</td>\n      <td>1111141</td>\n      <td>1106579</td>\n      <td>830207</td>\n      <td>1036351</td>\n      <td>816100</td>\n      <td>577283</td>\n      <td>658627</td>\n      <td>769999</td>\n      <td>580707</td>\n      <td>486258</td>\n      <td>352479</td>\n    </tr>\n  </tbody>\n</table>\n</div>"
     },
     "execution_count": 45,
     "metadata": {},
     "output_type": "execute_result"
    }
   ],
   "source": [
    "# 使用crosstab产生交叉表\n",
    "ct = pd.crosstab(\n",
    "    index=sales_area,\n",
    "    columns=sales_month,\n",
    "    values=sales_amount,\n",
    "    aggfunc='sum',\n",
    ")\n",
    "ct.fillna(.0, inplace=True)  # 填充空值\n",
    "ct = ct.applymap(int)  # 修改为整形\n",
    "ct"
   ],
   "metadata": {
    "collapsed": false,
    "pycharm": {
     "name": "#%%\n"
    }
   }
  },
  {
   "cell_type": "markdown",
   "source": [
    "## 数据可视化\n",
    "通过图表的方式将数据呈现出来"
   ],
   "metadata": {
    "collapsed": false,
    "pycharm": {
     "name": "#%% md\n"
    }
   }
  },
  {
   "cell_type": "code",
   "execution_count": null,
   "outputs": [],
   "source": [
    "temp = pd.pivot_table(df_sale,\n",
    "                      index='销售区域',\n",
    "                      values='销售额',\n",
    "                      aggfunc='sum')\n",
    "temp.plot(figsize=(8,4),kind='bar')\n",
    "plt.xticks(rotation=0)\n",
    "plt.title('不同地区销售额分布')\n"
   ],
   "metadata": {
    "collapsed": false,
    "pycharm": {
     "name": "#%%\n"
    }
   }
  },
  {
   "cell_type": "code",
   "execution_count": 60,
   "outputs": [
    {
     "data": {
      "text/plain": "<matplotlib.legend.Legend at 0x125f5fd60>"
     },
     "execution_count": 60,
     "metadata": {},
     "output_type": "execute_result"
    },
    {
     "data": {
      "text/plain": "<Figure size 432x432 with 1 Axes>",
      "image/png": "[encoded data removed]"
     },
     "metadata": {},
     "output_type": "display_data"
    }
   ],
   "source": [
    "temp.sort_values(by='销售额', ascending=False).plot(\n",
    "    figsize=(6, 6), kind='pie', y='销售额',\n",
    "    autopct='%.2f%%', pctdistance=0.8,\n",
    "    wedgeprops=dict(linewidth=1, width=0.35)\n",
    ")\n",
    "\n",
    "plt.legend(loc='center')"
   ],
   "metadata": {
    "collapsed": false,
    "pycharm": {
     "name": "#%%\n"
    }
   }
  }
 ],
 "metadata": {
  "kernelspec": {
   "display_name": "Python 3",
   "language": "python",
   "name": "python3"
  },
  "language_info": {
   "codemirror_mode": {
    "name": "ipython",
    "version": 2
   },
   "file_extension": ".py",
   "mimetype": "text/x-python",
   "name": "python",
   "nbconvert_exporter": "python",
   "pygments_lexer": "ipython2",
   "version": "2.7.6"
  }
 },
 "nbformat": 4,
 "nbformat_minor": 0
}