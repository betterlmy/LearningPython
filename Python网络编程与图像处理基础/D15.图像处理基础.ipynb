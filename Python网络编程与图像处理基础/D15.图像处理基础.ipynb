{
 "cells": [
  {
   "cell_type": "markdown",
   "metadata": {
    "collapsed": true,
    "pycharm": {
     "name": "#%% md\n"
    }
   },
   "source": [
    "## 图像和办公文档处理"
   ]
  },
  {
   "cell_type": "markdown",
   "source": [
    "### 图像处理\n",
    "#### 查看图像的基本信息"
   ],
   "metadata": {
    "collapsed": false,
    "pycharm": {
     "name": "#%% md\n"
    }
   }
  },
  {
   "cell_type": "code",
   "execution_count": 2,
   "outputs": [
    {
     "name": "stdout",
     "output_type": "stream",
     "text": [
      "('JPEG', (500, 750), 'RGB')\n"
     ]
    }
   ],
   "source": [
    "from PIL import Image\n",
    "\n",
    "img_path = './res/guido.jpg'\n",
    "img = Image.open(img_path)\n",
    "print(f\"{img.format, img.size, img.mode}\")  # ('JPEG', (500, 750), 'RGB')\n",
    "img.show()"
   ],
   "metadata": {
    "collapsed": false,
    "pycharm": {
     "name": "#%%\n"
    }
   }
  },
  {
   "cell_type": "markdown",
   "source": [
    "#### 裁剪图像"
   ],
   "metadata": {
    "collapsed": false,
    "pycharm": {
     "name": "#%% md\n"
    }
   }
  },
  {
   "cell_type": "code",
   "execution_count": 6,
   "outputs": [],
   "source": [
    "from PIL import Image\n",
    "\n",
    "img_path = './res/guido.jpg'\n",
    "img = Image.open(img_path)\n",
    "\n",
    "rect = (80,20,310,360)\n",
    "img.crop(rect).show()"
   ],
   "metadata": {
    "collapsed": false,
    "pycharm": {
     "name": "#%%\n"
    }
   }
  },
  {
   "cell_type": "markdown",
   "source": [
    "#### 生成缩略图"
   ],
   "metadata": {
    "collapsed": false,
    "pycharm": {
     "name": "#%% md\n"
    }
   }
  },
  {
   "cell_type": "code",
   "execution_count": 7,
   "outputs": [],
   "source": [
    "from PIL import Image\n",
    "\n",
    "img_path = './res/guido.jpg'\n",
    "img = Image.open(img_path)\n",
    "\n",
    "size = (128,128)\n",
    "img.thumbnail(size) # thumbnail缩略图\n",
    "img.show()"
   ],
   "metadata": {
    "collapsed": false,
    "pycharm": {
     "name": "#%%\n"
    }
   }
  },
  {
   "cell_type": "markdown",
   "source": [
    "#### 缩放和黏贴图像"
   ],
   "metadata": {
    "collapsed": false,
    "pycharm": {
     "name": "#%% md\n"
    }
   }
  },
  {
   "cell_type": "code",
   "execution_count": 11,
   "outputs": [
    {
     "ename": "ValueError",
     "evalue": "Unknown resampling filter ((172, 40)). Use Image.NEAREST (0), Image.LANCZOS (1), Image.BILINEAR (2), Image.BICUBIC (3), Image.BOX (4) or Image.HAMMING (5)",
     "output_type": "error",
     "traceback": [
      "\u001B[0;31m---------------------------------------------------------------------------\u001B[0m",
      "\u001B[0;31mValueError\u001B[0m                                Traceback (most recent call last)",
      "\u001B[0;32m/var/folders/6y/2tfbrqxd44xb1_g_2djcnjr00000gn/T/ipykernel_2346/560369842.py\u001B[0m in \u001B[0;36m<module>\u001B[0;34m\u001B[0m\n\u001B[1;32m      9\u001B[0m \u001B[0mguido_head\u001B[0m \u001B[0;34m=\u001B[0m \u001B[0mimg1\u001B[0m\u001B[0;34m.\u001B[0m\u001B[0mcrop\u001B[0m\u001B[0;34m(\u001B[0m\u001B[0mrect\u001B[0m\u001B[0;34m)\u001B[0m\u001B[0;34m\u001B[0m\u001B[0;34m\u001B[0m\u001B[0m\n\u001B[1;32m     10\u001B[0m \u001B[0mwidth\u001B[0m\u001B[0;34m,\u001B[0m \u001B[0mheight\u001B[0m \u001B[0;34m=\u001B[0m \u001B[0mguido_head\u001B[0m\u001B[0;34m.\u001B[0m\u001B[0msize\u001B[0m\u001B[0;34m\u001B[0m\u001B[0;34m\u001B[0m\u001B[0m\n\u001B[0;32m---> 11\u001B[0;31m \u001B[0mguido_head\u001B[0m\u001B[0;34m.\u001B[0m\u001B[0mresize\u001B[0m\u001B[0;34m(\u001B[0m\u001B[0;34m(\u001B[0m\u001B[0mint\u001B[0m\u001B[0;34m(\u001B[0m\u001B[0mwidth\u001B[0m \u001B[0;34m/\u001B[0m \u001B[0;36m1.5\u001B[0m\u001B[0;34m)\u001B[0m\u001B[0;34m,\u001B[0m \u001B[0mint\u001B[0m\u001B[0;34m(\u001B[0m\u001B[0mheight\u001B[0m \u001B[0;34m/\u001B[0m \u001B[0;36m1.5\u001B[0m\u001B[0;34m)\u001B[0m\u001B[0;34m)\u001B[0m\u001B[0;34m,\u001B[0m \u001B[0;34m(\u001B[0m\u001B[0;36m172\u001B[0m\u001B[0;34m,\u001B[0m \u001B[0;36m40\u001B[0m\u001B[0;34m)\u001B[0m\u001B[0;34m)\u001B[0m\u001B[0;34m.\u001B[0m\u001B[0mshow\u001B[0m\u001B[0;34m(\u001B[0m\u001B[0;34m)\u001B[0m\u001B[0;34m\u001B[0m\u001B[0;34m\u001B[0m\u001B[0m\n\u001B[0m\u001B[1;32m     12\u001B[0m \u001B[0;34m\u001B[0m\u001B[0m\n",
      "\u001B[0;32m~/miniforge3/envs/py39/lib/python3.9/site-packages/PIL/Image.py\u001B[0m in \u001B[0;36mresize\u001B[0;34m(self, size, resample, box, reducing_gap)\u001B[0m\n\u001B[1;32m   1962\u001B[0m                 )\n\u001B[1;32m   1963\u001B[0m             ]\n\u001B[0;32m-> 1964\u001B[0;31m             raise ValueError(\n\u001B[0m\u001B[1;32m   1965\u001B[0m                 \u001B[0mmessage\u001B[0m \u001B[0;34m+\u001B[0m \u001B[0;34m\" Use \"\u001B[0m \u001B[0;34m+\u001B[0m \u001B[0;34m\", \"\u001B[0m\u001B[0;34m.\u001B[0m\u001B[0mjoin\u001B[0m\u001B[0;34m(\u001B[0m\u001B[0mfilters\u001B[0m\u001B[0;34m[\u001B[0m\u001B[0;34m:\u001B[0m\u001B[0;34m-\u001B[0m\u001B[0;36m1\u001B[0m\u001B[0;34m]\u001B[0m\u001B[0;34m)\u001B[0m \u001B[0;34m+\u001B[0m \u001B[0;34m\" or \"\u001B[0m \u001B[0;34m+\u001B[0m \u001B[0mfilters\u001B[0m\u001B[0;34m[\u001B[0m\u001B[0;34m-\u001B[0m\u001B[0;36m1\u001B[0m\u001B[0;34m]\u001B[0m\u001B[0;34m\u001B[0m\u001B[0;34m\u001B[0m\u001B[0m\n\u001B[1;32m   1966\u001B[0m             )\n",
      "\u001B[0;31mValueError\u001B[0m: Unknown resampling filter ((172, 40)). Use Image.NEAREST (0), Image.LANCZOS (1), Image.BILINEAR (2), Image.BICUBIC (3), Image.BOX (4) or Image.HAMMING (5)"
     ]
    }
   ],
   "source": [
    "from PIL import Image\n",
    "\n",
    "img1_path = './res/guido.jpg'\n",
    "img1 = Image.open(img1_path)\n",
    "img2_path = './res/luohao.png'\n",
    "img2 = Image.open(img2_path)\n",
    "\n",
    "rect = 80, 20, 310, 360\n",
    "guido_head = img1.crop(rect)\n",
    "width, height = guido_head.size\n",
    "guido_head.resize((int(width / 1.5), int(height / 1.5)), (172, 40)).show()\n"
   ],
   "metadata": {
    "collapsed": false,
    "pycharm": {
     "name": "#%%\n"
    }
   }
  },
  {
   "cell_type": "code",
   "execution_count": 13,
   "outputs": [],
   "source": [
    "from PIL import Image\n",
    "\n",
    "img1_path = './res/guido.jpg'\n",
    "img1 = Image.open(img1_path)\n",
    "\n",
    "img1.rotate(180).show()\n",
    "img1.transpose(Image.FLIP_LEFT_RIGHT).show()"
   ],
   "metadata": {
    "collapsed": false,
    "pycharm": {
     "name": "#%%\n"
    }
   }
  },
  {
   "cell_type": "code",
   "execution_count": 15,
   "outputs": [],
   "source": [
    "from PIL import Image\n",
    "\n",
    "img1_path = './res/guido.jpg'\n",
    "img1 = Image.open(img1_path)\n",
    "for x in range(80,310):\n",
    "    for y in range(20,360):\n",
    "        img1.putpixel((x, y),(128,128,128))\n",
    "img1.show()"
   ],
   "metadata": {
    "collapsed": false,
    "pycharm": {
     "name": "#%%\n"
    }
   }
  },
  {
   "cell_type": "code",
   "execution_count": 16,
   "outputs": [],
   "source": [
    "from PIL import Image,ImageFilter\n",
    "img1_path = './res/guido.jpg'\n",
    "img1 = Image.open(img1_path)\n",
    "img1.filter(ImageFilter.CONTOUR).show()"
   ],
   "metadata": {
    "collapsed": false,
    "pycharm": {
     "name": "#%%\n"
    }
   }
  },
  {
   "cell_type": "markdown",
   "source": [
    "### 处理Excel电子表格"
   ],
   "metadata": {
    "collapsed": false,
    "pycharm": {
     "name": "#%% md\n"
    }
   }
  }
 ],
 "metadata": {
  "kernelspec": {
   "display_name": "Python 3",
   "language": "python",
   "name": "python3"
  },
  "language_info": {
   "codemirror_mode": {
    "name": "ipython",
    "version": 2
   },
   "file_extension": ".py",
   "mimetype": "text/x-python",
   "name": "python",
   "nbconvert_exporter": "python",
   "pygments_lexer": "ipython2",
   "version": "2.7.6"
  }
 },
 "nbformat": 4,
 "nbformat_minor": 0
}