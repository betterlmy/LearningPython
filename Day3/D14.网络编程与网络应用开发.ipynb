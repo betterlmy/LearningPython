{
 "cells": [
  {
   "cell_type": "markdown",
   "metadata": {
    "collapsed": true,
    "pycharm": {
     "name": "#%% md\n"
    }
   },
   "source": [
    "## [计算机网络发展简介](https://github.com/jackfrued/Python-100-Days/blob/master/Day01-15/14.网络编程入门和网络应用开发.md)\n",
    "* OSI七层模型\n",
    "* TCP/IP四层模型\n",
    "* NAT服务\n",
    "* TCP协议(1.握手,校验与重传机制 2.流量控制,用于匹配传输速度 3.拥塞控制)\n",
    "* 网络应用模式(1. C/S,B/S 2.去服务器中心化的网络应用模式,P2P?)\n",
    "* HTTP协议 [《HTTP 协议入门》](http://www.ruanyifeng.com/blog/2016/08/http.html)\n",
    "* Json\n"
   ]
  },
  {
   "cell_type": "markdown",
   "source": [
    "```XML\n",
    "<?xml version=\"1.0\" encoding=\"UTF-8\"?>\n",
    "<message>\n",
    "\t<from>Alice</from>\n",
    "\t<to>Bob</to>\n",
    "\t<content>Will you marry me?</content>\n",
    "</message>\n",
    "```\n",
    "```Json\n",
    "{\n",
    "    \"from\": \"Alice\",\n",
    "    \"to\": \"Bob\",\n",
    "    \"content\": \"Will you marry me?\"\n",
    "}\n",
    "```"
   ],
   "metadata": {
    "collapsed": false,
    "pycharm": {
     "name": "#%% md\n"
    }
   }
  },
  {
   "cell_type": "markdown",
   "source": [
    "### 基于HTTP的requests库"
   ],
   "metadata": {
    "collapsed": false,
    "pycharm": {
     "name": "#%% md\n"
    }
   }
  },
  {
   "cell_type": "code",
   "execution_count": 13,
   "outputs": [
    {
     "name": "stdout",
     "output_type": "stream",
     "text": [
      "存在\n",
      "下载10张图片完成\n"
     ]
    }
   ],
   "source": [
    "# author:TYUT-Lmy\n",
    "# date:2021/12/14\n",
    "# description:\n",
    "from threading import Thread\n",
    "import requests\n",
    "import os\n",
    "\n",
    "\n",
    "class DownloadHandler(Thread):\n",
    "    def __init__(self, url, path):\n",
    "        super().__init__()\n",
    "        self.url = url\n",
    "        self.path = path\n",
    "\n",
    "    def run(self):\n",
    "        filename = self.url[self.url.rfind(\"/\") + 1:]  # 将url最后一个/后面所有的文件设置为文件名\n",
    "        response = requests.get(self.url)\n",
    "\n",
    "        with open(self.path + \"/\" + filename, 'wb') as f:\n",
    "            f.write(response.content)\n",
    "\n",
    "\n",
    "def check_path(path):\n",
    "    if not os.path.exists(path):\n",
    "        os.mkdir(path)\n",
    "\n",
    "\n",
    "def main():\n",
    "    # 通过requests模块的get函数获取网络资源\n",
    "    # 下面的代码中使用了天行数据接口提供的网络API\n",
    "    # 要使用该数据接口需要在天行数据的网站上注册\n",
    "    # 然后用自己的Key替换掉下面代码的中APIKey即可\n",
    "    resp = requests.get('https://api.tianapi.com/esports/index?key=acf20985280976b251ac3dbbc91&num=10')\n",
    "    data_model = resp.json()  # 返回json数据,需要解析为字典\n",
    "    path = \"./res\"\n",
    "    check_path(path)\n",
    "    for mm_dict in data_model[\"newslist\"]:\n",
    "        url = mm_dict['picUrl']\n",
    "        DownloadHandler(\"http:\" + url, path).start()\n",
    "    print(f\"下载{len(data_model['newslist'])}张图片完成\")\n",
    "\n",
    "\n",
    "if __name__ == '__main__':\n",
    "    main()\n"
   ],
   "metadata": {
    "collapsed": false,
    "pycharm": {
     "name": "#%%\n"
    }
   }
  },
  {
   "cell_type": "markdown",
   "source": [
    "## 基于传输层协议的套接字编程\n",
    "实际开发中使用的套接字可以分为三类：流套接字（TCP套接字）、数据报套接字和原始套接字。"
   ],
   "metadata": {
    "collapsed": false,
    "pycharm": {
     "name": "#%% md\n"
    }
   }
  },
  {
   "cell_type": "markdown",
   "source": [
    "### TCP套接字\n",
    "顾名思义,使用TCP协议提供的传输服务实现网络通信,Python中创建socket对象,指定type属性是SOCK_STREAM使用TCP套接字,创建后需要将对象绑定到指定的IP和端口上.\n",
    "端口的取值范围是0~65535，而1024以下的端口我们通常称之为“著名端口”（留给像FTP、HTTP、SMTP等“著名服务”使用的端口，有的地方也称之为“周知端口”），自定义的服务通常不使用这些端口，除非自定义的是HTTP或FTP这样的著名服务。\n",
    "* family=AF_INET - IPv4地址\n",
    "* family=AF_INET6 - IPv6地址\n",
    "* type=SOCK_STREAM - TCP套接字\n",
    "* type=SOCK_DGRAM - UDP套接字\n",
    "* type=SOCK_RAW - 原始套接字"
   ],
   "metadata": {
    "collapsed": false,
    "pycharm": {
     "name": "#%% md\n"
    }
   }
  },
  {
   "cell_type": "markdown",
   "source": [
    "#### 下面的代码实现了一个提供时间日期的服务端开启。\n",
    "单线程"
   ],
   "metadata": {
    "collapsed": false,
    "pycharm": {
     "name": "#%% md\n"
    }
   }
  },
  {
   "cell_type": "code",
   "execution_count": 20,
   "outputs": [
    {
     "ename": "OSError",
     "evalue": "[Errno 48] Address already in use",
     "output_type": "error",
     "traceback": [
      "\u001B[0;31m---------------------------------------------------------------------------\u001B[0m",
      "\u001B[0;31mOSError\u001B[0m                                   Traceback (most recent call last)",
      "\u001B[0;32m/var/folders/6y/2tfbrqxd44xb1_g_2djcnjr00000gn/T/ipykernel_2279/1877093129.py\u001B[0m in \u001B[0;36m<module>\u001B[0;34m\u001B[0m\n\u001B[1;32m     31\u001B[0m \u001B[0;34m\u001B[0m\u001B[0m\n\u001B[1;32m     32\u001B[0m \u001B[0;32mif\u001B[0m \u001B[0m__name__\u001B[0m \u001B[0;34m==\u001B[0m \u001B[0;34m\"__main__\"\u001B[0m\u001B[0;34m:\u001B[0m\u001B[0;34m\u001B[0m\u001B[0;34m\u001B[0m\u001B[0m\n\u001B[0;32m---> 33\u001B[0;31m     \u001B[0mmain\u001B[0m\u001B[0;34m(\u001B[0m\u001B[0;34m)\u001B[0m\u001B[0;34m\u001B[0m\u001B[0;34m\u001B[0m\u001B[0m\n\u001B[0m",
      "\u001B[0;32m/var/folders/6y/2tfbrqxd44xb1_g_2djcnjr00000gn/T/ipykernel_2279/1877093129.py\u001B[0m in \u001B[0;36mmain\u001B[0;34m()\u001B[0m\n\u001B[1;32m     11\u001B[0m     \u001B[0;31m# 2.绑定IP地址和端口(打开该端口,作为服务端)\u001B[0m\u001B[0;34m\u001B[0m\u001B[0;34m\u001B[0m\u001B[0m\n\u001B[1;32m     12\u001B[0m     \u001B[0mip_port\u001B[0m \u001B[0;34m=\u001B[0m \u001B[0;34m(\u001B[0m\u001B[0;34m'127.0.0.1'\u001B[0m\u001B[0;34m,\u001B[0m \u001B[0;36m6789\u001B[0m\u001B[0;34m)\u001B[0m\u001B[0;34m\u001B[0m\u001B[0;34m\u001B[0m\u001B[0m\n\u001B[0;32m---> 13\u001B[0;31m     \u001B[0mserver\u001B[0m\u001B[0;34m.\u001B[0m\u001B[0mbind\u001B[0m\u001B[0;34m(\u001B[0m\u001B[0mip_port\u001B[0m\u001B[0;34m)\u001B[0m\u001B[0;34m\u001B[0m\u001B[0;34m\u001B[0m\u001B[0m\n\u001B[0m\u001B[1;32m     14\u001B[0m     \u001B[0;31m# 3.开启监听,参数可以理解为连接队列的大小\u001B[0m\u001B[0;34m\u001B[0m\u001B[0;34m\u001B[0m\u001B[0m\n\u001B[1;32m     15\u001B[0m     \u001B[0mserver\u001B[0m\u001B[0;34m.\u001B[0m\u001B[0mlisten\u001B[0m\u001B[0;34m(\u001B[0m\u001B[0;36m2\u001B[0m\u001B[0;34m)\u001B[0m\u001B[0;34m\u001B[0m\u001B[0;34m\u001B[0m\u001B[0m\n",
      "\u001B[0;31mOSError\u001B[0m: [Errno 48] Address already in use"
     ]
    }
   ],
   "source": [
    "# author:TYUT-Lmy\n",
    "# date:2021/12/14\n",
    "# description:\n",
    "from socket import SOCK_STREAM, AF_INET\n",
    "from datetime import datetime\n",
    "\n",
    "\n",
    "def main():\n",
    "    # 1.创建套接字并指定使用哪种服务\n",
    "    server = socket(family=AF_INET, type=SOCK_STREAM)\n",
    "    # 2.绑定IP地址和端口(打开该端口,作为服务端)\n",
    "    ip_port = ('127.0.0.1', 6789)\n",
    "    server.bind(ip_port)\n",
    "    # 3.开启监听,参数可以理解为连接队列的大小\n",
    "    server.listen(2)\n",
    "    print(\"服务器开启了监听\")\n",
    "    while True:\n",
    "        # 4.通过循环接收客户端的连接,并作出相应的处理\n",
    "        # accept 方法是一个阻塞方法, 如果没有客户端连接到服务器端口,则不会向下执行,返回一个元组,其中第一个元素是客户端对象,第二个元素是客户端的IP和端口\n",
    "        client, addr = server.accept()\n",
    "        print(f\"{str(addr)}连接了服务器.\")\n",
    "\n",
    "        # 5.检测到有客户端连接,则发送数据\n",
    "        client.send(f\"当前北京时间{str(datetime.now())}\\n\".encode('utf-8'))\n",
    "\n",
    "        print(f\"向服务器发送了日期信息.\")\n",
    "\n",
    "        # 6.发送完成,断开客户端\n",
    "        client.close()\n",
    "\n",
    "\n",
    "if __name__ == \"__main__\":\n",
    "    main()"
   ],
   "metadata": {
    "collapsed": false,
    "pycharm": {
     "name": "#%%\n"
    }
   }
  },
  {
   "cell_type": "markdown",
   "source": [
    "下面代码实现TCP客户端的服务"
   ],
   "metadata": {
    "collapsed": false,
    "pycharm": {
     "name": "#%% md\n"
    }
   }
  },
  {
   "cell_type": "code",
   "execution_count": 21,
   "outputs": [
    {
     "ename": "ConnectionRefusedError",
     "evalue": "[Errno 61] Connection refused",
     "output_type": "error",
     "traceback": [
      "\u001B[0;31m---------------------------------------------------------------------------\u001B[0m",
      "\u001B[0;31mConnectionRefusedError\u001B[0m                    Traceback (most recent call last)",
      "\u001B[0;32m/var/folders/6y/2tfbrqxd44xb1_g_2djcnjr00000gn/T/ipykernel_2279/2832531257.py\u001B[0m in \u001B[0;36m<module>\u001B[0;34m\u001B[0m\n\u001B[1;32m     12\u001B[0m \u001B[0;34m\u001B[0m\u001B[0m\n\u001B[1;32m     13\u001B[0m \u001B[0;32mif\u001B[0m \u001B[0m__name__\u001B[0m \u001B[0;34m==\u001B[0m \u001B[0;34m'__main__'\u001B[0m\u001B[0;34m:\u001B[0m\u001B[0;34m\u001B[0m\u001B[0;34m\u001B[0m\u001B[0m\n\u001B[0;32m---> 14\u001B[0;31m     \u001B[0mmain\u001B[0m\u001B[0;34m(\u001B[0m\u001B[0;34m)\u001B[0m\u001B[0;34m\u001B[0m\u001B[0;34m\u001B[0m\u001B[0m\n\u001B[0m",
      "\u001B[0;32m/var/folders/6y/2tfbrqxd44xb1_g_2djcnjr00000gn/T/ipykernel_2279/2832531257.py\u001B[0m in \u001B[0;36mmain\u001B[0;34m()\u001B[0m\n\u001B[1;32m      5\u001B[0m     \u001B[0mclient\u001B[0m \u001B[0;34m=\u001B[0m \u001B[0msocket\u001B[0m\u001B[0;34m(\u001B[0m\u001B[0;34m)\u001B[0m\u001B[0;34m\u001B[0m\u001B[0;34m\u001B[0m\u001B[0m\n\u001B[1;32m      6\u001B[0m     \u001B[0;31m# 2.连接到服务器(需要指定IP地址和端口)\u001B[0m\u001B[0;34m\u001B[0m\u001B[0;34m\u001B[0m\u001B[0m\n\u001B[0;32m----> 7\u001B[0;31m     \u001B[0mclient\u001B[0m\u001B[0;34m.\u001B[0m\u001B[0mconnect\u001B[0m\u001B[0;34m(\u001B[0m\u001B[0;34m(\u001B[0m\u001B[0;34m'192.168.1.2'\u001B[0m\u001B[0;34m,\u001B[0m \u001B[0;36m6789\u001B[0m\u001B[0;34m)\u001B[0m\u001B[0;34m)\u001B[0m\u001B[0;34m\u001B[0m\u001B[0;34m\u001B[0m\u001B[0m\n\u001B[0m\u001B[1;32m      8\u001B[0m     \u001B[0;31m# 3.从服务器接收数据\u001B[0m\u001B[0;34m\u001B[0m\u001B[0;34m\u001B[0m\u001B[0m\n\u001B[1;32m      9\u001B[0m     \u001B[0mprint\u001B[0m\u001B[0;34m(\u001B[0m\u001B[0mclient\u001B[0m\u001B[0;34m.\u001B[0m\u001B[0mrecv\u001B[0m\u001B[0;34m(\u001B[0m\u001B[0;36m1024\u001B[0m\u001B[0;34m)\u001B[0m\u001B[0;34m.\u001B[0m\u001B[0mdecode\u001B[0m\u001B[0;34m(\u001B[0m\u001B[0;34m'utf-8'\u001B[0m\u001B[0;34m)\u001B[0m\u001B[0;34m)\u001B[0m\u001B[0;34m\u001B[0m\u001B[0;34m\u001B[0m\u001B[0m\n",
      "\u001B[0;31mConnectionRefusedError\u001B[0m: [Errno 61] Connection refused"
     ]
    }
   ],
   "source": [
    "from socket import socket\n",
    "\n",
    "def main():\n",
    "    # 1.创建套接字对象默认使用IPv4和TCP协议\n",
    "    client = socket()\n",
    "    # 2.连接到服务器(需要指定IP地址和端口)\n",
    "    client.connect(('192.168.1.2', 6789))\n",
    "    # 3.从服务器接收数据\n",
    "    print(client.recv(1024).decode('utf-8'))\n",
    "    client.close()\n",
    "\n",
    "\n",
    "if __name__ == '__main__':\n",
    "    main()"
   ],
   "metadata": {
    "collapsed": false,
    "pycharm": {
     "name": "#%%\n"
    }
   }
  },
  {
   "cell_type": "code",
   "execution_count": 23,
   "outputs": [
    {
     "name": "stdout",
     "output_type": "stream",
     "text": [
      "服务器启动开始监听7879端口\n"
     ]
    },
    {
     "ename": "KeyboardInterrupt",
     "evalue": "",
     "output_type": "error",
     "traceback": [
      "\u001B[0;31m---------------------------------------------------------------------------\u001B[0m",
      "\u001B[0;31mKeyboardInterrupt\u001B[0m                         Traceback (most recent call last)",
      "\u001B[0;32m/var/folders/6y/2tfbrqxd44xb1_g_2djcnjr00000gn/T/ipykernel_2279/1966873361.py\u001B[0m in \u001B[0;36m<module>\u001B[0;34m\u001B[0m\n\u001B[1;32m     54\u001B[0m \u001B[0;34m\u001B[0m\u001B[0m\n\u001B[1;32m     55\u001B[0m \u001B[0;32mif\u001B[0m \u001B[0m__name__\u001B[0m \u001B[0;34m==\u001B[0m\u001B[0;34m'__main__'\u001B[0m\u001B[0;34m:\u001B[0m\u001B[0;34m\u001B[0m\u001B[0;34m\u001B[0m\u001B[0m\n\u001B[0;32m---> 56\u001B[0;31m     \u001B[0mmain\u001B[0m\u001B[0;34m(\u001B[0m\u001B[0;34m)\u001B[0m\u001B[0;34m\u001B[0m\u001B[0;34m\u001B[0m\u001B[0m\n\u001B[0m\u001B[1;32m     57\u001B[0m \u001B[0;34m\u001B[0m\u001B[0m\n",
      "\u001B[0;32m/var/folders/6y/2tfbrqxd44xb1_g_2djcnjr00000gn/T/ipykernel_2279/1966873361.py\u001B[0m in \u001B[0;36mmain\u001B[0;34m()\u001B[0m\n\u001B[1;32m     49\u001B[0m     \u001B[0;32mwhile\u001B[0m \u001B[0;32mTrue\u001B[0m\u001B[0;34m:\u001B[0m\u001B[0;34m\u001B[0m\u001B[0;34m\u001B[0m\u001B[0m\n\u001B[1;32m     50\u001B[0m         \u001B[0msleep\u001B[0m\u001B[0;34m(\u001B[0m\u001B[0;36m.1\u001B[0m\u001B[0;34m)\u001B[0m\u001B[0;34m\u001B[0m\u001B[0;34m\u001B[0m\u001B[0m\n\u001B[0;32m---> 51\u001B[0;31m         \u001B[0mclient\u001B[0m\u001B[0;34m,\u001B[0m \u001B[0maddr\u001B[0m \u001B[0;34m=\u001B[0m \u001B[0mserver\u001B[0m\u001B[0;34m.\u001B[0m\u001B[0maccept\u001B[0m\u001B[0;34m(\u001B[0m\u001B[0;34m)\u001B[0m\u001B[0;34m\u001B[0m\u001B[0;34m\u001B[0m\u001B[0m\n\u001B[0m\u001B[1;32m     52\u001B[0m         \u001B[0;31m#不断启动线程来对客户端的请求进行处理\u001B[0m\u001B[0;34m\u001B[0m\u001B[0;34m\u001B[0m\u001B[0m\n\u001B[1;32m     53\u001B[0m         \u001B[0mFrileTransferHandler\u001B[0m\u001B[0;34m(\u001B[0m\u001B[0mclient\u001B[0m\u001B[0;34m,\u001B[0m \u001B[0maddr\u001B[0m\u001B[0;34m,\u001B[0m \u001B[0mdata\u001B[0m\u001B[0;34m)\u001B[0m\u001B[0;34m\u001B[0m\u001B[0;34m\u001B[0m\u001B[0m\n",
      "\u001B[0;32m~/miniforge3/envs/py39/lib/python3.9/socket.py\u001B[0m in \u001B[0;36maccept\u001B[0;34m(self)\u001B[0m\n\u001B[1;32m    291\u001B[0m         \u001B[0mFor\u001B[0m \u001B[0mIP\u001B[0m \u001B[0msockets\u001B[0m\u001B[0;34m,\u001B[0m \u001B[0mthe\u001B[0m \u001B[0maddress\u001B[0m \u001B[0minfo\u001B[0m \u001B[0;32mis\u001B[0m \u001B[0ma\u001B[0m \u001B[0mpair\u001B[0m \u001B[0;34m(\u001B[0m\u001B[0mhostaddr\u001B[0m\u001B[0;34m,\u001B[0m \u001B[0mport\u001B[0m\u001B[0;34m)\u001B[0m\u001B[0;34m.\u001B[0m\u001B[0;34m\u001B[0m\u001B[0;34m\u001B[0m\u001B[0m\n\u001B[1;32m    292\u001B[0m         \"\"\"\n\u001B[0;32m--> 293\u001B[0;31m         \u001B[0mfd\u001B[0m\u001B[0;34m,\u001B[0m \u001B[0maddr\u001B[0m \u001B[0;34m=\u001B[0m \u001B[0mself\u001B[0m\u001B[0;34m.\u001B[0m\u001B[0m_accept\u001B[0m\u001B[0;34m(\u001B[0m\u001B[0;34m)\u001B[0m\u001B[0;34m\u001B[0m\u001B[0;34m\u001B[0m\u001B[0m\n\u001B[0m\u001B[1;32m    294\u001B[0m         \u001B[0msock\u001B[0m \u001B[0;34m=\u001B[0m \u001B[0msocket\u001B[0m\u001B[0;34m(\u001B[0m\u001B[0mself\u001B[0m\u001B[0;34m.\u001B[0m\u001B[0mfamily\u001B[0m\u001B[0;34m,\u001B[0m \u001B[0mself\u001B[0m\u001B[0;34m.\u001B[0m\u001B[0mtype\u001B[0m\u001B[0;34m,\u001B[0m \u001B[0mself\u001B[0m\u001B[0;34m.\u001B[0m\u001B[0mproto\u001B[0m\u001B[0;34m,\u001B[0m \u001B[0mfileno\u001B[0m\u001B[0;34m=\u001B[0m\u001B[0mfd\u001B[0m\u001B[0;34m)\u001B[0m\u001B[0;34m\u001B[0m\u001B[0;34m\u001B[0m\u001B[0m\n\u001B[1;32m    295\u001B[0m         \u001B[0;31m# Issue #7995: if no default timeout is set and the listening\u001B[0m\u001B[0;34m\u001B[0m\u001B[0;34m\u001B[0m\u001B[0m\n",
      "\u001B[0;31mKeyboardInterrupt\u001B[0m: "
     ]
    }
   ],
   "source": [
    "from time import sleep\n",
    "from base64 import b64encode\n",
    "from json import dumps\n",
    "from threading import Thread\n",
    "\n",
    "\n",
    "def get_data() -> str:\n",
    "    \"\"\"\n",
    "    guido.jpg是一个图片,即二进制数据,不能够通过json传输,需要将二进制编码\n",
    "    :return: 图片的二进制数据\n",
    "    \"\"\"\n",
    "    DATA = ''\n",
    "    with open(\"./res/guido.jpg\", 'rb') as f:\n",
    "        DATA = b64encode(f.read()).decode('utf-8')\n",
    "    return DATA\n",
    "\n",
    "\n",
    "class FrileTransferHandler(Thread):\n",
    "    def __init__(self, client, addr, data):\n",
    "        super().__init__()\n",
    "        self.client = client\n",
    "        self.addr = addr\n",
    "        self.data = data\n",
    "\n",
    "    def run(self):\n",
    "        # 生成包含文件名和内容的字典\n",
    "        my_dict = {'file_name': 'guido.jpg', 'file_data': self.data}\n",
    "        # 将字典通过dumps转为json 用于传输\n",
    "        json_str = dumps(my_dict)\n",
    "        self.client.send(json_str)\n",
    "        sleep(10)\n",
    "        self.client.close()\n",
    "        print(f\"{self.addr}已经关闭\")\n",
    "\n",
    "\n",
    "def main():\n",
    "    data = get_data()  # 获取图片的数据\n",
    "\n",
    "    # 配置服务器\n",
    "    server = socket()\n",
    "    port = 7879\n",
    "    ip_port = (\"127.0.0.1\", port)\n",
    "    server.bind(ip_port)\n",
    "    server.listen(10)\n",
    "    print(f'服务器启动开始监听{port}端口')\n",
    "\n",
    "    # 设置监听动作\n",
    "    while True:\n",
    "        sleep(.1)\n",
    "        client, addr = server.accept()\n",
    "        #不断启动线程来对客户端的请求进行处理\n",
    "        FrileTransferHandler(client, addr, data)\n",
    "\n",
    "if __name__ =='__main__':\n",
    "    main()\n"
   ],
   "metadata": {
    "collapsed": false,
    "pycharm": {
     "name": "#%%\n"
    }
   }
  },
  {
   "cell_type": "code",
   "execution_count": null,
   "outputs": [],
   "source": [
    "from socket import socket\n",
    "from json import loads\n",
    "from base64 import b64decode\n",
    "import os\n",
    "\n",
    "def check_dir(dir):\n",
    "    if not os.path.exists(dir):\n",
    "        os.mkdir(dir)\n",
    "\n",
    "def main():\n",
    "    client = socket()\n",
    "    port = 7879\n",
    "    ip_port = (\"127.0.0.1\", port)\n",
    "    client.connect(ip_port)\n",
    "    # 定义一个保存二进制数据的对象\n",
    "    in_data = bytes()\n",
    "    # 由于不知道服务器发送的数据有多大每次接收1024字节\n",
    "    data = client.recv(1024)\n",
    "    while data:\n",
    "        # 将收到的数据拼接起来\n",
    "        in_data += data\n",
    "        data = client.recv(1024)\n",
    "    # 将收到的二进制数据解码成JSON字符串并转换成字典\n",
    "    # loads函将JSON字符串转成字典对象\n",
    "    my_dict = loads(in_data.decode('utf-8'))\n",
    "    filename = my_dict['filename']\n",
    "    filedata = my_dict['filedata'].encode('utf-8')\n",
    "\n",
    "    dir = \"./res/new\"\n",
    "    check_dir(dir)\n",
    "    with open(dir + filename, 'wb') as f:\n",
    "        # 将base64格式的数据解码成二进制数据并写入文件\n",
    "        f.write(b64decode(filedata))\n",
    "    print('图片已保存.')\n",
    "\n",
    "if __name__ == '__main__':\n",
    "    main()"
   ],
   "metadata": {
    "collapsed": false,
    "pycharm": {
     "name": "#%%\n"
    }
   }
  },
  {
   "cell_type": "markdown",
   "source": [
    "### UDP套接字\n",
    "TCP和UDP都是提供端到端传输服务的协议\n",
    "TCP可靠,但是开销大\n",
    "UDP不进行握手,直接发送数据,并且不对接收到的信息进行完整性判断\n",
    "适用场景:发送语音,视频等开销较大,且能容忍稍微的花屏卡顿的活动"
   ],
   "metadata": {
    "collapsed": false,
    "pycharm": {
     "name": "#%% md\n"
    }
   }
  },
  {
   "cell_type": "markdown",
   "source": [
    "#### 案例:电子邮件\n",
    "使用smtplib模块,建立在TCP协议的基础上进行邮件发送"
   ],
   "metadata": {
    "collapsed": false,
    "pycharm": {
     "name": "#%% md\n"
    }
   }
  },
  {
   "cell_type": "code",
   "execution_count": null,
   "outputs": [],
   "source": [
    "from smtplib import SMTP\n",
    "from email.header import Header\n",
    "from email.message import Message\n",
    "from email.mime.text import MIMEText\n",
    "\n",
    "def main():\n",
    "    sender = \"betterlmy@icloud.com\"\n",
    "    receiver = \"comeonlmy@gmail.com\"\n",
    "    message = MIMEText(_text=\"Python发送的邮件\",_subtype='plain',_charset='utf-8')\n",
    "    message['From'] = Header('Zane')\n",
    "    message['To'] = Header('李梦洋')\n",
    "    message['Subject']=Header(\"Python测试\",'utf-8')\n",
    "    smtper = SMTP('smtp.126.com')\n",
    "    smtper.login(sender, 'secretpass')\n",
    "    smtper.sendmail(sender, receiver, message.as_string())\n",
    "    print('邮件发送完成!')\n",
    "\n",
    "\n",
    "if __name__ == '__main__':\n",
    "    main()"
   ],
   "metadata": {
    "collapsed": false,
    "pycharm": {
     "name": "#%%\n"
    }
   }
  }
 ],
 "metadata": {
  "kernelspec": {
   "display_name": "Python 3",
   "language": "python",
   "name": "python3"
  },
  "language_info": {
   "codemirror_mode": {
    "name": "ipython",
    "version": 2
   },
   "file_extension": ".py",
   "mimetype": "text/x-python",
   "name": "python",
   "nbconvert_exporter": "python",
   "pygments_lexer": "ipython2",
   "version": "2.7.6"
  }
 },
 "nbformat": 4,
 "nbformat_minor": 0
}