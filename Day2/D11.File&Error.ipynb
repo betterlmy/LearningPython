{
 "cells": [
  {
   "cell_type": "markdown",
   "metadata": {
    "collapsed": true,
    "pycharm": {
     "name": "#%% md\n"
    }
   },
   "source": [
    "## 文件和异常\n",
    "数据一般都是加载到内存里,为了进行**持久化**这个操作,一般会保存在文件中"
   ],
   "outputs": []
  },
  {
   "cell_type": "markdown",
   "source": [
    "Python中一般使用open函数对文件进行读写操作,可以\n",
    "* 指定文件名\n",
    "* 指定操作模式,指的是:文件是字符型的还是二进制型的,是读,写还是追加模式\n",
    "* 指定编码信息\n",
    "\n",
    "| 操作模式 | 具体含义                         |\n",
    "| -------- | -------------------------------- |\n",
    "| `'r'`    | 读取 （默认）                    |\n",
    "| `'w'`    | 写入（会先截断之前的内容）       |\n",
    "| `'x'`    | 写入，如果文件已经存在会产生异常 |\n",
    "| `'a'`    | 追加，将内容写入到已有文件的末尾 |\n",
    "| `'b'`    | 二进制模式                       |\n",
    "| `'t'`    | 文本模式（默认）                 |\n",
    "| `'+'`    | 更新（既可以读又可以写）         |"
   ],
   "metadata": {
    "collapsed": false,
    "pycharm": {
     "name": "#%% md\n"
    }
   }
  },
  {
   "cell_type": "markdown",
   "source": [
    "### 读写文本文件\n",
    "1. 指定文件路径和文件名\n",
    "2. 指定文件读写模式为`'r'`\n",
    "3. 通过`encoding`参数指定编码方式,默认为操作系统的编码方式"
   ],
   "metadata": {
    "collapsed": false,
    "pycharm": {
     "name": "#%% md\n"
    }
   }
  },
  {
   "cell_type": "code",
   "execution_count": 4,
   "outputs": [
    {
     "name": "stdout",
     "output_type": "stream",
     "text": [
      "我如果爱你\n",
      "绝不学攀援的凌霄花\n",
      "借你的高枝炫耀自己\n",
      "\n",
      "我如果爱你\n",
      "绝不学痴情的鸟儿\n",
      "为绿荫重复单调的歌曲\n",
      "\n",
      "也不止像泉源\n",
      "常年送来清凉的慰藉\n",
      "也不止像险峰\n",
      "增加你的高度 衬托你的威仪\n",
      "甚至日光 甚至春雨\n",
      "不 这些都还不够\n",
      "我必须是你近旁的一株木棉\n",
      "作为树的形象和你站在一起\n",
      "根 紧握在地下\n",
      "叶 相触在云里\n",
      "每一阵风过\n",
      "我们都互相致意\n",
      "但没有人 听懂我们的言语\n",
      "你有你的铜枝铁干\n",
      "像刀 像剑 也像戟；\n",
      "我有我红硕的花朵\n",
      "像沉重的叹息 又像英勇的火炬\n",
      "我们分担寒潮、风雷、霹雳\n",
      "我们共享雾霭、流岚、虹霓\n",
      "仿佛永远分离 却又终身相依\n",
      "这才是伟大的爱情\n",
      "坚贞就在这里\n",
      "爱 不仅爱你伟岸的身躯\n",
      "也爱你坚持的位置 足下的土地\n"
     ]
    }
   ],
   "source": [
    "def main():\n",
    "    f = open(file=\"./res/致橡树.txt\",mode= 'r',encoding=\"utf-8\")\n",
    "    print(f.read())\n",
    "    f.close()\n",
    "\n",
    "if __name__ == \"__main__\":\n",
    "    main()"
   ],
   "metadata": {
    "collapsed": false,
    "pycharm": {
     "name": "#%%\n"
    }
   }
  },
  {
   "cell_type": "code",
   "execution_count": null,
   "outputs": [],
   "source": [],
   "metadata": {
    "collapsed": false,
    "pycharm": {
     "name": "#%%\n"
    }
   }
  }
 ],
 "metadata": {
  "kernelspec": {
   "display_name": "Python 3",
   "language": "python",
   "name": "python3"
  },
  "language_info": {
   "codemirror_mode": {
    "name": "ipython",
    "version": 2
   },
   "file_extension": ".py",
   "mimetype": "text/x-python",
   "name": "python",
   "nbconvert_exporter": "python",
   "pygments_lexer": "ipython2",
   "version": "2.7.6"
  }
 },
 "nbformat": 4,
 "nbformat_minor": 0
}