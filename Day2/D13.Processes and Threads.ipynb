{
 "cells": [
  {
   "cell_type": "markdown",
   "metadata": {
    "collapsed": true,
    "pycharm": {
     "name": "#%% md\n"
    }
   },
   "source": [
    "# 进程和线程"
   ]
  },
  {
   "cell_type": "markdown",
   "source": [
    "### 概念\n",
    "#### 进程\n",
    "指OS(操作系统)中执行的一个程序的实例,OS以进程为资源分配和调度的基本单位,程序只是指令,数据及其组织形式的描述,而进程是程序的实体.\n",
    "1. 每个进程有自己**独立**的`地址空间`和`数据栈`.\n",
    "2. 进程可以通过`fork`或者`spawn`的方式创建新的进程.\n",
    "3. 进程间通过`IPC`(inter-process communication)实现数据共享,具体包括管道,信号,套接字,共享内存区等方法.\n",
    "#### 线程\n",
    "一个进程还可以拥有多个并发的执行线索,(???什么鬼),即拥有多个可以获得CPU调度的执行单元,这就是**线程**.\n",
    "每个进程可以有多个线程,由于多个线程同属于一个进程,所以他们的**资源共享,通信共享**.\n",
    "#### Python实现并发编程主要有3种方式：多进程、多线程、多进程+多线程。"
   ],
   "metadata": {
    "collapsed": false,
    "pycharm": {
     "name": "#%% md\n"
    }
   }
  },
  {
   "cell_type": "markdown",
   "source": [
    "### [Python的多进程](./多进程下载.py)\n",
    "父进程使用os模块中的`fork()`创建子进程,此时子进程是父进程的拷贝,但是PID不同,函数返回子进程的PID\n",
    "由于Windows没有fork()的调用,为了实现跨平台的多进程编程,需要使用`_multiprocessing`模块的`Process`类来创建子进程,该模块提供了更高级的封装,例如批量启动进程的进程池(`Pool`),用于进程间通信的队列`Queue`和管道`Pipe`"
   ],
   "metadata": {
    "collapsed": false,
    "pycharm": {
     "name": "#%% md\n"
    }
   }
  },
  {
   "cell_type": "code",
   "execution_count": 9,
   "outputs": [
    {
     "name": "stdout",
     "output_type": "stream",
     "text": [
      "开始下载Python中文版.pdf\n",
      "Python中文版.pdf下载完成,耗时3秒\n",
      "开始下载东京热.avi\n",
      "东京热.avi下载完成,耗时2秒\n",
      "全部下载完成,耗时5.01秒\n"
     ]
    }
   ],
   "source": [
    "# 使用下载文件来说明使用多进程和单进程的差别\n",
    "# 单线程,从头执行到尾\n",
    "\n",
    "\n",
    "def download_task(filename):\n",
    "    \"\"\"\n",
    "    下载单个任务,随机下载时间\n",
    "    :param filename: 下载的文件名\n",
    "    :return:\n",
    "    \"\"\"\n",
    "    print(f\"开始下载{filename}\")\n",
    "    time_to_download = randint(2,3)\n",
    "    sleep(time_to_download)\n",
    "    print(f\"{filename}下载完成,耗时{time_to_download}秒\")\n",
    "\n",
    "def main():\n",
    "    start = time()\n",
    "    download_task(\"Python中文版.pdf\")\n",
    "    download_task(\"东京热.avi\")\n",
    "    end = time()\n",
    "    print(f\"全部下载完成,耗时{round(end-start,2)}秒\")\n",
    "\n",
    "if __name__ == \"__main__\":\n",
    "    main()"
   ],
   "metadata": {
    "collapsed": false,
    "pycharm": {
     "name": "#%%\n"
    }
   }
  },
  {
   "cell_type": "markdown",
   "source": [
    "### [子进程通信](./子进程间通信.py)"
   ],
   "metadata": {
    "collapsed": false,
    "pycharm": {
     "name": "#%% md\n"
    }
   }
  },
  {
   "cell_type": "code",
   "execution_count": null,
   "outputs": [],
   "source": [
    "# author:TYUT-Lmy\n",
    "# date:2021/12/12\n",
    "# description:\n",
    "from multiprocessing import Process\n",
    "from time import sleep\n",
    "\n",
    "counter = 0\n",
    "\n",
    "\n",
    "def sub_task(string):\n",
    "    global counter\n",
    "    while counter < 10:\n",
    "        print(string, end=\" \", flush=True) #print结束之后，不管你有没有达到条件，立即将内存中的东西显示到屏幕上，清空缓存。\n",
    "        counter += 1\n",
    "        sleep(0.1)\n",
    "\n",
    "\n",
    "def main():\n",
    "    Process(target=sub_task, args=(\"Ping\",)).start()\n",
    "    Process(target=sub_task, args=(\"Pong\",)).start()\n",
    "\n",
    "\n",
    "if __name__ == \"__main__\":\n",
    "    main()\n",
    "\n",
    "\n",
    "# Pong Ping Pong Ping Ping Pong Ping Pong Ping Pong Ping Pong Ping Pong Ping Pong Ping Pong Ping Pong"
   ],
   "metadata": {
    "collapsed": false,
    "pycharm": {
     "name": "#%%\n"
    }
   }
  },
  {
   "cell_type": "markdown",
   "source": [
    "程序运行的结果是Ping和Pong各输出了10个,在创建子进程的时候,counter被各自创建,并没有相互通信的思想在内.\n",
    "解决方法:!!!使用Queue类,暂未解决"
   ],
   "metadata": {
    "collapsed": false,
    "pycharm": {
     "name": "#%% md\n"
    }
   }
  },
  {
   "cell_type": "markdown",
   "source": [
    "### Python的多线程\n",
    "当前的Python多线程编程主要使用`Threading`这个模块"
   ],
   "metadata": {
    "collapsed": false,
    "pycharm": {
     "name": "#%% md\n"
    }
   }
  },
  {
   "cell_type": "code",
   "execution_count": 3,
   "outputs": [
    {
     "name": "stdout",
     "output_type": "stream",
     "text": [
      "开始下载a.txt\n",
      "开始下载c.exe\n",
      "c.exe下载花了3秒a.txt下载花了3秒\n",
      "\n",
      "总共耗费了3.01秒\n"
     ]
    }
   ],
   "source": [
    "from random import randint\n",
    "from threading import Thread\n",
    "from time import time, sleep\n",
    "\n",
    "def download(filename):\n",
    "    print(f\"开始下载{filename}\")\n",
    "    time_to_download = randint(2,3)\n",
    "    sleep(time_to_download)\n",
    "    print(f\"{filename}下载花了{time_to_download}秒\")\n",
    "\n",
    "def main():\n",
    "    start = time()\n",
    "    t1 = Thread(target = download, args =(\"a.txt\",))\n",
    "    t1.start()\n",
    "    t2  = Thread(target = download,args=(\"c.exe\",))\n",
    "    # 创建线程\n",
    "    t2.start()\n",
    "    t1.join()\n",
    "    t2.join()\n",
    "\n",
    "    end = time()\n",
    "    print(f\"总共耗费了{round((end-start),2)}秒\")\n",
    "\n",
    "\n",
    "if __name__ == \"__main__\":\n",
    "    main()"
   ],
   "metadata": {
    "collapsed": false,
    "pycharm": {
     "name": "#%%\n"
    }
   }
  },
  {
   "cell_type": "markdown",
   "source": [
    "通过继承Threading类创建自定义线程"
   ],
   "metadata": {
    "collapsed": false,
    "pycharm": {
     "name": "#%% md\n"
    }
   }
  },
  {
   "cell_type": "code",
   "execution_count": 1,
   "outputs": [
    {
     "name": "stdout",
     "output_type": "stream",
     "text": [
      "开始下载a.txt\n",
      "开始下载b.avi\n",
      "a.txt下载完成,耗时2秒\n",
      "b.avi下载完成,耗时3秒\n",
      "总共耗费了3.01秒\n"
     ]
    }
   ],
   "source": [
    "from random import randint\n",
    "from threading import Thread\n",
    "from time import time, sleep\n",
    "\n",
    "\n",
    "class DownloadTask(Thread):\n",
    "    \"\"\"DT类继承于Thread类\"\"\"\n",
    "\n",
    "    def __init__(self, filename):\n",
    "        super().__init__()\n",
    "        self._filename = filename\n",
    "\n",
    "    @property\n",
    "    def filename(self):\n",
    "        return self._filename\n",
    "\n",
    "    def run(self):\n",
    "        print(f\"开始下载{self.filename}\")\n",
    "        time_to_download = randint(2, 3)\n",
    "        sleep(time_to_download)\n",
    "        print(f\"{self.filename}下载完成,耗时{time_to_download}秒\")\n",
    "\n",
    "\n",
    "def main():\n",
    "    start = time()\n",
    "    t1 = DownloadTask(\"a.txt\")\n",
    "    t1.start()\n",
    "    t2 = DownloadTask(\"b.avi\")\n",
    "    t2.start()\n",
    "    t1.join()\n",
    "    t2.join()\n",
    "    end = time()\n",
    "    print(f\"总共耗费了{round((end - start), 2)}秒\")\n",
    "\n",
    "\n",
    "if __name__ == \"__main__\":\n",
    "    main()"
   ],
   "metadata": {
    "collapsed": false,
    "pycharm": {
     "name": "#%%\n"
    }
   }
  },
  {
   "cell_type": "markdown",
   "source": [
    "### 临界资源的保护\n",
    "#### 多个线程可以共享进程的内存空间。\n",
    "但是当多个线程共享同一个变量（我们通常称之为“资源”）的时候，很有可能产生不可控的结果从而导致程序失效甚至崩溃。\n",
    "如果一个资源被多个线程竞争使用，那么我们通常称之为`临界资源`，对“临界资源”的访问需要加上保护，否则资源会处于“混乱”的状态。\n"
   ],
   "metadata": {
    "collapsed": false,
    "pycharm": {
     "name": "#%% md\n"
    }
   }
  },
  {
   "cell_type": "code",
   "execution_count": 3,
   "outputs": [
    {
     "name": "stdout",
     "output_type": "stream",
     "text": [
      "账户的余额是1\n"
     ]
    }
   ],
   "source": [
    "# author:TYUT-Lmy\n",
    "# date:2021/12/13\n",
    "# description:\n",
    "from time import sleep\n",
    "from threading import Thread\n",
    "\n",
    "\n",
    "class Account:\n",
    "    def __init__(self):\n",
    "        self._balance = 0\n",
    "\n",
    "    @property\n",
    "    def balance(self):\n",
    "        return self._balance\n",
    "\n",
    "    def deposit(self, amount):\n",
    "        \"\"\"\n",
    "        存款\n",
    "        :param amount: 存款的金额\n",
    "        :return:\n",
    "        \"\"\"\n",
    "        new_balance = self.balance + amount\n",
    "        sleep(0.1)\n",
    "        self._balance = new_balance\n",
    "\n",
    "\n",
    "class AddMoneyThread(Thread):\n",
    "    def __init__(self, account, amount):\n",
    "        super().__init__()\n",
    "        self._account = account\n",
    "        self._amount = amount\n",
    "\n",
    "    def run(self):\n",
    "        self._account.deposit(self._amount)\n",
    "\n",
    "\n",
    "def main():\n",
    "    account = Account()\n",
    "    threads = []\n",
    "    for _ in range(100):\n",
    "        t = AddMoneyThread(account, 1)\n",
    "        threads.append(t)\n",
    "        t.start() # start之后 会自动执行对象的run()方法\n",
    "\n",
    "    for t in threads:\n",
    "        t.join()\n",
    "\n",
    "    print(f\"账户的余额是{account.balance}\") # 账户的余额是1\n",
    "\n",
    "\n",
    "if __name__ == \"__main__\":\n",
    "    main()"
   ],
   "metadata": {
    "collapsed": false,
    "pycharm": {
     "name": "#%%\n"
    }
   }
  },
  {
   "cell_type": "markdown",
   "source": [
    "!!!上面会显示账户的余额是1,因为程序执行过快,获取资源时,所有的线程获取到的账户余额都是0,也因此他们都是在0的基础上进行了+1的操作\n",
    "我们需要进行对资源的保护,即上`锁`,只有获得钥匙的线程,才可以访问这个上了锁的临界资源,其余线程会被阻塞,直到获得了钥匙.如下代码"
   ],
   "metadata": {
    "collapsed": false,
    "pycharm": {
     "name": "#%% md\n"
    }
   }
  },
  {
   "cell_type": "code",
   "execution_count": 5,
   "outputs": [
    {
     "name": "stdout",
     "output_type": "stream",
     "text": [
      "账户的余额是100\n"
     ]
    }
   ],
   "source": [
    "# author:TYUT-Lmy\n",
    "# date:2021/12/13\n",
    "# description:\n",
    "from time import sleep\n",
    "from threading import Thread,Lock\n",
    "\n",
    "\n",
    "class Account:\n",
    "    def __init__(self):\n",
    "        self._balance = 0\n",
    "        self._lock = Lock()\n",
    "\n",
    "    @property\n",
    "    def balance(self):\n",
    "        return self._balance\n",
    "\n",
    "    def deposit(self, amount):\n",
    "        \"\"\"\n",
    "        存款\n",
    "        :param amount: 存款的金额\n",
    "        :return:\n",
    "        \"\"\"\n",
    "        self._lock.acquire() #请求获得要是\n",
    "        try:\n",
    "            new_balance = self.balance + amount\n",
    "            sleep(0.01)\n",
    "            self._balance = new_balance\n",
    "        finally:\n",
    "            self._lock.release()\n",
    "\n",
    "\n",
    "\n",
    "class AddMoneyThread(Thread):\n",
    "    def __init__(self, account, amount):\n",
    "        super().__init__()\n",
    "        self._account = account\n",
    "        self._amount = amount\n",
    "\n",
    "    def run(self):\n",
    "        self._account.deposit(self._amount)\n",
    "\n",
    "\n",
    "def main():\n",
    "    account = Account()\n",
    "    threads = []\n",
    "    for _ in range(100):\n",
    "        t = AddMoneyThread(account, 1)\n",
    "        threads.append(t)\n",
    "        t.start() # start之后 会自动执行对象的run()方法\n",
    "\n",
    "    for t in threads:\n",
    "        t.join()\n",
    "\n",
    "    print(f\"账户的余额是{account.balance}\") # 账户的余额是1\n",
    "\n",
    "\n",
    "if __name__ == \"__main__\":\n",
    "    main()"
   ],
   "metadata": {
    "collapsed": false,
    "pycharm": {
     "name": "#%%\n"
    }
   }
  },
  {
   "cell_type": "markdown",
   "source": [
    "### 异步I/O\n",
    "Python中,单线程+异步I/O的编程模型称为协程,没有线程切换的CPU保存与恢复断点的开销."
   ],
   "metadata": {
    "collapsed": false,
    "pycharm": {
     "name": "#%% md\n"
    }
   }
  },
  {
   "cell_type": "markdown",
   "source": [
    "### 案例1:将耗时间的任务放到线程中以获得更好的用户体验。\n",
    "思想:下载比较占用时间,点击下载按钮后,程序其他的任务都不能够执行了."
   ],
   "metadata": {
    "collapsed": false,
    "pycharm": {
     "name": "#%% md\n"
    }
   }
  },
  {
   "cell_type": "code",
   "execution_count": 8,
   "outputs": [],
   "source": [
    "import time\n",
    "import tkinter\n",
    "import tkinter.messagebox as mb\n",
    "\n",
    "def download():\n",
    "    # 模拟下载\n",
    "    time.sleep(3)\n",
    "    mb.showinfo(\"提示\",\"下载完成\")\n",
    "\n",
    "def show_about():\n",
    "    mb.showinfo(\"关于\",\"作者:Zane\")\n",
    "\n",
    "def main():\n",
    "    top = tkinter.Tk()\n",
    "    top.title(\"单线程\")\n",
    "    top.geometry(\"200x150\")\n",
    "    top.wm_attributes('-topmost', True)\n",
    "\n",
    "    panel = tkinter.Frame(top)\n",
    "    button1 = tkinter.Button(panel, text='下载', command=download)\n",
    "    button1.pack(side='left')\n",
    "    button2 = tkinter.Button(panel, text='关于', command=show_about)\n",
    "    button2.pack(side='right')\n",
    "    panel.pack(side='bottom')\n",
    "    tkinter.mainloop()\n",
    "\n",
    "if __name__ == '__main__':\n",
    "    main()"
   ],
   "metadata": {
    "collapsed": false,
    "pycharm": {
     "name": "#%%\n"
    }
   }
  },
  {
   "cell_type": "markdown",
   "source": [
    "可以通过将下载操作放入到一个独立的线程中,代码如下"
   ],
   "metadata": {
    "collapsed": false,
    "pycharm": {
     "name": "#%% md\n"
    }
   }
  },
  {
   "cell_type": "code",
   "execution_count": 9,
   "outputs": [
    {
     "name": "stderr",
     "output_type": "stream",
     "text": [
      "2021-12-13 21:13:47.859 python3.9[4438:181379] IMKClient Stall detected, *please Report* your user scenario attaching a spindump (or sysdiagnose) that captures the problem - (imkxpc_bundleIdentifierWithReply:) block performed very slowly (219.33 secs).\n"
     ]
    }
   ],
   "source": [
    "import time\n",
    "import tkinter\n",
    "import tkinter.messagebox\n",
    "from threading import Thread\n",
    "\n",
    "\n",
    "def main():\n",
    "    class DownloadTaskHandler(Thread):\n",
    "\n",
    "        def run(self):\n",
    "            time.sleep(10)\n",
    "            tkinter.messagebox.showinfo('提示', '下载完成!')\n",
    "            # 启用下载按钮\n",
    "            button1.config(state=tkinter.NORMAL)\n",
    "\n",
    "    def download():\n",
    "        # 禁用下载按钮\n",
    "        button1.config(state=tkinter.DISABLED)\n",
    "        # 通过daemon参数将线程设置为守护线程(主程序退出就不再保留执行)\n",
    "        # 在线程中处理耗时间的下载任务\n",
    "        DownloadTaskHandler(daemon=True).start()\n",
    "\n",
    "    def show_about():\n",
    "        tkinter.messagebox.showinfo('关于', '作者: Zane')\n",
    "\n",
    "    top = tkinter.Tk()\n",
    "    top.title('单线程')\n",
    "    top.geometry('200x150')\n",
    "    top.wm_attributes('-topmost', 1)\n",
    "\n",
    "    panel = tkinter.Frame(top)\n",
    "    button1 = tkinter.Button(panel, text='下载', command=download)\n",
    "    button1.pack(side='left')\n",
    "    button2 = tkinter.Button(panel, text='关于', command=show_about)\n",
    "    button2.pack(side='right')\n",
    "    panel.pack(side='bottom')\n",
    "\n",
    "    tkinter.mainloop()\n",
    "\n",
    "\n",
    "if __name__ == '__main__':\n",
    "    main()"
   ],
   "metadata": {
    "collapsed": false,
    "pycharm": {
     "name": "#%%\n"
    }
   }
  },
  {
   "cell_type": "markdown",
   "source": [
    "### 案例2:使用多线程对复杂任务\"分而治之\"\n",
    "完成1~1000000000求和的计算密集型任务"
   ],
   "metadata": {
    "collapsed": false,
    "pycharm": {
     "name": "#%% md\n"
    }
   }
  },
  {
   "cell_type": "markdown",
   "source": [
    "#### 单线程单进程方法(大约5分钟)"
   ],
   "metadata": {
    "collapsed": false,
    "pycharm": {
     "name": "#%% md\n"
    }
   }
  },
  {
   "cell_type": "code",
   "execution_count": null,
   "outputs": [],
   "source": [
    "from time import time\n",
    "\n",
    "\n",
    "def main():\n",
    "    now = time()\n",
    "    sum = 0\n",
    "    for i in range(10000000001):\n",
    "        sum += i\n",
    "    print(sum)\n",
    "    print(f\"程序执行了{round(time() - now, 4)}秒\")\n",
    "    #500000000500000000\n",
    "    #程序执行了30.6642秒\n",
    "\n",
    "if __name__ == '__main__':\n",
    "    main()"
   ],
   "metadata": {
    "collapsed": false,
    "pycharm": {
     "name": "#%%\n"
    }
   }
  },
  {
   "cell_type": "markdown",
   "source": [
    "#### 多线程方法(程序执行了30.6413秒)"
   ],
   "metadata": {
    "collapsed": false,
    "pycharm": {
     "name": "#%% md\n"
    }
   }
  },
  {
   "cell_type": "code",
   "execution_count": 19,
   "outputs": [
    {
     "name": "stdout",
     "output_type": "stream",
     "text": [
      "500000000500000000\n",
      "程序执行了30.6413秒\n"
     ]
    }
   ],
   "source": [
    "from threading import Thread\n",
    "from time import time\n",
    "\n",
    "SUM = 0\n",
    "\n",
    "\n",
    "class CountThread(Thread):\n",
    "    def __init__(self, start_num):\n",
    "        super().__init__()\n",
    "        self._start_num = start_num\n",
    "        self._lock = Lock()\n",
    "\n",
    "    @property\n",
    "    def start_num(self):\n",
    "        return self._start_num\n",
    "\n",
    "    def run(self):\n",
    "        self._lock.acquire()  #请求获得钥匙\n",
    "        global SUM\n",
    "        try:\n",
    "            sum = 0\n",
    "            for i in range(self.start_num, self.start_num + 100000000):\n",
    "                sum += i\n",
    "            SUM += sum\n",
    "        finally:\n",
    "            self._lock.release()\n",
    "\n",
    "\n",
    "def main():\n",
    "    now = time()\n",
    "    threads = []\n",
    "    for i in range(10):  #创建10个线程\n",
    "        thread = CountThread(1 + 100000000 * i)\n",
    "        thread.start()\n",
    "\n",
    "        threads.append(thread)\n",
    "\n",
    "    for thread in threads:\n",
    "        thread.join()\n",
    "\n",
    "    print(SUM)\n",
    "    print(f\"程序执行了{round(time() - now, 4)}秒\")  #程序执行了6.76秒\n",
    "\n",
    "\n",
    "\n",
    "if __name__ == '__main__':\n",
    "    main()"
   ],
   "metadata": {
    "collapsed": false,
    "pycharm": {
     "name": "#%%\n"
    }
   }
  },
  {
   "cell_type": "markdown",
   "source": [
    "#### [多进程方法](./多进程案例) (16.6763秒)"
   ],
   "metadata": {
    "collapsed": false,
    "pycharm": {
     "name": "#%% md\n"
    }
   }
  },
  {
   "cell_type": "code",
   "execution_count": null,
   "outputs": [],
   "source": [
    "from multiprocessing import Process, Queue\n",
    "from random import randint\n",
    "from time import time\n",
    "\n",
    "\n",
    "def task_handler(start_num, result_queue):\n",
    "    total = 0\n",
    "    for number in range(start_num,start_num + 10000000):\n",
    "        total += number\n",
    "    result_queue.put(total)\n",
    "\n",
    "\n",
    "def main():\n",
    "    now = time()\n",
    "    processes = []\n",
    "    result_queue = Queue()\n",
    "    for i in range(8):\n",
    "        p = Process(target=task_handler,\n",
    "                    args=(1+10000000*i,result_queue))\n",
    "        processes.append(p)\n",
    "        p.start()\n",
    "    for p in processes:\n",
    "        p.join()\n",
    "\n",
    "    total = 0\n",
    "    while not result_queue.empty():\n",
    "        total += result_queue.get()\n",
    "\n",
    "    print(total)\n",
    "    print(f\"程序执行了{round(time() - now, 4)}秒\")\n",
    "\n",
    "\n",
    "\n",
    "if __name__ == '__main__':\n",
    "    main()"
   ],
   "metadata": {
    "collapsed": false,
    "pycharm": {
     "name": "#%%\n",
     "is_executing": true
    }
   }
  },
  {
   "cell_type": "markdown",
   "source": [
    "#### 多进程多线程(12.6846秒)"
   ],
   "metadata": {
    "collapsed": false,
    "pycharm": {
     "name": "#%% md\n"
    }
   }
  },
  {
   "cell_type": "code",
   "execution_count": null,
   "outputs": [],
   "source": [
    "# author:TYUT-Lmy\n",
    "# date:2021/12/13\n",
    "# description:\n",
    "from multiprocessing import Process, Queue\n",
    "from threading import Thread, Lock\n",
    "from time import time\n",
    "\n",
    "\n",
    "class Task(Thread):\n",
    "\n",
    "    def __init__(self, start_num):\n",
    "        super().__init__()\n",
    "        self._start_num = start_num\n",
    "        self._lock = Lock()\n",
    "        self.SUM = 0\n",
    "\n",
    "    @property\n",
    "    def start_num(self):\n",
    "        return self._start_num\n",
    "\n",
    "    def run(self):\n",
    "        for number in range(self.start_num, self.start_num + 25000000):\n",
    "            self.SUM += number\n",
    "\n",
    "    def get_sum(self):\n",
    "        return self.SUM\n",
    "\n",
    "\n",
    "def task_handler(start_num, result_queue):\n",
    "    total = 0\n",
    "    tasks = []\n",
    "    for i in range(5):\n",
    "        t = Task(start_num + i * 25000000)\n",
    "        tasks.append(t)\n",
    "        t.start()\n",
    "    for t in tasks:\n",
    "        t.join()\n",
    "        total += t.get_sum()\n",
    "\n",
    "    result_queue.put(total)\n",
    "\n",
    "\n",
    "def main():\n",
    "    now = time()\n",
    "    processes = []\n",
    "    result_queue = Queue()\n",
    "    for i in range(8):\n",
    "        p = Process(target=task_handler,\n",
    "                    args=(1 + 125000000 * i, result_queue))\n",
    "        processes.append(p)\n",
    "        p.start()\n",
    "    for p in processes:\n",
    "        p.join()\n",
    "\n",
    "    total = 0\n",
    "    while not result_queue.empty():\n",
    "        total += result_queue.get()\n",
    "\n",
    "    print(total)\n",
    "    print(f\"程序执行了{round(time() - now, 4)}秒\")\n",
    "    # 500000000500000000\n",
    "    # 程序执行了12.6846秒\n",
    "\n",
    "\n",
    "if __name__ == '__main__':\n",
    "    main()\n"
   ],
   "metadata": {
    "collapsed": false,
    "pycharm": {
     "name": "#%%\n"
    }
   }
  }
 ],
 "metadata": {
  "kernelspec": {
   "display_name": "Python 3",
   "language": "python",
   "name": "python3"
  },
  "language_info": {
   "codemirror_mode": {
    "name": "ipython",
    "version": 2
   },
   "file_extension": ".py",
   "mimetype": "text/x-python",
   "name": "python",
   "nbconvert_exporter": "python",
   "pygments_lexer": "ipython2",
   "version": "2.7.6"
  }
 },
 "nbformat": 4,
 "nbformat_minor": 0
}