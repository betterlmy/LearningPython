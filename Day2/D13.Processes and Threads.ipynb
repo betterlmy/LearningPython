{
 "cells": [
  {
   "cell_type": "markdown",
   "metadata": {
    "collapsed": true,
    "pycharm": {
     "name": "#%% md\n"
    }
   },
   "source": [
    "# 进程和线程"
   ]
  },
  {
   "cell_type": "markdown",
   "source": [
    "### 概念\n",
    "#### 进程\n",
    "指OS(操作系统)中执行的一个程序的实例,OS以进程为资源分配和调度的基本单位,程序只是指令,数据及其组织形式的描述,而进程是程序的实体.\n",
    "1. 每个进程有自己**独立**的`地址空间`和`数据栈`.\n",
    "2. 进程可以通过`fork`或者`spawn`的方式创建新的进程.\n",
    "3. 进程间通过`IPC`(inter-process communication)实现数据共享,具体包括管道,信号,套接字,共享内存区等方法.\n",
    "#### 线程\n",
    "一个进程还可以拥有多个并发的执行线索,(???什么鬼),即拥有多个可以获得CPU调度的执行单元,这就是**线程**.\n",
    "每个进程可以有多个线程,由于多个线程同属于一个进程,所以他们的**资源共享,通信共享**.\n",
    "#### Python实现并发编程主要有3种方式：多进程、多线程、多进程+多线程。"
   ],
   "metadata": {
    "collapsed": false,
    "pycharm": {
     "name": "#%% md\n"
    }
   }
  },
  {
   "cell_type": "markdown",
   "source": [
    "### [Python的多进程](./多进程下载.py)\n",
    "父进程使用os模块中的`fork()`创建子进程,此时子进程是父进程的拷贝,但是PID不同,函数返回子进程的PID\n",
    "由于Windows没有fork()的调用,为了实现跨平台的多进程编程,需要使用`_multiprocessing`模块的`Process`类来创建子进程,该模块提供了更高级的封装,例如批量启动进程的进程池(`Pool`),用于进程间通信的队列`Queue`和管道`Pipe`"
   ],
   "metadata": {
    "collapsed": false,
    "pycharm": {
     "name": "#%% md\n"
    }
   }
  },
  {
   "cell_type": "code",
   "execution_count": 9,
   "outputs": [
    {
     "name": "stdout",
     "output_type": "stream",
     "text": [
      "开始下载Python中文版.pdf\n",
      "Python中文版.pdf下载完成,耗时3秒\n",
      "开始下载东京热.avi\n",
      "东京热.avi下载完成,耗时2秒\n",
      "全部下载完成,耗时5.01秒\n"
     ]
    }
   ],
   "source": [
    "# 使用下载文件来说明使用多进程和单进程的差别\n",
    "# 单线程,从头执行到尾\n",
    "from random import randint\n",
    "from time import time,sleep\n",
    "\n",
    "def download_task(filename):\n",
    "    \"\"\"\n",
    "    下载单个任务,随机下载时间\n",
    "    :param filename: 下载的文件名\n",
    "    :return:\n",
    "    \"\"\"\n",
    "    print(f\"开始下载{filename}\")\n",
    "    time_to_download = randint(2,3)\n",
    "    sleep(time_to_download)\n",
    "    print(f\"{filename}下载完成,耗时{time_to_download}秒\")\n",
    "\n",
    "def main():\n",
    "    start = time()\n",
    "    download_task(\"Python中文版.pdf\")\n",
    "    download_task(\"东京热.avi\")\n",
    "    end = time()\n",
    "    print(f\"全部下载完成,耗时{round(end-start,2)}秒\")\n",
    "\n",
    "if __name__ == \"__main__\":\n",
    "    main()"
   ],
   "metadata": {
    "collapsed": false,
    "pycharm": {
     "name": "#%%\n"
    }
   }
  },
  {
   "cell_type": "markdown",
   "source": [
    "### [子进程通信](./子进程间通信.py)"
   ],
   "metadata": {
    "collapsed": false,
    "pycharm": {
     "name": "#%% md\n"
    }
   }
  },
  {
   "cell_type": "code",
   "execution_count": null,
   "outputs": [],
   "source": [
    "# author:TYUT-Lmy\n",
    "# date:2021/12/12\n",
    "# description:\n",
    "from multiprocessing import Process\n",
    "from time import sleep\n",
    "\n",
    "counter = 0\n",
    "\n",
    "\n",
    "def sub_task(string):\n",
    "    global counter\n",
    "    while counter < 10:\n",
    "        print(string, end=\" \", flush=True) #print结束之后，不管你有没有达到条件，立即将内存中的东西显示到屏幕上，清空缓存。\n",
    "        counter += 1\n",
    "        sleep(0.1)\n",
    "\n",
    "\n",
    "def main():\n",
    "    Process(target=sub_task, args=(\"Ping\",)).start()\n",
    "    Process(target=sub_task, args=(\"Pong\",)).start()\n",
    "\n",
    "\n",
    "if __name__ == \"__main__\":\n",
    "    main()\n",
    "\n",
    "\n",
    "# Pong Ping Pong Ping Ping Pong Ping Pong Ping Pong Ping Pong Ping Pong Ping Pong Ping Pong Ping Pong"
   ],
   "metadata": {
    "collapsed": false,
    "pycharm": {
     "name": "#%%\n"
    }
   }
  },
  {
   "cell_type": "markdown",
   "source": [
    "程序运行的结果是Ping和Pong各输出了10个,在创建子进程的时候,counter被各自创建,并没有相互通信的思想在内.\n",
    "解决方法:!!!使用Queue类,暂未解决"
   ],
   "metadata": {
    "collapsed": false,
    "pycharm": {
     "name": "#%% md\n"
    }
   }
  },
  {
   "cell_type": "markdown",
   "source": [
    "### Python的多线程"
   ],
   "metadata": {
    "collapsed": false,
    "pycharm": {
     "name": "#%% md\n"
    }
   }
  },
  {
   "cell_type": "code",
   "execution_count": null,
   "outputs": [],
   "source": [],
   "metadata": {
    "collapsed": false,
    "pycharm": {
     "name": "#%%\n"
    }
   }
  },
  {
   "cell_type": "code",
   "execution_count": null,
   "outputs": [],
   "source": [],
   "metadata": {
    "collapsed": false,
    "pycharm": {
     "name": "#%%\n"
    }
   }
  }
 ],
 "metadata": {
  "kernelspec": {
   "display_name": "Python 3",
   "language": "python",
   "name": "python3"
  },
  "language_info": {
   "codemirror_mode": {
    "name": "ipython",
    "version": 2
   },
   "file_extension": ".py",
   "mimetype": "text/x-python",
   "name": "python",
   "nbconvert_exporter": "python",
   "pygments_lexer": "ipython2",
   "version": "2.7.6"
  }
 },
 "nbformat": 4,
 "nbformat_minor": 0
}