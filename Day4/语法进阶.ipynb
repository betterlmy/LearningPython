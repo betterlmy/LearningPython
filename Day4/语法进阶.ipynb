{
 "cells": [
  {
   "cell_type": "markdown",
   "source": [
    "## Python语言进阶"
   ],
   "metadata": {
    "collapsed": false,
    "pycharm": {
     "name": "#%% md\n"
    }
   }
  },
  {
   "cell_type": "markdown",
   "source": [
    "### !!!生成式(推导式)用法"
   ],
   "metadata": {
    "collapsed": false,
    "pycharm": {
     "name": "#%% md\n"
    }
   }
  },
  {
   "cell_type": "code",
   "execution_count": 1,
   "metadata": {
    "collapsed": true
   },
   "outputs": [
    {
     "name": "stdout",
     "output_type": "stream",
     "text": [
      "{'AAPL': 191.88, 'GOOG': 1186.96, 'IBM': 149.24, 'ACN': 166.89, 'FB': 208.09}\n"
     ]
    }
   ],
   "source": [
    "prices = {\n",
    "    'AAPL': 191.88,\n",
    "    'GOOG': 1186.96,\n",
    "    'IBM': 149.24,\n",
    "    'ORCL': 48.44,\n",
    "    'ACN': 166.89,\n",
    "    'FB': 208.09,\n",
    "    'SYMC': 21.29\n",
    "}\n",
    "# 获取的股票价格大于一百元的所有股票,并构造一个新的字典\n",
    "prices2 = {key: value for key, value in prices.items() if value > 100}\n",
    "print(prices2)"
   ]
  },
  {
   "cell_type": "markdown",
   "source": [
    "### 嵌套列表的坑"
   ],
   "metadata": {
    "collapsed": false,
    "pycharm": {
     "name": "#%% md\n"
    }
   }
  },
  {
   "cell_type": "code",
   "execution_count": 10,
   "outputs": [
    {
     "name": "stdout",
     "output_type": "stream",
     "text": [
      "     语文    数学   英语\n",
      "关羽 [7.69, 65.63, 32.48]\n",
      "张飞 [54.74, 1.91, 2.64]\n",
      "赵云 [55.64, 63.81, 12.21]\n",
      "马超 [43.0, 46.92, 15.32]\n",
      "黄忠 [81.19, 15.06, 43.63]\n",
      "张飞的英语成绩:2.64\n"
     ]
    }
   ],
   "source": [
    "# author:TYUT-Lmy\n",
    "# date:2021/12/16\n",
    "# description:\n",
    "from random import uniform\n",
    "\n",
    "# 录入五个学生的三门成绩\n",
    "names = ['关羽', '张飞', '赵云', '马超', '黄忠']\n",
    "courses = ['语文', '数学', '英语']\n",
    "# scores1 = [[None] * len(courses)] * len(names)\n",
    "# 不能使用上述的方法,否则对每一行的操作会影响到其他行的操作,因为 每一行的内存地址都相等,需要通过for循环依次创建不同的内存地址\n",
    "scores = [[None] * len(courses) for _ in range(len(names))]\n",
    "\n",
    "# 两个for循环写入成绩\n",
    "for row, name in enumerate(names):\n",
    "    for col, course in enumerate(courses):\n",
    "        scores[row][col] = round(uniform(1.0, 100.0), 2)\n",
    "\n",
    "# 读取成绩\n",
    "name = \"张飞\"\n",
    "course = \"英语\"\n",
    "name_index = names.index(name)\n",
    "course_index = courses.index(course)\n",
    "print(\"     语文    数学   英语\")\n",
    "\n",
    "for i, score in enumerate(scores):\n",
    "    print(names[i], score)\n",
    "\n",
    "print(f\"{name}的{course}成绩:{scores[name_index][course_index]}\")"
   ],
   "metadata": {
    "collapsed": false,
    "pycharm": {
     "name": "#%%\n"
    }
   }
  },
  {
   "cell_type": "markdown",
   "source": [
    "### heapq模块(堆排序)"
   ],
   "metadata": {
    "collapsed": false,
    "pycharm": {
     "name": "#%% md\n"
    }
   }
  },
  {
   "cell_type": "code",
   "source": [
    "import heapq\n",
    "list1 = [34, 25, 12, 99, 87, 63, 58, 78, 88, 92]\n",
    "list2 = [\n",
    "    {'name': 'IBM', 'shares': 100, 'price': 91.1},\n",
    "    {'name': 'AAPL', 'shares': 50, 'price': 543.22},\n",
    "    {'name': 'FB', 'shares': 200, 'price': 21.09},\n",
    "    {'name': 'HPQ', 'shares': 35, 'price': 31.75},\n",
    "    {'name': 'YHOO', 'shares': 45, 'price': 16.35},\n",
    "    {'name': 'ACME', 'shares': 75, 'price': 115.65}\n",
    "]\n",
    "print(heapq.nlargest(3,list1))\n",
    "print(heapq.nsmallest(3,list1))\n",
    "print(heapq.nlargest(3,list2,key=lambda x: x['shares']))\n",
    "print(heapq.nlargest(3,list2,key=lambda x: x['price']))\n"
   ],
   "metadata": {
    "collapsed": false,
    "pycharm": {
     "name": "#%%\n"
    }
   },
   "execution_count": 16,
   "outputs": [
    {
     "name": "stdout",
     "output_type": "stream",
     "text": [
      "[99, 92, 88]\n",
      "[12, 25, 34]\n",
      "[{'name': 'FB', 'shares': 200, 'price': 21.09}, {'name': 'IBM', 'shares': 100, 'price': 91.1}, {'name': 'ACME', 'shares': 75, 'price': 115.65}]\n",
      "[{'name': 'AAPL', 'shares': 50, 'price': 543.22}, {'name': 'ACME', 'shares': 75, 'price': 115.65}, {'name': 'IBM', 'shares': 100, 'price': 91.1}]\n"
     ]
    }
   ]
  },
  {
   "cell_type": "markdown",
   "source": [
    "### !!!匿名函数lambda"
   ],
   "metadata": {
    "collapsed": false,
    "pycharm": {
     "name": "#%% md\n"
    }
   }
  },
  {
   "cell_type": "code",
   "execution_count": 18,
   "outputs": [
    {
     "name": "stdout",
     "output_type": "stream",
     "text": [
      "[{'age': 10, 'name': 'ghi'}, {'age': 20, 'name': 'def'}, {'age': 25, 'name': 'abc'}]\n"
     ]
    }
   ],
   "source": [
    "li = [{\"age\": 20, \"name\": \"def\"},\n",
    "      {\"age\": 25, \"name\": \"abc\"},\n",
    "      {\"age\": 10, \"name\": \"ghi\"}]\n",
    "li = sorted(li, key=lambda x: x[\"age\"])\n",
    "print(li)\n"
   ],
   "metadata": {
    "collapsed": false,
    "pycharm": {
     "name": "#%%\n"
    }
   }
  },
  {
   "cell_type": "markdown",
   "source": [
    "### itertools模块 排列与组合"
   ],
   "metadata": {
    "collapsed": false,
    "pycharm": {
     "name": "#%% md\n"
    }
   }
  },
  {
   "cell_type": "code",
   "execution_count": null,
   "outputs": [],
   "source": [
    "\"\"\"\n",
    "迭代工具模块\n",
    "\"\"\"\n",
    "import itertools\n",
    "\n",
    "# 产生ABCD的全排列\n",
    "a = itertools.permutations('ABCD')  # 产生一个可迭代对象\n",
    "for i in a:\n",
    "    print(i)\n",
    "# ABCDE中产生五选三的组合\n",
    "b = itertools.combinations('ABCDE', 3)\n",
    "# 产生ABCD和123的笛卡尔积\n",
    "c = itertools.product('ABCD', '123')\n",
    "# 产生ABC的无限循环序列\n",
    "d = itertools.cycle(('A', 'B', 'C'))"
   ],
   "metadata": {
    "collapsed": false,
    "pycharm": {
     "name": "#%%\n",
     "is_executing": true
    }
   }
  },
  {
   "cell_type": "markdown",
   "source": [
    "### collections模块\n",
    "`namedtuple`：命令元组，它是一个类工厂，接受类型的名称和属性列表来创建一个类.\n",
    "`deque`：双端队列，是列表的替代实现。Python中的列表底e层是基于数组来实现的，而deque底层是双向链表，因此当你需要在头尾添加和删除元素时，deque会表现出更好的性能，渐近时间复杂度为O(1).\n",
    "`Counter`：dict的子类，键是元素，值是元素的计数，它的most_common()方法可以帮助我们获取出现频率最高的元素。Counter和dict的继承关系我认为是值得商榷的，按照CARP原则，Counter跟dict的关系应该设计为关联关系更为合理.\n",
    "`OrderedDict`：dict的子类，它记录了键值对插入的顺序，看起来既有字典的行为，也有链表的行为.\n",
    "`defaultdict`：类似于字典类型，但是可以通过默认的工厂函数来获得键对应的默认值，相比字典中的setdefault()方法，这种做法更加高效."
   ],
   "metadata": {
    "collapsed": false,
    "pycharm": {
     "name": "#%% md\n"
    }
   }
  },
  {
   "cell_type": "code",
   "execution_count": 1,
   "outputs": [
    {
     "name": "stdout",
     "output_type": "stream",
     "text": [
      "[('eyes', 8), ('the', 5), ('look', 4)]\n"
     ]
    }
   ],
   "source": [
    "# 找出序列中出现次数最多的元素\n",
    "from collections import Counter\n",
    "\n",
    "words = [\n",
    "    'look', 'into', 'my', 'eyes', 'look', 'into', 'my', 'eyes',\n",
    "    'the', 'eyes', 'the', 'eyes', 'the', 'eyes', 'not', 'around',\n",
    "    'the', 'eyes', \"don't\", 'look', 'around', 'the', 'eyes',\n",
    "    'look', 'into', 'my', 'eyes', \"you're\", 'under'\n",
    "]\n",
    "counter = Counter(words)\n",
    "print(counter.most_common(3)) #[('eyes', 8), ('the', 5), ('look', 4)]"
   ],
   "metadata": {
    "collapsed": false,
    "pycharm": {
     "name": "#%%\n"
    }
   }
  },
  {
   "cell_type": "code",
   "execution_count": null,
   "outputs": [],
   "source": [],
   "metadata": {
    "collapsed": false,
    "pycharm": {
     "name": "#%%\n"
    }
   }
  }
 ],
 "metadata": {
  "kernelspec": {
   "display_name": "Python 3",
   "language": "python",
   "name": "python3"
  },
  "language_info": {
   "codemirror_mode": {
    "name": "ipython",
    "version": 2
   },
   "file_extension": ".py",
   "mimetype": "text/x-python",
   "name": "python",
   "nbconvert_exporter": "python",
   "pygments_lexer": "ipython2",
   "version": "2.7.6"
  }
 },
 "nbformat": 4,
 "nbformat_minor": 0
}